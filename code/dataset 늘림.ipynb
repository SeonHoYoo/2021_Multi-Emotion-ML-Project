{
 "cells": [
  {
   "cell_type": "code",
   "execution_count": 1,
   "id": "vietnamese-pioneer",
   "metadata": {},
   "outputs": [],
   "source": [
    "import pandas as pd\n",
    "train_fear_df = pd.read_csv(\"feartrainalldata.txt\",\"\\t\")\n",
    "test_fear_df = pd.read_csv(\"feartestalldata.txt\",\"\\t\")"
   ]
  },
  {
   "cell_type": "code",
   "execution_count": 2,
   "id": "mighty-volume",
   "metadata": {},
   "outputs": [
    {
     "data": {
      "text/plain": [
       "[('전람회', 'Noun'), ('나간다', 'Verb')]"
      ]
     },
     "execution_count": 2,
     "metadata": {},
     "output_type": "execute_result"
    }
   ],
   "source": [
    "from konlpy.tag import Okt\n",
    "okt_fear = Okt()\n",
    "okt_fear.pos(u'전람회 나간다')"
   ]
  },
  {
   "cell_type": "code",
   "execution_count": 3,
   "id": "proud-neutral",
   "metadata": {},
   "outputs": [],
   "source": [
    "def tokenize(doc):\n",
    "    return ['/'.join(t) for t in okt_fear.pos(doc, norm=True, stem=True)]"
   ]
  },
  {
   "cell_type": "code",
   "execution_count": 4,
   "id": "plastic-homeless",
   "metadata": {},
   "outputs": [],
   "source": [
    "train_fear_df.isnull().any()\n",
    "train_fear_df['document'] = train_fear_df['document'].fillna('');\n",
    "train_fear_df.isnull().any()\n",
    "test_fear_df['document'] = test_fear_df['document'].fillna('');"
   ]
  },
  {
   "cell_type": "code",
   "execution_count": 5,
   "id": "sunrise-ballot",
   "metadata": {},
   "outputs": [],
   "source": [
    "train_fear_docs = [(tokenize(row[1]), row[2]) for row in train_fear_df.values]\n",
    "test_fear_docs = [(tokenize(row[1]),row[2]) for row in test_fear_df.values]"
   ]
  },
  {
   "cell_type": "code",
   "execution_count": 6,
   "id": "wrapped-roller",
   "metadata": {},
   "outputs": [
    {
     "name": "stdout",
     "output_type": "stream",
     "text": [
      "(['언니/Noun', '동생/Noun', '으로/Josa', '부르다/Verb', '맞다/Verb', '일/Noun', '인가요/Josa', '..??/Punctuation'], 1)\n",
      "(['톡/Noun', '크다/Verb', '언니/Noun', '들/Suffix', '임산부/Noun', '언니/Noun', '들/Suffix', 'ㅠㅠ/KoreanParticle'], 1)\n"
     ]
    }
   ],
   "source": [
    "print(train_fear_docs[0])\n",
    "print(test_fear_docs[0])"
   ]
  },
  {
   "cell_type": "code",
   "execution_count": 7,
   "id": "genetic-smart",
   "metadata": {},
   "outputs": [
    {
     "name": "stdout",
     "output_type": "stream",
     "text": [
      "토큰개수: 259374\n"
     ]
    }
   ],
   "source": [
    "tokens = [t for d in train_fear_docs for t in d[0]]\n",
    "print(\"토큰개수:\",len(tokens))"
   ]
  },
  {
   "cell_type": "code",
   "execution_count": 8,
   "id": "beautiful-madagascar",
   "metadata": {},
   "outputs": [
    {
     "name": "stdout",
     "output_type": "stream",
     "text": [
      "259374\n",
      "20799\n",
      "[('하다/Verb', 8087), ('이/Josa', 4939), ('./Punctuation', 4679), ('가/Josa', 3509), ('?/Punctuation', 3201), ('에/Josa', 3168), ('들/Suffix', 3097), ('../Punctuation', 2820), ('을/Josa', 2523), ('은/Josa', 2512)]\n"
     ]
    }
   ],
   "source": [
    "import nltk\n",
    "fear_text = nltk.Text(tokens, name='NMSC')\n",
    "print(len(fear_text.tokens))\n",
    "print(len(set(fear_text.tokens)))\n",
    "print(fear_text.vocab().most_common(10))"
   ]
  },
  {
   "cell_type": "code",
   "execution_count": 9,
   "id": "yellow-viking",
   "metadata": {},
   "outputs": [
    {
     "name": "stderr",
     "output_type": "stream",
     "text": [
      "C:\\Users\\sunho\\anaconda3\\lib\\site-packages\\matplotlib\\backends\\backend_agg.py:238: RuntimeWarning: Glyph 54616 missing from current font.\n",
      "  font.set_text(s, 0.0, flags=flags)\n",
      "C:\\Users\\sunho\\anaconda3\\lib\\site-packages\\matplotlib\\backends\\backend_agg.py:238: RuntimeWarning: Glyph 45796 missing from current font.\n",
      "  font.set_text(s, 0.0, flags=flags)\n",
      "C:\\Users\\sunho\\anaconda3\\lib\\site-packages\\matplotlib\\backends\\backend_agg.py:238: RuntimeWarning: Glyph 51060 missing from current font.\n",
      "  font.set_text(s, 0.0, flags=flags)\n",
      "C:\\Users\\sunho\\anaconda3\\lib\\site-packages\\matplotlib\\backends\\backend_agg.py:238: RuntimeWarning: Glyph 44032 missing from current font.\n",
      "  font.set_text(s, 0.0, flags=flags)\n",
      "C:\\Users\\sunho\\anaconda3\\lib\\site-packages\\matplotlib\\backends\\backend_agg.py:238: RuntimeWarning: Glyph 50640 missing from current font.\n",
      "  font.set_text(s, 0.0, flags=flags)\n",
      "C:\\Users\\sunho\\anaconda3\\lib\\site-packages\\matplotlib\\backends\\backend_agg.py:238: RuntimeWarning: Glyph 46308 missing from current font.\n",
      "  font.set_text(s, 0.0, flags=flags)\n",
      "C:\\Users\\sunho\\anaconda3\\lib\\site-packages\\matplotlib\\backends\\backend_agg.py:238: RuntimeWarning: Glyph 51012 missing from current font.\n",
      "  font.set_text(s, 0.0, flags=flags)\n",
      "C:\\Users\\sunho\\anaconda3\\lib\\site-packages\\matplotlib\\backends\\backend_agg.py:238: RuntimeWarning: Glyph 51008 missing from current font.\n",
      "  font.set_text(s, 0.0, flags=flags)\n",
      "C:\\Users\\sunho\\anaconda3\\lib\\site-packages\\matplotlib\\backends\\backend_agg.py:238: RuntimeWarning: Glyph 46020 missing from current font.\n",
      "  font.set_text(s, 0.0, flags=flags)\n",
      "C:\\Users\\sunho\\anaconda3\\lib\\site-packages\\matplotlib\\backends\\backend_agg.py:238: RuntimeWarning: Glyph 45716 missing from current font.\n",
      "  font.set_text(s, 0.0, flags=flags)\n",
      "C:\\Users\\sunho\\anaconda3\\lib\\site-packages\\matplotlib\\backends\\backend_agg.py:238: RuntimeWarning: Glyph 51080 missing from current font.\n",
      "  font.set_text(s, 0.0, flags=flags)\n",
      "C:\\Users\\sunho\\anaconda3\\lib\\site-packages\\matplotlib\\backends\\backend_agg.py:238: RuntimeWarning: Glyph 46104 missing from current font.\n",
      "  font.set_text(s, 0.0, flags=flags)\n",
      "C:\\Users\\sunho\\anaconda3\\lib\\site-packages\\matplotlib\\backends\\backend_agg.py:238: RuntimeWarning: Glyph 47484 missing from current font.\n",
      "  font.set_text(s, 0.0, flags=flags)\n",
      "C:\\Users\\sunho\\anaconda3\\lib\\site-packages\\matplotlib\\backends\\backend_agg.py:238: RuntimeWarning: Glyph 48372 missing from current font.\n",
      "  font.set_text(s, 0.0, flags=flags)\n",
      "C:\\Users\\sunho\\anaconda3\\lib\\site-packages\\matplotlib\\backends\\backend_agg.py:238: RuntimeWarning: Glyph 51032 missing from current font.\n",
      "  font.set_text(s, 0.0, flags=flags)\n",
      "C:\\Users\\sunho\\anaconda3\\lib\\site-packages\\matplotlib\\backends\\backend_agg.py:238: RuntimeWarning: Glyph 50500 missing from current font.\n",
      "  font.set_text(s, 0.0, flags=flags)\n",
      "C:\\Users\\sunho\\anaconda3\\lib\\site-packages\\matplotlib\\backends\\backend_agg.py:238: RuntimeWarning: Glyph 45768 missing from current font.\n",
      "  font.set_text(s, 0.0, flags=flags)\n",
      "C:\\Users\\sunho\\anaconda3\\lib\\site-packages\\matplotlib\\backends\\backend_agg.py:238: RuntimeWarning: Glyph 50630 missing from current font.\n",
      "  font.set_text(s, 0.0, flags=flags)\n",
      "C:\\Users\\sunho\\anaconda3\\lib\\site-packages\\matplotlib\\backends\\backend_agg.py:238: RuntimeWarning: Glyph 44057 missing from current font.\n",
      "  font.set_text(s, 0.0, flags=flags)\n",
      "C:\\Users\\sunho\\anaconda3\\lib\\site-packages\\matplotlib\\backends\\backend_agg.py:238: RuntimeWarning: Glyph 51004 missing from current font.\n",
      "  font.set_text(s, 0.0, flags=flags)\n",
      "C:\\Users\\sunho\\anaconda3\\lib\\site-packages\\matplotlib\\backends\\backend_agg.py:238: RuntimeWarning: Glyph 47196 missing from current font.\n",
      "  font.set_text(s, 0.0, flags=flags)\n",
      "C:\\Users\\sunho\\anaconda3\\lib\\site-packages\\matplotlib\\backends\\backend_agg.py:238: RuntimeWarning: Glyph 51652 missing from current font.\n",
      "  font.set_text(s, 0.0, flags=flags)\n",
      "C:\\Users\\sunho\\anaconda3\\lib\\site-packages\\matplotlib\\backends\\backend_agg.py:238: RuntimeWarning: Glyph 51676 missing from current font.\n",
      "  font.set_text(s, 0.0, flags=flags)\n",
      "C:\\Users\\sunho\\anaconda3\\lib\\site-packages\\matplotlib\\backends\\backend_agg.py:238: RuntimeWarning: Glyph 45320 missing from current font.\n",
      "  font.set_text(s, 0.0, flags=flags)\n",
      "C:\\Users\\sunho\\anaconda3\\lib\\site-packages\\matplotlib\\backends\\backend_agg.py:238: RuntimeWarning: Glyph 47924 missing from current font.\n",
      "  font.set_text(s, 0.0, flags=flags)\n",
      "C:\\Users\\sunho\\anaconda3\\lib\\site-packages\\matplotlib\\backends\\backend_agg.py:238: RuntimeWarning: Glyph 49436 missing from current font.\n",
      "  font.set_text(s, 0.0, flags=flags)\n",
      "C:\\Users\\sunho\\anaconda3\\lib\\site-packages\\matplotlib\\backends\\backend_agg.py:238: RuntimeWarning: Glyph 49324 missing from current font.\n",
      "  font.set_text(s, 0.0, flags=flags)\n",
      "C:\\Users\\sunho\\anaconda3\\lib\\site-packages\\matplotlib\\backends\\backend_agg.py:238: RuntimeWarning: Glyph 46988 missing from current font.\n",
      "  font.set_text(s, 0.0, flags=flags)\n",
      "C:\\Users\\sunho\\anaconda3\\lib\\site-packages\\matplotlib\\backends\\backend_agg.py:238: RuntimeWarning: Glyph 12619 missing from current font.\n",
      "  font.set_text(s, 0.0, flags=flags)\n",
      "C:\\Users\\sunho\\anaconda3\\lib\\site-packages\\matplotlib\\backends\\backend_agg.py:238: RuntimeWarning: Glyph 51339 missing from current font.\n",
      "  font.set_text(s, 0.0, flags=flags)\n",
      "C:\\Users\\sunho\\anaconda3\\lib\\site-packages\\matplotlib\\backends\\backend_agg.py:238: RuntimeWarning: Glyph 50504 missing from current font.\n",
      "  font.set_text(s, 0.0, flags=flags)\n",
      "C:\\Users\\sunho\\anaconda3\\lib\\site-packages\\matplotlib\\backends\\backend_agg.py:238: RuntimeWarning: Glyph 50724 missing from current font.\n",
      "  font.set_text(s, 0.0, flags=flags)\n",
      "C:\\Users\\sunho\\anaconda3\\lib\\site-packages\\matplotlib\\backends\\backend_agg.py:238: RuntimeWarning: Glyph 44163 missing from current font.\n",
      "  font.set_text(s, 0.0, flags=flags)\n",
      "C:\\Users\\sunho\\anaconda3\\lib\\site-packages\\matplotlib\\backends\\backend_agg.py:238: RuntimeWarning: Glyph 47803 missing from current font.\n",
      "  font.set_text(s, 0.0, flags=flags)\n",
      "C:\\Users\\sunho\\anaconda3\\lib\\site-packages\\matplotlib\\backends\\backend_agg.py:238: RuntimeWarning: Glyph 47564 missing from current font.\n",
      "  font.set_text(s, 0.0, flags=flags)\n",
      "C:\\Users\\sunho\\anaconda3\\lib\\site-packages\\matplotlib\\backends\\backend_agg.py:238: RuntimeWarning: Glyph 12640 missing from current font.\n",
      "  font.set_text(s, 0.0, flags=flags)\n",
      "C:\\Users\\sunho\\anaconda3\\lib\\site-packages\\matplotlib\\backends\\backend_agg.py:238: RuntimeWarning: Glyph 51221 missing from current font.\n",
      "  font.set_text(s, 0.0, flags=flags)\n",
      "C:\\Users\\sunho\\anaconda3\\lib\\site-packages\\matplotlib\\backends\\backend_agg.py:238: RuntimeWarning: Glyph 47568 missing from current font.\n",
      "  font.set_text(s, 0.0, flags=flags)\n",
      "C:\\Users\\sunho\\anaconda3\\lib\\site-packages\\matplotlib\\backends\\backend_agg.py:238: RuntimeWarning: Glyph 48155 missing from current font.\n",
      "  font.set_text(s, 0.0, flags=flags)\n",
      "C:\\Users\\sunho\\anaconda3\\lib\\site-packages\\matplotlib\\backends\\backend_agg.py:238: RuntimeWarning: Glyph 50780 missing from current font.\n",
      "  font.set_text(s, 0.0, flags=flags)\n",
      "C:\\Users\\sunho\\anaconda3\\lib\\site-packages\\matplotlib\\backends\\backend_agg.py:238: RuntimeWarning: Glyph 44536 missing from current font.\n",
      "  font.set_text(s, 0.0, flags=flags)\n",
      "C:\\Users\\sunho\\anaconda3\\lib\\site-packages\\matplotlib\\backends\\backend_agg.py:238: RuntimeWarning: Glyph 47111 missing from current font.\n",
      "  font.set_text(s, 0.0, flags=flags)\n",
      "C:\\Users\\sunho\\anaconda3\\lib\\site-packages\\matplotlib\\backends\\backend_agg.py:238: RuntimeWarning: Glyph 50506 missing from current font.\n",
      "  font.set_text(s, 0.0, flags=flags)\n",
      "C:\\Users\\sunho\\anaconda3\\lib\\site-packages\\matplotlib\\backends\\backend_agg.py:238: RuntimeWarning: Glyph 44256 missing from current font.\n",
      "  font.set_text(s, 0.0, flags=flags)\n",
      "C:\\Users\\sunho\\anaconda3\\lib\\site-packages\\matplotlib\\backends\\backend_agg.py:201: RuntimeWarning: Glyph 54616 missing from current font.\n",
      "  font.set_text(s, 0, flags=flags)\n",
      "C:\\Users\\sunho\\anaconda3\\lib\\site-packages\\matplotlib\\backends\\backend_agg.py:201: RuntimeWarning: Glyph 45796 missing from current font.\n",
      "  font.set_text(s, 0, flags=flags)\n",
      "C:\\Users\\sunho\\anaconda3\\lib\\site-packages\\matplotlib\\backends\\backend_agg.py:201: RuntimeWarning: Glyph 51060 missing from current font.\n",
      "  font.set_text(s, 0, flags=flags)\n",
      "C:\\Users\\sunho\\anaconda3\\lib\\site-packages\\matplotlib\\backends\\backend_agg.py:201: RuntimeWarning: Glyph 44032 missing from current font.\n",
      "  font.set_text(s, 0, flags=flags)\n",
      "C:\\Users\\sunho\\anaconda3\\lib\\site-packages\\matplotlib\\backends\\backend_agg.py:201: RuntimeWarning: Glyph 50640 missing from current font.\n",
      "  font.set_text(s, 0, flags=flags)\n",
      "C:\\Users\\sunho\\anaconda3\\lib\\site-packages\\matplotlib\\backends\\backend_agg.py:201: RuntimeWarning: Glyph 46308 missing from current font.\n",
      "  font.set_text(s, 0, flags=flags)\n",
      "C:\\Users\\sunho\\anaconda3\\lib\\site-packages\\matplotlib\\backends\\backend_agg.py:201: RuntimeWarning: Glyph 51012 missing from current font.\n",
      "  font.set_text(s, 0, flags=flags)\n",
      "C:\\Users\\sunho\\anaconda3\\lib\\site-packages\\matplotlib\\backends\\backend_agg.py:201: RuntimeWarning: Glyph 51008 missing from current font.\n",
      "  font.set_text(s, 0, flags=flags)\n",
      "C:\\Users\\sunho\\anaconda3\\lib\\site-packages\\matplotlib\\backends\\backend_agg.py:201: RuntimeWarning: Glyph 46020 missing from current font.\n",
      "  font.set_text(s, 0, flags=flags)\n",
      "C:\\Users\\sunho\\anaconda3\\lib\\site-packages\\matplotlib\\backends\\backend_agg.py:201: RuntimeWarning: Glyph 45716 missing from current font.\n",
      "  font.set_text(s, 0, flags=flags)\n",
      "C:\\Users\\sunho\\anaconda3\\lib\\site-packages\\matplotlib\\backends\\backend_agg.py:201: RuntimeWarning: Glyph 51080 missing from current font.\n",
      "  font.set_text(s, 0, flags=flags)\n",
      "C:\\Users\\sunho\\anaconda3\\lib\\site-packages\\matplotlib\\backends\\backend_agg.py:201: RuntimeWarning: Glyph 46104 missing from current font.\n",
      "  font.set_text(s, 0, flags=flags)\n",
      "C:\\Users\\sunho\\anaconda3\\lib\\site-packages\\matplotlib\\backends\\backend_agg.py:201: RuntimeWarning: Glyph 47484 missing from current font.\n",
      "  font.set_text(s, 0, flags=flags)\n",
      "C:\\Users\\sunho\\anaconda3\\lib\\site-packages\\matplotlib\\backends\\backend_agg.py:201: RuntimeWarning: Glyph 48372 missing from current font.\n",
      "  font.set_text(s, 0, flags=flags)\n",
      "C:\\Users\\sunho\\anaconda3\\lib\\site-packages\\matplotlib\\backends\\backend_agg.py:201: RuntimeWarning: Glyph 51032 missing from current font.\n",
      "  font.set_text(s, 0, flags=flags)\n",
      "C:\\Users\\sunho\\anaconda3\\lib\\site-packages\\matplotlib\\backends\\backend_agg.py:201: RuntimeWarning: Glyph 50500 missing from current font.\n",
      "  font.set_text(s, 0, flags=flags)\n",
      "C:\\Users\\sunho\\anaconda3\\lib\\site-packages\\matplotlib\\backends\\backend_agg.py:201: RuntimeWarning: Glyph 45768 missing from current font.\n",
      "  font.set_text(s, 0, flags=flags)\n",
      "C:\\Users\\sunho\\anaconda3\\lib\\site-packages\\matplotlib\\backends\\backend_agg.py:201: RuntimeWarning: Glyph 50630 missing from current font.\n",
      "  font.set_text(s, 0, flags=flags)\n",
      "C:\\Users\\sunho\\anaconda3\\lib\\site-packages\\matplotlib\\backends\\backend_agg.py:201: RuntimeWarning: Glyph 44057 missing from current font.\n",
      "  font.set_text(s, 0, flags=flags)\n",
      "C:\\Users\\sunho\\anaconda3\\lib\\site-packages\\matplotlib\\backends\\backend_agg.py:201: RuntimeWarning: Glyph 51004 missing from current font.\n",
      "  font.set_text(s, 0, flags=flags)\n",
      "C:\\Users\\sunho\\anaconda3\\lib\\site-packages\\matplotlib\\backends\\backend_agg.py:201: RuntimeWarning: Glyph 47196 missing from current font.\n",
      "  font.set_text(s, 0, flags=flags)\n",
      "C:\\Users\\sunho\\anaconda3\\lib\\site-packages\\matplotlib\\backends\\backend_agg.py:201: RuntimeWarning: Glyph 51652 missing from current font.\n",
      "  font.set_text(s, 0, flags=flags)\n",
      "C:\\Users\\sunho\\anaconda3\\lib\\site-packages\\matplotlib\\backends\\backend_agg.py:201: RuntimeWarning: Glyph 51676 missing from current font.\n",
      "  font.set_text(s, 0, flags=flags)\n",
      "C:\\Users\\sunho\\anaconda3\\lib\\site-packages\\matplotlib\\backends\\backend_agg.py:201: RuntimeWarning: Glyph 45320 missing from current font.\n",
      "  font.set_text(s, 0, flags=flags)\n",
      "C:\\Users\\sunho\\anaconda3\\lib\\site-packages\\matplotlib\\backends\\backend_agg.py:201: RuntimeWarning: Glyph 47924 missing from current font.\n",
      "  font.set_text(s, 0, flags=flags)\n",
      "C:\\Users\\sunho\\anaconda3\\lib\\site-packages\\matplotlib\\backends\\backend_agg.py:201: RuntimeWarning: Glyph 49436 missing from current font.\n",
      "  font.set_text(s, 0, flags=flags)\n",
      "C:\\Users\\sunho\\anaconda3\\lib\\site-packages\\matplotlib\\backends\\backend_agg.py:201: RuntimeWarning: Glyph 49324 missing from current font.\n",
      "  font.set_text(s, 0, flags=flags)\n",
      "C:\\Users\\sunho\\anaconda3\\lib\\site-packages\\matplotlib\\backends\\backend_agg.py:201: RuntimeWarning: Glyph 46988 missing from current font.\n",
      "  font.set_text(s, 0, flags=flags)\n",
      "C:\\Users\\sunho\\anaconda3\\lib\\site-packages\\matplotlib\\backends\\backend_agg.py:201: RuntimeWarning: Glyph 12619 missing from current font.\n",
      "  font.set_text(s, 0, flags=flags)\n",
      "C:\\Users\\sunho\\anaconda3\\lib\\site-packages\\matplotlib\\backends\\backend_agg.py:201: RuntimeWarning: Glyph 51339 missing from current font.\n",
      "  font.set_text(s, 0, flags=flags)\n",
      "C:\\Users\\sunho\\anaconda3\\lib\\site-packages\\matplotlib\\backends\\backend_agg.py:201: RuntimeWarning: Glyph 50504 missing from current font.\n",
      "  font.set_text(s, 0, flags=flags)\n",
      "C:\\Users\\sunho\\anaconda3\\lib\\site-packages\\matplotlib\\backends\\backend_agg.py:201: RuntimeWarning: Glyph 50724 missing from current font.\n",
      "  font.set_text(s, 0, flags=flags)\n",
      "C:\\Users\\sunho\\anaconda3\\lib\\site-packages\\matplotlib\\backends\\backend_agg.py:201: RuntimeWarning: Glyph 44163 missing from current font.\n",
      "  font.set_text(s, 0, flags=flags)\n",
      "C:\\Users\\sunho\\anaconda3\\lib\\site-packages\\matplotlib\\backends\\backend_agg.py:201: RuntimeWarning: Glyph 47803 missing from current font.\n",
      "  font.set_text(s, 0, flags=flags)\n",
      "C:\\Users\\sunho\\anaconda3\\lib\\site-packages\\matplotlib\\backends\\backend_agg.py:201: RuntimeWarning: Glyph 47564 missing from current font.\n",
      "  font.set_text(s, 0, flags=flags)\n",
      "C:\\Users\\sunho\\anaconda3\\lib\\site-packages\\matplotlib\\backends\\backend_agg.py:201: RuntimeWarning: Glyph 12640 missing from current font.\n",
      "  font.set_text(s, 0, flags=flags)\n",
      "C:\\Users\\sunho\\anaconda3\\lib\\site-packages\\matplotlib\\backends\\backend_agg.py:201: RuntimeWarning: Glyph 51221 missing from current font.\n",
      "  font.set_text(s, 0, flags=flags)\n",
      "C:\\Users\\sunho\\anaconda3\\lib\\site-packages\\matplotlib\\backends\\backend_agg.py:201: RuntimeWarning: Glyph 47568 missing from current font.\n",
      "  font.set_text(s, 0, flags=flags)\n",
      "C:\\Users\\sunho\\anaconda3\\lib\\site-packages\\matplotlib\\backends\\backend_agg.py:201: RuntimeWarning: Glyph 48155 missing from current font.\n",
      "  font.set_text(s, 0, flags=flags)\n",
      "C:\\Users\\sunho\\anaconda3\\lib\\site-packages\\matplotlib\\backends\\backend_agg.py:201: RuntimeWarning: Glyph 50780 missing from current font.\n",
      "  font.set_text(s, 0, flags=flags)\n",
      "C:\\Users\\sunho\\anaconda3\\lib\\site-packages\\matplotlib\\backends\\backend_agg.py:201: RuntimeWarning: Glyph 44536 missing from current font.\n",
      "  font.set_text(s, 0, flags=flags)\n",
      "C:\\Users\\sunho\\anaconda3\\lib\\site-packages\\matplotlib\\backends\\backend_agg.py:201: RuntimeWarning: Glyph 47111 missing from current font.\n",
      "  font.set_text(s, 0, flags=flags)\n",
      "C:\\Users\\sunho\\anaconda3\\lib\\site-packages\\matplotlib\\backends\\backend_agg.py:201: RuntimeWarning: Glyph 50506 missing from current font.\n",
      "  font.set_text(s, 0, flags=flags)\n",
      "C:\\Users\\sunho\\anaconda3\\lib\\site-packages\\matplotlib\\backends\\backend_agg.py:201: RuntimeWarning: Glyph 44256 missing from current font.\n",
      "  font.set_text(s, 0, flags=flags)\n"
     ]
    },
    {
     "data": {
      "image/png": "[encoded data removed]",
      "text/plain": [
       "<Figure size 1440x720 with 1 Axes>"
      ]
     },
     "metadata": {
      "needs_background": "light"
     },
     "output_type": "display_data"
    }
   ],
   "source": [
    "import matplotlib.pyplot as plt\n",
    "from matplotlib import font_manager, rc\n",
    "plt.figure(figsize=(20,10))\n",
    "fear_text.plot(50)"
   ]
  },
  {
   "cell_type": "code",
   "execution_count": 10,
   "id": "incoming-agent",
   "metadata": {},
   "outputs": [],
   "source": [
    "FEAR_FREQUENCY_COUNT = 1000;\n",
    "fear_selected_words = [f[0] for f in fear_text.vocab().most_common(FEAR_FREQUENCY_COUNT)]"
   ]
  },
  {
   "cell_type": "code",
   "execution_count": 11,
   "id": "committed-legend",
   "metadata": {},
   "outputs": [],
   "source": [
    "def fear_term_frequency(doc):\n",
    "    return [doc.count(word) for word in fear_selected_words]"
   ]
  },
  {
   "cell_type": "code",
   "execution_count": 12,
   "id": "boring-directive",
   "metadata": {},
   "outputs": [],
   "source": [
    "x_fear_train = [fear_term_frequency(d) for d,_ in train_fear_docs]\n",
    "x_fear_test = [fear_term_frequency(d) for d,_ in test_fear_docs]\n",
    "y_fear_train = [c for _,c in train_fear_docs]\n",
    "y_fear_test = [c for _,c in test_fear_docs]"
   ]
  },
  {
   "cell_type": "code",
   "execution_count": 13,
   "id": "loved-radiation",
   "metadata": {},
   "outputs": [],
   "source": [
    "import numpy as np\n",
    "x_fear_train = np.asarray(x_fear_train).astype('float32')\n",
    "x_fear_test = np.asarray(x_fear_test). astype('float32')\n",
    "\n",
    "y_fear_train = np.asarray(y_fear_train).astype('float32')\n",
    "y_fear_test = np.asarray(y_fear_test).astype('float32')"
   ]
  },
  {
   "cell_type": "code",
   "execution_count": 14,
   "id": "virgin-burst",
   "metadata": {},
   "outputs": [],
   "source": [
    "import tensorflow as tf\n",
    "fear_model= tf.keras.models.Sequential([\n",
    "    tf.keras.layers.Dense(64, activation = 'relu',input_shape=(FEAR_FREQUENCY_COUNT,)),\n",
    "    tf.keras.layers.Dense(64, activation = 'relu'),\n",
    "    tf.keras.layers.Dense(1, activation = 'sigmoid')\n",
    "])"
   ]
  },
  {
   "cell_type": "code",
   "execution_count": 15,
   "id": "statutory-screw",
   "metadata": {},
   "outputs": [],
   "source": [
    "fear_model.compile(optimizer=tf.keras.optimizers.RMSprop(lr=0.001),\n",
    "             loss=tf.keras.losses.binary_crossentropy,\n",
    "             metrics=[tf.keras.metrics.binary_accuracy]\n",
    "             )"
   ]
  },
  {
   "cell_type": "code",
   "execution_count": 16,
   "id": "infinite-chase",
   "metadata": {},
   "outputs": [
    {
     "name": "stdout",
     "output_type": "stream",
     "text": [
      "Epoch 1/50\n",
      "53/53 [==============================] - 0s 7ms/step - loss: 0.4410 - binary_accuracy: 0.8507\n",
      "Epoch 2/50\n",
      "53/53 [==============================] - 0s 5ms/step - loss: 0.3356 - binary_accuracy: 0.8640\n",
      "Epoch 3/50\n",
      "53/53 [==============================] - 0s 6ms/step - loss: 0.3034 - binary_accuracy: 0.8790\n",
      "Epoch 4/50\n",
      "53/53 [==============================] - 1s 11ms/step - loss: 0.2895 - binary_accuracy: 0.8862\n",
      "Epoch 5/50\n",
      "53/53 [==============================] - 0s 6ms/step - loss: 0.2801 - binary_accuracy: 0.8900\n",
      "Epoch 6/50\n",
      "53/53 [==============================] - 0s 7ms/step - loss: 0.2723 - binary_accuracy: 0.8919\n",
      "Epoch 7/50\n",
      "53/53 [==============================] - 0s 6ms/step - loss: 0.2652 - binary_accuracy: 0.8959\n",
      "Epoch 8/50\n",
      "53/53 [==============================] - 0s 6ms/step - loss: 0.2576 - binary_accuracy: 0.8996\n",
      "Epoch 9/50\n",
      "53/53 [==============================] - 0s 6ms/step - loss: 0.2491 - binary_accuracy: 0.9032\n",
      "Epoch 10/50\n",
      "53/53 [==============================] - 0s 7ms/step - loss: 0.2402 - binary_accuracy: 0.9063\n",
      "Epoch 11/50\n",
      "53/53 [==============================] - 0s 7ms/step - loss: 0.2310 - binary_accuracy: 0.9116\n",
      "Epoch 12/50\n",
      "53/53 [==============================] - 0s 7ms/step - loss: 0.2210 - binary_accuracy: 0.9156\n",
      "Epoch 13/50\n",
      "53/53 [==============================] - 0s 6ms/step - loss: 0.2095 - binary_accuracy: 0.9220\n",
      "Epoch 14/50\n",
      "53/53 [==============================] - 0s 6ms/step - loss: 0.1981 - binary_accuracy: 0.9276\n",
      "Epoch 15/50\n",
      "53/53 [==============================] - 0s 7ms/step - loss: 0.1866 - binary_accuracy: 0.9323\n",
      "Epoch 16/50\n",
      "53/53 [==============================] - 0s 7ms/step - loss: 0.1738 - binary_accuracy: 0.9392\n",
      "Epoch 17/50\n",
      "53/53 [==============================] - 0s 7ms/step - loss: 0.1611 - binary_accuracy: 0.9435\n",
      "Epoch 18/50\n",
      "53/53 [==============================] - 0s 5ms/step - loss: 0.1484 - binary_accuracy: 0.9492\n",
      "Epoch 19/50\n",
      "53/53 [==============================] - 0s 7ms/step - loss: 0.1355 - binary_accuracy: 0.9551\n",
      "Epoch 20/50\n",
      "53/53 [==============================] - 0s 9ms/step - loss: 0.1243 - binary_accuracy: 0.9585\n",
      "Epoch 21/50\n",
      "53/53 [==============================] - 1s 10ms/step - loss: 0.1139 - binary_accuracy: 0.9632\n",
      "Epoch 22/50\n",
      "53/53 [==============================] - 0s 7ms/step - loss: 0.1039 - binary_accuracy: 0.9670\n",
      "Epoch 23/50\n",
      "53/53 [==============================] - 0s 8ms/step - loss: 0.0942 - binary_accuracy: 0.9707\n",
      "Epoch 24/50\n",
      "53/53 [==============================] - 0s 7ms/step - loss: 0.0858 - binary_accuracy: 0.9736\n",
      "Epoch 25/50\n",
      "53/53 [==============================] - 0s 6ms/step - loss: 0.0780 - binary_accuracy: 0.9758\n",
      "Epoch 26/50\n",
      "53/53 [==============================] - 0s 6ms/step - loss: 0.0706 - binary_accuracy: 0.9785\n",
      "Epoch 27/50\n",
      "53/53 [==============================] - 0s 7ms/step - loss: 0.0638 - binary_accuracy: 0.9808\n",
      "Epoch 28/50\n",
      "53/53 [==============================] - 0s 6ms/step - loss: 0.0581 - binary_accuracy: 0.9826\n",
      "Epoch 29/50\n",
      "53/53 [==============================] - 0s 5ms/step - loss: 0.0534 - binary_accuracy: 0.9837\n",
      "Epoch 30/50\n",
      "53/53 [==============================] - 0s 6ms/step - loss: 0.0478 - binary_accuracy: 0.9860\n",
      "Epoch 31/50\n",
      "53/53 [==============================] - 0s 7ms/step - loss: 0.0445 - binary_accuracy: 0.9867\n",
      "Epoch 32/50\n",
      "53/53 [==============================] - 0s 8ms/step - loss: 0.0404 - binary_accuracy: 0.9873\n",
      "Epoch 33/50\n",
      "53/53 [==============================] - 0s 6ms/step - loss: 0.0364 - binary_accuracy: 0.9893\n",
      "Epoch 34/50\n",
      "53/53 [==============================] - 0s 7ms/step - loss: 0.0340 - binary_accuracy: 0.9897\n",
      "Epoch 35/50\n",
      "53/53 [==============================] - 0s 7ms/step - loss: 0.0319 - binary_accuracy: 0.9903\n",
      "Epoch 36/50\n",
      "53/53 [==============================] - 0s 7ms/step - loss: 0.0292 - binary_accuracy: 0.9911\n",
      "Epoch 37/50\n",
      "53/53 [==============================] - 0s 7ms/step - loss: 0.0273 - binary_accuracy: 0.9917\n",
      "Epoch 38/50\n",
      "53/53 [==============================] - 0s 6ms/step - loss: 0.0254 - binary_accuracy: 0.9922\n",
      "Epoch 39/50\n",
      "53/53 [==============================] - 0s 6ms/step - loss: 0.0243 - binary_accuracy: 0.9925\n",
      "Epoch 40/50\n",
      "53/53 [==============================] - 0s 5ms/step - loss: 0.0225 - binary_accuracy: 0.9934\n",
      "Epoch 41/50\n",
      "53/53 [==============================] - 0s 6ms/step - loss: 0.0216 - binary_accuracy: 0.9933\n",
      "Epoch 42/50\n",
      "53/53 [==============================] - 0s 6ms/step - loss: 0.0204 - binary_accuracy: 0.9936\n",
      "Epoch 43/50\n",
      "53/53 [==============================] - 0s 7ms/step - loss: 0.0197 - binary_accuracy: 0.9936\n",
      "Epoch 44/50\n",
      "53/53 [==============================] - 0s 6ms/step - loss: 0.0188 - binary_accuracy: 0.9937\n",
      "Epoch 45/50\n",
      "53/53 [==============================] - 0s 8ms/step - loss: 0.0177 - binary_accuracy: 0.9942\n",
      "Epoch 46/50\n",
      "53/53 [==============================] - 0s 7ms/step - loss: 0.0178 - binary_accuracy: 0.9941\n",
      "Epoch 47/50\n",
      "53/53 [==============================] - 0s 7ms/step - loss: 0.0165 - binary_accuracy: 0.9947\n",
      "Epoch 48/50\n",
      "53/53 [==============================] - 0s 6ms/step - loss: 0.0163 - binary_accuracy: 0.9943\n",
      "Epoch 49/50\n",
      "53/53 [==============================] - 0s 6ms/step - loss: 0.0159 - binary_accuracy: 0.9947\n",
      "Epoch 50/50\n",
      "53/53 [==============================] - 0s 7ms/step - loss: 0.0158 - binary_accuracy: 0.9944\n"
     ]
    },
    {
     "data": {
      "text/plain": [
       "<tensorflow.python.keras.callbacks.History at 0x1fd7e5d6fc8>"
      ]
     },
     "execution_count": 16,
     "metadata": {},
     "output_type": "execute_result"
    }
   ],
   "source": [
    "fear_model.fit(x_fear_train, y_fear_train, epochs=50, batch_size=512)"
   ]
  },
  {
   "cell_type": "code",
   "execution_count": 17,
   "id": "prompt-reception",
   "metadata": {},
   "outputs": [
    {
     "name": "stdout",
     "output_type": "stream",
     "text": [
      "362/362 [==============================] - 1s 4ms/step - loss: 1.2218 - binary_accuracy: 0.8318\n"
     ]
    }
   ],
   "source": [
    "fear_results = fear_model.evaluate(x_fear_test, y_fear_test)"
   ]
  },
  {
   "cell_type": "code",
   "execution_count": 18,
   "id": "lyric-grove",
   "metadata": {},
   "outputs": [
    {
     "data": {
      "text/plain": [
       "[1.2218347787857056, 0.8318217396736145]"
      ]
     },
     "execution_count": 18,
     "metadata": {},
     "output_type": "execute_result"
    }
   ],
   "source": [
    "fear_results"
   ]
  },
  {
   "cell_type": "code",
   "execution_count": 19,
   "id": "frank-nowhere",
   "metadata": {},
   "outputs": [],
   "source": [
    "fear_model.save('fear_model.h5')"
   ]
  },
  {
   "cell_type": "code",
   "execution_count": 20,
   "id": "adjacent-builder",
   "metadata": {},
   "outputs": [
    {
     "data": {
      "text/plain": [
       "['너무/Adverb', '무섭다/Adjective']"
      ]
     },
     "execution_count": 20,
     "metadata": {},
     "output_type": "execute_result"
    }
   ],
   "source": [
    "fear_review = \"너무 무섭다\"\n",
    "fear_token = tokenize(fear_review)\n",
    "fear_token"
   ]
  },
  {
   "cell_type": "code",
   "execution_count": 21,
   "id": "celtic-vampire",
   "metadata": {},
   "outputs": [
    {
     "data": {
      "text/plain": [
       "0.9999581575393677"
      ]
     },
     "execution_count": 21,
     "metadata": {},
     "output_type": "execute_result"
    }
   ],
   "source": [
    "tf = fear_term_frequency(fear_token)\n",
    "data = np.expand_dims(np.asarray(tf).astype('float32'),axis=0)\n",
    "float(fear_model.predict(data))"
   ]
  },
  {
   "cell_type": "code",
   "execution_count": 22,
   "id": "ongoing-cologne",
   "metadata": {},
   "outputs": [],
   "source": [
    "def fear_predict(predict):\n",
    "    fear_token = tokenize(predict)\n",
    "    fear_tfq = fear_term_frequency(fear_token)\n",
    "    fear_data = np.expand_dims(np.asarray(fear_tfq).astype('float32'), axis=0)\n",
    "    fear_score = float(fear_model.predict(fear_data))\n",
    "    if(fear_score > 0.5):\n",
    "        print(f\"{predict} ==> 공포 ({round(fear_score*100)}%)\")\n",
    "    else:\n",
    "        print(f\"{predict} ==> 공포X ({round((1-fear_score)*100)}%)\")"
   ]
  },
  {
   "cell_type": "code",
   "execution_count": 23,
   "id": "harmful-drive",
   "metadata": {
    "scrolled": true
   },
   "outputs": [
    {
     "name": "stdout",
     "output_type": "stream",
     "text": [
      "김은지 얼굴 ==> 공포 (89%)\n"
     ]
    }
   ],
   "source": [
    "fear_predict(\"김은지 얼굴\")"
   ]
  },
  {
   "cell_type": "code",
   "execution_count": 24,
   "id": "determined-allen",
   "metadata": {},
   "outputs": [],
   "source": [
    "#놀람 감정 분석"
   ]
  },
  {
   "cell_type": "code",
   "execution_count": 25,
   "id": "vocational-service",
   "metadata": {},
   "outputs": [],
   "source": [
    "import pandas as pd\n",
    "train_surprise_df = pd.read_csv(\"surprisetrainalldata.txt\",\"\\t\")\n",
    "test_surprise_df = pd.read_csv(\"surprisetestalldata.txt\",\"\\t\")"
   ]
  },
  {
   "cell_type": "code",
   "execution_count": 26,
   "id": "finished-exclusive",
   "metadata": {},
   "outputs": [],
   "source": [
    "from konlpy.tag import Okt\n",
    "okt_surprise = Okt()"
   ]
  },
  {
   "cell_type": "code",
   "execution_count": 27,
   "id": "legislative-supplier",
   "metadata": {},
   "outputs": [],
   "source": [
    "def tokenize(doc):\n",
    "    return ['/'.join(t) for t in okt_surprise.pos(doc, norm=True, stem=True)]"
   ]
  },
  {
   "cell_type": "code",
   "execution_count": 28,
   "id": "increased-decimal",
   "metadata": {},
   "outputs": [],
   "source": [
    "train_surprise_df.isnull().any()\n",
    "train_surprise_df['document'] = train_surprise_df['document'].fillna('');\n",
    "train_surprise_df.isnull().any()\n",
    "test_surprise_df['document'] = test_surprise_df['document'].fillna('');"
   ]
  },
  {
   "cell_type": "code",
   "execution_count": 29,
   "id": "infinite-nursing",
   "metadata": {},
   "outputs": [],
   "source": [
    "train_surprise_docs = [(tokenize(row[1]), row[2]) for row in train_surprise_df.values]\n",
    "test_surprise_docs = [(tokenize(row[1]),row[2]) for row in test_surprise_df.values]"
   ]
  },
  {
   "cell_type": "code",
   "execution_count": 30,
   "id": "still-globe",
   "metadata": {},
   "outputs": [
    {
     "name": "stdout",
     "output_type": "stream",
     "text": [
      "(['언니/Noun', '동생/Noun', '으로/Josa', '부르다/Verb', '맞다/Verb', '일/Noun', '인가요/Josa', '..??/Punctuation'], 0)\n",
      "(['톡/Noun', '크다/Verb', '언니/Noun', '들/Suffix', '임산부/Noun', '언니/Noun', '들/Suffix', 'ㅠㅠ/KoreanParticle'], 0)\n"
     ]
    }
   ],
   "source": [
    "print(train_surprise_docs[0])\n",
    "print(test_surprise_docs[0])"
   ]
  },
  {
   "cell_type": "code",
   "execution_count": 31,
   "id": "limiting-command",
   "metadata": {},
   "outputs": [
    {
     "name": "stdout",
     "output_type": "stream",
     "text": [
      "토큰개수: 259374\n"
     ]
    }
   ],
   "source": [
    "tokens = [t for d in train_surprise_docs for t in d[0]]\n",
    "print(\"토큰개수:\",len(tokens))"
   ]
  },
  {
   "cell_type": "code",
   "execution_count": 32,
   "id": "industrial-smell",
   "metadata": {},
   "outputs": [
    {
     "name": "stdout",
     "output_type": "stream",
     "text": [
      "259374\n",
      "20799\n",
      "[('하다/Verb', 8087), ('이/Josa', 4939), ('./Punctuation', 4679), ('가/Josa', 3509), ('?/Punctuation', 3201), ('에/Josa', 3168), ('들/Suffix', 3097), ('../Punctuation', 2820), ('을/Josa', 2523), ('은/Josa', 2512)]\n"
     ]
    }
   ],
   "source": [
    "import nltk\n",
    "surprise_text = nltk.Text(tokens, name='NMSC')\n",
    "print(len(surprise_text.tokens))\n",
    "print(len(set(surprise_text.tokens)))\n",
    "print(surprise_text.vocab().most_common(10))"
   ]
  },
  {
   "cell_type": "code",
   "execution_count": 33,
   "id": "fundamental-investing",
   "metadata": {},
   "outputs": [
    {
     "data": {
      "image/png": "[encoded data removed]",
      "text/plain": [
       "<Figure size 1440x720 with 1 Axes>"
      ]
     },
     "metadata": {
      "needs_background": "light"
     },
     "output_type": "display_data"
    }
   ],
   "source": [
    "import matplotlib.pyplot as plt\n",
    "from matplotlib import font_manager, rc\n",
    "plt.figure(figsize=(20,10))\n",
    "surprise_text.plot(50)"
   ]
  },
  {
   "cell_type": "code",
   "execution_count": 34,
   "id": "affiliated-soundtrack",
   "metadata": {},
   "outputs": [],
   "source": [
    "SURPRISE_FREQUENCY_COUNT = 1000;\n",
    "surprise_selected_words = [f[0] for f in surprise_text.vocab().most_common(SURPRISE_FREQUENCY_COUNT)]"
   ]
  },
  {
   "cell_type": "code",
   "execution_count": 35,
   "id": "frozen-electric",
   "metadata": {},
   "outputs": [],
   "source": [
    "def surprise_term_frequency(doc):\n",
    "    return [doc.count(word) for word in surprise_selected_words]"
   ]
  },
  {
   "cell_type": "code",
   "execution_count": 36,
   "id": "hired-formula",
   "metadata": {},
   "outputs": [],
   "source": [
    "x_surprise_train = [surprise_term_frequency(d) for d,_ in train_surprise_docs]\n",
    "x_surprise_test = [surprise_term_frequency(d) for d,_ in test_surprise_docs]\n",
    "y_surprise_train = [c for _,c in train_surprise_docs]\n",
    "y_surprise_test = [c for _,c in test_surprise_docs]"
   ]
  },
  {
   "cell_type": "code",
   "execution_count": 37,
   "id": "twenty-filename",
   "metadata": {},
   "outputs": [],
   "source": [
    "import numpy as np\n",
    "x_surprise_train = np.asarray(x_surprise_train).astype('float32')\n",
    "x_surprise_test = np.asarray(x_surprise_test). astype('float32')\n",
    "\n",
    "y_surprise_train = np.asarray(y_surprise_train).astype('float32')\n",
    "y_surprise_test = np.asarray(y_surprise_test).astype('float32')"
   ]
  },
  {
   "cell_type": "code",
   "execution_count": 38,
   "id": "stopped-window",
   "metadata": {},
   "outputs": [],
   "source": [
    "import tensorflow as tf\n",
    "surprise_model= tf.keras.models.Sequential([\n",
    "    tf.keras.layers.Dense(64, activation = 'relu',input_shape=(SURPRISE_FREQUENCY_COUNT,)),\n",
    "    tf.keras.layers.Dense(64, activation = 'relu'),\n",
    "    tf.keras.layers.Dense(1, activation = 'sigmoid')\n",
    "])"
   ]
  },
  {
   "cell_type": "code",
   "execution_count": 39,
   "id": "atmospheric-blast",
   "metadata": {},
   "outputs": [],
   "source": [
    "surprise_model.compile(optimizer=tf.keras.optimizers.RMSprop(lr=0.001),\n",
    "             loss=tf.keras.losses.binary_crossentropy,\n",
    "             metrics=[tf.keras.metrics.binary_accuracy]\n",
    "             )"
   ]
  },
  {
   "cell_type": "code",
   "execution_count": 40,
   "id": "sustainable-ticket",
   "metadata": {},
   "outputs": [
    {
     "name": "stdout",
     "output_type": "stream",
     "text": [
      "Epoch 1/50\n",
      "53/53 [==============================] - 0s 7ms/step - loss: 0.4357 - binary_accuracy: 0.8451\n",
      "Epoch 2/50\n",
      "53/53 [==============================] - 0s 7ms/step - loss: 0.3567 - binary_accuracy: 0.8505\n",
      "Epoch 3/50\n",
      "53/53 [==============================] - 0s 7ms/step - loss: 0.3308 - binary_accuracy: 0.8602\n",
      "Epoch 4/50\n",
      "53/53 [==============================] - 0s 7ms/step - loss: 0.3169 - binary_accuracy: 0.8675\n",
      "Epoch 5/50\n",
      "53/53 [==============================] - 0s 6ms/step - loss: 0.3063 - binary_accuracy: 0.8720\n",
      "Epoch 6/50\n",
      "53/53 [==============================] - 0s 5ms/step - loss: 0.2962 - binary_accuracy: 0.8768\n",
      "Epoch 7/50\n",
      "53/53 [==============================] - 0s 6ms/step - loss: 0.2863 - binary_accuracy: 0.8823\n",
      "Epoch 8/50\n",
      "53/53 [==============================] - 0s 6ms/step - loss: 0.2760 - binary_accuracy: 0.8866\n",
      "Epoch 9/50\n",
      "53/53 [==============================] - 0s 6ms/step - loss: 0.2651 - binary_accuracy: 0.8925\n",
      "Epoch 10/50\n",
      "53/53 [==============================] - 0s 6ms/step - loss: 0.2530 - binary_accuracy: 0.8986\n",
      "Epoch 11/50\n",
      "53/53 [==============================] - 0s 6ms/step - loss: 0.2412 - binary_accuracy: 0.9038\n",
      "Epoch 12/50\n",
      "53/53 [==============================] - 0s 6ms/step - loss: 0.2284 - binary_accuracy: 0.9107\n",
      "Epoch 13/50\n",
      "53/53 [==============================] - 0s 7ms/step - loss: 0.2150 - binary_accuracy: 0.9175\n",
      "Epoch 14/50\n",
      "53/53 [==============================] - 0s 7ms/step - loss: 0.2013 - binary_accuracy: 0.9233\n",
      "Epoch 15/50\n",
      "53/53 [==============================] - 0s 5ms/step - loss: 0.1870 - binary_accuracy: 0.9304\n",
      "Epoch 16/50\n",
      "53/53 [==============================] - 0s 5ms/step - loss: 0.1727 - binary_accuracy: 0.9365\n",
      "Epoch 17/50\n",
      "53/53 [==============================] - 0s 6ms/step - loss: 0.1582 - binary_accuracy: 0.9415\n",
      "Epoch 18/50\n",
      "53/53 [==============================] - 0s 6ms/step - loss: 0.1451 - binary_accuracy: 0.9482\n",
      "Epoch 19/50\n",
      "53/53 [==============================] - 0s 7ms/step - loss: 0.1320 - binary_accuracy: 0.9540\n",
      "Epoch 20/50\n",
      "53/53 [==============================] - 0s 6ms/step - loss: 0.1191 - binary_accuracy: 0.9583\n",
      "Epoch 21/50\n",
      "53/53 [==============================] - 0s 6ms/step - loss: 0.1082 - binary_accuracy: 0.9628\n",
      "Epoch 22/50\n",
      "53/53 [==============================] - 0s 6ms/step - loss: 0.0974 - binary_accuracy: 0.9668\n",
      "Epoch 23/50\n",
      "53/53 [==============================] - 0s 7ms/step - loss: 0.0873 - binary_accuracy: 0.9693\n",
      "Epoch 24/50\n",
      "53/53 [==============================] - 0s 7ms/step - loss: 0.0792 - binary_accuracy: 0.9727\n",
      "Epoch 25/50\n",
      "53/53 [==============================] - 0s 6ms/step - loss: 0.0721 - binary_accuracy: 0.9757\n",
      "Epoch 26/50\n",
      "53/53 [==============================] - 0s 5ms/step - loss: 0.0646 - binary_accuracy: 0.9779\n",
      "Epoch 27/50\n",
      "53/53 [==============================] - 0s 6ms/step - loss: 0.0591 - binary_accuracy: 0.9806\n",
      "Epoch 28/50\n",
      "53/53 [==============================] - 0s 6ms/step - loss: 0.0541 - binary_accuracy: 0.9819\n",
      "Epoch 29/50\n",
      "53/53 [==============================] - 0s 6ms/step - loss: 0.0496 - binary_accuracy: 0.9833\n",
      "Epoch 30/50\n",
      "53/53 [==============================] - 0s 6ms/step - loss: 0.0446 - binary_accuracy: 0.9849\n",
      "Epoch 31/50\n",
      "53/53 [==============================] - 0s 6ms/step - loss: 0.0417 - binary_accuracy: 0.9860\n",
      "Epoch 32/50\n",
      "53/53 [==============================] - 0s 7ms/step - loss: 0.0383 - binary_accuracy: 0.9876\n",
      "Epoch 33/50\n",
      "53/53 [==============================] - 0s 6ms/step - loss: 0.0360 - binary_accuracy: 0.9874\n",
      "Epoch 34/50\n",
      "53/53 [==============================] - 0s 6ms/step - loss: 0.0330 - binary_accuracy: 0.9889\n",
      "Epoch 35/50\n",
      "53/53 [==============================] - 0s 6ms/step - loss: 0.0309 - binary_accuracy: 0.9892\n",
      "Epoch 36/50\n",
      "53/53 [==============================] - 0s 5ms/step - loss: 0.0292 - binary_accuracy: 0.9900\n",
      "Epoch 37/50\n",
      "53/53 [==============================] - 0s 6ms/step - loss: 0.0275 - binary_accuracy: 0.9901\n",
      "Epoch 38/50\n",
      "53/53 [==============================] - 0s 7ms/step - loss: 0.0265 - binary_accuracy: 0.9904\n",
      "Epoch 39/50\n",
      "53/53 [==============================] - 0s 6ms/step - loss: 0.0249 - binary_accuracy: 0.9907\n",
      "Epoch 40/50\n",
      "53/53 [==============================] - 0s 6ms/step - loss: 0.0240 - binary_accuracy: 0.9906\n",
      "Epoch 41/50\n",
      "53/53 [==============================] - 0s 6ms/step - loss: 0.0229 - binary_accuracy: 0.9915\n",
      "Epoch 42/50\n",
      "53/53 [==============================] - 0s 6ms/step - loss: 0.0224 - binary_accuracy: 0.9919\n",
      "Epoch 43/50\n",
      "53/53 [==============================] - 0s 6ms/step - loss: 0.0212 - binary_accuracy: 0.9922\n",
      "Epoch 44/50\n",
      "53/53 [==============================] - 0s 6ms/step - loss: 0.0202 - binary_accuracy: 0.9924\n",
      "Epoch 45/50\n",
      "53/53 [==============================] - 0s 6ms/step - loss: 0.0200 - binary_accuracy: 0.9919\n",
      "Epoch 46/50\n",
      "53/53 [==============================] - 0s 6ms/step - loss: 0.0192 - binary_accuracy: 0.9928\n",
      "Epoch 47/50\n",
      "53/53 [==============================] - 0s 6ms/step - loss: 0.0194 - binary_accuracy: 0.9923\n",
      "Epoch 48/50\n",
      "53/53 [==============================] - 0s 6ms/step - loss: 0.0187 - binary_accuracy: 0.9926\n",
      "Epoch 49/50\n",
      "53/53 [==============================] - 0s 6ms/step - loss: 0.0183 - binary_accuracy: 0.9927\n",
      "Epoch 50/50\n",
      "53/53 [==============================] - 0s 6ms/step - loss: 0.0180 - binary_accuracy: 0.9931\n"
     ]
    },
    {
     "data": {
      "text/plain": [
       "<tensorflow.python.keras.callbacks.History at 0x1fd09a50088>"
      ]
     },
     "execution_count": 40,
     "metadata": {},
     "output_type": "execute_result"
    }
   ],
   "source": [
    "surprise_model.fit(x_surprise_train, y_surprise_train, epochs=50, batch_size=512)"
   ]
  },
  {
   "cell_type": "code",
   "execution_count": 41,
   "id": "statistical-surrey",
   "metadata": {},
   "outputs": [
    {
     "name": "stdout",
     "output_type": "stream",
     "text": [
      "362/362 [==============================] - 1s 2ms/step - loss: 1.6014 - binary_accuracy: 0.8283\n"
     ]
    }
   ],
   "source": [
    "surprise_results = surprise_model.evaluate(x_surprise_test, y_surprise_test)"
   ]
  },
  {
   "cell_type": "code",
   "execution_count": 42,
   "id": "parallel-scotland",
   "metadata": {},
   "outputs": [
    {
     "data": {
      "text/plain": [
       "[1.601439118385315, 0.8282802104949951]"
      ]
     },
     "execution_count": 42,
     "metadata": {},
     "output_type": "execute_result"
    }
   ],
   "source": [
    "surprise_results"
   ]
  },
  {
   "cell_type": "code",
   "execution_count": 43,
   "id": "affected-christianity",
   "metadata": {},
   "outputs": [],
   "source": [
    "surprise_model.save('surprise_model.h5')"
   ]
  },
  {
   "cell_type": "code",
   "execution_count": 44,
   "id": "uniform-refund",
   "metadata": {},
   "outputs": [
    {
     "data": {
      "text/plain": [
       "['너무/Adverb', '놀라다/Verb']"
      ]
     },
     "execution_count": 44,
     "metadata": {},
     "output_type": "execute_result"
    }
   ],
   "source": [
    "surprise_review = \"너무 놀랍다\"\n",
    "surprise_token = tokenize(surprise_review)\n",
    "surprise_token"
   ]
  },
  {
   "cell_type": "code",
   "execution_count": 45,
   "id": "hungry-message",
   "metadata": {},
   "outputs": [
    {
     "data": {
      "text/plain": [
       "0.9997773766517639"
      ]
     },
     "execution_count": 45,
     "metadata": {},
     "output_type": "execute_result"
    }
   ],
   "source": [
    "tf = surprise_term_frequency(surprise_token)\n",
    "data = np.expand_dims(np.asarray(tf).astype('float32'),axis=0)\n",
    "float(surprise_model.predict(data))"
   ]
  },
  {
   "cell_type": "code",
   "execution_count": 46,
   "id": "threatened-aviation",
   "metadata": {},
   "outputs": [],
   "source": [
    "def surprise_predict(predict):\n",
    "    surprise_token = tokenize(predict)\n",
    "    surprise_tfq = surprise_term_frequency(surprise_token)\n",
    "    surprise_data = np.expand_dims(np.asarray(surprise_tfq).astype('float32'), axis=0)\n",
    "    surprise_score = float(surprise_model.predict(surprise_data))\n",
    "    if(surprise_score > 0.5):\n",
    "        print(f\"{predict} ==> 놀람 ({round(surprise_score*100)}%)\")\n",
    "    else:\n",
    "        print(f\"{predict} ==> 놀람X ({round((1-surprise_score)*100)}%)\")"
   ]
  },
  {
   "cell_type": "code",
   "execution_count": 47,
   "id": "cultural-begin",
   "metadata": {},
   "outputs": [
    {
     "name": "stdout",
     "output_type": "stream",
     "text": [
      "원재상 ==> 놀람X (90%)\n"
     ]
    }
   ],
   "source": [
    "surprise_predict(\"원재상\")"
   ]
  },
  {
   "cell_type": "code",
   "execution_count": 48,
   "id": "quarterly-firewall",
   "metadata": {},
   "outputs": [],
   "source": [
    "#분노 감정 분석"
   ]
  },
  {
   "cell_type": "code",
   "execution_count": 49,
   "id": "hearing-removal",
   "metadata": {},
   "outputs": [],
   "source": [
    "import pandas as pd\n",
    "train_anger_df = pd.read_csv(\"angertrainalldata.txt\",\"\\t\")\n",
    "test_anger_df = pd.read_csv(\"angertestalldata.txt\",\"\\t\")"
   ]
  },
  {
   "cell_type": "code",
   "execution_count": 50,
   "id": "accessible-surveillance",
   "metadata": {},
   "outputs": [],
   "source": [
    "from konlpy.tag import Okt\n",
    "okt_anger = Okt()"
   ]
  },
  {
   "cell_type": "code",
   "execution_count": 51,
   "id": "packed-tucson",
   "metadata": {},
   "outputs": [],
   "source": [
    "def tokenize(doc):\n",
    "    return ['/'.join(t) for t in okt_anger.pos(doc, norm=True, stem=True)]"
   ]
  },
  {
   "cell_type": "code",
   "execution_count": 52,
   "id": "known-scottish",
   "metadata": {},
   "outputs": [],
   "source": [
    "train_anger_df.isnull().any()\n",
    "train_anger_df['document'] = train_anger_df['document'].fillna('');\n",
    "train_anger_df.isnull().any()\n",
    "test_anger_df['document'] = test_anger_df['document'].fillna('');"
   ]
  },
  {
   "cell_type": "code",
   "execution_count": 53,
   "id": "innovative-vatican",
   "metadata": {},
   "outputs": [],
   "source": [
    "train_anger_docs = [(tokenize(row[1]), row[2]) for row in train_anger_df.values]\n",
    "test_anger_docs = [(tokenize(row[1]),row[2]) for row in test_anger_df.values]"
   ]
  },
  {
   "cell_type": "code",
   "execution_count": 54,
   "id": "undefined-press",
   "metadata": {},
   "outputs": [
    {
     "name": "stdout",
     "output_type": "stream",
     "text": [
      "(['언니/Noun', '동생/Noun', '으로/Josa', '부르다/Verb', '맞다/Verb', '일/Noun', '인가요/Josa', '..??/Punctuation'], 0)\n",
      "(['톡/Noun', '크다/Verb', '언니/Noun', '들/Suffix', '임산부/Noun', '언니/Noun', '들/Suffix', 'ㅠㅠ/KoreanParticle'], 0)\n"
     ]
    }
   ],
   "source": [
    "print(train_anger_docs[0])\n",
    "print(test_anger_docs[0])"
   ]
  },
  {
   "cell_type": "code",
   "execution_count": 55,
   "id": "destroyed-scanner",
   "metadata": {},
   "outputs": [
    {
     "name": "stdout",
     "output_type": "stream",
     "text": [
      "토큰개수: 259374\n"
     ]
    }
   ],
   "source": [
    "tokens = [t for d in train_anger_docs for t in d[0]]\n",
    "print(\"토큰개수:\",len(tokens))"
   ]
  },
  {
   "cell_type": "code",
   "execution_count": 56,
   "id": "bizarre-application",
   "metadata": {},
   "outputs": [
    {
     "name": "stdout",
     "output_type": "stream",
     "text": [
      "259374\n",
      "20799\n",
      "[('하다/Verb', 8087), ('이/Josa', 4939), ('./Punctuation', 4679), ('가/Josa', 3509), ('?/Punctuation', 3201), ('에/Josa', 3168), ('들/Suffix', 3097), ('../Punctuation', 2820), ('을/Josa', 2523), ('은/Josa', 2512)]\n"
     ]
    }
   ],
   "source": [
    "import nltk\n",
    "anger_text = nltk.Text(tokens, name='NMSC')\n",
    "print(len(anger_text.tokens))\n",
    "print(len(set(anger_text.tokens)))\n",
    "print(anger_text.vocab().most_common(10))"
   ]
  },
  {
   "cell_type": "code",
   "execution_count": 57,
   "id": "mobile-trout",
   "metadata": {},
   "outputs": [
    {
     "data": {
      "image/png": "[encoded data removed]",
      "text/plain": [
       "<Figure size 1440x720 with 1 Axes>"
      ]
     },
     "metadata": {
      "needs_background": "light"
     },
     "output_type": "display_data"
    }
   ],
   "source": [
    "import matplotlib.pyplot as plt\n",
    "from matplotlib import font_manager, rc\n",
    "plt.figure(figsize=(20,10))\n",
    "anger_text.plot(50)"
   ]
  },
  {
   "cell_type": "code",
   "execution_count": 58,
   "id": "opposed-corruption",
   "metadata": {},
   "outputs": [],
   "source": [
    "ANGER_FREQUENCY_COUNT = 1000;\n",
    "anger_selected_words = [f[0] for f in anger_text.vocab().most_common(ANGER_FREQUENCY_COUNT)]"
   ]
  },
  {
   "cell_type": "code",
   "execution_count": 59,
   "id": "swedish-turtle",
   "metadata": {},
   "outputs": [],
   "source": [
    "def anger_term_frequency(doc):\n",
    "    return [doc.count(word) for word in anger_selected_words]"
   ]
  },
  {
   "cell_type": "code",
   "execution_count": 60,
   "id": "verified-choice",
   "metadata": {},
   "outputs": [],
   "source": [
    "x_anger_train = [anger_term_frequency(d) for d,_ in train_anger_docs]\n",
    "x_anger_test = [anger_term_frequency(d) for d,_ in test_anger_docs]\n",
    "y_anger_train = [c for _,c in train_anger_docs]\n",
    "y_anger_test = [c for _,c in test_anger_docs]"
   ]
  },
  {
   "cell_type": "code",
   "execution_count": 61,
   "id": "supported-internship",
   "metadata": {},
   "outputs": [],
   "source": [
    "import numpy as np\n",
    "x_anger_train = np.asarray(x_anger_train).astype('float32')\n",
    "x_anger_test = np.asarray(x_anger_test). astype('float32')\n",
    "\n",
    "y_anger_train = np.asarray(y_anger_train).astype('float32')\n",
    "y_anger_test = np.asarray(y_anger_test).astype('float32')"
   ]
  },
  {
   "cell_type": "code",
   "execution_count": 62,
   "id": "meaningful-collaboration",
   "metadata": {},
   "outputs": [],
   "source": [
    "import tensorflow as tf\n",
    "anger_model= tf.keras.models.Sequential([\n",
    "    tf.keras.layers.Dense(64, activation = 'relu',input_shape=(ANGER_FREQUENCY_COUNT,)),\n",
    "    tf.keras.layers.Dense(64, activation = 'relu'),\n",
    "    tf.keras.layers.Dense(1, activation = 'sigmoid')\n",
    "])"
   ]
  },
  {
   "cell_type": "code",
   "execution_count": 63,
   "id": "fundamental-argument",
   "metadata": {},
   "outputs": [],
   "source": [
    "anger_model.compile(optimizer=tf.keras.optimizers.RMSprop(lr=0.001),\n",
    "             loss=tf.keras.losses.binary_crossentropy,\n",
    "             metrics=[tf.keras.metrics.binary_accuracy]\n",
    "             )"
   ]
  },
  {
   "cell_type": "code",
   "execution_count": 64,
   "id": "removable-grill",
   "metadata": {},
   "outputs": [
    {
     "name": "stdout",
     "output_type": "stream",
     "text": [
      "Epoch 1/50\n",
      "53/53 [==============================] - 0s 5ms/step - loss: 0.4383 - binary_accuracy: 0.8522\n",
      "Epoch 2/50\n",
      "53/53 [==============================] - 0s 6ms/step - loss: 0.3388 - binary_accuracy: 0.8572\n",
      "Epoch 3/50\n",
      "53/53 [==============================] - 0s 6ms/step - loss: 0.3147 - binary_accuracy: 0.8662\n",
      "Epoch 4/50\n",
      "53/53 [==============================] - 0s 6ms/step - loss: 0.3028 - binary_accuracy: 0.8706\n",
      "Epoch 5/50\n",
      "53/53 [==============================] - 0s 6ms/step - loss: 0.2931 - binary_accuracy: 0.8750\n",
      "Epoch 6/50\n",
      "53/53 [==============================] - 0s 6ms/step - loss: 0.2840 - binary_accuracy: 0.8802\n",
      "Epoch 7/50\n",
      "53/53 [==============================] - 0s 6ms/step - loss: 0.2746 - binary_accuracy: 0.8843\n",
      "Epoch 8/50\n",
      "53/53 [==============================] - 0s 6ms/step - loss: 0.2647 - binary_accuracy: 0.8901\n",
      "Epoch 9/50\n",
      "53/53 [==============================] - 0s 6ms/step - loss: 0.2546 - binary_accuracy: 0.8956\n",
      "Epoch 10/50\n",
      "53/53 [==============================] - 0s 6ms/step - loss: 0.2431 - binary_accuracy: 0.9007\n",
      "Epoch 11/50\n",
      "53/53 [==============================] - 0s 5ms/step - loss: 0.2313 - binary_accuracy: 0.9075\n",
      "Epoch 12/50\n",
      "53/53 [==============================] - 0s 6ms/step - loss: 0.2185 - binary_accuracy: 0.9136\n",
      "Epoch 13/50\n",
      "53/53 [==============================] - 0s 6ms/step - loss: 0.2048 - binary_accuracy: 0.9216\n",
      "Epoch 14/50\n",
      "53/53 [==============================] - 0s 6ms/step - loss: 0.1910 - binary_accuracy: 0.9264\n",
      "Epoch 15/50\n",
      "53/53 [==============================] - 0s 6ms/step - loss: 0.1760 - binary_accuracy: 0.9349\n",
      "Epoch 16/50\n",
      "53/53 [==============================] - 0s 6ms/step - loss: 0.1605 - binary_accuracy: 0.9421\n",
      "Epoch 17/50\n",
      "53/53 [==============================] - 0s 6ms/step - loss: 0.1454 - binary_accuracy: 0.9489\n",
      "Epoch 18/50\n",
      "53/53 [==============================] - 0s 6ms/step - loss: 0.1311 - binary_accuracy: 0.9543\n",
      "Epoch 19/50\n",
      "53/53 [==============================] - 0s 6ms/step - loss: 0.1173 - binary_accuracy: 0.9600\n",
      "Epoch 20/50\n",
      "53/53 [==============================] - 0s 6ms/step - loss: 0.1057 - binary_accuracy: 0.9654\n",
      "Epoch 21/50\n",
      "53/53 [==============================] - 0s 7ms/step - loss: 0.0933 - binary_accuracy: 0.9694\n",
      "Epoch 22/50\n",
      "53/53 [==============================] - 0s 6ms/step - loss: 0.0833 - binary_accuracy: 0.9736\n",
      "Epoch 23/50\n",
      "53/53 [==============================] - 0s 8ms/step - loss: 0.0740 - binary_accuracy: 0.9763\n",
      "Epoch 24/50\n",
      "53/53 [==============================] - 0s 7ms/step - loss: 0.0658 - binary_accuracy: 0.9781\n",
      "Epoch 25/50\n",
      "53/53 [==============================] - 0s 6ms/step - loss: 0.0577 - binary_accuracy: 0.9826\n",
      "Epoch 26/50\n",
      "53/53 [==============================] - 0s 6ms/step - loss: 0.0506 - binary_accuracy: 0.9847\n",
      "Epoch 27/50\n",
      "53/53 [==============================] - 0s 7ms/step - loss: 0.0459 - binary_accuracy: 0.9859\n",
      "Epoch 28/50\n",
      "53/53 [==============================] - 0s 6ms/step - loss: 0.0399 - binary_accuracy: 0.9879\n",
      "Epoch 29/50\n",
      "53/53 [==============================] - 0s 6ms/step - loss: 0.0361 - binary_accuracy: 0.9893\n",
      "Epoch 30/50\n",
      "53/53 [==============================] - 0s 4ms/step - loss: 0.0328 - binary_accuracy: 0.9899\n",
      "Epoch 31/50\n",
      "53/53 [==============================] - 0s 5ms/step - loss: 0.0292 - binary_accuracy: 0.9911\n",
      "Epoch 32/50\n",
      "53/53 [==============================] - 0s 5ms/step - loss: 0.0275 - binary_accuracy: 0.9916\n",
      "Epoch 33/50\n",
      "53/53 [==============================] - 0s 5ms/step - loss: 0.0248 - binary_accuracy: 0.9921\n",
      "Epoch 34/50\n",
      "53/53 [==============================] - 0s 5ms/step - loss: 0.0232 - binary_accuracy: 0.9925\n",
      "Epoch 35/50\n",
      "53/53 [==============================] - 0s 5ms/step - loss: 0.0217 - binary_accuracy: 0.9931\n",
      "Epoch 36/50\n",
      "53/53 [==============================] - 0s 6ms/step - loss: 0.0203 - binary_accuracy: 0.9930\n",
      "Epoch 37/50\n",
      "53/53 [==============================] - 0s 6ms/step - loss: 0.0192 - binary_accuracy: 0.9935\n",
      "Epoch 38/50\n",
      "53/53 [==============================] - 0s 6ms/step - loss: 0.0182 - binary_accuracy: 0.9937\n",
      "Epoch 39/50\n",
      "53/53 [==============================] - 0s 7ms/step - loss: 0.0174 - binary_accuracy: 0.9940\n",
      "Epoch 40/50\n",
      "53/53 [==============================] - 0s 7ms/step - loss: 0.0165 - binary_accuracy: 0.9946\n",
      "Epoch 41/50\n",
      "53/53 [==============================] - 0s 6ms/step - loss: 0.0162 - binary_accuracy: 0.9939\n",
      "Epoch 42/50\n",
      "53/53 [==============================] - 0s 6ms/step - loss: 0.0153 - binary_accuracy: 0.9947\n",
      "Epoch 43/50\n",
      "53/53 [==============================] - 0s 6ms/step - loss: 0.0152 - binary_accuracy: 0.9947\n",
      "Epoch 44/50\n",
      "53/53 [==============================] - 0s 5ms/step - loss: 0.0150 - binary_accuracy: 0.9942\n",
      "Epoch 45/50\n",
      "53/53 [==============================] - 0s 6ms/step - loss: 0.0141 - binary_accuracy: 0.9947\n",
      "Epoch 46/50\n",
      "53/53 [==============================] - 0s 5ms/step - loss: 0.0142 - binary_accuracy: 0.9948\n",
      "Epoch 47/50\n",
      "53/53 [==============================] - 0s 4ms/step - loss: 0.0137 - binary_accuracy: 0.9947\n",
      "Epoch 48/50\n",
      "53/53 [==============================] - 0s 4ms/step - loss: 0.0139 - binary_accuracy: 0.9947\n",
      "Epoch 49/50\n",
      "53/53 [==============================] - 0s 5ms/step - loss: 0.0133 - binary_accuracy: 0.9951\n",
      "Epoch 50/50\n",
      "53/53 [==============================] - 0s 5ms/step - loss: 0.0133 - binary_accuracy: 0.9949\n"
     ]
    },
    {
     "data": {
      "text/plain": [
       "<tensorflow.python.keras.callbacks.History at 0x1fd09a577c8>"
      ]
     },
     "execution_count": 64,
     "metadata": {},
     "output_type": "execute_result"
    }
   ],
   "source": [
    "anger_model.fit(x_anger_train, y_anger_train, epochs=50, batch_size=512)"
   ]
  },
  {
   "cell_type": "code",
   "execution_count": 65,
   "id": "stuck-significance",
   "metadata": {},
   "outputs": [
    {
     "name": "stdout",
     "output_type": "stream",
     "text": [
      "362/362 [==============================] - 1s 2ms/step - loss: 1.7400 - binary_accuracy: 0.8234\n"
     ]
    }
   ],
   "source": [
    "anger_results = anger_model.evaluate(x_anger_test, y_anger_test)"
   ]
  },
  {
   "cell_type": "code",
   "execution_count": 66,
   "id": "fresh-procedure",
   "metadata": {},
   "outputs": [
    {
     "data": {
      "text/plain": [
       "[1.739974021911621, 0.8233566284179688]"
      ]
     },
     "execution_count": 66,
     "metadata": {},
     "output_type": "execute_result"
    }
   ],
   "source": [
    "anger_results"
   ]
  },
  {
   "cell_type": "code",
   "execution_count": 67,
   "id": "final-telling",
   "metadata": {},
   "outputs": [],
   "source": [
    "anger_model.save('anger_model.h5')"
   ]
  },
  {
   "cell_type": "code",
   "execution_count": 68,
   "id": "personalized-throw",
   "metadata": {},
   "outputs": [
    {
     "data": {
      "text/plain": [
       "['너무/Adverb', '화나다/Verb']"
      ]
     },
     "execution_count": 68,
     "metadata": {},
     "output_type": "execute_result"
    }
   ],
   "source": [
    "anger_review = \"너무 화난다\"\n",
    "anger_token = tokenize(anger_review)\n",
    "anger_token"
   ]
  },
  {
   "cell_type": "code",
   "execution_count": 69,
   "id": "superior-hundred",
   "metadata": {},
   "outputs": [
    {
     "data": {
      "text/plain": [
       "0.0009709038422442973"
      ]
     },
     "execution_count": 69,
     "metadata": {},
     "output_type": "execute_result"
    }
   ],
   "source": [
    "tf = anger_term_frequency(anger_token)\n",
    "data = np.expand_dims(np.asarray(tf).astype('float32'),axis=0)\n",
    "float(anger_model.predict(data))"
   ]
  },
  {
   "cell_type": "code",
   "execution_count": 70,
   "id": "prime-bracelet",
   "metadata": {},
   "outputs": [],
   "source": [
    "def anger_predict(predict):\n",
    "    anger_token = tokenize(predict)\n",
    "    anger_tfq = anger_term_frequency(anger_token)\n",
    "    anger_data = np.expand_dims(np.asarray(anger_tfq).astype('float32'), axis=0)\n",
    "    anger_score = float(anger_model.predict(anger_data))\n",
    "    if(anger_score > 0.5):\n",
    "        print(f\"{predict} ==> 분노 ({round(anger_score*100)}%)\")\n",
    "    else:\n",
    "        print(f\"{predict} ==> 분노X ({round((1-anger_score)*100)}%)\")"
   ]
  },
  {
   "cell_type": "code",
   "execution_count": 71,
   "id": "significant-experiment",
   "metadata": {},
   "outputs": [
    {
     "name": "stdout",
     "output_type": "stream",
     "text": [
      "분노 ==> 분노X (84%)\n"
     ]
    }
   ],
   "source": [
    "anger_predict(\"분노\")"
   ]
  },
  {
   "cell_type": "code",
   "execution_count": 72,
   "id": "brown-benjamin",
   "metadata": {},
   "outputs": [],
   "source": [
    "#슬픔 감정 분석"
   ]
  },
  {
   "cell_type": "code",
   "execution_count": 73,
   "id": "resistant-offset",
   "metadata": {},
   "outputs": [],
   "source": [
    "import pandas as pd\n",
    "train_sadness_df = pd.read_csv(\"sadnesstrainalldata.txt\",\"\\t\")\n",
    "test_sadness_df = pd.read_csv(\"sadnesstestalldata.txt\",\"\\t\")"
   ]
  },
  {
   "cell_type": "code",
   "execution_count": 74,
   "id": "heavy-stock",
   "metadata": {},
   "outputs": [],
   "source": [
    "from konlpy.tag import Okt\n",
    "okt_sadness = Okt()"
   ]
  },
  {
   "cell_type": "code",
   "execution_count": 75,
   "id": "lasting-moore",
   "metadata": {},
   "outputs": [],
   "source": [
    "def tokenize(doc):\n",
    "    return ['/'.join(t) for t in okt_sadness.pos(doc, norm=True, stem=True)]"
   ]
  },
  {
   "cell_type": "code",
   "execution_count": 76,
   "id": "expressed-monroe",
   "metadata": {},
   "outputs": [],
   "source": [
    "train_sadness_df.isnull().any()\n",
    "train_sadness_df['document'] = train_sadness_df['document'].fillna('');\n",
    "train_sadness_df.isnull().any()\n",
    "test_sadness_df['document'] = test_sadness_df['document'].fillna('');"
   ]
  },
  {
   "cell_type": "code",
   "execution_count": 77,
   "id": "suffering-scott",
   "metadata": {},
   "outputs": [],
   "source": [
    "train_sadness_docs = [(tokenize(row[1]), row[2]) for row in train_sadness_df.values]\n",
    "test_sadness_docs = [(tokenize(row[1]),row[2]) for row in test_sadness_df.values]"
   ]
  },
  {
   "cell_type": "code",
   "execution_count": 78,
   "id": "south-search",
   "metadata": {},
   "outputs": [
    {
     "name": "stdout",
     "output_type": "stream",
     "text": [
      "(['언니/Noun', '동생/Noun', '으로/Josa', '부르다/Verb', '맞다/Verb', '일/Noun', '인가요/Josa', '..??/Punctuation'], 0)\n",
      "(['톡/Noun', '크다/Verb', '언니/Noun', '들/Suffix', '임산부/Noun', '언니/Noun', '들/Suffix', 'ㅠㅠ/KoreanParticle'], 0)\n"
     ]
    }
   ],
   "source": [
    "print(train_sadness_docs[0])\n",
    "print(test_sadness_docs[0])"
   ]
  },
  {
   "cell_type": "code",
   "execution_count": 79,
   "id": "patent-preview",
   "metadata": {},
   "outputs": [
    {
     "name": "stdout",
     "output_type": "stream",
     "text": [
      "토큰개수: 259374\n"
     ]
    }
   ],
   "source": [
    "tokens = [t for d in train_sadness_docs for t in d[0]]\n",
    "print(\"토큰개수:\",len(tokens))"
   ]
  },
  {
   "cell_type": "code",
   "execution_count": 80,
   "id": "handled-heaven",
   "metadata": {},
   "outputs": [
    {
     "name": "stdout",
     "output_type": "stream",
     "text": [
      "259374\n",
      "20799\n",
      "[('하다/Verb', 8087), ('이/Josa', 4939), ('./Punctuation', 4679), ('가/Josa', 3509), ('?/Punctuation', 3201), ('에/Josa', 3168), ('들/Suffix', 3097), ('../Punctuation', 2820), ('을/Josa', 2523), ('은/Josa', 2512)]\n"
     ]
    }
   ],
   "source": [
    "import nltk\n",
    "sadness_text = nltk.Text(tokens, name='NMSC')\n",
    "print(len(sadness_text.tokens))\n",
    "print(len(set(sadness_text.tokens)))\n",
    "print(sadness_text.vocab().most_common(10))"
   ]
  },
  {
   "cell_type": "code",
   "execution_count": 81,
   "id": "unsigned-beginning",
   "metadata": {},
   "outputs": [
    {
     "data": {
      "image/png": "[encoded data removed]",
      "text/plain": [
       "<Figure size 1440x720 with 1 Axes>"
      ]
     },
     "metadata": {
      "needs_background": "light"
     },
     "output_type": "display_data"
    }
   ],
   "source": [
    "import matplotlib.pyplot as plt\n",
    "from matplotlib import font_manager, rc\n",
    "plt.figure(figsize=(20,10))\n",
    "sadness_text.plot(50)"
   ]
  },
  {
   "cell_type": "code",
   "execution_count": 82,
   "id": "bearing-conversation",
   "metadata": {},
   "outputs": [],
   "source": [
    "SADNESS_FREQUENCY_COUNT = 1000;\n",
    "sadness_selected_words = [f[0] for f in fear_text.vocab().most_common(SADNESS_FREQUENCY_COUNT)]"
   ]
  },
  {
   "cell_type": "code",
   "execution_count": 83,
   "id": "selected-prime",
   "metadata": {},
   "outputs": [],
   "source": [
    "def sadness_term_frequency(doc):\n",
    "    return [doc.count(word) for word in sadness_selected_words]"
   ]
  },
  {
   "cell_type": "code",
   "execution_count": 84,
   "id": "satisfactory-indianapolis",
   "metadata": {},
   "outputs": [],
   "source": [
    "x_sadness_train = [sadness_term_frequency(d) for d,_ in train_sadness_docs]\n",
    "x_sadness_test = [sadness_term_frequency(d) for d,_ in test_sadness_docs]\n",
    "y_sadness_train = [c for _,c in train_sadness_docs]\n",
    "y_sadness_test = [c for _,c in test_sadness_docs]"
   ]
  },
  {
   "cell_type": "code",
   "execution_count": 85,
   "id": "qualified-collectible",
   "metadata": {},
   "outputs": [],
   "source": [
    "import numpy as np\n",
    "x_sadness_train = np.asarray(x_sadness_train).astype('float32')\n",
    "x_sadness_test = np.asarray(x_sadness_test). astype('float32')\n",
    "\n",
    "y_sadness_train = np.asarray(y_sadness_train).astype('float32')\n",
    "y_sadness_test = np.asarray(y_sadness_test).astype('float32')"
   ]
  },
  {
   "cell_type": "code",
   "execution_count": 86,
   "id": "manufactured-blocking",
   "metadata": {},
   "outputs": [],
   "source": [
    "import tensorflow as tf\n",
    "sadness_model= tf.keras.models.Sequential([\n",
    "    tf.keras.layers.Dense(64, activation = 'relu',input_shape=(SADNESS_FREQUENCY_COUNT,)),\n",
    "    tf.keras.layers.Dense(64, activation = 'relu'),\n",
    "    tf.keras.layers.Dense(1, activation = 'sigmoid')\n",
    "])"
   ]
  },
  {
   "cell_type": "code",
   "execution_count": 87,
   "id": "committed-discharge",
   "metadata": {},
   "outputs": [],
   "source": [
    "sadness_model.compile(optimizer=tf.keras.optimizers.RMSprop(lr=0.001),\n",
    "             loss=tf.keras.losses.binary_crossentropy,\n",
    "             metrics=[tf.keras.metrics.binary_accuracy]\n",
    "             )"
   ]
  },
  {
   "cell_type": "code",
   "execution_count": 88,
   "id": "physical-airplane",
   "metadata": {},
   "outputs": [
    {
     "name": "stdout",
     "output_type": "stream",
     "text": [
      "Epoch 1/50\n",
      "53/53 [==============================] - 0s 6ms/step - loss: 0.4178 - binary_accuracy: 0.8619\n",
      "Epoch 2/50\n",
      "53/53 [==============================] - 0s 4ms/step - loss: 0.2986 - binary_accuracy: 0.8811\n",
      "Epoch 3/50\n",
      "53/53 [==============================] - 0s 5ms/step - loss: 0.2647 - binary_accuracy: 0.8983\n",
      "Epoch 4/50\n",
      "53/53 [==============================] - 0s 6ms/step - loss: 0.2505 - binary_accuracy: 0.9038\n",
      "Epoch 5/50\n",
      "53/53 [==============================] - 0s 6ms/step - loss: 0.2408 - binary_accuracy: 0.9079\n",
      "Epoch 6/50\n",
      "53/53 [==============================] - 0s 6ms/step - loss: 0.2324 - binary_accuracy: 0.9104\n",
      "Epoch 7/50\n",
      "53/53 [==============================] - 0s 6ms/step - loss: 0.2233 - binary_accuracy: 0.9153\n",
      "Epoch 8/50\n",
      "53/53 [==============================] - 0s 6ms/step - loss: 0.2146 - binary_accuracy: 0.9191\n",
      "Epoch 9/50\n",
      "53/53 [==============================] - 0s 5ms/step - loss: 0.2052 - binary_accuracy: 0.9241\n",
      "Epoch 10/50\n",
      "53/53 [==============================] - 0s 5ms/step - loss: 0.1959 - binary_accuracy: 0.9275\n",
      "Epoch 11/50\n",
      "53/53 [==============================] - 0s 5ms/step - loss: 0.1854 - binary_accuracy: 0.9320\n",
      "Epoch 12/50\n",
      "53/53 [==============================] - 0s 5ms/step - loss: 0.1755 - binary_accuracy: 0.9373\n",
      "Epoch 13/50\n",
      "53/53 [==============================] - 0s 5ms/step - loss: 0.1639 - binary_accuracy: 0.9415\n",
      "Epoch 14/50\n",
      "53/53 [==============================] - 0s 5ms/step - loss: 0.1527 - binary_accuracy: 0.9470\n",
      "Epoch 15/50\n",
      "53/53 [==============================] - 0s 5ms/step - loss: 0.1414 - binary_accuracy: 0.9519\n",
      "Epoch 16/50\n",
      "53/53 [==============================] - 0s 6ms/step - loss: 0.1296 - binary_accuracy: 0.9557\n",
      "Epoch 17/50\n",
      "53/53 [==============================] - 0s 6ms/step - loss: 0.1184 - binary_accuracy: 0.9603\n",
      "Epoch 18/50\n",
      "53/53 [==============================] - 0s 6ms/step - loss: 0.1076 - binary_accuracy: 0.9642\n",
      "Epoch 19/50\n",
      "53/53 [==============================] - 0s 6ms/step - loss: 0.0964 - binary_accuracy: 0.9691\n",
      "Epoch 20/50\n",
      "53/53 [==============================] - 0s 6ms/step - loss: 0.0860 - binary_accuracy: 0.9731\n",
      "Epoch 21/50\n",
      "53/53 [==============================] - 0s 5ms/step - loss: 0.0762 - binary_accuracy: 0.9765\n",
      "Epoch 22/50\n",
      "53/53 [==============================] - 0s 5ms/step - loss: 0.0676 - binary_accuracy: 0.9795\n",
      "Epoch 23/50\n",
      "53/53 [==============================] - 0s 5ms/step - loss: 0.0595 - binary_accuracy: 0.9821\n",
      "Epoch 24/50\n",
      "53/53 [==============================] - 0s 5ms/step - loss: 0.0533 - binary_accuracy: 0.9841\n",
      "Epoch 25/50\n",
      "53/53 [==============================] - 0s 4ms/step - loss: 0.0469 - binary_accuracy: 0.9859\n",
      "Epoch 26/50\n",
      "53/53 [==============================] - 0s 5ms/step - loss: 0.0417 - binary_accuracy: 0.9876\n",
      "Epoch 27/50\n",
      "53/53 [==============================] - 0s 6ms/step - loss: 0.0374 - binary_accuracy: 0.9886\n",
      "Epoch 28/50\n",
      "53/53 [==============================] - 0s 6ms/step - loss: 0.0340 - binary_accuracy: 0.9906\n",
      "Epoch 29/50\n",
      "53/53 [==============================] - 0s 6ms/step - loss: 0.0301 - binary_accuracy: 0.9912\n",
      "Epoch 30/50\n",
      "53/53 [==============================] - 0s 6ms/step - loss: 0.0277 - binary_accuracy: 0.9919\n",
      "Epoch 31/50\n",
      "53/53 [==============================] - 0s 6ms/step - loss: 0.0251 - binary_accuracy: 0.9930\n",
      "Epoch 32/50\n",
      "53/53 [==============================] - 0s 6ms/step - loss: 0.0233 - binary_accuracy: 0.9932\n",
      "Epoch 33/50\n",
      "53/53 [==============================] - 0s 4ms/step - loss: 0.0215 - binary_accuracy: 0.9936\n",
      "Epoch 34/50\n",
      "53/53 [==============================] - 0s 6ms/step - loss: 0.0199 - binary_accuracy: 0.9940\n",
      "Epoch 35/50\n",
      "53/53 [==============================] - 0s 6ms/step - loss: 0.0187 - binary_accuracy: 0.9943\n",
      "Epoch 36/50\n",
      "53/53 [==============================] - 0s 4ms/step - loss: 0.0172 - binary_accuracy: 0.9948\n",
      "Epoch 37/50\n",
      "53/53 [==============================] - 0s 5ms/step - loss: 0.0169 - binary_accuracy: 0.9946\n",
      "Epoch 38/50\n",
      "53/53 [==============================] - 0s 6ms/step - loss: 0.0157 - binary_accuracy: 0.9950\n",
      "Epoch 39/50\n",
      "53/53 [==============================] - 0s 6ms/step - loss: 0.0147 - binary_accuracy: 0.9956\n",
      "Epoch 40/50\n",
      "53/53 [==============================] - 0s 6ms/step - loss: 0.0148 - binary_accuracy: 0.9952\n",
      "Epoch 41/50\n",
      "53/53 [==============================] - 0s 6ms/step - loss: 0.0141 - binary_accuracy: 0.9957\n",
      "Epoch 42/50\n",
      "53/53 [==============================] - 0s 6ms/step - loss: 0.0134 - binary_accuracy: 0.9956\n",
      "Epoch 43/50\n",
      "53/53 [==============================] - 0s 6ms/step - loss: 0.0132 - binary_accuracy: 0.9957\n",
      "Epoch 44/50\n",
      "53/53 [==============================] - 0s 6ms/step - loss: 0.0132 - binary_accuracy: 0.9957\n",
      "Epoch 45/50\n",
      "53/53 [==============================] - 0s 5ms/step - loss: 0.0126 - binary_accuracy: 0.9959\n",
      "Epoch 46/50\n",
      "53/53 [==============================] - 0s 5ms/step - loss: 0.0125 - binary_accuracy: 0.9959\n",
      "Epoch 47/50\n",
      "53/53 [==============================] - 0s 5ms/step - loss: 0.0123 - binary_accuracy: 0.9960\n",
      "Epoch 48/50\n",
      "53/53 [==============================] - 0s 5ms/step - loss: 0.0119 - binary_accuracy: 0.9958\n",
      "Epoch 49/50\n",
      "53/53 [==============================] - 0s 6ms/step - loss: 0.0114 - binary_accuracy: 0.9959\n",
      "Epoch 50/50\n",
      "53/53 [==============================] - 0s 6ms/step - loss: 0.0117 - binary_accuracy: 0.9959\n"
     ]
    },
    {
     "data": {
      "text/plain": [
       "<tensorflow.python.keras.callbacks.History at 0x1fd1b10ff08>"
      ]
     },
     "execution_count": 88,
     "metadata": {},
     "output_type": "execute_result"
    }
   ],
   "source": [
    "sadness_model.fit(x_sadness_train, y_sadness_train, epochs=50, batch_size=512)"
   ]
  },
  {
   "cell_type": "code",
   "execution_count": 89,
   "id": "african-briefing",
   "metadata": {},
   "outputs": [
    {
     "name": "stdout",
     "output_type": "stream",
     "text": [
      "362/362 [==============================] - 1s 3ms/step - loss: 1.2049 - binary_accuracy: 0.8540\n"
     ]
    }
   ],
   "source": [
    "sadness_results = sadness_model.evaluate(x_sadness_test, y_sadness_test)"
   ]
  },
  {
   "cell_type": "code",
   "execution_count": 90,
   "id": "vocational-million",
   "metadata": {},
   "outputs": [
    {
     "data": {
      "text/plain": [
       "[1.2048791646957397, 0.854020893573761]"
      ]
     },
     "execution_count": 90,
     "metadata": {},
     "output_type": "execute_result"
    }
   ],
   "source": [
    "sadness_results"
   ]
  },
  {
   "cell_type": "code",
   "execution_count": 91,
   "id": "joint-frontier",
   "metadata": {},
   "outputs": [],
   "source": [
    "sadness_model.save('sadness_model.h5')"
   ]
  },
  {
   "cell_type": "code",
   "execution_count": 92,
   "id": "polish-canyon",
   "metadata": {},
   "outputs": [
    {
     "data": {
      "text/plain": [
       "['너무/Adverb', '화나다/Verb']"
      ]
     },
     "execution_count": 92,
     "metadata": {},
     "output_type": "execute_result"
    }
   ],
   "source": [
    "sadness_review = \"너무 화난다\"\n",
    "sadness_token = tokenize(sadness_review)\n",
    "sadness_token"
   ]
  },
  {
   "cell_type": "code",
   "execution_count": 93,
   "id": "interpreted-organ",
   "metadata": {},
   "outputs": [
    {
     "data": {
      "text/plain": [
       "0.5308104753494263"
      ]
     },
     "execution_count": 93,
     "metadata": {},
     "output_type": "execute_result"
    }
   ],
   "source": [
    "tf = sadness_term_frequency(sadness_token)\n",
    "data = np.expand_dims(np.asarray(tf).astype('float32'),axis=0)\n",
    "float(sadness_model.predict(data))"
   ]
  },
  {
   "cell_type": "code",
   "execution_count": 94,
   "id": "monetary-handle",
   "metadata": {},
   "outputs": [],
   "source": [
    "def sadness_predict(predict):\n",
    "    sadness_token = tokenize(predict)\n",
    "    sadness_tfq = sadness_term_frequency(sadness_token)\n",
    "    sadness_data = np.expand_dims(np.asarray(sadness_tfq).astype('float32'), axis=0)\n",
    "    sadness_score = float(sadness_model.predict(sadness_data))\n",
    "    if(sadness_score > 0.5):\n",
    "        print(f\"{predict} ==> 슬픔 ({round(sadness_score*100)}%)\")\n",
    "    else:\n",
    "        print(f\"{predict} ==> 슬픔X ({round((1-sadness_score)*100)}%)\")"
   ]
  },
  {
   "cell_type": "code",
   "execution_count": 95,
   "id": "imperial-acrobat",
   "metadata": {},
   "outputs": [
    {
     "name": "stdout",
     "output_type": "stream",
     "text": [
      ". ==> 슬픔X (84%)\n"
     ]
    }
   ],
   "source": [
    "sadness_predict(\".\")"
   ]
  },
  {
   "cell_type": "code",
   "execution_count": 96,
   "id": "czech-gallery",
   "metadata": {},
   "outputs": [],
   "source": [
    "#중립 감정 분석"
   ]
  },
  {
   "cell_type": "code",
   "execution_count": 97,
   "id": "reported-directory",
   "metadata": {},
   "outputs": [],
   "source": [
    "import pandas as pd\n",
    "train_neutral_df = pd.read_csv(\"neutraltrainalldata.txt\",\"\\t\")\n",
    "test_neutral_df = pd.read_csv(\"neutraltestalldata.txt\",\"\\t\")"
   ]
  },
  {
   "cell_type": "code",
   "execution_count": 98,
   "id": "painted-decade",
   "metadata": {},
   "outputs": [],
   "source": [
    "from konlpy.tag import Okt\n",
    "okt_neutral = Okt()"
   ]
  },
  {
   "cell_type": "code",
   "execution_count": 99,
   "id": "excellent-confidence",
   "metadata": {},
   "outputs": [],
   "source": [
    "def tokenize(doc):\n",
    "    return ['/'.join(t) for t in okt_neutral.pos(doc, norm=True, stem=True)]"
   ]
  },
  {
   "cell_type": "code",
   "execution_count": 100,
   "id": "attached-minneapolis",
   "metadata": {},
   "outputs": [],
   "source": [
    "train_neutral_docs = [(tokenize(row[1]), row[2]) for row in train_neutral_df.values]\n",
    "test_neutral_docs = [(tokenize(row[1]),row[2]) for row in test_neutral_df.values]"
   ]
  },
  {
   "cell_type": "code",
   "execution_count": 101,
   "id": "opening-decade",
   "metadata": {},
   "outputs": [
    {
     "name": "stdout",
     "output_type": "stream",
     "text": [
      "(['언니/Noun', '동생/Noun', '으로/Josa', '부르다/Verb', '맞다/Verb', '일/Noun', '인가요/Josa', '..??/Punctuation'], 0)\n",
      "(['톡/Noun', '크다/Verb', '언니/Noun', '들/Suffix', '임산부/Noun', '언니/Noun', '들/Suffix', 'ㅠㅠ/KoreanParticle'], 0)\n"
     ]
    }
   ],
   "source": [
    "print(train_neutral_docs[0])\n",
    "print(test_neutral_docs[0])"
   ]
  },
  {
   "cell_type": "code",
   "execution_count": 102,
   "id": "stock-vertical",
   "metadata": {},
   "outputs": [
    {
     "name": "stdout",
     "output_type": "stream",
     "text": [
      "토큰개수: 259374\n"
     ]
    }
   ],
   "source": [
    "tokens = [t for d in train_neutral_docs for t in d[0]]\n",
    "print(\"토큰개수:\",len(tokens))"
   ]
  },
  {
   "cell_type": "code",
   "execution_count": 103,
   "id": "premium-packet",
   "metadata": {},
   "outputs": [
    {
     "name": "stdout",
     "output_type": "stream",
     "text": [
      "259374\n",
      "20799\n",
      "[('하다/Verb', 8087), ('이/Josa', 4939), ('./Punctuation', 4679), ('가/Josa', 3509), ('?/Punctuation', 3201), ('에/Josa', 3168), ('들/Suffix', 3097), ('../Punctuation', 2820), ('을/Josa', 2523), ('은/Josa', 2512)]\n"
     ]
    }
   ],
   "source": [
    "import nltk\n",
    "neutral_text = nltk.Text(tokens, name='NMSC')\n",
    "print(len(neutral_text.tokens))\n",
    "print(len(set(neutral_text.tokens)))\n",
    "print(neutral_text.vocab().most_common(10))"
   ]
  },
  {
   "cell_type": "code",
   "execution_count": 104,
   "id": "suffering-underground",
   "metadata": {},
   "outputs": [
    {
     "data": {
      "image/png": "[encoded data removed]",
      "text/plain": [
       "<Figure size 1440x720 with 1 Axes>"
      ]
     },
     "metadata": {
      "needs_background": "light"
     },
     "output_type": "display_data"
    }
   ],
   "source": [
    "import matplotlib.pyplot as plt\n",
    "from matplotlib import font_manager, rc\n",
    "plt.figure(figsize=(20,10))\n",
    "neutral_text.plot(50)"
   ]
  },
  {
   "cell_type": "code",
   "execution_count": 105,
   "id": "welcome-tragedy",
   "metadata": {},
   "outputs": [],
   "source": [
    "NEUTRAL_FREQUENCY_COUNT = 1000;\n",
    "neutral_selected_words = [f[0] for f in neutral_text.vocab().most_common(NEUTRAL_FREQUENCY_COUNT)]"
   ]
  },
  {
   "cell_type": "code",
   "execution_count": 106,
   "id": "becoming-equation",
   "metadata": {},
   "outputs": [],
   "source": [
    "def neutral_term_frequency(doc):\n",
    "    return [doc.count(word) for word in neutral_selected_words]"
   ]
  },
  {
   "cell_type": "code",
   "execution_count": 107,
   "id": "handled-aging",
   "metadata": {},
   "outputs": [],
   "source": [
    "x_neutral_train = [neutral_term_frequency(d) for d,_ in train_neutral_docs]\n",
    "x_neutral_test = [neutral_term_frequency(d) for d,_ in test_neutral_docs]\n",
    "y_neutral_train = [c for _,c in train_neutral_docs]\n",
    "y_neutral_test = [c for _,c in test_neutral_docs]"
   ]
  },
  {
   "cell_type": "code",
   "execution_count": 108,
   "id": "complicated-interim",
   "metadata": {},
   "outputs": [],
   "source": [
    "import numpy as np\n",
    "x_neutral_train = np.asarray(x_neutral_train).astype('float32')\n",
    "x_neutral_test = np.asarray(x_neutral_test). astype('float32')\n",
    "\n",
    "y_neutral_train = np.asarray(y_neutral_train).astype('float32')\n",
    "y_neutral_test = np.asarray(y_neutral_test).astype('float32')"
   ]
  },
  {
   "cell_type": "code",
   "execution_count": 109,
   "id": "pretty-eleven",
   "metadata": {},
   "outputs": [],
   "source": [
    "import tensorflow as tf\n",
    "neutral_model= tf.keras.models.Sequential([\n",
    "    tf.keras.layers.Dense(64, activation = 'relu',input_shape=(NEUTRAL_FREQUENCY_COUNT,)),\n",
    "    tf.keras.layers.Dense(64, activation = 'relu'),\n",
    "    tf.keras.layers.Dense(1, activation = 'sigmoid')\n",
    "])"
   ]
  },
  {
   "cell_type": "code",
   "execution_count": 110,
   "id": "upset-forward",
   "metadata": {},
   "outputs": [],
   "source": [
    "neutral_model.compile(optimizer=tf.keras.optimizers.RMSprop(lr=0.001),\n",
    "             loss=tf.keras.losses.binary_crossentropy,\n",
    "             metrics=[tf.keras.metrics.binary_accuracy]\n",
    "             )"
   ]
  },
  {
   "cell_type": "code",
   "execution_count": 111,
   "id": "respective-stewart",
   "metadata": {},
   "outputs": [
    {
     "name": "stdout",
     "output_type": "stream",
     "text": [
      "Epoch 1/50\n",
      "53/53 [==============================] - 0s 3ms/step - loss: 0.4119 - binary_accuracy: 0.8744\n",
      "Epoch 2/50\n",
      "53/53 [==============================] - 0s 3ms/step - loss: 0.3402 - binary_accuracy: 0.8748\n",
      "Epoch 3/50\n",
      "53/53 [==============================] - 0s 3ms/step - loss: 0.3214 - binary_accuracy: 0.8752\n",
      "Epoch 4/50\n",
      "53/53 [==============================] - 0s 3ms/step - loss: 0.3109 - binary_accuracy: 0.8761\n",
      "Epoch 5/50\n",
      "53/53 [==============================] - 0s 3ms/step - loss: 0.3013 - binary_accuracy: 0.8780\n",
      "Epoch 6/50\n",
      "53/53 [==============================] - 0s 3ms/step - loss: 0.2925 - binary_accuracy: 0.8809\n",
      "Epoch 7/50\n",
      "53/53 [==============================] - 0s 3ms/step - loss: 0.2828 - binary_accuracy: 0.8855\n",
      "Epoch 8/50\n",
      "53/53 [==============================] - 0s 3ms/step - loss: 0.2725 - binary_accuracy: 0.8906\n",
      "Epoch 9/50\n",
      "53/53 [==============================] - 0s 3ms/step - loss: 0.2611 - binary_accuracy: 0.8956\n",
      "Epoch 10/50\n",
      "53/53 [==============================] - 0s 3ms/step - loss: 0.2490 - binary_accuracy: 0.9013\n",
      "Epoch 11/50\n",
      "53/53 [==============================] - 0s 3ms/step - loss: 0.2361 - binary_accuracy: 0.9063\n",
      "Epoch 12/50\n",
      "53/53 [==============================] - 0s 3ms/step - loss: 0.2222 - binary_accuracy: 0.9139\n",
      "Epoch 13/50\n",
      "53/53 [==============================] - 0s 3ms/step - loss: 0.2075 - binary_accuracy: 0.9188\n",
      "Epoch 14/50\n",
      "53/53 [==============================] - 0s 3ms/step - loss: 0.1920 - binary_accuracy: 0.9263\n",
      "Epoch 15/50\n",
      "53/53 [==============================] - 0s 3ms/step - loss: 0.1753 - binary_accuracy: 0.9335\n",
      "Epoch 16/50\n",
      "53/53 [==============================] - 0s 3ms/step - loss: 0.1591 - binary_accuracy: 0.9411\n",
      "Epoch 17/50\n",
      "53/53 [==============================] - 0s 4ms/step - loss: 0.1431 - binary_accuracy: 0.9481\n",
      "Epoch 18/50\n",
      "53/53 [==============================] - 0s 3ms/step - loss: 0.1287 - binary_accuracy: 0.9542\n",
      "Epoch 19/50\n",
      "53/53 [==============================] - 0s 3ms/step - loss: 0.1155 - binary_accuracy: 0.9593\n",
      "Epoch 20/50\n",
      "53/53 [==============================] - 0s 3ms/step - loss: 0.1037 - binary_accuracy: 0.9646\n",
      "Epoch 21/50\n",
      "53/53 [==============================] - 0s 3ms/step - loss: 0.0920 - binary_accuracy: 0.9690\n",
      "Epoch 22/50\n",
      "53/53 [==============================] - 0s 3ms/step - loss: 0.0825 - binary_accuracy: 0.9730\n",
      "Epoch 23/50\n",
      "53/53 [==============================] - 0s 3ms/step - loss: 0.0734 - binary_accuracy: 0.9769\n",
      "Epoch 24/50\n",
      "53/53 [==============================] - 0s 3ms/step - loss: 0.0663 - binary_accuracy: 0.9779\n",
      "Epoch 25/50\n",
      "53/53 [==============================] - 0s 3ms/step - loss: 0.0599 - binary_accuracy: 0.9812\n",
      "Epoch 26/50\n",
      "53/53 [==============================] - 0s 3ms/step - loss: 0.0523 - binary_accuracy: 0.9831\n",
      "Epoch 27/50\n",
      "53/53 [==============================] - 0s 4ms/step - loss: 0.0479 - binary_accuracy: 0.9851\n",
      "Epoch 28/50\n",
      "53/53 [==============================] - 0s 3ms/step - loss: 0.0425 - binary_accuracy: 0.9873\n",
      "Epoch 29/50\n",
      "53/53 [==============================] - 0s 3ms/step - loss: 0.0397 - binary_accuracy: 0.9875\n",
      "Epoch 30/50\n",
      "53/53 [==============================] - 0s 3ms/step - loss: 0.0362 - binary_accuracy: 0.9884\n",
      "Epoch 31/50\n",
      "53/53 [==============================] - 0s 3ms/step - loss: 0.0334 - binary_accuracy: 0.9895\n",
      "Epoch 32/50\n",
      "53/53 [==============================] - 0s 3ms/step - loss: 0.0306 - binary_accuracy: 0.9901\n",
      "Epoch 33/50\n",
      "53/53 [==============================] - 0s 3ms/step - loss: 0.0282 - binary_accuracy: 0.9911\n",
      "Epoch 34/50\n",
      "53/53 [==============================] - 0s 4ms/step - loss: 0.0272 - binary_accuracy: 0.9912\n",
      "Epoch 35/50\n",
      "53/53 [==============================] - 0s 3ms/step - loss: 0.0253 - binary_accuracy: 0.9916\n",
      "Epoch 36/50\n",
      "53/53 [==============================] - 0s 3ms/step - loss: 0.0237 - binary_accuracy: 0.9920\n",
      "Epoch 37/50\n",
      "53/53 [==============================] - 0s 3ms/step - loss: 0.0228 - binary_accuracy: 0.9924\n",
      "Epoch 38/50\n",
      "53/53 [==============================] - 0s 3ms/step - loss: 0.0213 - binary_accuracy: 0.9926\n",
      "Epoch 39/50\n",
      "53/53 [==============================] - 0s 3ms/step - loss: 0.0204 - binary_accuracy: 0.9935\n",
      "Epoch 40/50\n",
      "53/53 [==============================] - 0s 3ms/step - loss: 0.0199 - binary_accuracy: 0.9932\n",
      "Epoch 41/50\n",
      "53/53 [==============================] - 0s 3ms/step - loss: 0.0188 - binary_accuracy: 0.9936\n",
      "Epoch 42/50\n",
      "53/53 [==============================] - 0s 3ms/step - loss: 0.0181 - binary_accuracy: 0.9941\n",
      "Epoch 43/50\n",
      "53/53 [==============================] - 0s 3ms/step - loss: 0.0178 - binary_accuracy: 0.9937\n",
      "Epoch 44/50\n",
      "53/53 [==============================] - 0s 3ms/step - loss: 0.0173 - binary_accuracy: 0.9942\n",
      "Epoch 45/50\n",
      "53/53 [==============================] - 0s 3ms/step - loss: 0.0169 - binary_accuracy: 0.9941\n",
      "Epoch 46/50\n",
      "53/53 [==============================] - 0s 3ms/step - loss: 0.0165 - binary_accuracy: 0.9944\n",
      "Epoch 47/50\n",
      "53/53 [==============================] - 0s 3ms/step - loss: 0.0168 - binary_accuracy: 0.9938\n",
      "Epoch 48/50\n",
      "53/53 [==============================] - 0s 3ms/step - loss: 0.0158 - binary_accuracy: 0.9944\n",
      "Epoch 49/50\n",
      "53/53 [==============================] - 0s 3ms/step - loss: 0.0158 - binary_accuracy: 0.9945\n",
      "Epoch 50/50\n",
      "53/53 [==============================] - 0s 3ms/step - loss: 0.0152 - binary_accuracy: 0.9946\n"
     ]
    },
    {
     "data": {
      "text/plain": [
       "<tensorflow.python.keras.callbacks.History at 0x1fd20bfad88>"
      ]
     },
     "execution_count": 111,
     "metadata": {},
     "output_type": "execute_result"
    }
   ],
   "source": [
    "neutral_model.fit(x_neutral_train, y_neutral_train, epochs=50, batch_size=512)"
   ]
  },
  {
   "cell_type": "code",
   "execution_count": 112,
   "id": "cleared-performer",
   "metadata": {},
   "outputs": [
    {
     "name": "stdout",
     "output_type": "stream",
     "text": [
      "362/362 [==============================] - 0s 623us/step - loss: 1.4923 - binary_accuracy: 0.8247\n"
     ]
    }
   ],
   "source": [
    "neutral_results = neutral_model.evaluate(x_neutral_test, y_neutral_test)"
   ]
  },
  {
   "cell_type": "code",
   "execution_count": 113,
   "id": "homeless-rates",
   "metadata": {},
   "outputs": [
    {
     "data": {
      "text/plain": [
       "[1.4922765493392944, 0.8246523141860962]"
      ]
     },
     "execution_count": 113,
     "metadata": {},
     "output_type": "execute_result"
    }
   ],
   "source": [
    "neutral_results"
   ]
  },
  {
   "cell_type": "code",
   "execution_count": 114,
   "id": "powerful-harmony",
   "metadata": {},
   "outputs": [],
   "source": [
    "neutral_model.save('neutral_model.h5')"
   ]
  },
  {
   "cell_type": "code",
   "execution_count": 115,
   "id": "signal-sustainability",
   "metadata": {},
   "outputs": [
    {
     "data": {
      "text/plain": [
       "['너무/Adverb', '화나다/Verb']"
      ]
     },
     "execution_count": 115,
     "metadata": {},
     "output_type": "execute_result"
    }
   ],
   "source": [
    "neutral_review = \"너무 화난다\"\n",
    "neutral_token = tokenize(neutral_review)\n",
    "neutral_token"
   ]
  },
  {
   "cell_type": "code",
   "execution_count": 116,
   "id": "supreme-loading",
   "metadata": {},
   "outputs": [
    {
     "data": {
      "text/plain": [
       "0.0010692873038351536"
      ]
     },
     "execution_count": 116,
     "metadata": {},
     "output_type": "execute_result"
    }
   ],
   "source": [
    "tf = neutral_term_frequency(neutral_token)\n",
    "data = np.expand_dims(np.asarray(tf).astype('float32'),axis=0)\n",
    "float(neutral_model.predict(data))"
   ]
  },
  {
   "cell_type": "code",
   "execution_count": 117,
   "id": "proud-owner",
   "metadata": {},
   "outputs": [],
   "source": [
    "def neutral_predict(predict):\n",
    "    neutral_token = tokenize(predict)\n",
    "    neutral_tfq = neutral_term_frequency(neutral_token)\n",
    "    neutral_data = np.expand_dims(np.asarray(neutral_tfq).astype('float32'), axis=0)\n",
    "    neutral_score = float(neutral_model.predict(neutral_data))\n",
    "    if(neutral_score > 0.5):\n",
    "        print(f\"{predict} ==> 중립 ({round(neutral_score*100)}%)\")\n",
    "    else:\n",
    "        print(f\"{predict} ==> 중립X ({round((1-neutral_score)*100)}%)\")"
   ]
  },
  {
   "cell_type": "code",
   "execution_count": 118,
   "id": "sporting-julian",
   "metadata": {},
   "outputs": [
    {
     "name": "stdout",
     "output_type": "stream",
     "text": [
      "안녕 ==> 중립X (83%)\n"
     ]
    }
   ],
   "source": [
    "neutral_predict(\"안녕\")"
   ]
  },
  {
   "cell_type": "code",
   "execution_count": 119,
   "id": "ceramic-allergy",
   "metadata": {},
   "outputs": [],
   "source": [
    "#행복 감정 분석"
   ]
  },
  {
   "cell_type": "code",
   "execution_count": 120,
   "id": "voluntary-hypothesis",
   "metadata": {},
   "outputs": [],
   "source": [
    "import pandas as pd\n",
    "train_happy_df = pd.read_csv(\"happytrainalldata.txt\",\"\\t\")\n",
    "test_happy_df = pd.read_csv(\"happytestalldata.txt\",\"\\t\")"
   ]
  },
  {
   "cell_type": "code",
   "execution_count": 121,
   "id": "hindu-district",
   "metadata": {},
   "outputs": [],
   "source": [
    "from konlpy.tag import Okt\n",
    "okt_happy = Okt()"
   ]
  },
  {
   "cell_type": "code",
   "execution_count": 122,
   "id": "upset-inspector",
   "metadata": {},
   "outputs": [],
   "source": [
    "def tokenize(doc):\n",
    "    return ['/'.join(t) for t in okt_happy.pos(doc, norm=True, stem=True)]"
   ]
  },
  {
   "cell_type": "code",
   "execution_count": 123,
   "id": "narrative-librarian",
   "metadata": {},
   "outputs": [],
   "source": [
    "train_happy_docs = [(tokenize(row[1]), row[2]) for row in train_happy_df.values]\n",
    "test_happy_docs = [(tokenize(row[1]),row[2]) for row in test_happy_df.values]"
   ]
  },
  {
   "cell_type": "code",
   "execution_count": 124,
   "id": "consistent-notebook",
   "metadata": {},
   "outputs": [
    {
     "name": "stdout",
     "output_type": "stream",
     "text": [
      "(['언니/Noun', '동생/Noun', '으로/Josa', '부르다/Verb', '맞다/Verb', '일/Noun', '인가요/Josa', '..??/Punctuation'], 0)\n",
      "(['톡/Noun', '크다/Verb', '언니/Noun', '들/Suffix', '임산부/Noun', '언니/Noun', '들/Suffix', 'ㅠㅠ/KoreanParticle'], 0)\n"
     ]
    }
   ],
   "source": [
    "print(train_happy_docs[0])\n",
    "print(test_happy_docs[0])"
   ]
  },
  {
   "cell_type": "code",
   "execution_count": 125,
   "id": "loving-azerbaijan",
   "metadata": {},
   "outputs": [
    {
     "name": "stdout",
     "output_type": "stream",
     "text": [
      "토큰개수: 259374\n"
     ]
    }
   ],
   "source": [
    "tokens = [t for d in train_happy_docs for t in d[0]]\n",
    "print(\"토큰개수:\",len(tokens))"
   ]
  },
  {
   "cell_type": "code",
   "execution_count": 126,
   "id": "mediterranean-checkout",
   "metadata": {},
   "outputs": [
    {
     "name": "stdout",
     "output_type": "stream",
     "text": [
      "259374\n",
      "20799\n",
      "[('하다/Verb', 8087), ('이/Josa', 4939), ('./Punctuation', 4679), ('가/Josa', 3509), ('?/Punctuation', 3201), ('에/Josa', 3168), ('들/Suffix', 3097), ('../Punctuation', 2820), ('을/Josa', 2523), ('은/Josa', 2512)]\n"
     ]
    }
   ],
   "source": [
    "import nltk\n",
    "happy_text = nltk.Text(tokens, name='NMSC')\n",
    "print(len(happy_text.tokens))\n",
    "print(len(set(happy_text.tokens)))\n",
    "print(happy_text.vocab().most_common(10))"
   ]
  },
  {
   "cell_type": "code",
   "execution_count": 127,
   "id": "coordinated-possible",
   "metadata": {},
   "outputs": [
    {
     "data": {
      "image/png": "[encoded data removed]",
      "text/plain": [
       "<Figure size 1440x720 with 1 Axes>"
      ]
     },
     "metadata": {
      "needs_background": "light"
     },
     "output_type": "display_data"
    }
   ],
   "source": [
    "import matplotlib.pyplot as plt\n",
    "from matplotlib import font_manager, rc\n",
    "plt.figure(figsize=(20,10))\n",
    "happy_text.plot(50)"
   ]
  },
  {
   "cell_type": "code",
   "execution_count": 128,
   "id": "effective-missouri",
   "metadata": {},
   "outputs": [],
   "source": [
    "HAPPY_FREQUENCY_COUNT = 1000;\n",
    "happy_selected_words = [f[0] for f in happy_text.vocab().most_common(HAPPY_FREQUENCY_COUNT)]"
   ]
  },
  {
   "cell_type": "code",
   "execution_count": 129,
   "id": "published-trinity",
   "metadata": {},
   "outputs": [],
   "source": [
    "def happy_term_frequency(doc):\n",
    "    return [doc.count(word) for word in happy_selected_words]"
   ]
  },
  {
   "cell_type": "code",
   "execution_count": 130,
   "id": "single-interstate",
   "metadata": {},
   "outputs": [],
   "source": [
    "x_happy_train = [happy_term_frequency(d) for d,_ in train_happy_docs]\n",
    "x_happy_test = [happy_term_frequency(d) for d,_ in test_happy_docs]\n",
    "y_happy_train = [c for _,c in train_happy_docs]\n",
    "y_happy_test = [c for _,c in test_happy_docs]"
   ]
  },
  {
   "cell_type": "code",
   "execution_count": 131,
   "id": "gentle-tracy",
   "metadata": {},
   "outputs": [],
   "source": [
    "import numpy as np\n",
    "x_happy_train = np.asarray(x_happy_train).astype('float32')\n",
    "x_happy_test = np.asarray(x_happy_test). astype('float32')\n",
    "\n",
    "y_happy_train = np.asarray(y_happy_train).astype('float32')\n",
    "y_happy_test = np.asarray(y_happy_test).astype('float32')"
   ]
  },
  {
   "cell_type": "code",
   "execution_count": 132,
   "id": "spatial-biotechnology",
   "metadata": {},
   "outputs": [],
   "source": [
    "import tensorflow as tf\n",
    "happy_model= tf.keras.models.Sequential([\n",
    "    tf.keras.layers.Dense(64, activation = 'relu',input_shape=(HAPPY_FREQUENCY_COUNT,)),\n",
    "    tf.keras.layers.Dense(64, activation = 'relu'),\n",
    "    tf.keras.layers.Dense(1, activation = 'sigmoid')\n",
    "])"
   ]
  },
  {
   "cell_type": "code",
   "execution_count": 133,
   "id": "sound-envelope",
   "metadata": {},
   "outputs": [],
   "source": [
    "happy_model.compile(optimizer=tf.keras.optimizers.RMSprop(lr=0.001),\n",
    "             loss=tf.keras.losses.binary_crossentropy,\n",
    "             metrics=[tf.keras.metrics.binary_accuracy]\n",
    "             )"
   ]
  },
  {
   "cell_type": "code",
   "execution_count": 134,
   "id": "solar-louisiana",
   "metadata": {},
   "outputs": [
    {
     "name": "stdout",
     "output_type": "stream",
     "text": [
      "Epoch 1/50\n",
      "53/53 [==============================] - 0s 3ms/step - loss: 0.3893 - binary_accuracy: 0.8502\n",
      "Epoch 2/50\n",
      "53/53 [==============================] - 0s 3ms/step - loss: 0.2431 - binary_accuracy: 0.9133\n",
      "Epoch 3/50\n",
      "53/53 [==============================] - 0s 3ms/step - loss: 0.2079 - binary_accuracy: 0.9236\n",
      "Epoch 4/50\n",
      "53/53 [==============================] - 0s 3ms/step - loss: 0.1952 - binary_accuracy: 0.9262\n",
      "Epoch 5/50\n",
      "53/53 [==============================] - 0s 3ms/step - loss: 0.1873 - binary_accuracy: 0.9291\n",
      "Epoch 6/50\n",
      "53/53 [==============================] - 0s 3ms/step - loss: 0.1802 - binary_accuracy: 0.9313\n",
      "Epoch 7/50\n",
      "53/53 [==============================] - 0s 4ms/step - loss: 0.1746 - binary_accuracy: 0.9330\n",
      "Epoch 8/50\n",
      "53/53 [==============================] - 0s 3ms/step - loss: 0.1686 - binary_accuracy: 0.9363\n",
      "Epoch 9/50\n",
      "53/53 [==============================] - 0s 3ms/step - loss: 0.1626 - binary_accuracy: 0.9390\n",
      "Epoch 10/50\n",
      "53/53 [==============================] - 0s 3ms/step - loss: 0.1568 - binary_accuracy: 0.9408\n",
      "Epoch 11/50\n",
      "53/53 [==============================] - 0s 3ms/step - loss: 0.1506 - binary_accuracy: 0.9438\n",
      "Epoch 12/50\n",
      "53/53 [==============================] - 0s 3ms/step - loss: 0.1438 - binary_accuracy: 0.9469\n",
      "Epoch 13/50\n",
      "53/53 [==============================] - 0s 3ms/step - loss: 0.1371 - binary_accuracy: 0.9505\n",
      "Epoch 14/50\n",
      "53/53 [==============================] - 0s 3ms/step - loss: 0.1299 - binary_accuracy: 0.9535\n",
      "Epoch 15/50\n",
      "53/53 [==============================] - 0s 3ms/step - loss: 0.1230 - binary_accuracy: 0.9562\n",
      "Epoch 16/50\n",
      "53/53 [==============================] - 0s 3ms/step - loss: 0.1154 - binary_accuracy: 0.9594\n",
      "Epoch 17/50\n",
      "53/53 [==============================] - 0s 3ms/step - loss: 0.1076 - binary_accuracy: 0.9632\n",
      "Epoch 18/50\n",
      "53/53 [==============================] - 0s 3ms/step - loss: 0.1008 - binary_accuracy: 0.9659\n",
      "Epoch 19/50\n",
      "53/53 [==============================] - 0s 3ms/step - loss: 0.0928 - binary_accuracy: 0.9692\n",
      "Epoch 20/50\n",
      "53/53 [==============================] - 0s 3ms/step - loss: 0.0858 - binary_accuracy: 0.9717\n",
      "Epoch 21/50\n",
      "53/53 [==============================] - 0s 3ms/step - loss: 0.0783 - binary_accuracy: 0.9742\n",
      "Epoch 22/50\n",
      "53/53 [==============================] - 0s 3ms/step - loss: 0.0720 - binary_accuracy: 0.9763\n",
      "Epoch 23/50\n",
      "53/53 [==============================] - 0s 3ms/step - loss: 0.0653 - binary_accuracy: 0.9791\n",
      "Epoch 24/50\n",
      "53/53 [==============================] - 0s 4ms/step - loss: 0.0596 - binary_accuracy: 0.9806\n",
      "Epoch 25/50\n",
      "53/53 [==============================] - 0s 4ms/step - loss: 0.0536 - binary_accuracy: 0.9821\n",
      "Epoch 26/50\n",
      "53/53 [==============================] - 0s 3ms/step - loss: 0.0490 - binary_accuracy: 0.9840\n",
      "Epoch 27/50\n",
      "53/53 [==============================] - 0s 3ms/step - loss: 0.0446 - binary_accuracy: 0.9851\n",
      "Epoch 28/50\n",
      "53/53 [==============================] - 0s 3ms/step - loss: 0.0398 - binary_accuracy: 0.9872\n",
      "Epoch 29/50\n",
      "53/53 [==============================] - 0s 3ms/step - loss: 0.0360 - binary_accuracy: 0.9882\n",
      "Epoch 30/50\n",
      "53/53 [==============================] - 0s 3ms/step - loss: 0.0327 - binary_accuracy: 0.9890\n",
      "Epoch 31/50\n",
      "53/53 [==============================] - 0s 3ms/step - loss: 0.0294 - binary_accuracy: 0.9904\n",
      "Epoch 32/50\n",
      "53/53 [==============================] - 0s 3ms/step - loss: 0.0270 - binary_accuracy: 0.9911\n",
      "Epoch 33/50\n",
      "53/53 [==============================] - 0s 3ms/step - loss: 0.0249 - binary_accuracy: 0.9912\n",
      "Epoch 34/50\n",
      "53/53 [==============================] - 0s 3ms/step - loss: 0.0230 - binary_accuracy: 0.9925\n",
      "Epoch 35/50\n",
      "53/53 [==============================] - 0s 3ms/step - loss: 0.0215 - binary_accuracy: 0.9932\n",
      "Epoch 36/50\n",
      "53/53 [==============================] - 0s 3ms/step - loss: 0.0202 - binary_accuracy: 0.9932\n",
      "Epoch 37/50\n",
      "53/53 [==============================] - 0s 3ms/step - loss: 0.0191 - binary_accuracy: 0.9934\n",
      "Epoch 38/50\n",
      "53/53 [==============================] - 0s 3ms/step - loss: 0.0180 - binary_accuracy: 0.9938\n",
      "Epoch 39/50\n",
      "53/53 [==============================] - 0s 3ms/step - loss: 0.0170 - binary_accuracy: 0.9940\n",
      "Epoch 40/50\n",
      "53/53 [==============================] - 0s 3ms/step - loss: 0.0164 - binary_accuracy: 0.9938\n",
      "Epoch 41/50\n",
      "53/53 [==============================] - 0s 3ms/step - loss: 0.0157 - binary_accuracy: 0.9949\n",
      "Epoch 42/50\n",
      "53/53 [==============================] - 0s 4ms/step - loss: 0.0148 - binary_accuracy: 0.9946\n",
      "Epoch 43/50\n",
      "53/53 [==============================] - 0s 3ms/step - loss: 0.0150 - binary_accuracy: 0.9946\n",
      "Epoch 44/50\n",
      "53/53 [==============================] - 0s 3ms/step - loss: 0.0144 - binary_accuracy: 0.9948\n",
      "Epoch 45/50\n",
      "53/53 [==============================] - 0s 3ms/step - loss: 0.0140 - binary_accuracy: 0.9944\n",
      "Epoch 46/50\n",
      "53/53 [==============================] - 0s 4ms/step - loss: 0.0139 - binary_accuracy: 0.9950\n",
      "Epoch 47/50\n",
      "53/53 [==============================] - 0s 3ms/step - loss: 0.0133 - binary_accuracy: 0.9950\n",
      "Epoch 48/50\n",
      "53/53 [==============================] - 0s 3ms/step - loss: 0.0129 - binary_accuracy: 0.9951\n",
      "Epoch 49/50\n",
      "53/53 [==============================] - 0s 3ms/step - loss: 0.0130 - binary_accuracy: 0.9949\n",
      "Epoch 50/50\n",
      "53/53 [==============================] - 0s 3ms/step - loss: 0.0128 - binary_accuracy: 0.9952\n"
     ]
    },
    {
     "data": {
      "text/plain": [
       "<tensorflow.python.keras.callbacks.History at 0x1fd2f5f7708>"
      ]
     },
     "execution_count": 134,
     "metadata": {},
     "output_type": "execute_result"
    }
   ],
   "source": [
    "happy_model.fit(x_happy_train, y_happy_train, epochs=50, batch_size=512)"
   ]
  },
  {
   "cell_type": "code",
   "execution_count": 135,
   "id": "answering-stable",
   "metadata": {},
   "outputs": [
    {
     "name": "stdout",
     "output_type": "stream",
     "text": [
      "362/362 [==============================] - 0s 565us/step - loss: 1.3025 - binary_accuracy: 0.8778\n"
     ]
    }
   ],
   "source": [
    "happy_results = happy_model.evaluate(x_happy_test, y_happy_test)"
   ]
  },
  {
   "cell_type": "code",
   "execution_count": 136,
   "id": "arranged-technical",
   "metadata": {},
   "outputs": [
    {
     "data": {
      "text/plain": [
       "[1.3025274276733398, 0.8777748942375183]"
      ]
     },
     "execution_count": 136,
     "metadata": {},
     "output_type": "execute_result"
    }
   ],
   "source": [
    "happy_results"
   ]
  },
  {
   "cell_type": "code",
   "execution_count": 137,
   "id": "blocked-regression",
   "metadata": {},
   "outputs": [],
   "source": [
    "happy_model.save('happy_model.h5')"
   ]
  },
  {
   "cell_type": "code",
   "execution_count": 138,
   "id": "actual-particle",
   "metadata": {},
   "outputs": [
    {
     "data": {
      "text/plain": [
       "['너무/Adverb', '화나다/Verb']"
      ]
     },
     "execution_count": 138,
     "metadata": {},
     "output_type": "execute_result"
    }
   ],
   "source": [
    "happy_review = \"너무 화난다\"\n",
    "happy_token = tokenize(happy_review)\n",
    "happy_token"
   ]
  },
  {
   "cell_type": "code",
   "execution_count": 139,
   "id": "owned-harvey",
   "metadata": {},
   "outputs": [
    {
     "data": {
      "text/plain": [
       "0.09146510809659958"
      ]
     },
     "execution_count": 139,
     "metadata": {},
     "output_type": "execute_result"
    }
   ],
   "source": [
    "tf = happy_term_frequency(happy_token)\n",
    "data = np.expand_dims(np.asarray(tf).astype('float32'),axis=0)\n",
    "float(happy_model.predict(data))"
   ]
  },
  {
   "cell_type": "code",
   "execution_count": 140,
   "id": "computational-moore",
   "metadata": {},
   "outputs": [],
   "source": [
    "def happy_predict(predict):\n",
    "    happy_token = tokenize(predict)\n",
    "    happy_tfq = happy_term_frequency(happy_token)\n",
    "    happy_data = np.expand_dims(np.asarray(happy_tfq).astype('float32'), axis=0)\n",
    "    happy_score = float(happy_model.predict(happy_data))\n",
    "    if(happy_score > 0.5):\n",
    "        print(f\"{predict} ==> 행복 ({round(happy_score*100)}%)\")\n",
    "    else:\n",
    "        print(f\"{predict} ==> 행복X ({round((1-happy_score)*100)}%)\")"
   ]
  },
  {
   "cell_type": "code",
   "execution_count": 141,
   "id": "miniature-america",
   "metadata": {},
   "outputs": [
    {
     "name": "stdout",
     "output_type": "stream",
     "text": [
      "너무해 ==> 행복X (87%)\n"
     ]
    }
   ],
   "source": [
    "happy_predict(\"너무해\")"
   ]
  },
  {
   "cell_type": "code",
   "execution_count": 142,
   "id": "organized-smith",
   "metadata": {},
   "outputs": [],
   "source": [
    "#혐오 감정 분석"
   ]
  },
  {
   "cell_type": "code",
   "execution_count": 143,
   "id": "logical-circus",
   "metadata": {},
   "outputs": [],
   "source": [
    "import pandas as pd\n",
    "train_disgust_df = pd.read_csv(\"disgusttrainalldata.txt\",\"\\t\")\n",
    "test_disgust_df = pd.read_csv(\"disgusttestalldata.txt\",\"\\t\")"
   ]
  },
  {
   "cell_type": "code",
   "execution_count": 144,
   "id": "operational-immune",
   "metadata": {},
   "outputs": [],
   "source": [
    "from konlpy.tag import Okt\n",
    "okt_disgust = Okt()"
   ]
  },
  {
   "cell_type": "code",
   "execution_count": 145,
   "id": "statewide-management",
   "metadata": {},
   "outputs": [],
   "source": [
    "def tokenize(doc):\n",
    "    return ['/'.join(t) for t in okt_disgust.pos(doc, norm=True, stem=True)]"
   ]
  },
  {
   "cell_type": "code",
   "execution_count": 146,
   "id": "simple-aviation",
   "metadata": {},
   "outputs": [],
   "source": [
    "train_disgust_docs = [(tokenize(row[1]), row[2]) for row in train_disgust_df.values]\n",
    "test_disgust_docs = [(tokenize(row[1]),row[2]) for row in test_disgust_df.values]"
   ]
  },
  {
   "cell_type": "code",
   "execution_count": 147,
   "id": "further-basin",
   "metadata": {},
   "outputs": [
    {
     "name": "stdout",
     "output_type": "stream",
     "text": [
      "(['언니/Noun', '동생/Noun', '으로/Josa', '부르다/Verb', '맞다/Verb', '일/Noun', '인가요/Josa', '..??/Punctuation'], 0)\n",
      "(['톡/Noun', '크다/Verb', '언니/Noun', '들/Suffix', '임산부/Noun', '언니/Noun', '들/Suffix', 'ㅠㅠ/KoreanParticle'], 0)\n"
     ]
    }
   ],
   "source": [
    "print(train_disgust_docs[0])\n",
    "print(test_disgust_docs[0])"
   ]
  },
  {
   "cell_type": "code",
   "execution_count": 148,
   "id": "concerned-replacement",
   "metadata": {},
   "outputs": [
    {
     "name": "stdout",
     "output_type": "stream",
     "text": [
      "토큰개수: 259374\n"
     ]
    }
   ],
   "source": [
    "tokens = [t for d in train_disgust_docs for t in d[0]]\n",
    "print(\"토큰개수:\",len(tokens))"
   ]
  },
  {
   "cell_type": "code",
   "execution_count": 149,
   "id": "sustainable-reverse",
   "metadata": {},
   "outputs": [
    {
     "name": "stdout",
     "output_type": "stream",
     "text": [
      "259374\n",
      "20799\n",
      "[('하다/Verb', 8087), ('이/Josa', 4939), ('./Punctuation', 4679), ('가/Josa', 3509), ('?/Punctuation', 3201), ('에/Josa', 3168), ('들/Suffix', 3097), ('../Punctuation', 2820), ('을/Josa', 2523), ('은/Josa', 2512)]\n"
     ]
    }
   ],
   "source": [
    "import nltk\n",
    "disgust_text = nltk.Text(tokens, name='NMSC')\n",
    "print(len(disgust_text.tokens))\n",
    "print(len(set(disgust_text.tokens)))\n",
    "print(disgust_text.vocab().most_common(10))"
   ]
  },
  {
   "cell_type": "code",
   "execution_count": 150,
   "id": "partial-catholic",
   "metadata": {},
   "outputs": [
    {
     "data": {
      "image/png": "[encoded data removed]",
      "text/plain": [
       "<Figure size 1440x720 with 1 Axes>"
      ]
     },
     "metadata": {
      "needs_background": "light"
     },
     "output_type": "display_data"
    }
   ],
   "source": [
    "import matplotlib.pyplot as plt\n",
    "from matplotlib import font_manager, rc\n",
    "plt.figure(figsize=(20,10))\n",
    "disgust_text.plot(50)"
   ]
  },
  {
   "cell_type": "code",
   "execution_count": 151,
   "id": "younger-france",
   "metadata": {},
   "outputs": [],
   "source": [
    "DISGUST_FREQUENCY_COUNT = 1000;\n",
    "disgust_selected_words = [f[0] for f in disgust_text.vocab().most_common(DISGUST_FREQUENCY_COUNT)]"
   ]
  },
  {
   "cell_type": "code",
   "execution_count": 152,
   "id": "floral-reynolds",
   "metadata": {},
   "outputs": [],
   "source": [
    "def disgust_term_frequency(doc):\n",
    "    return [doc.count(word) for word in disgust_selected_words]"
   ]
  },
  {
   "cell_type": "code",
   "execution_count": 153,
   "id": "fatal-leader",
   "metadata": {},
   "outputs": [],
   "source": [
    "x_disgust_train = [disgust_term_frequency(d) for d,_ in train_disgust_docs]\n",
    "x_disgust_test = [disgust_term_frequency(d) for d,_ in test_disgust_docs]\n",
    "y_disgust_train = [c for _,c in train_disgust_docs]\n",
    "y_disgust_test = [c for _,c in test_disgust_docs]"
   ]
  },
  {
   "cell_type": "code",
   "execution_count": 154,
   "id": "overall-valuation",
   "metadata": {},
   "outputs": [],
   "source": [
    "import numpy as np\n",
    "x_disgust_train = np.asarray(x_disgust_train).astype('float32')\n",
    "x_disgust_test = np.asarray(x_disgust_test). astype('float32')\n",
    "\n",
    "y_disgust_train = np.asarray(y_disgust_train).astype('float32')\n",
    "y_disgust_test = np.asarray(y_disgust_test).astype('float32')"
   ]
  },
  {
   "cell_type": "code",
   "execution_count": 155,
   "id": "chronic-sunglasses",
   "metadata": {},
   "outputs": [],
   "source": [
    "import tensorflow as tf\n",
    "disgust_model= tf.keras.models.Sequential([\n",
    "    tf.keras.layers.Dense(64, activation = 'relu',input_shape=(DISGUST_FREQUENCY_COUNT,)),\n",
    "    tf.keras.layers.Dense(64, activation = 'relu'),\n",
    "    tf.keras.layers.Dense(1, activation = 'sigmoid')\n",
    "])"
   ]
  },
  {
   "cell_type": "code",
   "execution_count": 156,
   "id": "complete-arthritis",
   "metadata": {},
   "outputs": [],
   "source": [
    "disgust_model.compile(optimizer=tf.keras.optimizers.RMSprop(lr=0.001),\n",
    "             loss=tf.keras.losses.binary_crossentropy,\n",
    "             metrics=[tf.keras.metrics.binary_accuracy]\n",
    "             )"
   ]
  },
  {
   "cell_type": "code",
   "execution_count": 157,
   "id": "suburban-waters",
   "metadata": {},
   "outputs": [
    {
     "name": "stdout",
     "output_type": "stream",
     "text": [
      "Epoch 1/50\n",
      "53/53 [==============================] - 0s 4ms/step - loss: 0.4410 - binary_accuracy: 0.8589\n",
      "Epoch 2/50\n",
      "53/53 [==============================] - 0s 4ms/step - loss: 0.3637 - binary_accuracy: 0.8594\n",
      "Epoch 3/50\n",
      "53/53 [==============================] - 0s 4ms/step - loss: 0.3416 - binary_accuracy: 0.8604\n",
      "Epoch 4/50\n",
      "53/53 [==============================] - 0s 4ms/step - loss: 0.3287 - binary_accuracy: 0.8634\n",
      "Epoch 5/50\n",
      "53/53 [==============================] - 0s 4ms/step - loss: 0.3175 - binary_accuracy: 0.8669\n",
      "Epoch 6/50\n",
      "53/53 [==============================] - 0s 4ms/step - loss: 0.3069 - binary_accuracy: 0.8709\n",
      "Epoch 7/50\n",
      "53/53 [==============================] - 0s 4ms/step - loss: 0.2951 - binary_accuracy: 0.8770\n",
      "Epoch 8/50\n",
      "53/53 [==============================] - 0s 4ms/step - loss: 0.2835 - binary_accuracy: 0.8838\n",
      "Epoch 9/50\n",
      "53/53 [==============================] - 0s 4ms/step - loss: 0.2703 - binary_accuracy: 0.8899\n",
      "Epoch 10/50\n",
      "53/53 [==============================] - 0s 4ms/step - loss: 0.2561 - binary_accuracy: 0.8989\n",
      "Epoch 11/50\n",
      "53/53 [==============================] - 0s 4ms/step - loss: 0.2409 - binary_accuracy: 0.9062\n",
      "Epoch 12/50\n",
      "53/53 [==============================] - 0s 4ms/step - loss: 0.2240 - binary_accuracy: 0.9149\n",
      "Epoch 13/50\n",
      "53/53 [==============================] - 0s 4ms/step - loss: 0.2066 - binary_accuracy: 0.9237\n",
      "Epoch 14/50\n",
      "53/53 [==============================] - 0s 4ms/step - loss: 0.1889 - binary_accuracy: 0.9312\n",
      "Epoch 15/50\n",
      "53/53 [==============================] - 0s 4ms/step - loss: 0.1700 - binary_accuracy: 0.9399\n",
      "Epoch 16/50\n",
      "53/53 [==============================] - 0s 4ms/step - loss: 0.1516 - binary_accuracy: 0.9482\n",
      "Epoch 17/50\n",
      "53/53 [==============================] - 0s 4ms/step - loss: 0.1350 - binary_accuracy: 0.9562\n",
      "Epoch 18/50\n",
      "53/53 [==============================] - 0s 4ms/step - loss: 0.1180 - binary_accuracy: 0.9609\n",
      "Epoch 19/50\n",
      "53/53 [==============================] - 0s 4ms/step - loss: 0.1031 - binary_accuracy: 0.9665\n",
      "Epoch 20/50\n",
      "53/53 [==============================] - 0s 4ms/step - loss: 0.0908 - binary_accuracy: 0.9706\n",
      "Epoch 21/50\n",
      "53/53 [==============================] - 0s 4ms/step - loss: 0.0799 - binary_accuracy: 0.9748\n",
      "Epoch 22/50\n",
      "53/53 [==============================] - 0s 4ms/step - loss: 0.0687 - binary_accuracy: 0.9784\n",
      "Epoch 23/50\n",
      "53/53 [==============================] - 0s 4ms/step - loss: 0.0611 - binary_accuracy: 0.9811\n",
      "Epoch 24/50\n",
      "53/53 [==============================] - 0s 4ms/step - loss: 0.0534 - binary_accuracy: 0.9840\n",
      "Epoch 25/50\n",
      "53/53 [==============================] - 0s 4ms/step - loss: 0.0467 - binary_accuracy: 0.9867\n",
      "Epoch 26/50\n",
      "53/53 [==============================] - 0s 4ms/step - loss: 0.0423 - binary_accuracy: 0.9873\n",
      "Epoch 27/50\n",
      "53/53 [==============================] - 0s 4ms/step - loss: 0.0365 - binary_accuracy: 0.9896\n",
      "Epoch 28/50\n",
      "53/53 [==============================] - 0s 4ms/step - loss: 0.0334 - binary_accuracy: 0.9905\n",
      "Epoch 29/50\n",
      "53/53 [==============================] - 0s 4ms/step - loss: 0.0296 - binary_accuracy: 0.9913\n",
      "Epoch 30/50\n",
      "53/53 [==============================] - 0s 4ms/step - loss: 0.0268 - binary_accuracy: 0.9922\n",
      "Epoch 31/50\n",
      "53/53 [==============================] - 0s 4ms/step - loss: 0.0244 - binary_accuracy: 0.9929\n",
      "Epoch 32/50\n",
      "53/53 [==============================] - 0s 4ms/step - loss: 0.0232 - binary_accuracy: 0.9932\n",
      "Epoch 33/50\n",
      "53/53 [==============================] - 0s 4ms/step - loss: 0.0212 - binary_accuracy: 0.9934\n",
      "Epoch 34/50\n",
      "53/53 [==============================] - 0s 4ms/step - loss: 0.0195 - binary_accuracy: 0.9945\n",
      "Epoch 35/50\n",
      "53/53 [==============================] - 0s 4ms/step - loss: 0.0186 - binary_accuracy: 0.9944\n",
      "Epoch 36/50\n",
      "53/53 [==============================] - 0s 4ms/step - loss: 0.0170 - binary_accuracy: 0.9950\n",
      "Epoch 37/50\n",
      "53/53 [==============================] - 0s 4ms/step - loss: 0.0167 - binary_accuracy: 0.9947\n",
      "Epoch 38/50\n",
      "53/53 [==============================] - 0s 4ms/step - loss: 0.0159 - binary_accuracy: 0.9950\n",
      "Epoch 39/50\n",
      "53/53 [==============================] - 0s 4ms/step - loss: 0.0149 - binary_accuracy: 0.9952\n",
      "Epoch 40/50\n",
      "53/53 [==============================] - 0s 4ms/step - loss: 0.0145 - binary_accuracy: 0.9952\n",
      "Epoch 41/50\n",
      "53/53 [==============================] - 0s 4ms/step - loss: 0.0138 - binary_accuracy: 0.9952\n",
      "Epoch 42/50\n",
      "53/53 [==============================] - 0s 4ms/step - loss: 0.0137 - binary_accuracy: 0.9951\n",
      "Epoch 43/50\n",
      "53/53 [==============================] - 0s 4ms/step - loss: 0.0133 - binary_accuracy: 0.9956\n",
      "Epoch 44/50\n",
      "53/53 [==============================] - 0s 4ms/step - loss: 0.0131 - binary_accuracy: 0.9956\n",
      "Epoch 45/50\n",
      "53/53 [==============================] - 0s 4ms/step - loss: 0.0130 - binary_accuracy: 0.9953\n",
      "Epoch 46/50\n",
      "53/53 [==============================] - 0s 4ms/step - loss: 0.0122 - binary_accuracy: 0.9956\n",
      "Epoch 47/50\n",
      "53/53 [==============================] - 0s 4ms/step - loss: 0.0122 - binary_accuracy: 0.9957\n",
      "Epoch 48/50\n",
      "53/53 [==============================] - 0s 4ms/step - loss: 0.0119 - binary_accuracy: 0.9959\n",
      "Epoch 49/50\n",
      "53/53 [==============================] - 0s 4ms/step - loss: 0.0116 - binary_accuracy: 0.9956\n",
      "Epoch 50/50\n",
      "53/53 [==============================] - 0s 4ms/step - loss: 0.0122 - binary_accuracy: 0.9957\n"
     ]
    },
    {
     "data": {
      "text/plain": [
       "<tensorflow.python.keras.callbacks.History at 0x1fd85e37308>"
      ]
     },
     "execution_count": 157,
     "metadata": {},
     "output_type": "execute_result"
    }
   ],
   "source": [
    "disgust_model.fit(x_disgust_train, y_disgust_train, epochs=50, batch_size=512)"
   ]
  },
  {
   "cell_type": "code",
   "execution_count": 158,
   "id": "heard-moldova",
   "metadata": {},
   "outputs": [
    {
     "name": "stdout",
     "output_type": "stream",
     "text": [
      "362/362 [==============================] - 0s 780us/step - loss: 2.5249 - binary_accuracy: 0.7917\n"
     ]
    }
   ],
   "source": [
    "disgust_results = neutral_model.evaluate(x_disgust_test, y_disgust_test)"
   ]
  },
  {
   "cell_type": "code",
   "execution_count": 159,
   "id": "medieval-instrument",
   "metadata": {},
   "outputs": [
    {
     "data": {
      "text/plain": [
       "[2.5248987674713135, 0.7916558980941772]"
      ]
     },
     "execution_count": 159,
     "metadata": {},
     "output_type": "execute_result"
    }
   ],
   "source": [
    "disgust_results"
   ]
  },
  {
   "cell_type": "code",
   "execution_count": 160,
   "id": "engaged-lightweight",
   "metadata": {},
   "outputs": [],
   "source": [
    "disgust_model.save('disgust_model.h5')"
   ]
  },
  {
   "cell_type": "code",
   "execution_count": 161,
   "id": "agricultural-mainstream",
   "metadata": {},
   "outputs": [
    {
     "data": {
      "text/plain": [
       "['너무/Adverb', '화나다/Verb']"
      ]
     },
     "execution_count": 161,
     "metadata": {},
     "output_type": "execute_result"
    }
   ],
   "source": [
    "disgust_review = \"너무 화난다\"\n",
    "disgust_token = tokenize(disgust_review)\n",
    "disgust_token"
   ]
  },
  {
   "cell_type": "code",
   "execution_count": 162,
   "id": "literary-behavior",
   "metadata": {},
   "outputs": [
    {
     "data": {
      "text/plain": [
       "0.001784318359568715"
      ]
     },
     "execution_count": 162,
     "metadata": {},
     "output_type": "execute_result"
    }
   ],
   "source": [
    "tf = disgust_term_frequency(disgust_token)\n",
    "data = np.expand_dims(np.asarray(tf).astype('float32'),axis=0)\n",
    "float(disgust_model.predict(data))"
   ]
  },
  {
   "cell_type": "code",
   "execution_count": 163,
   "id": "dedicated-strategy",
   "metadata": {},
   "outputs": [],
   "source": [
    "def disgust_predict(predict):\n",
    "    disgust_token = tokenize(predict)\n",
    "    disgust_tfq = disgust_term_frequency(disgust_token)\n",
    "    disgust_data = np.expand_dims(np.asarray(disgust_tfq).astype('float32'), axis=0)\n",
    "    disgust_score = float(disgust_model.predict(disgust_data))\n",
    "    if(disgust_score > 0.5):\n",
    "        print(f\"{predict} ==> 혐오 ({round(disgust_score*100)}%)\")\n",
    "    else:\n",
    "        print(f\"{predict} ==> 혐오X ({round((1-disgust_score)*100)}%)\")"
   ]
  },
  {
   "cell_type": "code",
   "execution_count": 164,
   "id": "narrative-captain",
   "metadata": {},
   "outputs": [
    {
     "name": "stdout",
     "output_type": "stream",
     "text": [
      "원재상 ==> 혐오X (88%)\n"
     ]
    }
   ],
   "source": [
    "disgust_predict(\"원재상\")"
   ]
  },
  {
   "cell_type": "code",
   "execution_count": 165,
   "id": "comparable-michigan",
   "metadata": {},
   "outputs": [],
   "source": [
    "def predict(predict):\n",
    "    fear_predict(predict)\n",
    "    disgust_predict(predict)\n",
    "    sadness_predict(predict)\n",
    "    happy_predict(predict)\n",
    "    anger_predict(predict)\n",
    "    #neutral_predict(predict)\n",
    "    surprise_predict(predict)"
   ]
  },
  {
   "cell_type": "code",
   "execution_count": 173,
   "id": "palestinian-level",
   "metadata": {},
   "outputs": [
    {
     "name": "stdout",
     "output_type": "stream",
     "text": [
      "군대놀이가 그렇게 하고 싶으면 군대를 가 ㅋㅋㅋ ==> 공포X (100%)\n",
      "군대놀이가 그렇게 하고 싶으면 군대를 가 ㅋㅋㅋ ==> 혐오X (100%)\n",
      "군대놀이가 그렇게 하고 싶으면 군대를 가 ㅋㅋㅋ ==> 슬픔X (100%)\n",
      "군대놀이가 그렇게 하고 싶으면 군대를 가 ㅋㅋㅋ ==> 행복X (100%)\n",
      "군대놀이가 그렇게 하고 싶으면 군대를 가 ㅋㅋㅋ ==> 분노 (56%)\n",
      "군대놀이가 그렇게 하고 싶으면 군대를 가 ㅋㅋㅋ ==> 놀람X (100%)\n"
     ]
    }
   ],
   "source": [
    "predict(\"군대놀이가 그렇게 하고 싶으면 군대를 가 ㅋㅋㅋ\")"
   ]
  },
  {
   "cell_type": "code",
   "execution_count": null,
   "id": "dated-bumper",
   "metadata": {},
   "outputs": [],
   "source": []
  }
 ],
 "metadata": {
  "kernelspec": {
   "display_name": "Python 3",
   "language": "python",
   "name": "python3"
  },
  "language_info": {
   "codemirror_mode": {
    "name": "ipython",
    "version": 3
   },
   "file_extension": ".py",
   "mimetype": "text/x-python",
   "name": "python",
   "nbconvert_exporter": "python",
   "pygments_lexer": "ipython3",
   "version": "3.7.10"
  }
 },
 "nbformat": 4,
 "nbformat_minor": 5
}
