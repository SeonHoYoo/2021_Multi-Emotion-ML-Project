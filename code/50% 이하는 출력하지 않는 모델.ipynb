{
 "cells": [
  {
   "cell_type": "code",
   "execution_count": 1,
   "id": "vietnamese-pioneer",
   "metadata": {},
   "outputs": [],
   "source": [
    "import pandas as pd\n",
    "train_fear_df = pd.read_csv(\"feartraindata.txt\",\"\\t\")\n",
    "test_fear_df = pd.read_csv(\"feartestdata.txt\",\"\\t\")"
   ]
  },
  {
   "cell_type": "code",
   "execution_count": 2,
   "id": "mighty-volume",
   "metadata": {},
   "outputs": [
    {
     "data": {
      "text/plain": [
       "[('전람회', 'Noun'), ('나간다', 'Verb')]"
      ]
     },
     "execution_count": 2,
     "metadata": {},
     "output_type": "execute_result"
    }
   ],
   "source": [
    "from konlpy.tag import Okt\n",
    "okt_fear = Okt()\n",
    "okt_fear.pos(u'전람회 나간다')"
   ]
  },
  {
   "cell_type": "code",
   "execution_count": 4,
   "id": "proud-neutral",
   "metadata": {},
   "outputs": [],
   "source": [
    "def tokenize(doc):\n",
    "    return ['/'.join(t) for t in okt_fear.pos(doc, norm=True, stem=True)]"
   ]
  },
  {
   "cell_type": "code",
   "execution_count": 5,
   "id": "plastic-homeless",
   "metadata": {},
   "outputs": [],
   "source": [
    "train_fear_df.isnull().any()\n",
    "train_fear_df['document'] = train_fear_df['document'].fillna('');\n",
    "train_fear_df.isnull().any()\n",
    "test_fear_df['document'] = test_fear_df['document'].fillna('');"
   ]
  },
  {
   "cell_type": "code",
   "execution_count": 6,
   "id": "sunrise-ballot",
   "metadata": {},
   "outputs": [],
   "source": [
    "train_fear_docs = [(tokenize(row[1]), row[2]) for row in train_fear_df.values]\n",
    "test_fear_docs = [(tokenize(row[1]),row[2]) for row in test_fear_df.values]"
   ]
  },
  {
   "cell_type": "code",
   "execution_count": 8,
   "id": "wrapped-roller",
   "metadata": {},
   "outputs": [
    {
     "name": "stdout",
     "output_type": "stream",
     "text": [
      "(['언니/Noun', '동생/Noun', '으로/Josa', '부르다/Verb', '맞다/Verb', '일/Noun', '인가요/Josa', '..??/Punctuation'], 1)\n",
      "(['톡/Noun', '크다/Verb', '언니/Noun', '들/Suffix', '임산부/Noun', '언니/Noun', '들/Suffix', 'ㅠㅠ/KoreanParticle'], 1)\n"
     ]
    }
   ],
   "source": [
    "print(train_fear_docs[0])\n",
    "print(test_fear_docs[0])"
   ]
  },
  {
   "cell_type": "code",
   "execution_count": 9,
   "id": "genetic-smart",
   "metadata": {},
   "outputs": [
    {
     "name": "stdout",
     "output_type": "stream",
     "text": [
      "토큰개수: 71499\n"
     ]
    }
   ],
   "source": [
    "tokens = [t for d in train_fear_docs for t in d[0]]\n",
    "print(\"토큰개수:\",len(tokens))"
   ]
  },
  {
   "cell_type": "code",
   "execution_count": 10,
   "id": "beautiful-madagascar",
   "metadata": {},
   "outputs": [
    {
     "name": "stdout",
     "output_type": "stream",
     "text": [
      "71499\n",
      "10035\n",
      "[('하다/Verb', 2516), ('이/Josa', 1385), ('./Punctuation', 1185), ('?/Punctuation', 1131), ('가/Josa', 1130), ('../Punctuation', 979), ('에/Josa', 908), ('.../Punctuation', 679), ('은/Josa', 676), ('도/Josa', 647)]\n"
     ]
    }
   ],
   "source": [
    "import nltk\n",
    "fear_text = nltk.Text(tokens, name='NMSC')\n",
    "print(len(fear_text.tokens))\n",
    "print(len(set(fear_text.tokens)))\n",
    "print(fear_text.vocab().most_common(10))"
   ]
  },
  {
   "cell_type": "code",
   "execution_count": 11,
   "id": "yellow-viking",
   "metadata": {},
   "outputs": [
    {
     "name": "stderr",
     "output_type": "stream",
     "text": [
      "C:\\Users\\sunho\\anaconda3\\lib\\site-packages\\matplotlib\\backends\\backend_agg.py:238: RuntimeWarning: Glyph 54616 missing from current font.\n",
      "  font.set_text(s, 0.0, flags=flags)\n",
      "C:\\Users\\sunho\\anaconda3\\lib\\site-packages\\matplotlib\\backends\\backend_agg.py:238: RuntimeWarning: Glyph 45796 missing from current font.\n",
      "  font.set_text(s, 0.0, flags=flags)\n",
      "C:\\Users\\sunho\\anaconda3\\lib\\site-packages\\matplotlib\\backends\\backend_agg.py:238: RuntimeWarning: Glyph 51060 missing from current font.\n",
      "  font.set_text(s, 0.0, flags=flags)\n",
      "C:\\Users\\sunho\\anaconda3\\lib\\site-packages\\matplotlib\\backends\\backend_agg.py:238: RuntimeWarning: Glyph 44032 missing from current font.\n",
      "  font.set_text(s, 0.0, flags=flags)\n",
      "C:\\Users\\sunho\\anaconda3\\lib\\site-packages\\matplotlib\\backends\\backend_agg.py:238: RuntimeWarning: Glyph 50640 missing from current font.\n",
      "  font.set_text(s, 0.0, flags=flags)\n",
      "C:\\Users\\sunho\\anaconda3\\lib\\site-packages\\matplotlib\\backends\\backend_agg.py:238: RuntimeWarning: Glyph 51008 missing from current font.\n",
      "  font.set_text(s, 0.0, flags=flags)\n",
      "C:\\Users\\sunho\\anaconda3\\lib\\site-packages\\matplotlib\\backends\\backend_agg.py:238: RuntimeWarning: Glyph 46020 missing from current font.\n",
      "  font.set_text(s, 0.0, flags=flags)\n",
      "C:\\Users\\sunho\\anaconda3\\lib\\site-packages\\matplotlib\\backends\\backend_agg.py:238: RuntimeWarning: Glyph 46308 missing from current font.\n",
      "  font.set_text(s, 0.0, flags=flags)\n",
      "C:\\Users\\sunho\\anaconda3\\lib\\site-packages\\matplotlib\\backends\\backend_agg.py:238: RuntimeWarning: Glyph 51012 missing from current font.\n",
      "  font.set_text(s, 0.0, flags=flags)\n",
      "C:\\Users\\sunho\\anaconda3\\lib\\site-packages\\matplotlib\\backends\\backend_agg.py:238: RuntimeWarning: Glyph 46104 missing from current font.\n",
      "  font.set_text(s, 0.0, flags=flags)\n",
      "C:\\Users\\sunho\\anaconda3\\lib\\site-packages\\matplotlib\\backends\\backend_agg.py:238: RuntimeWarning: Glyph 51080 missing from current font.\n",
      "  font.set_text(s, 0.0, flags=flags)\n",
      "C:\\Users\\sunho\\anaconda3\\lib\\site-packages\\matplotlib\\backends\\backend_agg.py:238: RuntimeWarning: Glyph 45716 missing from current font.\n",
      "  font.set_text(s, 0.0, flags=flags)\n",
      "C:\\Users\\sunho\\anaconda3\\lib\\site-packages\\matplotlib\\backends\\backend_agg.py:238: RuntimeWarning: Glyph 47484 missing from current font.\n",
      "  font.set_text(s, 0.0, flags=flags)\n",
      "C:\\Users\\sunho\\anaconda3\\lib\\site-packages\\matplotlib\\backends\\backend_agg.py:238: RuntimeWarning: Glyph 44057 missing from current font.\n",
      "  font.set_text(s, 0.0, flags=flags)\n",
      "C:\\Users\\sunho\\anaconda3\\lib\\site-packages\\matplotlib\\backends\\backend_agg.py:238: RuntimeWarning: Glyph 48372 missing from current font.\n",
      "  font.set_text(s, 0.0, flags=flags)\n",
      "C:\\Users\\sunho\\anaconda3\\lib\\site-packages\\matplotlib\\backends\\backend_agg.py:238: RuntimeWarning: Glyph 50500 missing from current font.\n",
      "  font.set_text(s, 0.0, flags=flags)\n",
      "C:\\Users\\sunho\\anaconda3\\lib\\site-packages\\matplotlib\\backends\\backend_agg.py:238: RuntimeWarning: Glyph 45768 missing from current font.\n",
      "  font.set_text(s, 0.0, flags=flags)\n",
      "C:\\Users\\sunho\\anaconda3\\lib\\site-packages\\matplotlib\\backends\\backend_agg.py:238: RuntimeWarning: Glyph 50630 missing from current font.\n",
      "  font.set_text(s, 0.0, flags=flags)\n",
      "C:\\Users\\sunho\\anaconda3\\lib\\site-packages\\matplotlib\\backends\\backend_agg.py:238: RuntimeWarning: Glyph 51004 missing from current font.\n",
      "  font.set_text(s, 0.0, flags=flags)\n",
      "C:\\Users\\sunho\\anaconda3\\lib\\site-packages\\matplotlib\\backends\\backend_agg.py:238: RuntimeWarning: Glyph 47196 missing from current font.\n",
      "  font.set_text(s, 0.0, flags=flags)\n",
      "C:\\Users\\sunho\\anaconda3\\lib\\site-packages\\matplotlib\\backends\\backend_agg.py:238: RuntimeWarning: Glyph 50612 missing from current font.\n",
      "  font.set_text(s, 0.0, flags=flags)\n",
      "C:\\Users\\sunho\\anaconda3\\lib\\site-packages\\matplotlib\\backends\\backend_agg.py:238: RuntimeWarning: Glyph 46523 missing from current font.\n",
      "  font.set_text(s, 0.0, flags=flags)\n",
      "C:\\Users\\sunho\\anaconda3\\lib\\site-packages\\matplotlib\\backends\\backend_agg.py:238: RuntimeWarning: Glyph 45320 missing from current font.\n",
      "  font.set_text(s, 0.0, flags=flags)\n",
      "C:\\Users\\sunho\\anaconda3\\lib\\site-packages\\matplotlib\\backends\\backend_agg.py:238: RuntimeWarning: Glyph 47924 missing from current font.\n",
      "  font.set_text(s, 0.0, flags=flags)\n",
      "C:\\Users\\sunho\\anaconda3\\lib\\site-packages\\matplotlib\\backends\\backend_agg.py:238: RuntimeWarning: Glyph 51032 missing from current font.\n",
      "  font.set_text(s, 0.0, flags=flags)\n",
      "C:\\Users\\sunho\\anaconda3\\lib\\site-packages\\matplotlib\\backends\\backend_agg.py:238: RuntimeWarning: Glyph 51652 missing from current font.\n",
      "  font.set_text(s, 0.0, flags=flags)\n",
      "C:\\Users\\sunho\\anaconda3\\lib\\site-packages\\matplotlib\\backends\\backend_agg.py:238: RuntimeWarning: Glyph 51676 missing from current font.\n",
      "  font.set_text(s, 0.0, flags=flags)\n",
      "C:\\Users\\sunho\\anaconda3\\lib\\site-packages\\matplotlib\\backends\\backend_agg.py:238: RuntimeWarning: Glyph 50836 missing from current font.\n",
      "  font.set_text(s, 0.0, flags=flags)\n",
      "C:\\Users\\sunho\\anaconda3\\lib\\site-packages\\matplotlib\\backends\\backend_agg.py:238: RuntimeWarning: Glyph 49453 missing from current font.\n",
      "  font.set_text(s, 0.0, flags=flags)\n",
      "C:\\Users\\sunho\\anaconda3\\lib\\site-packages\\matplotlib\\backends\\backend_agg.py:238: RuntimeWarning: Glyph 50504 missing from current font.\n",
      "  font.set_text(s, 0.0, flags=flags)\n",
      "C:\\Users\\sunho\\anaconda3\\lib\\site-packages\\matplotlib\\backends\\backend_agg.py:238: RuntimeWarning: Glyph 49436 missing from current font.\n",
      "  font.set_text(s, 0.0, flags=flags)\n",
      "C:\\Users\\sunho\\anaconda3\\lib\\site-packages\\matplotlib\\backends\\backend_agg.py:238: RuntimeWarning: Glyph 47784 missing from current font.\n",
      "  font.set_text(s, 0.0, flags=flags)\n",
      "C:\\Users\\sunho\\anaconda3\\lib\\site-packages\\matplotlib\\backends\\backend_agg.py:238: RuntimeWarning: Glyph 47476 missing from current font.\n",
      "  font.set_text(s, 0.0, flags=flags)\n",
      "C:\\Users\\sunho\\anaconda3\\lib\\site-packages\\matplotlib\\backends\\backend_agg.py:238: RuntimeWarning: Glyph 49324 missing from current font.\n",
      "  font.set_text(s, 0.0, flags=flags)\n",
      "C:\\Users\\sunho\\anaconda3\\lib\\site-packages\\matplotlib\\backends\\backend_agg.py:238: RuntimeWarning: Glyph 46988 missing from current font.\n",
      "  font.set_text(s, 0.0, flags=flags)\n",
      "C:\\Users\\sunho\\anaconda3\\lib\\site-packages\\matplotlib\\backends\\backend_agg.py:238: RuntimeWarning: Glyph 12640 missing from current font.\n",
      "  font.set_text(s, 0.0, flags=flags)\n",
      "C:\\Users\\sunho\\anaconda3\\lib\\site-packages\\matplotlib\\backends\\backend_agg.py:238: RuntimeWarning: Glyph 51200 missing from current font.\n",
      "  font.set_text(s, 0.0, flags=flags)\n",
      "C:\\Users\\sunho\\anaconda3\\lib\\site-packages\\matplotlib\\backends\\backend_agg.py:238: RuntimeWarning: Glyph 50724 missing from current font.\n",
      "  font.set_text(s, 0.0, flags=flags)\n",
      "C:\\Users\\sunho\\anaconda3\\lib\\site-packages\\matplotlib\\backends\\backend_agg.py:238: RuntimeWarning: Glyph 51339 missing from current font.\n",
      "  font.set_text(s, 0.0, flags=flags)\n",
      "C:\\Users\\sunho\\anaconda3\\lib\\site-packages\\matplotlib\\backends\\backend_agg.py:238: RuntimeWarning: Glyph 51228 missing from current font.\n",
      "  font.set_text(s, 0.0, flags=flags)\n",
      "C:\\Users\\sunho\\anaconda3\\lib\\site-packages\\matplotlib\\backends\\backend_agg.py:238: RuntimeWarning: Glyph 44163 missing from current font.\n",
      "  font.set_text(s, 0.0, flags=flags)\n",
      "C:\\Users\\sunho\\anaconda3\\lib\\site-packages\\matplotlib\\backends\\backend_agg.py:238: RuntimeWarning: Glyph 47803 missing from current font.\n",
      "  font.set_text(s, 0.0, flags=flags)\n",
      "C:\\Users\\sunho\\anaconda3\\lib\\site-packages\\matplotlib\\backends\\backend_agg.py:238: RuntimeWarning: Glyph 44536 missing from current font.\n",
      "  font.set_text(s, 0.0, flags=flags)\n",
      "C:\\Users\\sunho\\anaconda3\\lib\\site-packages\\matplotlib\\backends\\backend_agg.py:238: RuntimeWarning: Glyph 47111 missing from current font.\n",
      "  font.set_text(s, 0.0, flags=flags)\n",
      "C:\\Users\\sunho\\anaconda3\\lib\\site-packages\\matplotlib\\backends\\backend_agg.py:238: RuntimeWarning: Glyph 47568 missing from current font.\n",
      "  font.set_text(s, 0.0, flags=flags)\n",
      "C:\\Users\\sunho\\anaconda3\\lib\\site-packages\\matplotlib\\backends\\backend_agg.py:238: RuntimeWarning: Glyph 47564 missing from current font.\n",
      "  font.set_text(s, 0.0, flags=flags)\n",
      "C:\\Users\\sunho\\anaconda3\\lib\\site-packages\\matplotlib\\backends\\backend_agg.py:238: RuntimeWarning: Glyph 50506 missing from current font.\n",
      "  font.set_text(s, 0.0, flags=flags)\n",
      "C:\\Users\\sunho\\anaconda3\\lib\\site-packages\\matplotlib\\backends\\backend_agg.py:238: RuntimeWarning: Glyph 51221 missing from current font.\n",
      "  font.set_text(s, 0.0, flags=flags)\n",
      "C:\\Users\\sunho\\anaconda3\\lib\\site-packages\\matplotlib\\backends\\backend_agg.py:238: RuntimeWarning: Glyph 50780 missing from current font.\n",
      "  font.set_text(s, 0.0, flags=flags)\n"
     ]
    },
    {
     "name": "stderr",
     "output_type": "stream",
     "text": [
      "C:\\Users\\sunho\\anaconda3\\lib\\site-packages\\matplotlib\\backends\\backend_agg.py:201: RuntimeWarning: Glyph 54616 missing from current font.\n",
      "  font.set_text(s, 0, flags=flags)\n",
      "C:\\Users\\sunho\\anaconda3\\lib\\site-packages\\matplotlib\\backends\\backend_agg.py:201: RuntimeWarning: Glyph 45796 missing from current font.\n",
      "  font.set_text(s, 0, flags=flags)\n",
      "C:\\Users\\sunho\\anaconda3\\lib\\site-packages\\matplotlib\\backends\\backend_agg.py:201: RuntimeWarning: Glyph 51060 missing from current font.\n",
      "  font.set_text(s, 0, flags=flags)\n",
      "C:\\Users\\sunho\\anaconda3\\lib\\site-packages\\matplotlib\\backends\\backend_agg.py:201: RuntimeWarning: Glyph 44032 missing from current font.\n",
      "  font.set_text(s, 0, flags=flags)\n",
      "C:\\Users\\sunho\\anaconda3\\lib\\site-packages\\matplotlib\\backends\\backend_agg.py:201: RuntimeWarning: Glyph 50640 missing from current font.\n",
      "  font.set_text(s, 0, flags=flags)\n",
      "C:\\Users\\sunho\\anaconda3\\lib\\site-packages\\matplotlib\\backends\\backend_agg.py:201: RuntimeWarning: Glyph 51008 missing from current font.\n",
      "  font.set_text(s, 0, flags=flags)\n",
      "C:\\Users\\sunho\\anaconda3\\lib\\site-packages\\matplotlib\\backends\\backend_agg.py:201: RuntimeWarning: Glyph 46020 missing from current font.\n",
      "  font.set_text(s, 0, flags=flags)\n",
      "C:\\Users\\sunho\\anaconda3\\lib\\site-packages\\matplotlib\\backends\\backend_agg.py:201: RuntimeWarning: Glyph 46308 missing from current font.\n",
      "  font.set_text(s, 0, flags=flags)\n",
      "C:\\Users\\sunho\\anaconda3\\lib\\site-packages\\matplotlib\\backends\\backend_agg.py:201: RuntimeWarning: Glyph 51012 missing from current font.\n",
      "  font.set_text(s, 0, flags=flags)\n",
      "C:\\Users\\sunho\\anaconda3\\lib\\site-packages\\matplotlib\\backends\\backend_agg.py:201: RuntimeWarning: Glyph 46104 missing from current font.\n",
      "  font.set_text(s, 0, flags=flags)\n",
      "C:\\Users\\sunho\\anaconda3\\lib\\site-packages\\matplotlib\\backends\\backend_agg.py:201: RuntimeWarning: Glyph 51080 missing from current font.\n",
      "  font.set_text(s, 0, flags=flags)\n",
      "C:\\Users\\sunho\\anaconda3\\lib\\site-packages\\matplotlib\\backends\\backend_agg.py:201: RuntimeWarning: Glyph 45716 missing from current font.\n",
      "  font.set_text(s, 0, flags=flags)\n",
      "C:\\Users\\sunho\\anaconda3\\lib\\site-packages\\matplotlib\\backends\\backend_agg.py:201: RuntimeWarning: Glyph 47484 missing from current font.\n",
      "  font.set_text(s, 0, flags=flags)\n",
      "C:\\Users\\sunho\\anaconda3\\lib\\site-packages\\matplotlib\\backends\\backend_agg.py:201: RuntimeWarning: Glyph 44057 missing from current font.\n",
      "  font.set_text(s, 0, flags=flags)\n",
      "C:\\Users\\sunho\\anaconda3\\lib\\site-packages\\matplotlib\\backends\\backend_agg.py:201: RuntimeWarning: Glyph 48372 missing from current font.\n",
      "  font.set_text(s, 0, flags=flags)\n",
      "C:\\Users\\sunho\\anaconda3\\lib\\site-packages\\matplotlib\\backends\\backend_agg.py:201: RuntimeWarning: Glyph 50500 missing from current font.\n",
      "  font.set_text(s, 0, flags=flags)\n",
      "C:\\Users\\sunho\\anaconda3\\lib\\site-packages\\matplotlib\\backends\\backend_agg.py:201: RuntimeWarning: Glyph 45768 missing from current font.\n",
      "  font.set_text(s, 0, flags=flags)\n",
      "C:\\Users\\sunho\\anaconda3\\lib\\site-packages\\matplotlib\\backends\\backend_agg.py:201: RuntimeWarning: Glyph 50630 missing from current font.\n",
      "  font.set_text(s, 0, flags=flags)\n",
      "C:\\Users\\sunho\\anaconda3\\lib\\site-packages\\matplotlib\\backends\\backend_agg.py:201: RuntimeWarning: Glyph 51004 missing from current font.\n",
      "  font.set_text(s, 0, flags=flags)\n",
      "C:\\Users\\sunho\\anaconda3\\lib\\site-packages\\matplotlib\\backends\\backend_agg.py:201: RuntimeWarning: Glyph 47196 missing from current font.\n",
      "  font.set_text(s, 0, flags=flags)\n",
      "C:\\Users\\sunho\\anaconda3\\lib\\site-packages\\matplotlib\\backends\\backend_agg.py:201: RuntimeWarning: Glyph 50612 missing from current font.\n",
      "  font.set_text(s, 0, flags=flags)\n",
      "C:\\Users\\sunho\\anaconda3\\lib\\site-packages\\matplotlib\\backends\\backend_agg.py:201: RuntimeWarning: Glyph 46523 missing from current font.\n",
      "  font.set_text(s, 0, flags=flags)\n",
      "C:\\Users\\sunho\\anaconda3\\lib\\site-packages\\matplotlib\\backends\\backend_agg.py:201: RuntimeWarning: Glyph 45320 missing from current font.\n",
      "  font.set_text(s, 0, flags=flags)\n",
      "C:\\Users\\sunho\\anaconda3\\lib\\site-packages\\matplotlib\\backends\\backend_agg.py:201: RuntimeWarning: Glyph 47924 missing from current font.\n",
      "  font.set_text(s, 0, flags=flags)\n",
      "C:\\Users\\sunho\\anaconda3\\lib\\site-packages\\matplotlib\\backends\\backend_agg.py:201: RuntimeWarning: Glyph 51032 missing from current font.\n",
      "  font.set_text(s, 0, flags=flags)\n",
      "C:\\Users\\sunho\\anaconda3\\lib\\site-packages\\matplotlib\\backends\\backend_agg.py:201: RuntimeWarning: Glyph 51652 missing from current font.\n",
      "  font.set_text(s, 0, flags=flags)\n",
      "C:\\Users\\sunho\\anaconda3\\lib\\site-packages\\matplotlib\\backends\\backend_agg.py:201: RuntimeWarning: Glyph 51676 missing from current font.\n",
      "  font.set_text(s, 0, flags=flags)\n",
      "C:\\Users\\sunho\\anaconda3\\lib\\site-packages\\matplotlib\\backends\\backend_agg.py:201: RuntimeWarning: Glyph 50836 missing from current font.\n",
      "  font.set_text(s, 0, flags=flags)\n",
      "C:\\Users\\sunho\\anaconda3\\lib\\site-packages\\matplotlib\\backends\\backend_agg.py:201: RuntimeWarning: Glyph 49453 missing from current font.\n",
      "  font.set_text(s, 0, flags=flags)\n",
      "C:\\Users\\sunho\\anaconda3\\lib\\site-packages\\matplotlib\\backends\\backend_agg.py:201: RuntimeWarning: Glyph 50504 missing from current font.\n",
      "  font.set_text(s, 0, flags=flags)\n",
      "C:\\Users\\sunho\\anaconda3\\lib\\site-packages\\matplotlib\\backends\\backend_agg.py:201: RuntimeWarning: Glyph 49436 missing from current font.\n",
      "  font.set_text(s, 0, flags=flags)\n",
      "C:\\Users\\sunho\\anaconda3\\lib\\site-packages\\matplotlib\\backends\\backend_agg.py:201: RuntimeWarning: Glyph 47784 missing from current font.\n",
      "  font.set_text(s, 0, flags=flags)\n",
      "C:\\Users\\sunho\\anaconda3\\lib\\site-packages\\matplotlib\\backends\\backend_agg.py:201: RuntimeWarning: Glyph 47476 missing from current font.\n",
      "  font.set_text(s, 0, flags=flags)\n",
      "C:\\Users\\sunho\\anaconda3\\lib\\site-packages\\matplotlib\\backends\\backend_agg.py:201: RuntimeWarning: Glyph 49324 missing from current font.\n",
      "  font.set_text(s, 0, flags=flags)\n",
      "C:\\Users\\sunho\\anaconda3\\lib\\site-packages\\matplotlib\\backends\\backend_agg.py:201: RuntimeWarning: Glyph 46988 missing from current font.\n",
      "  font.set_text(s, 0, flags=flags)\n",
      "C:\\Users\\sunho\\anaconda3\\lib\\site-packages\\matplotlib\\backends\\backend_agg.py:201: RuntimeWarning: Glyph 12640 missing from current font.\n",
      "  font.set_text(s, 0, flags=flags)\n",
      "C:\\Users\\sunho\\anaconda3\\lib\\site-packages\\matplotlib\\backends\\backend_agg.py:201: RuntimeWarning: Glyph 51200 missing from current font.\n",
      "  font.set_text(s, 0, flags=flags)\n",
      "C:\\Users\\sunho\\anaconda3\\lib\\site-packages\\matplotlib\\backends\\backend_agg.py:201: RuntimeWarning: Glyph 50724 missing from current font.\n",
      "  font.set_text(s, 0, flags=flags)\n",
      "C:\\Users\\sunho\\anaconda3\\lib\\site-packages\\matplotlib\\backends\\backend_agg.py:201: RuntimeWarning: Glyph 51339 missing from current font.\n",
      "  font.set_text(s, 0, flags=flags)\n",
      "C:\\Users\\sunho\\anaconda3\\lib\\site-packages\\matplotlib\\backends\\backend_agg.py:201: RuntimeWarning: Glyph 51228 missing from current font.\n",
      "  font.set_text(s, 0, flags=flags)\n",
      "C:\\Users\\sunho\\anaconda3\\lib\\site-packages\\matplotlib\\backends\\backend_agg.py:201: RuntimeWarning: Glyph 44163 missing from current font.\n",
      "  font.set_text(s, 0, flags=flags)\n",
      "C:\\Users\\sunho\\anaconda3\\lib\\site-packages\\matplotlib\\backends\\backend_agg.py:201: RuntimeWarning: Glyph 47803 missing from current font.\n",
      "  font.set_text(s, 0, flags=flags)\n",
      "C:\\Users\\sunho\\anaconda3\\lib\\site-packages\\matplotlib\\backends\\backend_agg.py:201: RuntimeWarning: Glyph 44536 missing from current font.\n",
      "  font.set_text(s, 0, flags=flags)\n",
      "C:\\Users\\sunho\\anaconda3\\lib\\site-packages\\matplotlib\\backends\\backend_agg.py:201: RuntimeWarning: Glyph 47111 missing from current font.\n",
      "  font.set_text(s, 0, flags=flags)\n",
      "C:\\Users\\sunho\\anaconda3\\lib\\site-packages\\matplotlib\\backends\\backend_agg.py:201: RuntimeWarning: Glyph 47568 missing from current font.\n",
      "  font.set_text(s, 0, flags=flags)\n",
      "C:\\Users\\sunho\\anaconda3\\lib\\site-packages\\matplotlib\\backends\\backend_agg.py:201: RuntimeWarning: Glyph 47564 missing from current font.\n",
      "  font.set_text(s, 0, flags=flags)\n",
      "C:\\Users\\sunho\\anaconda3\\lib\\site-packages\\matplotlib\\backends\\backend_agg.py:201: RuntimeWarning: Glyph 50506 missing from current font.\n",
      "  font.set_text(s, 0, flags=flags)\n",
      "C:\\Users\\sunho\\anaconda3\\lib\\site-packages\\matplotlib\\backends\\backend_agg.py:201: RuntimeWarning: Glyph 51221 missing from current font.\n",
      "  font.set_text(s, 0, flags=flags)\n",
      "C:\\Users\\sunho\\anaconda3\\lib\\site-packages\\matplotlib\\backends\\backend_agg.py:201: RuntimeWarning: Glyph 50780 missing from current font.\n",
      "  font.set_text(s, 0, flags=flags)\n"
     ]
    },
    {
     "data": {
      "image/png": "[encoded data removed]",
      "text/plain": [
       "<Figure size 1440x720 with 1 Axes>"
      ]
     },
     "metadata": {
      "needs_background": "light"
     },
     "output_type": "display_data"
    }
   ],
   "source": [
    "import matplotlib.pyplot as plt\n",
    "from matplotlib import font_manager, rc\n",
    "plt.figure(figsize=(20,10))\n",
    "fear_text.plot(50)"
   ]
  },
  {
   "cell_type": "code",
   "execution_count": 12,
   "id": "incoming-agent",
   "metadata": {},
   "outputs": [],
   "source": [
    "FEAR_FREQUENCY_COUNT = 10000;\n",
    "fear_selected_words = [f[0] for f in fear_text.vocab().most_common(FEAR_FREQUENCY_COUNT)]"
   ]
  },
  {
   "cell_type": "code",
   "execution_count": 13,
   "id": "committed-legend",
   "metadata": {},
   "outputs": [],
   "source": [
    "def fear_term_frequency(doc):\n",
    "    return [doc.count(word) for word in fear_selected_words]"
   ]
  },
  {
   "cell_type": "code",
   "execution_count": 14,
   "id": "boring-directive",
   "metadata": {},
   "outputs": [],
   "source": [
    "x_fear_train = [fear_term_frequency(d) for d,_ in train_fear_docs]\n",
    "x_fear_test = [fear_term_frequency(d) for d,_ in test_fear_docs]\n",
    "y_fear_train = [c for _,c in train_fear_docs]\n",
    "y_fear_test = [c for _,c in test_fear_docs]"
   ]
  },
  {
   "cell_type": "code",
   "execution_count": 15,
   "id": "loved-radiation",
   "metadata": {},
   "outputs": [],
   "source": [
    "import numpy as np\n",
    "x_fear_train = np.asarray(x_fear_train).astype('float32')\n",
    "x_fear_test = np.asarray(x_fear_test). astype('float32')\n",
    "\n",
    "y_fear_train = np.asarray(y_fear_train).astype('float32')\n",
    "y_fear_test = np.asarray(y_fear_test).astype('float32')"
   ]
  },
  {
   "cell_type": "code",
   "execution_count": 16,
   "id": "virgin-burst",
   "metadata": {},
   "outputs": [],
   "source": [
    "import tensorflow as tf\n",
    "fear_model= tf.keras.models.Sequential([\n",
    "    tf.keras.layers.Dense(64, activation = 'relu',input_shape=(FEAR_FREQUENCY_COUNT,)),\n",
    "    tf.keras.layers.Dense(64, activation = 'relu'),\n",
    "    tf.keras.layers.Dense(1, activation = 'sigmoid')\n",
    "])"
   ]
  },
  {
   "cell_type": "code",
   "execution_count": 17,
   "id": "statutory-screw",
   "metadata": {},
   "outputs": [],
   "source": [
    "fear_model.compile(optimizer=tf.keras.optimizers.RMSprop(lr=0.001),\n",
    "             loss=tf.keras.losses.binary_crossentropy,\n",
    "             metrics=[tf.keras.metrics.binary_accuracy]\n",
    "             )"
   ]
  },
  {
   "cell_type": "code",
   "execution_count": 18,
   "id": "infinite-chase",
   "metadata": {},
   "outputs": [
    {
     "name": "stdout",
     "output_type": "stream",
     "text": [
      "Epoch 1/50\n",
      "15/15 [==============================] - 0s 22ms/step - loss: 0.6646 - binary_accuracy: 0.6342\n",
      "Epoch 2/50\n",
      "15/15 [==============================] - 0s 21ms/step - loss: 0.5318 - binary_accuracy: 0.7839\n",
      "Epoch 3/50\n",
      "15/15 [==============================] - 0s 31ms/step - loss: 0.4128 - binary_accuracy: 0.8401\n",
      "Epoch 4/50\n",
      "15/15 [==============================] - 0s 22ms/step - loss: 0.3245 - binary_accuracy: 0.8805\n",
      "Epoch 5/50\n",
      "15/15 [==============================] - 0s 21ms/step - loss: 0.2565 - binary_accuracy: 0.9104\n",
      "Epoch 6/50\n",
      "15/15 [==============================] - 0s 20ms/step - loss: 0.2024 - binary_accuracy: 0.9333\n",
      "Epoch 7/50\n",
      "15/15 [==============================] - 0s 21ms/step - loss: 0.1591 - binary_accuracy: 0.9498\n",
      "Epoch 8/50\n",
      "15/15 [==============================] - 0s 21ms/step - loss: 0.1249 - binary_accuracy: 0.9613\n",
      "Epoch 9/50\n",
      "15/15 [==============================] - 0s 21ms/step - loss: 0.0976 - binary_accuracy: 0.9715\n",
      "Epoch 10/50\n",
      "15/15 [==============================] - 0s 22ms/step - loss: 0.0765 - binary_accuracy: 0.9796\n",
      "Epoch 11/50\n",
      "15/15 [==============================] - 0s 21ms/step - loss: 0.0598 - binary_accuracy: 0.9842\n",
      "Epoch 12/50\n",
      "15/15 [==============================] - 0s 21ms/step - loss: 0.0479 - binary_accuracy: 0.9867\n",
      "Epoch 13/50\n",
      "15/15 [==============================] - 0s 21ms/step - loss: 0.0369 - binary_accuracy: 0.9910\n",
      "Epoch 14/50\n",
      "15/15 [==============================] - 0s 22ms/step - loss: 0.0295 - binary_accuracy: 0.9928\n",
      "Epoch 15/50\n",
      "15/15 [==============================] - 0s 21ms/step - loss: 0.0230 - binary_accuracy: 0.9949\n",
      "Epoch 16/50\n",
      "15/15 [==============================] - 0s 21ms/step - loss: 0.0179 - binary_accuracy: 0.9961\n",
      "Epoch 17/50\n",
      "15/15 [==============================] - 0s 21ms/step - loss: 0.0144 - binary_accuracy: 0.9965\n",
      "Epoch 18/50\n",
      "15/15 [==============================] - 0s 21ms/step - loss: 0.0111 - binary_accuracy: 0.9975\n",
      "Epoch 19/50\n",
      "15/15 [==============================] - 0s 21ms/step - loss: 0.0087 - binary_accuracy: 0.9979\n",
      "Epoch 20/50\n",
      "15/15 [==============================] - 0s 23ms/step - loss: 0.0070 - binary_accuracy: 0.9986\n",
      "Epoch 21/50\n",
      "15/15 [==============================] - 0s 21ms/step - loss: 0.0053 - binary_accuracy: 0.9991\n",
      "Epoch 22/50\n",
      "15/15 [==============================] - 0s 21ms/step - loss: 0.0044 - binary_accuracy: 0.9988\n",
      "Epoch 23/50\n",
      "15/15 [==============================] - 0s 21ms/step - loss: 0.0034 - binary_accuracy: 0.9993\n",
      "Epoch 24/50\n",
      "15/15 [==============================] - 0s 20ms/step - loss: 0.0027 - binary_accuracy: 0.9999\n",
      "Epoch 25/50\n",
      "15/15 [==============================] - 0s 21ms/step - loss: 0.0023 - binary_accuracy: 0.9996\n",
      "Epoch 26/50\n",
      "15/15 [==============================] - 0s 21ms/step - loss: 0.0018 - binary_accuracy: 0.9997\n",
      "Epoch 27/50\n",
      "15/15 [==============================] - 0s 20ms/step - loss: 0.0015 - binary_accuracy: 0.9999\n",
      "Epoch 28/50\n",
      "15/15 [==============================] - 0s 22ms/step - loss: 0.0014 - binary_accuracy: 0.9996\n",
      "Epoch 29/50\n",
      "15/15 [==============================] - 0s 25ms/step - loss: 0.0011 - binary_accuracy: 0.9999\n",
      "Epoch 30/50\n",
      "15/15 [==============================] - 0s 24ms/step - loss: 9.3494e-04 - binary_accuracy: 0.9999\n",
      "Epoch 31/50\n",
      "15/15 [==============================] - 0s 21ms/step - loss: 7.9985e-04 - binary_accuracy: 0.9997\n",
      "Epoch 32/50\n",
      "15/15 [==============================] - 0s 21ms/step - loss: 9.0136e-04 - binary_accuracy: 0.9997\n",
      "Epoch 33/50\n",
      "15/15 [==============================] - 0s 21ms/step - loss: 8.1248e-04 - binary_accuracy: 0.9997\n",
      "Epoch 34/50\n",
      "15/15 [==============================] - 0s 23ms/step - loss: 6.0693e-04 - binary_accuracy: 0.9997\n",
      "Epoch 35/50\n",
      "15/15 [==============================] - 0s 21ms/step - loss: 6.8196e-04 - binary_accuracy: 0.9997\n",
      "Epoch 36/50\n",
      "15/15 [==============================] - 0s 23ms/step - loss: 6.5026e-04 - binary_accuracy: 0.9997\n",
      "Epoch 37/50\n",
      "15/15 [==============================] - 0s 21ms/step - loss: 5.8411e-04 - binary_accuracy: 0.9997\n",
      "Epoch 38/50\n",
      "15/15 [==============================] - 0s 20ms/step - loss: 6.1254e-04 - binary_accuracy: 0.9997\n",
      "Epoch 39/50\n",
      "15/15 [==============================] - 0s 24ms/step - loss: 6.3394e-04 - binary_accuracy: 0.9999\n",
      "Epoch 40/50\n",
      "15/15 [==============================] - 0s 21ms/step - loss: 5.9453e-04 - binary_accuracy: 0.9997\n",
      "Epoch 41/50\n",
      "15/15 [==============================] - 0s 21ms/step - loss: 4.8758e-04 - binary_accuracy: 0.9999\n",
      "Epoch 42/50\n",
      "15/15 [==============================] - 0s 21ms/step - loss: 4.9035e-04 - binary_accuracy: 0.9999\n",
      "Epoch 43/50\n",
      "15/15 [==============================] - 0s 22ms/step - loss: 4.7968e-04 - binary_accuracy: 0.9999\n",
      "Epoch 44/50\n",
      "15/15 [==============================] - 0s 21ms/step - loss: 5.4665e-04 - binary_accuracy: 0.9997\n",
      "Epoch 45/50\n",
      "15/15 [==============================] - 0s 21ms/step - loss: 4.1463e-04 - binary_accuracy: 0.9999\n",
      "Epoch 46/50\n",
      "15/15 [==============================] - 0s 23ms/step - loss: 5.3836e-04 - binary_accuracy: 0.9997\n",
      "Epoch 47/50\n",
      "15/15 [==============================] - 0s 21ms/step - loss: 4.5956e-04 - binary_accuracy: 0.9999\n",
      "Epoch 48/50\n",
      "15/15 [==============================] - 0s 23ms/step - loss: 5.9350e-04 - binary_accuracy: 0.9996\n",
      "Epoch 49/50\n",
      "15/15 [==============================] - 0s 23ms/step - loss: 5.7703e-04 - binary_accuracy: 0.9996\n",
      "Epoch 50/50\n",
      "15/15 [==============================] - 0s 19ms/step - loss: 4.4218e-04 - binary_accuracy: 0.9997\n"
     ]
    },
    {
     "data": {
      "text/plain": [
       "<tensorflow.python.keras.callbacks.History at 0x1a7436f6808>"
      ]
     },
     "execution_count": 18,
     "metadata": {},
     "output_type": "execute_result"
    }
   ],
   "source": [
    "fear_model.fit(x_fear_train, y_fear_train, epochs=50, batch_size=512)"
   ]
  },
  {
   "cell_type": "code",
   "execution_count": 19,
   "id": "prompt-reception",
   "metadata": {},
   "outputs": [
    {
     "name": "stdout",
     "output_type": "stream",
     "text": [
      "103/103 [==============================] - 0s 2ms/step - loss: 3.7155 - binary_accuracy: 0.6765\n"
     ]
    }
   ],
   "source": [
    "fear_results = fear_model.evaluate(x_fear_test, y_fear_test)"
   ]
  },
  {
   "cell_type": "code",
   "execution_count": 20,
   "id": "lyric-grove",
   "metadata": {},
   "outputs": [
    {
     "data": {
      "text/plain": [
       "[3.715549945831299, 0.6765244007110596]"
      ]
     },
     "execution_count": 20,
     "metadata": {},
     "output_type": "execute_result"
    }
   ],
   "source": [
    "fear_results"
   ]
  },
  {
   "cell_type": "code",
   "execution_count": 21,
   "id": "frank-nowhere",
   "metadata": {},
   "outputs": [],
   "source": [
    "fear_model.save('fear_model.h5')"
   ]
  },
  {
   "cell_type": "code",
   "execution_count": 22,
   "id": "adjacent-builder",
   "metadata": {},
   "outputs": [
    {
     "data": {
      "text/plain": [
       "['너무/Adverb', '무섭다/Adjective']"
      ]
     },
     "execution_count": 22,
     "metadata": {},
     "output_type": "execute_result"
    }
   ],
   "source": [
    "fear_review = \"너무 무섭다\"\n",
    "fear_token = tokenize(fear_review)\n",
    "fear_token"
   ]
  },
  {
   "cell_type": "code",
   "execution_count": 23,
   "id": "celtic-vampire",
   "metadata": {},
   "outputs": [
    {
     "data": {
      "text/plain": [
       "0.9999985694885254"
      ]
     },
     "execution_count": 23,
     "metadata": {},
     "output_type": "execute_result"
    }
   ],
   "source": [
    "tf = fear_term_frequency(fear_token)\n",
    "data = np.expand_dims(np.asarray(tf).astype('float32'),axis=0)\n",
    "float(fear_model.predict(data))"
   ]
  },
  {
   "cell_type": "code",
   "execution_count": 24,
   "id": "ongoing-cologne",
   "metadata": {},
   "outputs": [],
   "source": [
    "def fear_predict(predict):\n",
    "    fear_token = tokenize(predict)\n",
    "    fear_tfq = fear_term_frequency(fear_token)\n",
    "    fear_data = np.expand_dims(np.asarray(fear_tfq).astype('float32'), axis=0)\n",
    "    fear_score = float(fear_model.predict(fear_data))\n",
    "    if(fear_score > 0.5):\n",
    "        print(f\"{predict} ==> 공포 ({round(fear_score*100)}%)\")"
   ]
  },
  {
   "cell_type": "code",
   "execution_count": 25,
   "id": "harmful-drive",
   "metadata": {
    "scrolled": true
   },
   "outputs": [],
   "source": [
    "fear_predict(\"김은지 얼굴\")"
   ]
  },
  {
   "cell_type": "code",
   "execution_count": 24,
   "id": "determined-allen",
   "metadata": {},
   "outputs": [],
   "source": [
    "#놀람 감정 분석"
   ]
  },
  {
   "cell_type": "code",
   "execution_count": 26,
   "id": "vocational-service",
   "metadata": {},
   "outputs": [],
   "source": [
    "import pandas as pd\n",
    "train_surprise_df = pd.read_csv(\"surprisetraindata.txt\",\"\\t\")\n",
    "test_surprise_df = pd.read_csv(\"surprisetestdata.txt\",\"\\t\")"
   ]
  },
  {
   "cell_type": "code",
   "execution_count": 27,
   "id": "finished-exclusive",
   "metadata": {},
   "outputs": [],
   "source": [
    "from konlpy.tag import Okt\n",
    "okt_surprise = Okt()"
   ]
  },
  {
   "cell_type": "code",
   "execution_count": 28,
   "id": "legislative-supplier",
   "metadata": {},
   "outputs": [],
   "source": [
    "def tokenize(doc):\n",
    "    return ['/'.join(t) for t in okt_surprise.pos(doc, norm=True, stem=True)]"
   ]
  },
  {
   "cell_type": "code",
   "execution_count": 29,
   "id": "increased-decimal",
   "metadata": {},
   "outputs": [],
   "source": [
    "train_surprise_df.isnull().any()\n",
    "train_surprise_df['document'] = train_surprise_df['document'].fillna('');\n",
    "train_surprise_df.isnull().any()\n",
    "test_surprise_df['document'] = test_surprise_df['document'].fillna('');"
   ]
  },
  {
   "cell_type": "code",
   "execution_count": 30,
   "id": "infinite-nursing",
   "metadata": {},
   "outputs": [],
   "source": [
    "train_surprise_docs = [(tokenize(row[1]), row[2]) for row in train_surprise_df.values]\n",
    "test_surprise_docs = [(tokenize(row[1]),row[2]) for row in test_surprise_df.values]"
   ]
  },
  {
   "cell_type": "code",
   "execution_count": 31,
   "id": "still-globe",
   "metadata": {},
   "outputs": [
    {
     "name": "stdout",
     "output_type": "stream",
     "text": [
      "(['언니/Noun', '동생/Noun', '으로/Josa', '부르다/Verb', '맞다/Verb', '일/Noun', '인가요/Josa', '..??/Punctuation'], 0)\n",
      "(['톡/Noun', '크다/Verb', '언니/Noun', '들/Suffix', '임산부/Noun', '언니/Noun', '들/Suffix', 'ㅠㅠ/KoreanParticle'], 0)\n"
     ]
    }
   ],
   "source": [
    "print(train_surprise_docs[0])\n",
    "print(test_surprise_docs[0])"
   ]
  },
  {
   "cell_type": "code",
   "execution_count": 32,
   "id": "limiting-command",
   "metadata": {},
   "outputs": [
    {
     "name": "stdout",
     "output_type": "stream",
     "text": [
      "토큰개수: 75323\n"
     ]
    }
   ],
   "source": [
    "tokens = [t for d in train_surprise_docs for t in d[0]]\n",
    "print(\"토큰개수:\",len(tokens))"
   ]
  },
  {
   "cell_type": "code",
   "execution_count": 33,
   "id": "industrial-smell",
   "metadata": {},
   "outputs": [
    {
     "name": "stdout",
     "output_type": "stream",
     "text": [
      "75323\n",
      "11199\n",
      "[('하다/Verb', 2100), ('이/Josa', 1546), ('?/Punctuation', 1496), ('./Punctuation', 1182), ('가/Josa', 1176), ('에/Josa', 920), ('../Punctuation', 760), ('들/Suffix', 754), ('은/Josa', 744), ('.../Punctuation', 713)]\n"
     ]
    }
   ],
   "source": [
    "import nltk\n",
    "surprise_text = nltk.Text(tokens, name='NMSC')\n",
    "print(len(surprise_text.tokens))\n",
    "print(len(set(surprise_text.tokens)))\n",
    "print(surprise_text.vocab().most_common(10))"
   ]
  },
  {
   "cell_type": "code",
   "execution_count": 34,
   "id": "fundamental-investing",
   "metadata": {},
   "outputs": [
    {
     "name": "stderr",
     "output_type": "stream",
     "text": [
      "C:\\Users\\sunho\\anaconda3\\lib\\site-packages\\matplotlib\\backends\\backend_agg.py:238: RuntimeWarning: Glyph 12619 missing from current font.\n",
      "  font.set_text(s, 0.0, flags=flags)\n",
      "C:\\Users\\sunho\\anaconda3\\lib\\site-packages\\matplotlib\\backends\\backend_agg.py:238: RuntimeWarning: Glyph 44144 missing from current font.\n",
      "  font.set_text(s, 0.0, flags=flags)\n",
      "C:\\Users\\sunho\\anaconda3\\lib\\site-packages\\matplotlib\\backends\\backend_agg.py:238: RuntimeWarning: Glyph 45208 missing from current font.\n",
      "  font.set_text(s, 0.0, flags=flags)\n",
      "C:\\Users\\sunho\\anaconda3\\lib\\site-packages\\matplotlib\\backends\\backend_agg.py:238: RuntimeWarning: Glyph 44256 missing from current font.\n",
      "  font.set_text(s, 0.0, flags=flags)\n",
      "C:\\Users\\sunho\\anaconda3\\lib\\site-packages\\matplotlib\\backends\\backend_agg.py:201: RuntimeWarning: Glyph 12619 missing from current font.\n",
      "  font.set_text(s, 0, flags=flags)\n",
      "C:\\Users\\sunho\\anaconda3\\lib\\site-packages\\matplotlib\\backends\\backend_agg.py:201: RuntimeWarning: Glyph 44144 missing from current font.\n",
      "  font.set_text(s, 0, flags=flags)\n",
      "C:\\Users\\sunho\\anaconda3\\lib\\site-packages\\matplotlib\\backends\\backend_agg.py:201: RuntimeWarning: Glyph 45208 missing from current font.\n",
      "  font.set_text(s, 0, flags=flags)\n",
      "C:\\Users\\sunho\\anaconda3\\lib\\site-packages\\matplotlib\\backends\\backend_agg.py:201: RuntimeWarning: Glyph 44256 missing from current font.\n",
      "  font.set_text(s, 0, flags=flags)\n"
     ]
    },
    {
     "data": {
      "image/png": "[encoded data removed]",
      "text/plain": [
       "<Figure size 1440x720 with 1 Axes>"
      ]
     },
     "metadata": {
      "needs_background": "light"
     },
     "output_type": "display_data"
    }
   ],
   "source": [
    "import matplotlib.pyplot as plt\n",
    "from matplotlib import font_manager, rc\n",
    "plt.figure(figsize=(20,10))\n",
    "surprise_text.plot(50)"
   ]
  },
  {
   "cell_type": "code",
   "execution_count": 35,
   "id": "affiliated-soundtrack",
   "metadata": {},
   "outputs": [],
   "source": [
    "SURPRISE_FREQUENCY_COUNT = 10000;\n",
    "surprise_selected_words = [f[0] for f in surprise_text.vocab().most_common(SURPRISE_FREQUENCY_COUNT)]"
   ]
  },
  {
   "cell_type": "code",
   "execution_count": 36,
   "id": "frozen-electric",
   "metadata": {},
   "outputs": [],
   "source": [
    "def surprise_term_frequency(doc):\n",
    "    return [doc.count(word) for word in surprise_selected_words]"
   ]
  },
  {
   "cell_type": "code",
   "execution_count": 37,
   "id": "hired-formula",
   "metadata": {},
   "outputs": [],
   "source": [
    "x_surprise_train = [surprise_term_frequency(d) for d,_ in train_surprise_docs]\n",
    "x_surprise_test = [surprise_term_frequency(d) for d,_ in test_surprise_docs]\n",
    "y_surprise_train = [c for _,c in train_surprise_docs]\n",
    "y_surprise_test = [c for _,c in test_surprise_docs]"
   ]
  },
  {
   "cell_type": "code",
   "execution_count": 38,
   "id": "twenty-filename",
   "metadata": {},
   "outputs": [],
   "source": [
    "import numpy as np\n",
    "x_surprise_train = np.asarray(x_surprise_train).astype('float32')\n",
    "x_surprise_test = np.asarray(x_surprise_test). astype('float32')\n",
    "\n",
    "y_surprise_train = np.asarray(y_surprise_train).astype('float32')\n",
    "y_surprise_test = np.asarray(y_surprise_test).astype('float32')"
   ]
  },
  {
   "cell_type": "code",
   "execution_count": 39,
   "id": "stopped-window",
   "metadata": {},
   "outputs": [],
   "source": [
    "import tensorflow as tf\n",
    "surprise_model= tf.keras.models.Sequential([\n",
    "    tf.keras.layers.Dense(64, activation = 'relu',input_shape=(SURPRISE_FREQUENCY_COUNT,)),\n",
    "    tf.keras.layers.Dense(64, activation = 'relu'),\n",
    "    tf.keras.layers.Dense(1, activation = 'sigmoid')\n",
    "])"
   ]
  },
  {
   "cell_type": "code",
   "execution_count": 40,
   "id": "atmospheric-blast",
   "metadata": {},
   "outputs": [],
   "source": [
    "surprise_model.compile(optimizer=tf.keras.optimizers.RMSprop(lr=0.001),\n",
    "             loss=tf.keras.losses.binary_crossentropy,\n",
    "             metrics=[tf.keras.metrics.binary_accuracy]\n",
    "             )"
   ]
  },
  {
   "cell_type": "code",
   "execution_count": 41,
   "id": "sustainable-ticket",
   "metadata": {},
   "outputs": [
    {
     "name": "stdout",
     "output_type": "stream",
     "text": [
      "Epoch 1/50\n",
      "17/17 [==============================] - 0s 20ms/step - loss: 0.6623 - binary_accuracy: 0.6507\n",
      "Epoch 2/50\n",
      "17/17 [==============================] - 0s 22ms/step - loss: 0.5312 - binary_accuracy: 0.7829\n",
      "Epoch 3/50\n",
      "17/17 [==============================] - 0s 20ms/step - loss: 0.4143 - binary_accuracy: 0.8352\n",
      "Epoch 4/50\n",
      "17/17 [==============================] - 0s 20ms/step - loss: 0.3228 - binary_accuracy: 0.8780\n",
      "Epoch 5/50\n",
      "17/17 [==============================] - 0s 21ms/step - loss: 0.2541 - binary_accuracy: 0.9049\n",
      "Epoch 6/50\n",
      "17/17 [==============================] - 0s 20ms/step - loss: 0.1989 - binary_accuracy: 0.9294\n",
      "Epoch 7/50\n",
      "17/17 [==============================] - 0s 21ms/step - loss: 0.1551 - binary_accuracy: 0.9500\n",
      "Epoch 8/50\n",
      "17/17 [==============================] - 0s 20ms/step - loss: 0.1225 - binary_accuracy: 0.9621\n",
      "Epoch 9/50\n",
      "17/17 [==============================] - 0s 21ms/step - loss: 0.0947 - binary_accuracy: 0.9725\n",
      "Epoch 10/50\n",
      "17/17 [==============================] - 0s 21ms/step - loss: 0.0746 - binary_accuracy: 0.9792\n",
      "Epoch 11/50\n",
      "17/17 [==============================] - 0s 22ms/step - loss: 0.0583 - binary_accuracy: 0.9849\n",
      "Epoch 12/50\n",
      "17/17 [==============================] - 0s 22ms/step - loss: 0.0453 - binary_accuracy: 0.9887\n",
      "Epoch 13/50\n",
      "17/17 [==============================] - 0s 21ms/step - loss: 0.0351 - binary_accuracy: 0.9918\n",
      "Epoch 14/50\n",
      "17/17 [==============================] - 0s 22ms/step - loss: 0.0279 - binary_accuracy: 0.9931\n",
      "Epoch 15/50\n",
      "17/17 [==============================] - 0s 21ms/step - loss: 0.0210 - binary_accuracy: 0.9948\n",
      "Epoch 16/50\n",
      "17/17 [==============================] - 0s 21ms/step - loss: 0.0161 - binary_accuracy: 0.9965\n",
      "Epoch 17/50\n",
      "17/17 [==============================] - 0s 21ms/step - loss: 0.0122 - binary_accuracy: 0.9970\n",
      "Epoch 18/50\n",
      "17/17 [==============================] - 0s 21ms/step - loss: 0.0093 - binary_accuracy: 0.9979\n",
      "Epoch 19/50\n",
      "17/17 [==============================] - 0s 21ms/step - loss: 0.0072 - binary_accuracy: 0.9983\n",
      "Epoch 20/50\n",
      "17/17 [==============================] - 0s 22ms/step - loss: 0.0056 - binary_accuracy: 0.9993\n",
      "Epoch 21/50\n",
      "17/17 [==============================] - 0s 21ms/step - loss: 0.0041 - binary_accuracy: 0.9990\n",
      "Epoch 22/50\n",
      "17/17 [==============================] - 0s 20ms/step - loss: 0.0037 - binary_accuracy: 0.9994\n",
      "Epoch 23/50\n",
      "17/17 [==============================] - 0s 20ms/step - loss: 0.0027 - binary_accuracy: 0.9995\n",
      "Epoch 24/50\n",
      "17/17 [==============================] - 0s 20ms/step - loss: 0.0023 - binary_accuracy: 0.9998\n",
      "Epoch 25/50\n",
      "17/17 [==============================] - 0s 21ms/step - loss: 0.0018 - binary_accuracy: 0.9996\n",
      "Epoch 26/50\n",
      "17/17 [==============================] - 0s 21ms/step - loss: 0.0018 - binary_accuracy: 0.9994\n",
      "Epoch 27/50\n",
      "17/17 [==============================] - 0s 20ms/step - loss: 0.0014 - binary_accuracy: 0.9998\n",
      "Epoch 28/50\n",
      "17/17 [==============================] - 0s 22ms/step - loss: 0.0012 - binary_accuracy: 0.9996\n",
      "Epoch 29/50\n",
      "17/17 [==============================] - 0s 21ms/step - loss: 0.0011 - binary_accuracy: 0.9996\n",
      "Epoch 30/50\n",
      "17/17 [==============================] - 0s 21ms/step - loss: 0.0010 - binary_accuracy: 0.9998\n",
      "Epoch 31/50\n",
      "17/17 [==============================] - 0s 22ms/step - loss: 9.7471e-04 - binary_accuracy: 0.9996\n",
      "Epoch 32/50\n",
      "17/17 [==============================] - 0s 21ms/step - loss: 8.5810e-04 - binary_accuracy: 0.9998\n",
      "Epoch 33/50\n",
      "17/17 [==============================] - 0s 21ms/step - loss: 6.5882e-04 - binary_accuracy: 0.9999\n",
      "Epoch 34/50\n",
      "17/17 [==============================] - 0s 21ms/step - loss: 9.5553e-04 - binary_accuracy: 0.9994\n",
      "Epoch 35/50\n",
      "17/17 [==============================] - 0s 21ms/step - loss: 9.2401e-04 - binary_accuracy: 0.9996\n",
      "Epoch 36/50\n",
      "17/17 [==============================] - 0s 22ms/step - loss: 8.0099e-04 - binary_accuracy: 0.9998\n",
      "Epoch 37/50\n",
      "17/17 [==============================] - 0s 22ms/step - loss: 7.8436e-04 - binary_accuracy: 0.9995\n",
      "Epoch 38/50\n",
      "17/17 [==============================] - 0s 21ms/step - loss: 9.4296e-04 - binary_accuracy: 0.9996\n",
      "Epoch 39/50\n",
      "17/17 [==============================] - 0s 22ms/step - loss: 7.8840e-04 - binary_accuracy: 0.9996\n",
      "Epoch 40/50\n",
      "17/17 [==============================] - 0s 20ms/step - loss: 6.7372e-04 - binary_accuracy: 0.9996\n",
      "Epoch 41/50\n",
      "17/17 [==============================] - 0s 21ms/step - loss: 8.7807e-04 - binary_accuracy: 0.9995\n",
      "Epoch 42/50\n",
      "17/17 [==============================] - 0s 22ms/step - loss: 5.0926e-04 - binary_accuracy: 0.9998\n",
      "Epoch 43/50\n",
      "17/17 [==============================] - 0s 22ms/step - loss: 7.8187e-04 - binary_accuracy: 0.9996\n",
      "Epoch 44/50\n",
      "17/17 [==============================] - 0s 22ms/step - loss: 6.0480e-04 - binary_accuracy: 0.9996\n",
      "Epoch 45/50\n",
      "17/17 [==============================] - 0s 23ms/step - loss: 8.6890e-04 - binary_accuracy: 0.9996\n",
      "Epoch 46/50\n",
      "17/17 [==============================] - 0s 22ms/step - loss: 5.8661e-04 - binary_accuracy: 0.9998\n",
      "Epoch 47/50\n",
      "17/17 [==============================] - 0s 22ms/step - loss: 6.2447e-04 - binary_accuracy: 0.9998\n",
      "Epoch 48/50\n",
      "17/17 [==============================] - 0s 21ms/step - loss: 7.8514e-04 - binary_accuracy: 0.9996\n",
      "Epoch 49/50\n",
      "17/17 [==============================] - 0s 22ms/step - loss: 6.4179e-04 - binary_accuracy: 0.9998\n",
      "Epoch 50/50\n",
      "17/17 [==============================] - 0s 19ms/step - loss: 7.8258e-04 - binary_accuracy: 0.9996\n"
     ]
    },
    {
     "data": {
      "text/plain": [
       "<tensorflow.python.keras.callbacks.History at 0x1a7450afe08>"
      ]
     },
     "execution_count": 41,
     "metadata": {},
     "output_type": "execute_result"
    }
   ],
   "source": [
    "surprise_model.fit(x_surprise_train, y_surprise_train, epochs=50, batch_size=512)"
   ]
  },
  {
   "cell_type": "code",
   "execution_count": 42,
   "id": "statistical-surrey",
   "metadata": {},
   "outputs": [
    {
     "name": "stdout",
     "output_type": "stream",
     "text": [
      "111/111 [==============================] - 0s 2ms/step - loss: 4.1439 - binary_accuracy: 0.6506\n"
     ]
    }
   ],
   "source": [
    "surprise_results = surprise_model.evaluate(x_surprise_test, y_surprise_test)"
   ]
  },
  {
   "cell_type": "code",
   "execution_count": 43,
   "id": "parallel-scotland",
   "metadata": {},
   "outputs": [
    {
     "data": {
      "text/plain": [
       "[4.14385986328125, 0.6506229043006897]"
      ]
     },
     "execution_count": 43,
     "metadata": {},
     "output_type": "execute_result"
    }
   ],
   "source": [
    "surprise_results"
   ]
  },
  {
   "cell_type": "code",
   "execution_count": 44,
   "id": "affected-christianity",
   "metadata": {},
   "outputs": [],
   "source": [
    "surprise_model.save('surprise_model.h5')"
   ]
  },
  {
   "cell_type": "code",
   "execution_count": 45,
   "id": "uniform-refund",
   "metadata": {},
   "outputs": [
    {
     "data": {
      "text/plain": [
       "['너무/Adverb', '놀라다/Verb']"
      ]
     },
     "execution_count": 45,
     "metadata": {},
     "output_type": "execute_result"
    }
   ],
   "source": [
    "surprise_review = \"너무 놀랍다\"\n",
    "surprise_token = tokenize(surprise_review)\n",
    "surprise_token"
   ]
  },
  {
   "cell_type": "code",
   "execution_count": 46,
   "id": "hungry-message",
   "metadata": {},
   "outputs": [
    {
     "data": {
      "text/plain": [
       "0.9999825954437256"
      ]
     },
     "execution_count": 46,
     "metadata": {},
     "output_type": "execute_result"
    }
   ],
   "source": [
    "tf = surprise_term_frequency(surprise_token)\n",
    "data = np.expand_dims(np.asarray(tf).astype('float32'),axis=0)\n",
    "float(surprise_model.predict(data))"
   ]
  },
  {
   "cell_type": "code",
   "execution_count": 47,
   "id": "threatened-aviation",
   "metadata": {},
   "outputs": [],
   "source": [
    "def surprise_predict(predict):\n",
    "    surprise_token = tokenize(predict)\n",
    "    surprise_tfq = surprise_term_frequency(surprise_token)\n",
    "    surprise_data = np.expand_dims(np.asarray(surprise_tfq).astype('float32'), axis=0)\n",
    "    surprise_score = float(surprise_model.predict(surprise_data))\n",
    "    if(surprise_score > 0.5):\n",
    "        print(f\"{predict} ==> 놀람 ({round(surprise_score*100)}%)\")"
   ]
  },
  {
   "cell_type": "code",
   "execution_count": 48,
   "id": "cultural-begin",
   "metadata": {},
   "outputs": [
    {
     "name": "stdout",
     "output_type": "stream",
     "text": [
      "원재상 ==> 놀람 (100%)\n"
     ]
    }
   ],
   "source": [
    "surprise_predict(\"원재상\")"
   ]
  },
  {
   "cell_type": "code",
   "execution_count": 49,
   "id": "quarterly-firewall",
   "metadata": {},
   "outputs": [],
   "source": [
    "#분노 감정 분석"
   ]
  },
  {
   "cell_type": "code",
   "execution_count": 50,
   "id": "hearing-removal",
   "metadata": {},
   "outputs": [],
   "source": [
    "import pandas as pd\n",
    "train_anger_df = pd.read_csv(\"angertraindata.txt\",\"\\t\")\n",
    "test_anger_df = pd.read_csv(\"angertestdata.txt\",\"\\t\")"
   ]
  },
  {
   "cell_type": "code",
   "execution_count": 51,
   "id": "accessible-surveillance",
   "metadata": {},
   "outputs": [],
   "source": [
    "from konlpy.tag import Okt\n",
    "okt_anger = Okt()"
   ]
  },
  {
   "cell_type": "code",
   "execution_count": 52,
   "id": "packed-tucson",
   "metadata": {},
   "outputs": [],
   "source": [
    "def tokenize(doc):\n",
    "    return ['/'.join(t) for t in okt_anger.pos(doc, norm=True, stem=True)]"
   ]
  },
  {
   "cell_type": "code",
   "execution_count": 53,
   "id": "known-scottish",
   "metadata": {},
   "outputs": [],
   "source": [
    "train_anger_df.isnull().any()\n",
    "train_anger_df['document'] = train_anger_df['document'].fillna('');\n",
    "train_anger_df.isnull().any()\n",
    "test_anger_df['document'] = test_anger_df['document'].fillna('');"
   ]
  },
  {
   "cell_type": "code",
   "execution_count": 54,
   "id": "innovative-vatican",
   "metadata": {},
   "outputs": [],
   "source": [
    "train_anger_docs = [(tokenize(row[1]), row[2]) for row in train_anger_df.values]\n",
    "test_anger_docs = [(tokenize(row[1]),row[2]) for row in test_anger_df.values]"
   ]
  },
  {
   "cell_type": "code",
   "execution_count": 55,
   "id": "undefined-press",
   "metadata": {},
   "outputs": [
    {
     "name": "stdout",
     "output_type": "stream",
     "text": [
      "(['언니/Noun', '동생/Noun', '으로/Josa', '부르다/Verb', '맞다/Verb', '일/Noun', '인가요/Josa', '..??/Punctuation'], 0)\n",
      "(['톡/Noun', '크다/Verb', '언니/Noun', '들/Suffix', '임산부/Noun', '언니/Noun', '들/Suffix', 'ㅠㅠ/KoreanParticle'], 0)\n"
     ]
    }
   ],
   "source": [
    "print(train_anger_docs[0])\n",
    "print(test_anger_docs[0])"
   ]
  },
  {
   "cell_type": "code",
   "execution_count": 56,
   "id": "destroyed-scanner",
   "metadata": {},
   "outputs": [
    {
     "name": "stdout",
     "output_type": "stream",
     "text": [
      "토큰개수: 77355\n"
     ]
    }
   ],
   "source": [
    "tokens = [t for d in train_anger_docs for t in d[0]]\n",
    "print(\"토큰개수:\",len(tokens))"
   ]
  },
  {
   "cell_type": "code",
   "execution_count": 57,
   "id": "bizarre-application",
   "metadata": {},
   "outputs": [
    {
     "name": "stdout",
     "output_type": "stream",
     "text": [
      "77355\n",
      "10887\n",
      "[('하다/Verb', 2380), ('./Punctuation', 1428), ('이/Josa', 1382), ('들/Suffix', 1197), ('가/Josa', 1008), ('?/Punctuation', 989), ('에/Josa', 967), ('을/Josa', 820), ('은/Josa', 807), ('../Punctuation', 676)]\n"
     ]
    }
   ],
   "source": [
    "import nltk\n",
    "anger_text = nltk.Text(tokens, name='NMSC')\n",
    "print(len(anger_text.tokens))\n",
    "print(len(set(anger_text.tokens)))\n",
    "print(anger_text.vocab().most_common(10))"
   ]
  },
  {
   "cell_type": "code",
   "execution_count": 58,
   "id": "mobile-trout",
   "metadata": {},
   "outputs": [
    {
     "name": "stderr",
     "output_type": "stream",
     "text": [
      "C:\\Users\\sunho\\anaconda3\\lib\\site-packages\\matplotlib\\backends\\backend_agg.py:238: RuntimeWarning: Glyph 48155 missing from current font.\n",
      "  font.set_text(s, 0.0, flags=flags)\n",
      "C:\\Users\\sunho\\anaconda3\\lib\\site-packages\\matplotlib\\backends\\backend_agg.py:238: RuntimeWarning: Glyph 46972 missing from current font.\n",
      "  font.set_text(s, 0.0, flags=flags)\n",
      "C:\\Users\\sunho\\anaconda3\\lib\\site-packages\\matplotlib\\backends\\backend_agg.py:238: RuntimeWarning: Glyph 44397 missing from current font.\n",
      "  font.set_text(s, 0.0, flags=flags)\n",
      "C:\\Users\\sunho\\anaconda3\\lib\\site-packages\\matplotlib\\backends\\backend_agg.py:238: RuntimeWarning: Glyph 48124 missing from current font.\n",
      "  font.set_text(s, 0.0, flags=flags)\n",
      "C:\\Users\\sunho\\anaconda3\\lib\\site-packages\\matplotlib\\backends\\backend_agg.py:238: RuntimeWarning: Glyph 50416 missing from current font.\n",
      "  font.set_text(s, 0.0, flags=flags)\n",
      "C:\\Users\\sunho\\anaconda3\\lib\\site-packages\\matplotlib\\backends\\backend_agg.py:238: RuntimeWarning: Glyph 47112 missing from current font.\n",
      "  font.set_text(s, 0.0, flags=flags)\n",
      "C:\\Users\\sunho\\anaconda3\\lib\\site-packages\\matplotlib\\backends\\backend_agg.py:238: RuntimeWarning: Glyph 44592 missing from current font.\n",
      "  font.set_text(s, 0.0, flags=flags)\n",
      "C:\\Users\\sunho\\anaconda3\\lib\\site-packages\\matplotlib\\backends\\backend_agg.py:238: RuntimeWarning: Glyph 47673 missing from current font.\n",
      "  font.set_text(s, 0.0, flags=flags)\n",
      "C:\\Users\\sunho\\anaconda3\\lib\\site-packages\\matplotlib\\backends\\backend_agg.py:201: RuntimeWarning: Glyph 48155 missing from current font.\n",
      "  font.set_text(s, 0, flags=flags)\n",
      "C:\\Users\\sunho\\anaconda3\\lib\\site-packages\\matplotlib\\backends\\backend_agg.py:201: RuntimeWarning: Glyph 46972 missing from current font.\n",
      "  font.set_text(s, 0, flags=flags)\n",
      "C:\\Users\\sunho\\anaconda3\\lib\\site-packages\\matplotlib\\backends\\backend_agg.py:201: RuntimeWarning: Glyph 44397 missing from current font.\n",
      "  font.set_text(s, 0, flags=flags)\n",
      "C:\\Users\\sunho\\anaconda3\\lib\\site-packages\\matplotlib\\backends\\backend_agg.py:201: RuntimeWarning: Glyph 48124 missing from current font.\n",
      "  font.set_text(s, 0, flags=flags)\n",
      "C:\\Users\\sunho\\anaconda3\\lib\\site-packages\\matplotlib\\backends\\backend_agg.py:201: RuntimeWarning: Glyph 50416 missing from current font.\n",
      "  font.set_text(s, 0, flags=flags)\n",
      "C:\\Users\\sunho\\anaconda3\\lib\\site-packages\\matplotlib\\backends\\backend_agg.py:201: RuntimeWarning: Glyph 47112 missing from current font.\n",
      "  font.set_text(s, 0, flags=flags)\n",
      "C:\\Users\\sunho\\anaconda3\\lib\\site-packages\\matplotlib\\backends\\backend_agg.py:201: RuntimeWarning: Glyph 44592 missing from current font.\n",
      "  font.set_text(s, 0, flags=flags)\n",
      "C:\\Users\\sunho\\anaconda3\\lib\\site-packages\\matplotlib\\backends\\backend_agg.py:201: RuntimeWarning: Glyph 47673 missing from current font.\n",
      "  font.set_text(s, 0, flags=flags)\n"
     ]
    },
    {
     "data": {
      "image/png": "[encoded data removed]",
      "text/plain": [
       "<Figure size 1440x720 with 1 Axes>"
      ]
     },
     "metadata": {
      "needs_background": "light"
     },
     "output_type": "display_data"
    }
   ],
   "source": [
    "import matplotlib.pyplot as plt\n",
    "from matplotlib import font_manager, rc\n",
    "plt.figure(figsize=(20,10))\n",
    "anger_text.plot(50)"
   ]
  },
  {
   "cell_type": "code",
   "execution_count": 59,
   "id": "opposed-corruption",
   "metadata": {},
   "outputs": [],
   "source": [
    "ANGER_FREQUENCY_COUNT = 10000;\n",
    "anger_selected_words = [f[0] for f in anger_text.vocab().most_common(ANGER_FREQUENCY_COUNT)]"
   ]
  },
  {
   "cell_type": "code",
   "execution_count": 60,
   "id": "swedish-turtle",
   "metadata": {},
   "outputs": [],
   "source": [
    "def anger_term_frequency(doc):\n",
    "    return [doc.count(word) for word in anger_selected_words]"
   ]
  },
  {
   "cell_type": "code",
   "execution_count": 61,
   "id": "verified-choice",
   "metadata": {},
   "outputs": [],
   "source": [
    "x_anger_train = [anger_term_frequency(d) for d,_ in train_anger_docs]\n",
    "x_anger_test = [anger_term_frequency(d) for d,_ in test_anger_docs]\n",
    "y_anger_train = [c for _,c in train_anger_docs]\n",
    "y_anger_test = [c for _,c in test_anger_docs]"
   ]
  },
  {
   "cell_type": "code",
   "execution_count": 62,
   "id": "supported-internship",
   "metadata": {},
   "outputs": [],
   "source": [
    "import numpy as np\n",
    "x_anger_train = np.asarray(x_anger_train).astype('float32')\n",
    "x_anger_test = np.asarray(x_anger_test). astype('float32')\n",
    "\n",
    "y_anger_train = np.asarray(y_anger_train).astype('float32')\n",
    "y_anger_test = np.asarray(y_anger_test).astype('float32')"
   ]
  },
  {
   "cell_type": "code",
   "execution_count": 63,
   "id": "meaningful-collaboration",
   "metadata": {},
   "outputs": [],
   "source": [
    "import tensorflow as tf\n",
    "anger_model= tf.keras.models.Sequential([\n",
    "    tf.keras.layers.Dense(64, activation = 'relu',input_shape=(ANGER_FREQUENCY_COUNT,)),\n",
    "    tf.keras.layers.Dense(64, activation = 'relu'),\n",
    "    tf.keras.layers.Dense(1, activation = 'sigmoid')\n",
    "])"
   ]
  },
  {
   "cell_type": "code",
   "execution_count": 64,
   "id": "fundamental-argument",
   "metadata": {},
   "outputs": [],
   "source": [
    "anger_model.compile(optimizer=tf.keras.optimizers.RMSprop(lr=0.001),\n",
    "             loss=tf.keras.losses.binary_crossentropy,\n",
    "             metrics=[tf.keras.metrics.binary_accuracy]\n",
    "             )"
   ]
  },
  {
   "cell_type": "code",
   "execution_count": 65,
   "id": "removable-grill",
   "metadata": {},
   "outputs": [
    {
     "name": "stdout",
     "output_type": "stream",
     "text": [
      "Epoch 1/50\n",
      "16/16 [==============================] - 0s 21ms/step - loss: 0.6492 - binary_accuracy: 0.6636\n",
      "Epoch 2/50\n",
      "16/16 [==============================] - 0s 21ms/step - loss: 0.4984 - binary_accuracy: 0.8086\n",
      "Epoch 3/50\n",
      "16/16 [==============================] - 0s 21ms/step - loss: 0.3861 - binary_accuracy: 0.8562\n",
      "Epoch 4/50\n",
      "16/16 [==============================] - 0s 21ms/step - loss: 0.3062 - binary_accuracy: 0.8907\n",
      "Epoch 5/50\n",
      "16/16 [==============================] - 0s 21ms/step - loss: 0.2449 - binary_accuracy: 0.9133\n",
      "Epoch 6/50\n",
      "16/16 [==============================] - 0s 23ms/step - loss: 0.1945 - binary_accuracy: 0.9330\n",
      "Epoch 7/50\n",
      "16/16 [==============================] - 1s 34ms/step - loss: 0.1545 - binary_accuracy: 0.9480\n",
      "Epoch 8/50\n",
      "16/16 [==============================] - 0s 20ms/step - loss: 0.1195 - binary_accuracy: 0.9619\n",
      "Epoch 9/50\n",
      "16/16 [==============================] - 0s 20ms/step - loss: 0.0939 - binary_accuracy: 0.9710\n",
      "Epoch 10/50\n",
      "16/16 [==============================] - 0s 21ms/step - loss: 0.0719 - binary_accuracy: 0.9787\n",
      "Epoch 11/50\n",
      "16/16 [==============================] - 0s 20ms/step - loss: 0.0561 - binary_accuracy: 0.9859\n",
      "Epoch 12/50\n",
      "16/16 [==============================] - 0s 21ms/step - loss: 0.0432 - binary_accuracy: 0.9885\n",
      "Epoch 13/50\n",
      "16/16 [==============================] - 0s 21ms/step - loss: 0.0325 - binary_accuracy: 0.9913\n",
      "Epoch 14/50\n",
      "16/16 [==============================] - 0s 21ms/step - loss: 0.0245 - binary_accuracy: 0.9944\n",
      "Epoch 15/50\n",
      "16/16 [==============================] - 0s 22ms/step - loss: 0.0183 - binary_accuracy: 0.9961\n",
      "Epoch 16/50\n",
      "16/16 [==============================] - 0s 21ms/step - loss: 0.0135 - binary_accuracy: 0.9977\n",
      "Epoch 17/50\n",
      "16/16 [==============================] - 0s 21ms/step - loss: 0.0097 - binary_accuracy: 0.9982\n",
      "Epoch 18/50\n",
      "16/16 [==============================] - 0s 22ms/step - loss: 0.0067 - binary_accuracy: 0.9992\n",
      "Epoch 19/50\n",
      "16/16 [==============================] - 0s 21ms/step - loss: 0.0047 - binary_accuracy: 0.9994\n",
      "Epoch 20/50\n",
      "16/16 [==============================] - 0s 21ms/step - loss: 0.0032 - binary_accuracy: 0.9995\n",
      "Epoch 21/50\n",
      "16/16 [==============================] - 0s 21ms/step - loss: 0.0021 - binary_accuracy: 0.9996\n",
      "Epoch 22/50\n",
      "16/16 [==============================] - 0s 22ms/step - loss: 0.0015 - binary_accuracy: 0.9999\n",
      "Epoch 23/50\n",
      "16/16 [==============================] - 0s 22ms/step - loss: 9.5422e-04 - binary_accuracy: 1.0000\n",
      "Epoch 24/50\n",
      "16/16 [==============================] - 0s 23ms/step - loss: 7.0124e-04 - binary_accuracy: 0.9999\n",
      "Epoch 25/50\n",
      "16/16 [==============================] - 0s 21ms/step - loss: 4.2637e-04 - binary_accuracy: 1.0000\n",
      "Epoch 26/50\n",
      "16/16 [==============================] - 0s 21ms/step - loss: 2.7998e-04 - binary_accuracy: 1.0000\n",
      "Epoch 27/50\n",
      "16/16 [==============================] - 0s 21ms/step - loss: 2.0807e-04 - binary_accuracy: 1.0000\n",
      "Epoch 28/50\n",
      "16/16 [==============================] - 0s 22ms/step - loss: 1.5504e-04 - binary_accuracy: 1.0000\n",
      "Epoch 29/50\n",
      "16/16 [==============================] - 0s 22ms/step - loss: 1.0537e-04 - binary_accuracy: 1.0000\n",
      "Epoch 30/50\n",
      "16/16 [==============================] - 0s 21ms/step - loss: 7.3464e-05 - binary_accuracy: 1.0000\n",
      "Epoch 31/50\n",
      "16/16 [==============================] - 0s 21ms/step - loss: 4.2278e-05 - binary_accuracy: 1.0000\n",
      "Epoch 32/50\n",
      "16/16 [==============================] - 0s 22ms/step - loss: 3.0387e-05 - binary_accuracy: 1.0000\n",
      "Epoch 33/50\n",
      "16/16 [==============================] - 0s 22ms/step - loss: 2.2864e-05 - binary_accuracy: 1.0000\n",
      "Epoch 34/50\n",
      "16/16 [==============================] - 0s 21ms/step - loss: 1.9916e-05 - binary_accuracy: 1.0000\n",
      "Epoch 35/50\n",
      "16/16 [==============================] - 0s 21ms/step - loss: 8.7576e-06 - binary_accuracy: 1.0000\n",
      "Epoch 36/50\n",
      "16/16 [==============================] - 0s 21ms/step - loss: 7.6724e-06 - binary_accuracy: 1.0000\n",
      "Epoch 37/50\n",
      "16/16 [==============================] - 0s 22ms/step - loss: 5.1721e-06 - binary_accuracy: 1.0000\n",
      "Epoch 38/50\n",
      "16/16 [==============================] - 0s 22ms/step - loss: 3.6819e-06 - binary_accuracy: 1.0000\n",
      "Epoch 39/50\n",
      "16/16 [==============================] - 0s 22ms/step - loss: 2.2938e-06 - binary_accuracy: 1.0000\n",
      "Epoch 40/50\n",
      "16/16 [==============================] - 0s 21ms/step - loss: 2.0576e-06 - binary_accuracy: 1.0000\n",
      "Epoch 41/50\n",
      "16/16 [==============================] - 0s 24ms/step - loss: 1.3350e-06 - binary_accuracy: 1.0000\n",
      "Epoch 42/50\n",
      "16/16 [==============================] - 0s 22ms/step - loss: 8.3771e-07 - binary_accuracy: 1.0000\n",
      "Epoch 43/50\n",
      "16/16 [==============================] - 0s 22ms/step - loss: 8.4552e-07 - binary_accuracy: 1.0000\n",
      "Epoch 44/50\n",
      "16/16 [==============================] - 0s 21ms/step - loss: 5.0897e-07 - binary_accuracy: 1.0000\n",
      "Epoch 45/50\n",
      "16/16 [==============================] - 0s 22ms/step - loss: 3.1842e-07 - binary_accuracy: 1.0000\n",
      "Epoch 46/50\n",
      "16/16 [==============================] - 0s 21ms/step - loss: 2.5749e-07 - binary_accuracy: 1.0000\n",
      "Epoch 47/50\n",
      "16/16 [==============================] - 0s 21ms/step - loss: 2.5892e-07 - binary_accuracy: 1.0000\n",
      "Epoch 48/50\n",
      "16/16 [==============================] - 0s 21ms/step - loss: 1.9511e-07 - binary_accuracy: 1.0000\n",
      "Epoch 49/50\n",
      "16/16 [==============================] - 0s 21ms/step - loss: 1.6051e-07 - binary_accuracy: 1.0000\n",
      "Epoch 50/50\n",
      "16/16 [==============================] - 0s 21ms/step - loss: 1.2201e-07 - binary_accuracy: 1.0000\n"
     ]
    },
    {
     "data": {
      "text/plain": [
       "<tensorflow.python.keras.callbacks.History at 0x1a75664ad48>"
      ]
     },
     "execution_count": 65,
     "metadata": {},
     "output_type": "execute_result"
    }
   ],
   "source": [
    "anger_model.fit(x_anger_train, y_anger_train, epochs=50, batch_size=512)"
   ]
  },
  {
   "cell_type": "code",
   "execution_count": 66,
   "id": "stuck-significance",
   "metadata": {},
   "outputs": [
    {
     "name": "stdout",
     "output_type": "stream",
     "text": [
      "108/108 [==============================] - 0s 2ms/step - loss: 5.1554 - binary_accuracy: 0.6835\n"
     ]
    }
   ],
   "source": [
    "anger_results = anger_model.evaluate(x_anger_test, y_anger_test)"
   ]
  },
  {
   "cell_type": "code",
   "execution_count": 67,
   "id": "fresh-procedure",
   "metadata": {},
   "outputs": [
    {
     "data": {
      "text/plain": [
       "[5.155428886413574, 0.6834889054298401]"
      ]
     },
     "execution_count": 67,
     "metadata": {},
     "output_type": "execute_result"
    }
   ],
   "source": [
    "anger_results"
   ]
  },
  {
   "cell_type": "code",
   "execution_count": 68,
   "id": "final-telling",
   "metadata": {},
   "outputs": [],
   "source": [
    "anger_model.save('anger_model.h5')"
   ]
  },
  {
   "cell_type": "code",
   "execution_count": 69,
   "id": "personalized-throw",
   "metadata": {},
   "outputs": [
    {
     "data": {
      "text/plain": [
       "['너무/Adverb', '화나다/Verb']"
      ]
     },
     "execution_count": 69,
     "metadata": {},
     "output_type": "execute_result"
    }
   ],
   "source": [
    "anger_review = \"너무 화난다\"\n",
    "anger_token = tokenize(anger_review)\n",
    "anger_token"
   ]
  },
  {
   "cell_type": "code",
   "execution_count": 70,
   "id": "superior-hundred",
   "metadata": {},
   "outputs": [
    {
     "data": {
      "text/plain": [
       "1.0"
      ]
     },
     "execution_count": 70,
     "metadata": {},
     "output_type": "execute_result"
    }
   ],
   "source": [
    "tf = anger_term_frequency(anger_token)\n",
    "data = np.expand_dims(np.asarray(tf).astype('float32'),axis=0)\n",
    "float(anger_model.predict(data))"
   ]
  },
  {
   "cell_type": "code",
   "execution_count": 71,
   "id": "prime-bracelet",
   "metadata": {},
   "outputs": [],
   "source": [
    "def anger_predict(predict):\n",
    "    anger_token = tokenize(predict)\n",
    "    anger_tfq = anger_term_frequency(anger_token)\n",
    "    anger_data = np.expand_dims(np.asarray(anger_tfq).astype('float32'), axis=0)\n",
    "    anger_score = float(anger_model.predict(anger_data))\n",
    "    if(anger_score > 0.5):\n",
    "        print(f\"{predict} ==> 분노 ({round(anger_score*100)}%)\")"
   ]
  },
  {
   "cell_type": "code",
   "execution_count": 72,
   "id": "significant-experiment",
   "metadata": {},
   "outputs": [
    {
     "name": "stdout",
     "output_type": "stream",
     "text": [
      "분노 ==> 분노 (99%)\n"
     ]
    }
   ],
   "source": [
    "anger_predict(\"분노\")"
   ]
  },
  {
   "cell_type": "code",
   "execution_count": 73,
   "id": "brown-benjamin",
   "metadata": {},
   "outputs": [],
   "source": [
    "#슬픔 감정 분석"
   ]
  },
  {
   "cell_type": "code",
   "execution_count": 74,
   "id": "resistant-offset",
   "metadata": {},
   "outputs": [],
   "source": [
    "import pandas as pd\n",
    "train_sadness_df = pd.read_csv(\"sadnesstraindata.txt\",\"\\t\")\n",
    "test_sadness_df = pd.read_csv(\"sadnesstestdata.txt\",\"\\t\")"
   ]
  },
  {
   "cell_type": "code",
   "execution_count": 75,
   "id": "heavy-stock",
   "metadata": {},
   "outputs": [],
   "source": [
    "from konlpy.tag import Okt\n",
    "okt_sadness = Okt()"
   ]
  },
  {
   "cell_type": "code",
   "execution_count": 76,
   "id": "lasting-moore",
   "metadata": {},
   "outputs": [],
   "source": [
    "def tokenize(doc):\n",
    "    return ['/'.join(t) for t in okt_sadness.pos(doc, norm=True, stem=True)]"
   ]
  },
  {
   "cell_type": "code",
   "execution_count": 77,
   "id": "august-haven",
   "metadata": {},
   "outputs": [],
   "source": [
    "train_sadness_df.isnull().any()\n",
    "train_sadness_df['document'] = train_sadness_df['document'].fillna('');\n",
    "train_sadness_df.isnull().any()\n",
    "test_sadness_df['document'] = test_sadness_df['document'].fillna('');"
   ]
  },
  {
   "cell_type": "code",
   "execution_count": 78,
   "id": "threatened-paraguay",
   "metadata": {},
   "outputs": [],
   "source": [
    "train_sadness_docs = [(tokenize(row[1]), row[2]) for row in train_sadness_df.values]\n",
    "test_sadness_docs = [(tokenize(row[1]),row[2]) for row in test_sadness_df.values]"
   ]
  },
  {
   "cell_type": "code",
   "execution_count": 79,
   "id": "single-official",
   "metadata": {},
   "outputs": [
    {
     "name": "stdout",
     "output_type": "stream",
     "text": [
      "(['언니/Noun', '동생/Noun', '으로/Josa', '부르다/Verb', '맞다/Verb', '일/Noun', '인가요/Josa', '..??/Punctuation'], 0)\n",
      "(['톡/Noun', '크다/Verb', '언니/Noun', '들/Suffix', '임산부/Noun', '언니/Noun', '들/Suffix', 'ㅠㅠ/KoreanParticle'], 0)\n"
     ]
    }
   ],
   "source": [
    "print(train_sadness_docs[0])\n",
    "print(test_sadness_docs[0])"
   ]
  },
  {
   "cell_type": "code",
   "execution_count": 80,
   "id": "incorporate-mileage",
   "metadata": {},
   "outputs": [
    {
     "name": "stdout",
     "output_type": "stream",
     "text": [
      "토큰개수: 67544\n"
     ]
    }
   ],
   "source": [
    "tokens = [t for d in train_sadness_docs for t in d[0]]\n",
    "print(\"토큰개수:\",len(tokens))"
   ]
  },
  {
   "cell_type": "code",
   "execution_count": 81,
   "id": "amended-custom",
   "metadata": {},
   "outputs": [
    {
     "name": "stdout",
     "output_type": "stream",
     "text": [
      "67544\n",
      "9537\n",
      "[('하다/Verb', 2119), ('이/Josa', 1292), ('./Punctuation', 1234), ('가/Josa', 1005), ('../Punctuation', 976), ('에/Josa', 818), ('.../Punctuation', 806), ('?/Punctuation', 734), ('들/Suffix', 694), ('도/Josa', 664)]\n"
     ]
    }
   ],
   "source": [
    "import nltk\n",
    "sadness_text = nltk.Text(tokens, name='NMSC')\n",
    "print(len(sadness_text.tokens))\n",
    "print(len(set(sadness_text.tokens)))\n",
    "print(sadness_text.vocab().most_common(10))"
   ]
  },
  {
   "cell_type": "code",
   "execution_count": 82,
   "id": "minimal-antigua",
   "metadata": {},
   "outputs": [
    {
     "name": "stderr",
     "output_type": "stream",
     "text": [
      "C:\\Users\\sunho\\anaconda3\\lib\\site-packages\\matplotlib\\backends\\backend_agg.py:238: RuntimeWarning: Glyph 55192 missing from current font.\n",
      "  font.set_text(s, 0.0, flags=flags)\n",
      "C:\\Users\\sunho\\anaconda3\\lib\\site-packages\\matplotlib\\backends\\backend_agg.py:238: RuntimeWarning: Glyph 49373 missing from current font.\n",
      "  font.set_text(s, 0.0, flags=flags)\n",
      "C:\\Users\\sunho\\anaconda3\\lib\\site-packages\\matplotlib\\backends\\backend_agg.py:238: RuntimeWarning: Glyph 44033 missing from current font.\n",
      "  font.set_text(s, 0.0, flags=flags)\n",
      "C:\\Users\\sunho\\anaconda3\\lib\\site-packages\\matplotlib\\backends\\backend_agg.py:201: RuntimeWarning: Glyph 55192 missing from current font.\n",
      "  font.set_text(s, 0, flags=flags)\n",
      "C:\\Users\\sunho\\anaconda3\\lib\\site-packages\\matplotlib\\backends\\backend_agg.py:201: RuntimeWarning: Glyph 49373 missing from current font.\n",
      "  font.set_text(s, 0, flags=flags)\n",
      "C:\\Users\\sunho\\anaconda3\\lib\\site-packages\\matplotlib\\backends\\backend_agg.py:201: RuntimeWarning: Glyph 44033 missing from current font.\n",
      "  font.set_text(s, 0, flags=flags)\n"
     ]
    },
    {
     "data": {
      "image/png": "[encoded data removed]",
      "text/plain": [
       "<Figure size 1440x720 with 1 Axes>"
      ]
     },
     "metadata": {
      "needs_background": "light"
     },
     "output_type": "display_data"
    }
   ],
   "source": [
    "import matplotlib.pyplot as plt\n",
    "from matplotlib import font_manager, rc\n",
    "plt.figure(figsize=(20,10))\n",
    "sadness_text.plot(50)"
   ]
  },
  {
   "cell_type": "code",
   "execution_count": 83,
   "id": "extra-venezuela",
   "metadata": {},
   "outputs": [],
   "source": [
    "SADNESS_FREQUENCY_COUNT = 10000;\n",
    "sadness_selected_words = [f[0] for f in fear_text.vocab().most_common(SADNESS_FREQUENCY_COUNT)]"
   ]
  },
  {
   "cell_type": "code",
   "execution_count": 84,
   "id": "faced-worry",
   "metadata": {},
   "outputs": [],
   "source": [
    "def sadness_term_frequency(doc):\n",
    "    return [doc.count(word) for word in sadness_selected_words]"
   ]
  },
  {
   "cell_type": "code",
   "execution_count": 85,
   "id": "satisfactory-indianapolis",
   "metadata": {},
   "outputs": [],
   "source": [
    "x_sadness_train = [sadness_term_frequency(d) for d,_ in train_sadness_docs]\n",
    "x_sadness_test = [sadness_term_frequency(d) for d,_ in test_sadness_docs]\n",
    "y_sadness_train = [c for _,c in train_sadness_docs]\n",
    "y_sadness_test = [c for _,c in test_sadness_docs]"
   ]
  },
  {
   "cell_type": "code",
   "execution_count": 86,
   "id": "qualified-collectible",
   "metadata": {},
   "outputs": [],
   "source": [
    "import numpy as np\n",
    "x_sadness_train = np.asarray(x_sadness_train).astype('float32')\n",
    "x_sadness_test = np.asarray(x_sadness_test). astype('float32')\n",
    "\n",
    "y_sadness_train = np.asarray(y_sadness_train).astype('float32')\n",
    "y_sadness_test = np.asarray(y_sadness_test).astype('float32')"
   ]
  },
  {
   "cell_type": "code",
   "execution_count": 87,
   "id": "manufactured-blocking",
   "metadata": {},
   "outputs": [],
   "source": [
    "import tensorflow as tf\n",
    "sadness_model= tf.keras.models.Sequential([\n",
    "    tf.keras.layers.Dense(64, activation = 'relu',input_shape=(SADNESS_FREQUENCY_COUNT,)),\n",
    "    tf.keras.layers.Dense(64, activation = 'relu'),\n",
    "    tf.keras.layers.Dense(1, activation = 'sigmoid')\n",
    "])"
   ]
  },
  {
   "cell_type": "code",
   "execution_count": 88,
   "id": "committed-discharge",
   "metadata": {},
   "outputs": [],
   "source": [
    "sadness_model.compile(optimizer=tf.keras.optimizers.RMSprop(lr=0.001),\n",
    "             loss=tf.keras.losses.binary_crossentropy,\n",
    "             metrics=[tf.keras.metrics.binary_accuracy]\n",
    "             )"
   ]
  },
  {
   "cell_type": "code",
   "execution_count": 89,
   "id": "physical-airplane",
   "metadata": {},
   "outputs": [
    {
     "name": "stdout",
     "output_type": "stream",
     "text": [
      "Epoch 1/50\n",
      "15/15 [==============================] - 0s 21ms/step - loss: 0.6524 - binary_accuracy: 0.7075\n",
      "Epoch 2/50\n",
      "15/15 [==============================] - 0s 21ms/step - loss: 0.4854 - binary_accuracy: 0.8361\n",
      "Epoch 3/50\n",
      "15/15 [==============================] - 0s 22ms/step - loss: 0.3655 - binary_accuracy: 0.8700\n",
      "Epoch 4/50\n",
      "15/15 [==============================] - 0s 22ms/step - loss: 0.2891 - binary_accuracy: 0.8977\n",
      "Epoch 5/50\n",
      "15/15 [==============================] - 0s 21ms/step - loss: 0.2353 - binary_accuracy: 0.9145\n",
      "Epoch 6/50\n",
      "15/15 [==============================] - 0s 23ms/step - loss: 0.1925 - binary_accuracy: 0.9323\n",
      "Epoch 7/50\n",
      "15/15 [==============================] - 0s 33ms/step - loss: 0.1581 - binary_accuracy: 0.9449\n",
      "Epoch 8/50\n",
      "15/15 [==============================] - 0s 21ms/step - loss: 0.1302 - binary_accuracy: 0.9569\n",
      "Epoch 9/50\n",
      "15/15 [==============================] - 0s 22ms/step - loss: 0.1075 - binary_accuracy: 0.9655\n",
      "Epoch 10/50\n",
      "15/15 [==============================] - 0s 21ms/step - loss: 0.0879 - binary_accuracy: 0.9735\n",
      "Epoch 11/50\n",
      "15/15 [==============================] - 0s 22ms/step - loss: 0.0717 - binary_accuracy: 0.9780\n",
      "Epoch 12/50\n",
      "15/15 [==============================] - 0s 21ms/step - loss: 0.0596 - binary_accuracy: 0.9824\n",
      "Epoch 13/50\n",
      "15/15 [==============================] - 0s 21ms/step - loss: 0.0487 - binary_accuracy: 0.9867\n",
      "Epoch 14/50\n",
      "15/15 [==============================] - 0s 22ms/step - loss: 0.0390 - binary_accuracy: 0.9894\n",
      "Epoch 15/50\n",
      "15/15 [==============================] - 0s 23ms/step - loss: 0.0322 - binary_accuracy: 0.9915\n",
      "Epoch 16/50\n",
      "15/15 [==============================] - 0s 22ms/step - loss: 0.0266 - binary_accuracy: 0.9928\n",
      "Epoch 17/50\n",
      "15/15 [==============================] - 0s 21ms/step - loss: 0.0211 - binary_accuracy: 0.9942\n",
      "Epoch 18/50\n",
      "15/15 [==============================] - 0s 21ms/step - loss: 0.0173 - binary_accuracy: 0.9954\n",
      "Epoch 19/50\n",
      "15/15 [==============================] - 0s 22ms/step - loss: 0.0140 - binary_accuracy: 0.9961\n",
      "Epoch 20/50\n",
      "15/15 [==============================] - 0s 21ms/step - loss: 0.0120 - binary_accuracy: 0.9963\n",
      "Epoch 21/50\n",
      "15/15 [==============================] - 0s 22ms/step - loss: 0.0095 - binary_accuracy: 0.9974\n",
      "Epoch 22/50\n",
      "15/15 [==============================] - 0s 21ms/step - loss: 0.0078 - binary_accuracy: 0.9977\n",
      "Epoch 23/50\n",
      "15/15 [==============================] - 0s 21ms/step - loss: 0.0065 - binary_accuracy: 0.9985\n",
      "Epoch 24/50\n",
      "15/15 [==============================] - 0s 23ms/step - loss: 0.0051 - binary_accuracy: 0.9984\n",
      "Epoch 25/50\n",
      "15/15 [==============================] - 0s 22ms/step - loss: 0.0045 - binary_accuracy: 0.9989\n",
      "Epoch 26/50\n",
      "15/15 [==============================] - 0s 21ms/step - loss: 0.0037 - binary_accuracy: 0.9992\n",
      "Epoch 27/50\n",
      "15/15 [==============================] - 0s 22ms/step - loss: 0.0031 - binary_accuracy: 0.9995\n",
      "Epoch 28/50\n",
      "15/15 [==============================] - 0s 23ms/step - loss: 0.0024 - binary_accuracy: 0.9995\n",
      "Epoch 29/50\n",
      "15/15 [==============================] - 0s 22ms/step - loss: 0.0021 - binary_accuracy: 0.9996\n",
      "Epoch 30/50\n",
      "15/15 [==============================] - 0s 22ms/step - loss: 0.0019 - binary_accuracy: 0.9997\n",
      "Epoch 31/50\n",
      "15/15 [==============================] - 0s 22ms/step - loss: 0.0016 - binary_accuracy: 0.9996\n",
      "Epoch 32/50\n",
      "15/15 [==============================] - 0s 23ms/step - loss: 0.0013 - binary_accuracy: 0.9996\n",
      "Epoch 33/50\n",
      "15/15 [==============================] - 0s 21ms/step - loss: 0.0013 - binary_accuracy: 0.9995\n",
      "Epoch 34/50\n",
      "15/15 [==============================] - 0s 24ms/step - loss: 0.0011 - binary_accuracy: 0.9996\n",
      "Epoch 35/50\n",
      "15/15 [==============================] - 0s 23ms/step - loss: 0.0011 - binary_accuracy: 0.9996\n",
      "Epoch 36/50\n",
      "15/15 [==============================] - 0s 23ms/step - loss: 0.0010 - binary_accuracy: 0.9995\n",
      "Epoch 37/50\n",
      "15/15 [==============================] - 0s 23ms/step - loss: 9.3296e-04 - binary_accuracy: 0.9995\n",
      "Epoch 38/50\n",
      "15/15 [==============================] - 0s 23ms/step - loss: 8.4634e-04 - binary_accuracy: 0.9996\n",
      "Epoch 39/50\n",
      "15/15 [==============================] - 0s 23ms/step - loss: 6.8395e-04 - binary_accuracy: 0.9996\n",
      "Epoch 40/50\n",
      "15/15 [==============================] - 0s 23ms/step - loss: 6.8691e-04 - binary_accuracy: 0.9997\n",
      "Epoch 41/50\n",
      "15/15 [==============================] - 0s 21ms/step - loss: 7.1714e-04 - binary_accuracy: 0.9996\n",
      "Epoch 42/50\n",
      "15/15 [==============================] - 0s 22ms/step - loss: 6.7139e-04 - binary_accuracy: 0.9997\n",
      "Epoch 43/50\n",
      "15/15 [==============================] - 0s 22ms/step - loss: 4.4816e-04 - binary_accuracy: 0.9999\n",
      "Epoch 44/50\n",
      "15/15 [==============================] - 0s 21ms/step - loss: 6.7902e-04 - binary_accuracy: 0.9997\n",
      "Epoch 45/50\n",
      "15/15 [==============================] - 0s 22ms/step - loss: 5.3658e-04 - binary_accuracy: 0.9999\n",
      "Epoch 46/50\n",
      "15/15 [==============================] - 0s 23ms/step - loss: 4.8275e-04 - binary_accuracy: 0.9999\n",
      "Epoch 47/50\n",
      "15/15 [==============================] - 0s 22ms/step - loss: 6.6625e-04 - binary_accuracy: 0.9997\n",
      "Epoch 48/50\n",
      "15/15 [==============================] - 0s 23ms/step - loss: 5.6205e-04 - binary_accuracy: 0.9997\n",
      "Epoch 49/50\n",
      "15/15 [==============================] - 0s 22ms/step - loss: 5.3870e-04 - binary_accuracy: 0.9997\n",
      "Epoch 50/50\n",
      "15/15 [==============================] - 0s 20ms/step - loss: 5.4352e-04 - binary_accuracy: 0.9997\n"
     ]
    },
    {
     "data": {
      "text/plain": [
       "<tensorflow.python.keras.callbacks.History at 0x1a757c965c8>"
      ]
     },
     "execution_count": 89,
     "metadata": {},
     "output_type": "execute_result"
    }
   ],
   "source": [
    "sadness_model.fit(x_sadness_train, y_sadness_train, epochs=50, batch_size=512)"
   ]
  },
  {
   "cell_type": "code",
   "execution_count": 90,
   "id": "african-briefing",
   "metadata": {},
   "outputs": [
    {
     "name": "stdout",
     "output_type": "stream",
     "text": [
      "99/99 [==============================] - 0s 2ms/step - loss: 3.2250 - binary_accuracy: 0.7185\n"
     ]
    }
   ],
   "source": [
    "sadness_results = sadness_model.evaluate(x_sadness_test, y_sadness_test)"
   ]
  },
  {
   "cell_type": "code",
   "execution_count": 91,
   "id": "vocational-million",
   "metadata": {},
   "outputs": [
    {
     "data": {
      "text/plain": [
       "[3.224973440170288, 0.7184927463531494]"
      ]
     },
     "execution_count": 91,
     "metadata": {},
     "output_type": "execute_result"
    }
   ],
   "source": [
    "sadness_results"
   ]
  },
  {
   "cell_type": "code",
   "execution_count": 92,
   "id": "joint-frontier",
   "metadata": {},
   "outputs": [],
   "source": [
    "sadness_model.save('sadness_model.h5')"
   ]
  },
  {
   "cell_type": "code",
   "execution_count": 93,
   "id": "polish-canyon",
   "metadata": {},
   "outputs": [
    {
     "data": {
      "text/plain": [
       "['너무/Adverb', '화나다/Verb']"
      ]
     },
     "execution_count": 93,
     "metadata": {},
     "output_type": "execute_result"
    }
   ],
   "source": [
    "sadness_review = \"너무 화난다\"\n",
    "sadness_token = tokenize(sadness_review)\n",
    "sadness_token"
   ]
  },
  {
   "cell_type": "code",
   "execution_count": 94,
   "id": "interpreted-organ",
   "metadata": {},
   "outputs": [
    {
     "data": {
      "text/plain": [
       "0.0008635250851511955"
      ]
     },
     "execution_count": 94,
     "metadata": {},
     "output_type": "execute_result"
    }
   ],
   "source": [
    "tf = sadness_term_frequency(sadness_token)\n",
    "data = np.expand_dims(np.asarray(tf).astype('float32'),axis=0)\n",
    "float(sadness_model.predict(data))"
   ]
  },
  {
   "cell_type": "code",
   "execution_count": 95,
   "id": "monetary-handle",
   "metadata": {},
   "outputs": [],
   "source": [
    "def sadness_predict(predict):\n",
    "    sadness_token = tokenize(predict)\n",
    "    sadness_tfq = sadness_term_frequency(sadness_token)\n",
    "    sadness_data = np.expand_dims(np.asarray(sadness_tfq).astype('float32'), axis=0)\n",
    "    sadness_score = float(sadness_model.predict(sadness_data))\n",
    "    if(sadness_score > 0.5):\n",
    "        print(f\"{predict} ==> 슬픔 ({round(sadness_score*100)}%)\")"
   ]
  },
  {
   "cell_type": "code",
   "execution_count": 96,
   "id": "imperial-acrobat",
   "metadata": {},
   "outputs": [
    {
     "name": "stdout",
     "output_type": "stream",
     "text": [
      "나 오늘 기분 좋은 일 있어 ==> 슬픔 (100%)\n"
     ]
    }
   ],
   "source": [
    "sadness_predict(\"나 오늘 기분 좋은 일 있어\")"
   ]
  },
  {
   "cell_type": "code",
   "execution_count": 97,
   "id": "czech-gallery",
   "metadata": {},
   "outputs": [],
   "source": [
    "#중립 감정 분석"
   ]
  },
  {
   "cell_type": "code",
   "execution_count": 98,
   "id": "reported-directory",
   "metadata": {},
   "outputs": [],
   "source": [
    "import pandas as pd\n",
    "train_neutral_df = pd.read_csv(\"neutraltraindata.txt\",\"\\t\")\n",
    "test_neutral_df = pd.read_csv(\"neutraltestdata.txt\",\"\\t\")"
   ]
  },
  {
   "cell_type": "code",
   "execution_count": 99,
   "id": "painted-decade",
   "metadata": {},
   "outputs": [],
   "source": [
    "from konlpy.tag import Okt\n",
    "okt_neutral = Okt()"
   ]
  },
  {
   "cell_type": "code",
   "execution_count": 100,
   "id": "excellent-confidence",
   "metadata": {},
   "outputs": [],
   "source": [
    "def tokenize(doc):\n",
    "    return ['/'.join(t) for t in okt_neutral.pos(doc, norm=True, stem=True)]"
   ]
  },
  {
   "cell_type": "code",
   "execution_count": 101,
   "id": "attached-minneapolis",
   "metadata": {},
   "outputs": [],
   "source": [
    "train_neutral_docs = [(tokenize(row[1]), row[2]) for row in train_neutral_df.values]\n",
    "test_neutral_docs = [(tokenize(row[1]),row[2]) for row in test_neutral_df.values]"
   ]
  },
  {
   "cell_type": "code",
   "execution_count": 102,
   "id": "opening-decade",
   "metadata": {},
   "outputs": [
    {
     "name": "stdout",
     "output_type": "stream",
     "text": [
      "(['언니/Noun', '동생/Noun', '으로/Josa', '부르다/Verb', '맞다/Verb', '일/Noun', '인가요/Josa', '..??/Punctuation'], 0)\n",
      "(['톡/Noun', '크다/Verb', '언니/Noun', '들/Suffix', '임산부/Noun', '언니/Noun', '들/Suffix', 'ㅠㅠ/KoreanParticle'], 0)\n"
     ]
    }
   ],
   "source": [
    "print(train_neutral_docs[0])\n",
    "print(test_neutral_docs[0])"
   ]
  },
  {
   "cell_type": "code",
   "execution_count": 103,
   "id": "stock-vertical",
   "metadata": {},
   "outputs": [
    {
     "name": "stdout",
     "output_type": "stream",
     "text": [
      "토큰개수: 63825\n"
     ]
    }
   ],
   "source": [
    "tokens = [t for d in train_neutral_docs for t in d[0]]\n",
    "print(\"토큰개수:\",len(tokens))"
   ]
  },
  {
   "cell_type": "code",
   "execution_count": 104,
   "id": "premium-packet",
   "metadata": {},
   "outputs": [
    {
     "name": "stdout",
     "output_type": "stream",
     "text": [
      "63825\n",
      "10457\n",
      "[('하다/Verb', 2005), ('이/Josa', 1209), ('./Punctuation', 1141), ('가/Josa', 917), ('?/Punctuation', 841), ('에/Josa', 788), ('은/Josa', 746), ('들/Suffix', 680), ('../Punctuation', 579), ('을/Josa', 578)]\n"
     ]
    }
   ],
   "source": [
    "import nltk\n",
    "neutral_text = nltk.Text(tokens, name='NMSC')\n",
    "print(len(neutral_text.tokens))\n",
    "print(len(set(neutral_text.tokens)))\n",
    "print(neutral_text.vocab().most_common(10))"
   ]
  },
  {
   "cell_type": "code",
   "execution_count": 105,
   "id": "suffering-underground",
   "metadata": {},
   "outputs": [
    {
     "name": "stderr",
     "output_type": "stream",
     "text": [
      "C:\\Users\\sunho\\anaconda3\\lib\\site-packages\\matplotlib\\backends\\backend_agg.py:238: RuntimeWarning: Glyph 45908 missing from current font.\n",
      "  font.set_text(s, 0.0, flags=flags)\n",
      "C:\\Users\\sunho\\anaconda3\\lib\\site-packages\\matplotlib\\backends\\backend_agg.py:201: RuntimeWarning: Glyph 45908 missing from current font.\n",
      "  font.set_text(s, 0, flags=flags)\n"
     ]
    },
    {
     "data": {
      "image/png": "[encoded data removed]",
      "text/plain": [
       "<Figure size 1440x720 with 1 Axes>"
      ]
     },
     "metadata": {
      "needs_background": "light"
     },
     "output_type": "display_data"
    }
   ],
   "source": [
    "import matplotlib.pyplot as plt\n",
    "from matplotlib import font_manager, rc\n",
    "plt.figure(figsize=(20,10))\n",
    "neutral_text.plot(50)"
   ]
  },
  {
   "cell_type": "code",
   "execution_count": 106,
   "id": "welcome-tragedy",
   "metadata": {},
   "outputs": [],
   "source": [
    "NEUTRAL_FREQUENCY_COUNT = 10000;\n",
    "neutral_selected_words = [f[0] for f in neutral_text.vocab().most_common(NEUTRAL_FREQUENCY_COUNT)]"
   ]
  },
  {
   "cell_type": "code",
   "execution_count": 107,
   "id": "becoming-equation",
   "metadata": {},
   "outputs": [],
   "source": [
    "def neutral_term_frequency(doc):\n",
    "    return [doc.count(word) for word in neutral_selected_words]"
   ]
  },
  {
   "cell_type": "code",
   "execution_count": 108,
   "id": "handled-aging",
   "metadata": {},
   "outputs": [],
   "source": [
    "x_neutral_train = [neutral_term_frequency(d) for d,_ in train_neutral_docs]\n",
    "x_neutral_test = [neutral_term_frequency(d) for d,_ in test_neutral_docs]\n",
    "y_neutral_train = [c for _,c in train_neutral_docs]\n",
    "y_neutral_test = [c for _,c in test_neutral_docs]"
   ]
  },
  {
   "cell_type": "code",
   "execution_count": 109,
   "id": "complicated-interim",
   "metadata": {},
   "outputs": [],
   "source": [
    "import numpy as np\n",
    "x_neutral_train = np.asarray(x_neutral_train).astype('float32')\n",
    "x_neutral_test = np.asarray(x_neutral_test). astype('float32')\n",
    "\n",
    "y_neutral_train = np.asarray(y_neutral_train).astype('float32')\n",
    "y_neutral_test = np.asarray(y_neutral_test).astype('float32')"
   ]
  },
  {
   "cell_type": "code",
   "execution_count": 110,
   "id": "pretty-eleven",
   "metadata": {},
   "outputs": [],
   "source": [
    "import tensorflow as tf\n",
    "neutral_model= tf.keras.models.Sequential([\n",
    "    tf.keras.layers.Dense(64, activation = 'relu',input_shape=(NEUTRAL_FREQUENCY_COUNT,)),\n",
    "    tf.keras.layers.Dense(64, activation = 'relu'),\n",
    "    tf.keras.layers.Dense(1, activation = 'sigmoid')\n",
    "])"
   ]
  },
  {
   "cell_type": "code",
   "execution_count": 111,
   "id": "upset-forward",
   "metadata": {},
   "outputs": [],
   "source": [
    "neutral_model.compile(optimizer=tf.keras.optimizers.RMSprop(lr=0.001),\n",
    "             loss=tf.keras.losses.binary_crossentropy,\n",
    "             metrics=[tf.keras.metrics.binary_accuracy]\n",
    "             )"
   ]
  },
  {
   "cell_type": "code",
   "execution_count": 112,
   "id": "respective-stewart",
   "metadata": {},
   "outputs": [
    {
     "name": "stdout",
     "output_type": "stream",
     "text": [
      "Epoch 1/50\n",
      "14/14 [==============================] - 0s 24ms/step - loss: 0.6835 - binary_accuracy: 0.6047\n",
      "Epoch 2/50\n",
      "14/14 [==============================] - 0s 21ms/step - loss: 0.6001 - binary_accuracy: 0.7741\n",
      "Epoch 3/50\n",
      "14/14 [==============================] - 0s 22ms/step - loss: 0.4848 - binary_accuracy: 0.8196\n",
      "Epoch 4/50\n",
      "14/14 [==============================] - 0s 21ms/step - loss: 0.3833 - binary_accuracy: 0.8689\n",
      "Epoch 5/50\n",
      "14/14 [==============================] - 0s 22ms/step - loss: 0.3009 - binary_accuracy: 0.9003\n",
      "Epoch 6/50\n",
      "14/14 [==============================] - 0s 22ms/step - loss: 0.2335 - binary_accuracy: 0.9287\n",
      "Epoch 7/50\n",
      "14/14 [==============================] - 0s 21ms/step - loss: 0.1799 - binary_accuracy: 0.9466\n",
      "Epoch 8/50\n",
      "14/14 [==============================] - 1s 37ms/step - loss: 0.1372 - binary_accuracy: 0.9612\n",
      "Epoch 9/50\n",
      "14/14 [==============================] - 0s 20ms/step - loss: 0.1045 - binary_accuracy: 0.9717\n",
      "Epoch 10/50\n",
      "14/14 [==============================] - 0s 21ms/step - loss: 0.0782 - binary_accuracy: 0.9790\n",
      "Epoch 11/50\n",
      "14/14 [==============================] - 0s 20ms/step - loss: 0.0578 - binary_accuracy: 0.9870\n",
      "Epoch 12/50\n",
      "14/14 [==============================] - 0s 22ms/step - loss: 0.0424 - binary_accuracy: 0.9913\n",
      "Epoch 13/50\n",
      "14/14 [==============================] - 0s 21ms/step - loss: 0.0304 - binary_accuracy: 0.9953\n",
      "Epoch 14/50\n",
      "14/14 [==============================] - 0s 20ms/step - loss: 0.0216 - binary_accuracy: 0.9966\n",
      "Epoch 15/50\n",
      "14/14 [==============================] - 0s 21ms/step - loss: 0.0150 - binary_accuracy: 0.9984\n",
      "Epoch 16/50\n",
      "14/14 [==============================] - 0s 20ms/step - loss: 0.0104 - binary_accuracy: 0.9988\n",
      "Epoch 17/50\n",
      "14/14 [==============================] - 0s 20ms/step - loss: 0.0074 - binary_accuracy: 0.9996\n",
      "Epoch 18/50\n",
      "14/14 [==============================] - 0s 20ms/step - loss: 0.0051 - binary_accuracy: 0.9997\n",
      "Epoch 19/50\n",
      "14/14 [==============================] - 0s 20ms/step - loss: 0.0036 - binary_accuracy: 0.9997\n",
      "Epoch 20/50\n",
      "14/14 [==============================] - 0s 21ms/step - loss: 0.0027 - binary_accuracy: 0.9996\n",
      "Epoch 21/50\n",
      "14/14 [==============================] - 0s 22ms/step - loss: 0.0018 - binary_accuracy: 0.9996\n",
      "Epoch 22/50\n",
      "14/14 [==============================] - 0s 21ms/step - loss: 0.0013 - binary_accuracy: 0.9999\n",
      "Epoch 23/50\n",
      "14/14 [==============================] - 0s 22ms/step - loss: 0.0012 - binary_accuracy: 0.9997\n",
      "Epoch 24/50\n",
      "14/14 [==============================] - 0s 21ms/step - loss: 8.4812e-04 - binary_accuracy: 0.9997\n",
      "Epoch 25/50\n",
      "14/14 [==============================] - 0s 21ms/step - loss: 7.6931e-04 - binary_accuracy: 0.9997\n",
      "Epoch 26/50\n",
      "14/14 [==============================] - 0s 20ms/step - loss: 6.2692e-04 - binary_accuracy: 0.9999\n",
      "Epoch 27/50\n",
      "14/14 [==============================] - 0s 20ms/step - loss: 3.8688e-04 - binary_accuracy: 0.9999\n",
      "Epoch 28/50\n",
      "14/14 [==============================] - 0s 21ms/step - loss: 5.7116e-04 - binary_accuracy: 0.9997\n",
      "Epoch 29/50\n",
      "14/14 [==============================] - 0s 21ms/step - loss: 4.1233e-04 - binary_accuracy: 0.9999\n",
      "Epoch 30/50\n",
      "14/14 [==============================] - 0s 22ms/step - loss: 4.0540e-04 - binary_accuracy: 0.9997\n",
      "Epoch 31/50\n",
      "14/14 [==============================] - 0s 24ms/step - loss: 3.7228e-04 - binary_accuracy: 0.9999\n",
      "Epoch 32/50\n",
      "14/14 [==============================] - 0s 22ms/step - loss: 2.9417e-04 - binary_accuracy: 0.9999\n",
      "Epoch 33/50\n",
      "14/14 [==============================] - 0s 23ms/step - loss: 3.7099e-04 - binary_accuracy: 0.9997\n",
      "Epoch 34/50\n",
      "14/14 [==============================] - 0s 21ms/step - loss: 3.8968e-04 - binary_accuracy: 0.9999\n",
      "Epoch 35/50\n",
      "14/14 [==============================] - 0s 23ms/step - loss: 3.7965e-04 - binary_accuracy: 0.9997\n",
      "Epoch 36/50\n",
      "14/14 [==============================] - 0s 22ms/step - loss: 3.6738e-04 - binary_accuracy: 0.9997\n",
      "Epoch 37/50\n",
      "14/14 [==============================] - 0s 23ms/step - loss: 3.6620e-04 - binary_accuracy: 0.9999\n",
      "Epoch 38/50\n",
      "14/14 [==============================] - 0s 22ms/step - loss: 3.6137e-04 - binary_accuracy: 0.9999\n",
      "Epoch 39/50\n",
      "14/14 [==============================] - 0s 21ms/step - loss: 3.4521e-04 - binary_accuracy: 0.9997\n",
      "Epoch 40/50\n",
      "14/14 [==============================] - 0s 22ms/step - loss: 3.9750e-04 - binary_accuracy: 0.9997\n",
      "Epoch 41/50\n",
      "14/14 [==============================] - 0s 22ms/step - loss: 3.6797e-04 - binary_accuracy: 0.9999\n",
      "Epoch 42/50\n",
      "14/14 [==============================] - 0s 21ms/step - loss: 4.0518e-04 - binary_accuracy: 0.9997\n",
      "Epoch 43/50\n",
      "14/14 [==============================] - 0s 21ms/step - loss: 3.8565e-04 - binary_accuracy: 0.9997\n",
      "Epoch 44/50\n",
      "14/14 [==============================] - 0s 21ms/step - loss: 3.9586e-04 - binary_accuracy: 0.9997\n",
      "Epoch 45/50\n",
      "14/14 [==============================] - 0s 21ms/step - loss: 3.8495e-04 - binary_accuracy: 0.9997\n",
      "Epoch 46/50\n",
      "14/14 [==============================] - 0s 22ms/step - loss: 3.6398e-04 - binary_accuracy: 0.9999\n",
      "Epoch 47/50\n",
      "14/14 [==============================] - 0s 21ms/step - loss: 2.3939e-04 - binary_accuracy: 0.9999\n",
      "Epoch 48/50\n",
      "14/14 [==============================] - 0s 23ms/step - loss: 2.0709e-04 - binary_accuracy: 0.9999\n",
      "Epoch 49/50\n",
      "14/14 [==============================] - 0s 23ms/step - loss: 3.4754e-04 - binary_accuracy: 0.9999\n",
      "Epoch 50/50\n",
      "14/14 [==============================] - 0s 19ms/step - loss: 3.5085e-04 - binary_accuracy: 0.9999\n"
     ]
    },
    {
     "data": {
      "text/plain": [
       "<tensorflow.python.keras.callbacks.History at 0x1a7592a7048>"
      ]
     },
     "execution_count": 112,
     "metadata": {},
     "output_type": "execute_result"
    }
   ],
   "source": [
    "neutral_model.fit(x_neutral_train, y_neutral_train, epochs=50, batch_size=512)"
   ]
  },
  {
   "cell_type": "code",
   "execution_count": 113,
   "id": "cleared-performer",
   "metadata": {},
   "outputs": [
    {
     "name": "stdout",
     "output_type": "stream",
     "text": [
      "91/91 [==============================] - 0s 2ms/step - loss: 4.3855 - binary_accuracy: 0.6128\n"
     ]
    }
   ],
   "source": [
    "neutral_results = neutral_model.evaluate(x_neutral_test, y_neutral_test)"
   ]
  },
  {
   "cell_type": "code",
   "execution_count": 114,
   "id": "homeless-rates",
   "metadata": {},
   "outputs": [
    {
     "data": {
      "text/plain": [
       "[4.385465621948242, 0.6127806305885315]"
      ]
     },
     "execution_count": 114,
     "metadata": {},
     "output_type": "execute_result"
    }
   ],
   "source": [
    "neutral_results"
   ]
  },
  {
   "cell_type": "code",
   "execution_count": 115,
   "id": "powerful-harmony",
   "metadata": {},
   "outputs": [],
   "source": [
    "neutral_model.save('neutral_model.h5')"
   ]
  },
  {
   "cell_type": "code",
   "execution_count": 116,
   "id": "signal-sustainability",
   "metadata": {},
   "outputs": [
    {
     "data": {
      "text/plain": [
       "['너무/Adverb', '화나다/Verb']"
      ]
     },
     "execution_count": 116,
     "metadata": {},
     "output_type": "execute_result"
    }
   ],
   "source": [
    "neutral_review = \"너무 화난다\"\n",
    "neutral_token = tokenize(neutral_review)\n",
    "neutral_token"
   ]
  },
  {
   "cell_type": "code",
   "execution_count": 117,
   "id": "supreme-loading",
   "metadata": {},
   "outputs": [
    {
     "data": {
      "text/plain": [
       "1.5337585864472203e-05"
      ]
     },
     "execution_count": 117,
     "metadata": {},
     "output_type": "execute_result"
    }
   ],
   "source": [
    "tf = neutral_term_frequency(neutral_token)\n",
    "data = np.expand_dims(np.asarray(tf).astype('float32'),axis=0)\n",
    "float(neutral_model.predict(data))"
   ]
  },
  {
   "cell_type": "code",
   "execution_count": 118,
   "id": "proud-owner",
   "metadata": {},
   "outputs": [],
   "source": [
    "def neutral_predict(predict):\n",
    "    neutral_token = tokenize(predict)\n",
    "    neutral_tfq = neutral_term_frequency(neutral_token)\n",
    "    neutral_data = np.expand_dims(np.asarray(neutral_tfq).astype('float32'), axis=0)\n",
    "    neutral_score = float(neutral_model.predict(neutral_data))\n",
    "    if(neutral_score > 0.5):\n",
    "        print(f\"{predict} ==> 중립 ({round(neutral_score*100)}%)\")"
   ]
  },
  {
   "cell_type": "code",
   "execution_count": 119,
   "id": "sporting-julian",
   "metadata": {},
   "outputs": [
    {
     "name": "stdout",
     "output_type": "stream",
     "text": [
      "안녕 ==> 중립 (100%)\n"
     ]
    }
   ],
   "source": [
    "neutral_predict(\"안녕\")"
   ]
  },
  {
   "cell_type": "code",
   "execution_count": 120,
   "id": "ceramic-allergy",
   "metadata": {},
   "outputs": [],
   "source": [
    "#행복 감정 분석"
   ]
  },
  {
   "cell_type": "code",
   "execution_count": 121,
   "id": "voluntary-hypothesis",
   "metadata": {},
   "outputs": [],
   "source": [
    "import pandas as pd\n",
    "train_happy_df = pd.read_csv(\"happytraindata.txt\",\"\\t\")\n",
    "test_happy_df = pd.read_csv(\"happytestdata.txt\",\"\\t\")"
   ]
  },
  {
   "cell_type": "code",
   "execution_count": 122,
   "id": "hindu-district",
   "metadata": {},
   "outputs": [],
   "source": [
    "from konlpy.tag import Okt\n",
    "okt_happy = Okt()"
   ]
  },
  {
   "cell_type": "code",
   "execution_count": 123,
   "id": "upset-inspector",
   "metadata": {},
   "outputs": [],
   "source": [
    "def tokenize(doc):\n",
    "    return ['/'.join(t) for t in okt_happy.pos(doc, norm=True, stem=True)]"
   ]
  },
  {
   "cell_type": "code",
   "execution_count": 124,
   "id": "narrative-librarian",
   "metadata": {},
   "outputs": [],
   "source": [
    "train_happy_docs = [(tokenize(row[1]), row[2]) for row in train_happy_df.values]\n",
    "test_happy_docs = [(tokenize(row[1]),row[2]) for row in test_happy_df.values]"
   ]
  },
  {
   "cell_type": "code",
   "execution_count": 125,
   "id": "consistent-notebook",
   "metadata": {},
   "outputs": [
    {
     "name": "stdout",
     "output_type": "stream",
     "text": [
      "(['언니/Noun', '동생/Noun', '으로/Josa', '부르다/Verb', '맞다/Verb', '일/Noun', '인가요/Josa', '..??/Punctuation'], 0)\n",
      "(['톡/Noun', '크다/Verb', '언니/Noun', '들/Suffix', '임산부/Noun', '언니/Noun', '들/Suffix', 'ㅠㅠ/KoreanParticle'], 0)\n"
     ]
    }
   ],
   "source": [
    "print(train_happy_docs[0])\n",
    "print(test_happy_docs[0])"
   ]
  },
  {
   "cell_type": "code",
   "execution_count": 126,
   "id": "loving-azerbaijan",
   "metadata": {},
   "outputs": [
    {
     "name": "stdout",
     "output_type": "stream",
     "text": [
      "토큰개수: 77548\n"
     ]
    }
   ],
   "source": [
    "tokens = [t for d in train_happy_docs for t in d[0]]\n",
    "print(\"토큰개수:\",len(tokens))"
   ]
  },
  {
   "cell_type": "code",
   "execution_count": 127,
   "id": "mediterranean-checkout",
   "metadata": {},
   "outputs": [
    {
     "name": "stdout",
     "output_type": "stream",
     "text": [
      "77548\n",
      "10639\n",
      "[('하다/Verb', 2494), ('./Punctuation', 1664), ('이/Josa', 1364), ('가/Josa', 998), ('에/Josa', 969), ('들/Suffix', 818), ('을/Josa', 784), ('../Punctuation', 780), ('?/Punctuation', 702), ('은/Josa', 677)]\n"
     ]
    }
   ],
   "source": [
    "import nltk\n",
    "happy_text = nltk.Text(tokens, name='NMSC')\n",
    "print(len(happy_text.tokens))\n",
    "print(len(set(happy_text.tokens)))\n",
    "print(happy_text.vocab().most_common(10))"
   ]
  },
  {
   "cell_type": "code",
   "execution_count": 128,
   "id": "coordinated-possible",
   "metadata": {},
   "outputs": [
    {
     "name": "stderr",
     "output_type": "stream",
     "text": [
      "C:\\Users\\sunho\\anaconda3\\lib\\site-packages\\matplotlib\\backends\\backend_agg.py:238: RuntimeWarning: Glyph 44048 missing from current font.\n",
      "  font.set_text(s, 0.0, flags=flags)\n",
      "C:\\Users\\sunho\\anaconda3\\lib\\site-packages\\matplotlib\\backends\\backend_agg.py:238: RuntimeWarning: Glyph 45784 missing from current font.\n",
      "  font.set_text(s, 0.0, flags=flags)\n",
      "C:\\Users\\sunho\\anaconda3\\lib\\site-packages\\matplotlib\\backends\\backend_agg.py:238: RuntimeWarning: Glyph 51096 missing from current font.\n",
      "  font.set_text(s, 0.0, flags=flags)\n",
      "C:\\Users\\sunho\\anaconda3\\lib\\site-packages\\matplotlib\\backends\\backend_agg.py:238: RuntimeWarning: Glyph 47577 missing from current font.\n",
      "  font.set_text(s, 0.0, flags=flags)\n",
      "C:\\Users\\sunho\\anaconda3\\lib\\site-packages\\matplotlib\\backends\\backend_agg.py:238: RuntimeWarning: Glyph 47566 missing from current font.\n",
      "  font.set_text(s, 0.0, flags=flags)\n",
      "C:\\Users\\sunho\\anaconda3\\lib\\site-packages\\matplotlib\\backends\\backend_agg.py:238: RuntimeWarning: Glyph 54644 missing from current font.\n",
      "  font.set_text(s, 0.0, flags=flags)\n",
      "C:\\Users\\sunho\\anaconda3\\lib\\site-packages\\matplotlib\\backends\\backend_agg.py:238: RuntimeWarning: Glyph 51452 missing from current font.\n",
      "  font.set_text(s, 0.0, flags=flags)\n",
      "C:\\Users\\sunho\\anaconda3\\lib\\site-packages\\matplotlib\\backends\\backend_agg.py:238: RuntimeWarning: Glyph 46412 missing from current font.\n",
      "  font.set_text(s, 0.0, flags=flags)\n",
      "C:\\Users\\sunho\\anaconda3\\lib\\site-packages\\matplotlib\\backends\\backend_agg.py:201: RuntimeWarning: Glyph 44048 missing from current font.\n",
      "  font.set_text(s, 0, flags=flags)\n",
      "C:\\Users\\sunho\\anaconda3\\lib\\site-packages\\matplotlib\\backends\\backend_agg.py:201: RuntimeWarning: Glyph 45784 missing from current font.\n",
      "  font.set_text(s, 0, flags=flags)\n",
      "C:\\Users\\sunho\\anaconda3\\lib\\site-packages\\matplotlib\\backends\\backend_agg.py:201: RuntimeWarning: Glyph 51096 missing from current font.\n",
      "  font.set_text(s, 0, flags=flags)\n",
      "C:\\Users\\sunho\\anaconda3\\lib\\site-packages\\matplotlib\\backends\\backend_agg.py:201: RuntimeWarning: Glyph 47577 missing from current font.\n",
      "  font.set_text(s, 0, flags=flags)\n",
      "C:\\Users\\sunho\\anaconda3\\lib\\site-packages\\matplotlib\\backends\\backend_agg.py:201: RuntimeWarning: Glyph 47566 missing from current font.\n",
      "  font.set_text(s, 0, flags=flags)\n",
      "C:\\Users\\sunho\\anaconda3\\lib\\site-packages\\matplotlib\\backends\\backend_agg.py:201: RuntimeWarning: Glyph 54644 missing from current font.\n",
      "  font.set_text(s, 0, flags=flags)\n",
      "C:\\Users\\sunho\\anaconda3\\lib\\site-packages\\matplotlib\\backends\\backend_agg.py:201: RuntimeWarning: Glyph 51452 missing from current font.\n",
      "  font.set_text(s, 0, flags=flags)\n",
      "C:\\Users\\sunho\\anaconda3\\lib\\site-packages\\matplotlib\\backends\\backend_agg.py:201: RuntimeWarning: Glyph 46412 missing from current font.\n",
      "  font.set_text(s, 0, flags=flags)\n"
     ]
    },
    {
     "data": {
      "image/png": "[encoded data removed]",
      "text/plain": [
       "<Figure size 1440x720 with 1 Axes>"
      ]
     },
     "metadata": {
      "needs_background": "light"
     },
     "output_type": "display_data"
    }
   ],
   "source": [
    "import matplotlib.pyplot as plt\n",
    "from matplotlib import font_manager, rc\n",
    "plt.figure(figsize=(20,10))\n",
    "happy_text.plot(50)"
   ]
  },
  {
   "cell_type": "code",
   "execution_count": 129,
   "id": "effective-missouri",
   "metadata": {},
   "outputs": [],
   "source": [
    "HAPPY_FREQUENCY_COUNT = 10000;\n",
    "happy_selected_words = [f[0] for f in happy_text.vocab().most_common(HAPPY_FREQUENCY_COUNT)]"
   ]
  },
  {
   "cell_type": "code",
   "execution_count": 130,
   "id": "published-trinity",
   "metadata": {},
   "outputs": [],
   "source": [
    "def happy_term_frequency(doc):\n",
    "    return [doc.count(word) for word in happy_selected_words]"
   ]
  },
  {
   "cell_type": "code",
   "execution_count": 131,
   "id": "single-interstate",
   "metadata": {},
   "outputs": [],
   "source": [
    "x_happy_train = [happy_term_frequency(d) for d,_ in train_happy_docs]\n",
    "x_happy_test = [happy_term_frequency(d) for d,_ in test_happy_docs]\n",
    "y_happy_train = [c for _,c in train_happy_docs]\n",
    "y_happy_test = [c for _,c in test_happy_docs]"
   ]
  },
  {
   "cell_type": "code",
   "execution_count": 132,
   "id": "gentle-tracy",
   "metadata": {},
   "outputs": [],
   "source": [
    "import numpy as np\n",
    "x_happy_train = np.asarray(x_happy_train).astype('float32')\n",
    "x_happy_test = np.asarray(x_happy_test). astype('float32')\n",
    "\n",
    "y_happy_train = np.asarray(y_happy_train).astype('float32')\n",
    "y_happy_test = np.asarray(y_happy_test).astype('float32')"
   ]
  },
  {
   "cell_type": "code",
   "execution_count": 133,
   "id": "spatial-biotechnology",
   "metadata": {},
   "outputs": [],
   "source": [
    "import tensorflow as tf\n",
    "happy_model= tf.keras.models.Sequential([\n",
    "    tf.keras.layers.Dense(64, activation = 'relu',input_shape=(HAPPY_FREQUENCY_COUNT,)),\n",
    "    tf.keras.layers.Dense(64, activation = 'relu'),\n",
    "    tf.keras.layers.Dense(1, activation = 'sigmoid')\n",
    "])"
   ]
  },
  {
   "cell_type": "code",
   "execution_count": 134,
   "id": "sound-envelope",
   "metadata": {},
   "outputs": [],
   "source": [
    "happy_model.compile(optimizer=tf.keras.optimizers.RMSprop(lr=0.001),\n",
    "             loss=tf.keras.losses.binary_crossentropy,\n",
    "             metrics=[tf.keras.metrics.binary_accuracy]\n",
    "             )"
   ]
  },
  {
   "cell_type": "code",
   "execution_count": 135,
   "id": "solar-louisiana",
   "metadata": {},
   "outputs": [
    {
     "name": "stdout",
     "output_type": "stream",
     "text": [
      "Epoch 1/50\n",
      "17/17 [==============================] - 0s 21ms/step - loss: 0.6101 - binary_accuracy: 0.7612\n",
      "Epoch 2/50\n",
      "17/17 [==============================] - 0s 23ms/step - loss: 0.3731 - binary_accuracy: 0.8936\n",
      "Epoch 3/50\n",
      "17/17 [==============================] - 0s 24ms/step - loss: 0.2401 - binary_accuracy: 0.9289\n",
      "Epoch 4/50\n",
      "17/17 [==============================] - 0s 21ms/step - loss: 0.1680 - binary_accuracy: 0.9496\n",
      "Epoch 5/50\n",
      "17/17 [==============================] - 0s 21ms/step - loss: 0.1213 - binary_accuracy: 0.9614\n",
      "Epoch 6/50\n",
      "17/17 [==============================] - 0s 21ms/step - loss: 0.0892 - binary_accuracy: 0.9716\n",
      "Epoch 7/50\n",
      "17/17 [==============================] - 1s 34ms/step - loss: 0.0649 - binary_accuracy: 0.9801\n",
      "Epoch 8/50\n",
      "17/17 [==============================] - 0s 21ms/step - loss: 0.0473 - binary_accuracy: 0.9872\n",
      "Epoch 9/50\n",
      "17/17 [==============================] - 0s 21ms/step - loss: 0.0343 - binary_accuracy: 0.9910\n",
      "Epoch 10/50\n",
      "17/17 [==============================] - 0s 22ms/step - loss: 0.0252 - binary_accuracy: 0.9933\n",
      "Epoch 11/50\n",
      "17/17 [==============================] - 0s 23ms/step - loss: 0.0177 - binary_accuracy: 0.9956\n",
      "Epoch 12/50\n",
      "17/17 [==============================] - 0s 21ms/step - loss: 0.0126 - binary_accuracy: 0.9978\n",
      "Epoch 13/50\n",
      "17/17 [==============================] - 0s 23ms/step - loss: 0.0090 - binary_accuracy: 0.9981\n",
      "Epoch 14/50\n",
      "17/17 [==============================] - 0s 22ms/step - loss: 0.0066 - binary_accuracy: 0.9987\n",
      "Epoch 15/50\n",
      "17/17 [==============================] - 0s 21ms/step - loss: 0.0046 - binary_accuracy: 0.9988\n",
      "Epoch 16/50\n",
      "17/17 [==============================] - 0s 21ms/step - loss: 0.0032 - binary_accuracy: 0.9994\n",
      "Epoch 17/50\n",
      "17/17 [==============================] - 0s 23ms/step - loss: 0.0024 - binary_accuracy: 0.9995\n",
      "Epoch 18/50\n",
      "17/17 [==============================] - 0s 21ms/step - loss: 0.0019 - binary_accuracy: 0.9995\n",
      "Epoch 19/50\n",
      "17/17 [==============================] - 0s 22ms/step - loss: 0.0014 - binary_accuracy: 0.9996\n",
      "Epoch 20/50\n",
      "17/17 [==============================] - 0s 21ms/step - loss: 0.0011 - binary_accuracy: 0.9996\n",
      "Epoch 21/50\n",
      "17/17 [==============================] - 0s 21ms/step - loss: 8.5272e-04 - binary_accuracy: 0.9998\n",
      "Epoch 22/50\n",
      "17/17 [==============================] - 0s 21ms/step - loss: 7.0264e-04 - binary_accuracy: 0.9998\n",
      "Epoch 23/50\n",
      "17/17 [==============================] - 0s 21ms/step - loss: 6.6623e-04 - binary_accuracy: 0.9998\n",
      "Epoch 24/50\n",
      "17/17 [==============================] - 0s 21ms/step - loss: 5.1613e-04 - binary_accuracy: 0.9998\n",
      "Epoch 25/50\n",
      "17/17 [==============================] - 0s 21ms/step - loss: 4.9933e-04 - binary_accuracy: 0.9999\n",
      "Epoch 26/50\n",
      "17/17 [==============================] - 0s 21ms/step - loss: 4.6038e-04 - binary_accuracy: 0.9999\n",
      "Epoch 27/50\n",
      "17/17 [==============================] - 0s 21ms/step - loss: 3.1545e-04 - binary_accuracy: 0.9999\n",
      "Epoch 28/50\n",
      "17/17 [==============================] - 0s 23ms/step - loss: 4.3284e-04 - binary_accuracy: 0.9999\n",
      "Epoch 29/50\n",
      "17/17 [==============================] - 0s 22ms/step - loss: 3.7921e-04 - binary_accuracy: 0.9999\n",
      "Epoch 30/50\n",
      "17/17 [==============================] - 0s 21ms/step - loss: 4.1320e-04 - binary_accuracy: 0.9999\n",
      "Epoch 31/50\n",
      "17/17 [==============================] - 0s 22ms/step - loss: 3.2733e-04 - binary_accuracy: 0.9999\n",
      "Epoch 32/50\n",
      "17/17 [==============================] - 0s 21ms/step - loss: 4.0005e-04 - binary_accuracy: 0.9998\n",
      "Epoch 33/50\n",
      "17/17 [==============================] - 0s 21ms/step - loss: 3.3919e-04 - binary_accuracy: 0.9999\n",
      "Epoch 34/50\n",
      "17/17 [==============================] - 0s 22ms/step - loss: 3.0166e-04 - binary_accuracy: 0.9999\n",
      "Epoch 35/50\n",
      "17/17 [==============================] - 0s 21ms/step - loss: 3.1222e-04 - binary_accuracy: 0.9999\n",
      "Epoch 36/50\n",
      "17/17 [==============================] - 0s 25ms/step - loss: 3.2359e-04 - binary_accuracy: 0.9999\n",
      "Epoch 37/50\n",
      "17/17 [==============================] - 0s 24ms/step - loss: 3.6663e-04 - binary_accuracy: 0.9998\n",
      "Epoch 38/50\n",
      "17/17 [==============================] - 0s 22ms/step - loss: 3.0736e-04 - binary_accuracy: 0.9998\n",
      "Epoch 39/50\n",
      "17/17 [==============================] - 0s 22ms/step - loss: 3.1495e-04 - binary_accuracy: 0.9998\n",
      "Epoch 40/50\n",
      "17/17 [==============================] - 0s 22ms/step - loss: 3.2568e-04 - binary_accuracy: 0.9999\n",
      "Epoch 41/50\n",
      "17/17 [==============================] - 0s 22ms/step - loss: 2.8693e-04 - binary_accuracy: 0.9999\n",
      "Epoch 42/50\n",
      "17/17 [==============================] - 0s 21ms/step - loss: 3.3318e-04 - binary_accuracy: 0.9998\n",
      "Epoch 43/50\n",
      "17/17 [==============================] - 0s 21ms/step - loss: 3.4349e-04 - binary_accuracy: 0.9999\n",
      "Epoch 44/50\n",
      "17/17 [==============================] - 0s 24ms/step - loss: 2.9838e-04 - binary_accuracy: 0.9999\n",
      "Epoch 45/50\n",
      "17/17 [==============================] - 0s 21ms/step - loss: 3.0390e-04 - binary_accuracy: 0.9999\n",
      "Epoch 46/50\n",
      "17/17 [==============================] - 0s 22ms/step - loss: 3.1212e-04 - binary_accuracy: 0.9998\n",
      "Epoch 47/50\n",
      "17/17 [==============================] - 0s 23ms/step - loss: 2.9772e-04 - binary_accuracy: 0.9999\n",
      "Epoch 48/50\n",
      "17/17 [==============================] - 0s 23ms/step - loss: 3.0331e-04 - binary_accuracy: 0.9999\n",
      "Epoch 49/50\n",
      "17/17 [==============================] - 0s 24ms/step - loss: 3.2243e-04 - binary_accuracy: 0.9999\n",
      "Epoch 50/50\n",
      "17/17 [==============================] - 0s 22ms/step - loss: 3.3778e-04 - binary_accuracy: 0.9998\n"
     ]
    },
    {
     "data": {
      "text/plain": [
       "<tensorflow.python.keras.callbacks.History at 0x1a792a49048>"
      ]
     },
     "execution_count": 135,
     "metadata": {},
     "output_type": "execute_result"
    }
   ],
   "source": [
    "happy_model.fit(x_happy_train, y_happy_train, epochs=50, batch_size=512)"
   ]
  },
  {
   "cell_type": "code",
   "execution_count": 136,
   "id": "answering-stable",
   "metadata": {},
   "outputs": [
    {
     "name": "stdout",
     "output_type": "stream",
     "text": [
      "114/114 [==============================] - 0s 2ms/step - loss: 2.5944 - binary_accuracy: 0.7828\n"
     ]
    }
   ],
   "source": [
    "happy_results = happy_model.evaluate(x_happy_test, y_happy_test)"
   ]
  },
  {
   "cell_type": "code",
   "execution_count": 137,
   "id": "arranged-technical",
   "metadata": {},
   "outputs": [
    {
     "data": {
      "text/plain": [
       "[2.5943853855133057, 0.7828129529953003]"
      ]
     },
     "execution_count": 137,
     "metadata": {},
     "output_type": "execute_result"
    }
   ],
   "source": [
    "happy_results"
   ]
  },
  {
   "cell_type": "code",
   "execution_count": 138,
   "id": "blocked-regression",
   "metadata": {},
   "outputs": [],
   "source": [
    "happy_model.save('happy_model.h5')"
   ]
  },
  {
   "cell_type": "code",
   "execution_count": 139,
   "id": "actual-particle",
   "metadata": {},
   "outputs": [
    {
     "data": {
      "text/plain": [
       "['너무/Adverb', '화나다/Verb']"
      ]
     },
     "execution_count": 139,
     "metadata": {},
     "output_type": "execute_result"
    }
   ],
   "source": [
    "happy_review = \"너무 화난다\"\n",
    "happy_token = tokenize(happy_review)\n",
    "happy_token"
   ]
  },
  {
   "cell_type": "code",
   "execution_count": 140,
   "id": "owned-harvey",
   "metadata": {},
   "outputs": [
    {
     "data": {
      "text/plain": [
       "0.059818290174007416"
      ]
     },
     "execution_count": 140,
     "metadata": {},
     "output_type": "execute_result"
    }
   ],
   "source": [
    "tf = happy_term_frequency(happy_token)\n",
    "data = np.expand_dims(np.asarray(tf).astype('float32'),axis=0)\n",
    "float(happy_model.predict(data))"
   ]
  },
  {
   "cell_type": "code",
   "execution_count": 141,
   "id": "computational-moore",
   "metadata": {},
   "outputs": [],
   "source": [
    "def happy_predict(predict):\n",
    "    happy_token = tokenize(predict)\n",
    "    happy_tfq = happy_term_frequency(happy_token)\n",
    "    happy_data = np.expand_dims(np.asarray(happy_tfq).astype('float32'), axis=0)\n",
    "    happy_score = float(happy_model.predict(happy_data))\n",
    "    if(happy_score > 0.5):\n",
    "        print(f\"{predict} ==> 행복 ({round(happy_score*100)}%)\")"
   ]
  },
  {
   "cell_type": "code",
   "execution_count": 142,
   "id": "miniature-america",
   "metadata": {},
   "outputs": [
    {
     "name": "stdout",
     "output_type": "stream",
     "text": [
      "너무해 ==> 행복 (99%)\n"
     ]
    }
   ],
   "source": [
    "happy_predict(\"너무해\")"
   ]
  },
  {
   "cell_type": "code",
   "execution_count": 143,
   "id": "organized-smith",
   "metadata": {},
   "outputs": [],
   "source": [
    "#혐오 감정 분석"
   ]
  },
  {
   "cell_type": "code",
   "execution_count": 144,
   "id": "logical-circus",
   "metadata": {},
   "outputs": [],
   "source": [
    "import pandas as pd\n",
    "train_disgust_df = pd.read_csv(\"disgusttraindata.txt\",\"\\t\")\n",
    "test_disgust_df = pd.read_csv(\"disgusttestdata.txt\",\"\\t\")"
   ]
  },
  {
   "cell_type": "code",
   "execution_count": 145,
   "id": "operational-immune",
   "metadata": {},
   "outputs": [],
   "source": [
    "from konlpy.tag import Okt\n",
    "okt_disgust = Okt()"
   ]
  },
  {
   "cell_type": "code",
   "execution_count": 146,
   "id": "statewide-management",
   "metadata": {},
   "outputs": [],
   "source": [
    "def tokenize(doc):\n",
    "    return ['/'.join(t) for t in okt_disgust.pos(doc, norm=True, stem=True)]"
   ]
  },
  {
   "cell_type": "code",
   "execution_count": 147,
   "id": "simple-aviation",
   "metadata": {},
   "outputs": [],
   "source": [
    "train_disgust_docs = [(tokenize(row[1]), row[2]) for row in train_disgust_df.values]\n",
    "test_disgust_docs = [(tokenize(row[1]),row[2]) for row in test_disgust_df.values]"
   ]
  },
  {
   "cell_type": "code",
   "execution_count": 148,
   "id": "further-basin",
   "metadata": {},
   "outputs": [
    {
     "name": "stdout",
     "output_type": "stream",
     "text": [
      "(['언니/Noun', '동생/Noun', '으로/Josa', '부르다/Verb', '맞다/Verb', '일/Noun', '인가요/Josa', '..??/Punctuation'], 0)\n",
      "(['톡/Noun', '크다/Verb', '언니/Noun', '들/Suffix', '임산부/Noun', '언니/Noun', '들/Suffix', 'ㅠㅠ/KoreanParticle'], 0)\n"
     ]
    }
   ],
   "source": [
    "print(train_disgust_docs[0])\n",
    "print(test_disgust_docs[0])"
   ]
  },
  {
   "cell_type": "code",
   "execution_count": 149,
   "id": "concerned-replacement",
   "metadata": {},
   "outputs": [
    {
     "name": "stdout",
     "output_type": "stream",
     "text": [
      "토큰개수: 77300\n"
     ]
    }
   ],
   "source": [
    "tokens = [t for d in train_disgust_docs for t in d[0]]\n",
    "print(\"토큰개수:\",len(tokens))"
   ]
  },
  {
   "cell_type": "code",
   "execution_count": 150,
   "id": "sustainable-reverse",
   "metadata": {},
   "outputs": [
    {
     "name": "stdout",
     "output_type": "stream",
     "text": [
      "77300\n",
      "11099\n",
      "[('하다/Verb', 2392), ('이/Josa', 1463), ('./Punctuation', 1417), ('들/Suffix', 1173), ('가/Josa', 1040), ('에/Josa', 956), ('?/Punctuation', 918), ('은/Josa', 890), ('을/Josa', 735), ('../Punctuation', 696)]\n"
     ]
    }
   ],
   "source": [
    "import nltk\n",
    "disgust_text = nltk.Text(tokens, name='NMSC')\n",
    "print(len(disgust_text.tokens))\n",
    "print(len(set(disgust_text.tokens)))\n",
    "print(disgust_text.vocab().most_common(10))"
   ]
  },
  {
   "cell_type": "code",
   "execution_count": 151,
   "id": "partial-catholic",
   "metadata": {},
   "outputs": [
    {
     "data": {
      "image/png": "[encoded data removed]",
      "text/plain": [
       "<Figure size 1440x720 with 1 Axes>"
      ]
     },
     "metadata": {
      "needs_background": "light"
     },
     "output_type": "display_data"
    }
   ],
   "source": [
    "import matplotlib.pyplot as plt\n",
    "from matplotlib import font_manager, rc\n",
    "plt.figure(figsize=(20,10))\n",
    "disgust_text.plot(50)"
   ]
  },
  {
   "cell_type": "code",
   "execution_count": 152,
   "id": "younger-france",
   "metadata": {},
   "outputs": [],
   "source": [
    "DISGUST_FREQUENCY_COUNT = 10000;\n",
    "disgust_selected_words = [f[0] for f in disgust_text.vocab().most_common(DISGUST_FREQUENCY_COUNT)]"
   ]
  },
  {
   "cell_type": "code",
   "execution_count": 153,
   "id": "floral-reynolds",
   "metadata": {},
   "outputs": [],
   "source": [
    "def disgust_term_frequency(doc):\n",
    "    return [doc.count(word) for word in disgust_selected_words]"
   ]
  },
  {
   "cell_type": "code",
   "execution_count": 154,
   "id": "fatal-leader",
   "metadata": {},
   "outputs": [],
   "source": [
    "x_disgust_train = [disgust_term_frequency(d) for d,_ in train_disgust_docs]\n",
    "x_disgust_test = [disgust_term_frequency(d) for d,_ in test_disgust_docs]\n",
    "y_disgust_train = [c for _,c in train_disgust_docs]\n",
    "y_disgust_test = [c for _,c in test_disgust_docs]"
   ]
  },
  {
   "cell_type": "code",
   "execution_count": 155,
   "id": "overall-valuation",
   "metadata": {},
   "outputs": [],
   "source": [
    "import numpy as np\n",
    "x_disgust_train = np.asarray(x_disgust_train).astype('float32')\n",
    "x_disgust_test = np.asarray(x_disgust_test). astype('float32')\n",
    "\n",
    "y_disgust_train = np.asarray(y_disgust_train).astype('float32')\n",
    "y_disgust_test = np.asarray(y_disgust_test).astype('float32')"
   ]
  },
  {
   "cell_type": "code",
   "execution_count": 156,
   "id": "chronic-sunglasses",
   "metadata": {},
   "outputs": [],
   "source": [
    "import tensorflow as tf\n",
    "disgust_model= tf.keras.models.Sequential([\n",
    "    tf.keras.layers.Dense(64, activation = 'relu',input_shape=(DISGUST_FREQUENCY_COUNT,)),\n",
    "    tf.keras.layers.Dense(64, activation = 'relu'),\n",
    "    tf.keras.layers.Dense(1, activation = 'sigmoid')\n",
    "])"
   ]
  },
  {
   "cell_type": "code",
   "execution_count": 157,
   "id": "complete-arthritis",
   "metadata": {},
   "outputs": [],
   "source": [
    "disgust_model.compile(optimizer=tf.keras.optimizers.RMSprop(lr=0.001),\n",
    "             loss=tf.keras.losses.binary_crossentropy,\n",
    "             metrics=[tf.keras.metrics.binary_accuracy]\n",
    "             )"
   ]
  },
  {
   "cell_type": "code",
   "execution_count": 158,
   "id": "suburban-waters",
   "metadata": {},
   "outputs": [
    {
     "name": "stdout",
     "output_type": "stream",
     "text": [
      "Epoch 1/50\n",
      "15/15 [==============================] - 0s 21ms/step - loss: 0.6673 - binary_accuracy: 0.6428\n",
      "Epoch 2/50\n",
      "15/15 [==============================] - 0s 23ms/step - loss: 0.5452 - binary_accuracy: 0.7820\n",
      "Epoch 3/50\n",
      "15/15 [==============================] - 0s 28ms/step - loss: 0.4305 - binary_accuracy: 0.8368\n",
      "Epoch 4/50\n",
      "15/15 [==============================] - 0s 24ms/step - loss: 0.3406 - binary_accuracy: 0.8768\n",
      "Epoch 5/50\n",
      "15/15 [==============================] - 0s 23ms/step - loss: 0.2681 - binary_accuracy: 0.9069\n",
      "Epoch 6/50\n",
      "15/15 [==============================] - 0s 22ms/step - loss: 0.2077 - binary_accuracy: 0.9330\n",
      "Epoch 7/50\n",
      "15/15 [==============================] - 0s 22ms/step - loss: 0.1598 - binary_accuracy: 0.9504\n",
      "Epoch 8/50\n",
      "15/15 [==============================] - 0s 23ms/step - loss: 0.1225 - binary_accuracy: 0.9634\n",
      "Epoch 9/50\n",
      "15/15 [==============================] - 0s 22ms/step - loss: 0.0919 - binary_accuracy: 0.9751\n",
      "Epoch 10/50\n",
      "15/15 [==============================] - 0s 22ms/step - loss: 0.0697 - binary_accuracy: 0.9816\n",
      "Epoch 11/50\n",
      "15/15 [==============================] - 0s 22ms/step - loss: 0.0511 - binary_accuracy: 0.9880\n",
      "Epoch 12/50\n",
      "15/15 [==============================] - 0s 21ms/step - loss: 0.0370 - binary_accuracy: 0.9918\n",
      "Epoch 13/50\n",
      "15/15 [==============================] - 0s 22ms/step - loss: 0.0263 - binary_accuracy: 0.9951\n",
      "Epoch 14/50\n",
      "15/15 [==============================] - 0s 21ms/step - loss: 0.0186 - binary_accuracy: 0.9974\n",
      "Epoch 15/50\n",
      "15/15 [==============================] - 0s 21ms/step - loss: 0.0134 - binary_accuracy: 0.9980\n",
      "Epoch 16/50\n",
      "15/15 [==============================] - 0s 21ms/step - loss: 0.0095 - binary_accuracy: 0.9986\n",
      "Epoch 17/50\n",
      "15/15 [==============================] - 0s 25ms/step - loss: 0.0067 - binary_accuracy: 0.9991\n",
      "Epoch 18/50\n",
      "15/15 [==============================] - 0s 22ms/step - loss: 0.0051 - binary_accuracy: 0.9991\n",
      "Epoch 19/50\n",
      "15/15 [==============================] - 0s 23ms/step - loss: 0.0036 - binary_accuracy: 0.9995\n",
      "Epoch 20/50\n",
      "15/15 [==============================] - 0s 21ms/step - loss: 0.0027 - binary_accuracy: 0.9995\n",
      "Epoch 21/50\n",
      "15/15 [==============================] - 0s 21ms/step - loss: 0.0018 - binary_accuracy: 0.9997\n",
      "Epoch 22/50\n",
      "15/15 [==============================] - 0s 23ms/step - loss: 0.0017 - binary_accuracy: 0.9997\n",
      "Epoch 23/50\n",
      "15/15 [==============================] - 0s 21ms/step - loss: 0.0012 - binary_accuracy: 0.9997\n",
      "Epoch 24/50\n",
      "15/15 [==============================] - 0s 21ms/step - loss: 9.7129e-04 - binary_accuracy: 0.9999\n",
      "Epoch 25/50\n",
      "15/15 [==============================] - 0s 22ms/step - loss: 8.8264e-04 - binary_accuracy: 0.9996\n",
      "Epoch 26/50\n",
      "15/15 [==============================] - 0s 24ms/step - loss: 6.6761e-04 - binary_accuracy: 0.9999\n",
      "Epoch 27/50\n",
      "15/15 [==============================] - 0s 22ms/step - loss: 6.9590e-04 - binary_accuracy: 0.9999\n",
      "Epoch 28/50\n",
      "15/15 [==============================] - 0s 21ms/step - loss: 4.7927e-04 - binary_accuracy: 0.9999\n",
      "Epoch 29/50\n",
      "15/15 [==============================] - 0s 21ms/step - loss: 5.8102e-04 - binary_accuracy: 0.9997\n",
      "Epoch 30/50\n",
      "15/15 [==============================] - 0s 22ms/step - loss: 4.7065e-04 - binary_accuracy: 0.9999\n",
      "Epoch 31/50\n",
      "15/15 [==============================] - 0s 24ms/step - loss: 5.4460e-04 - binary_accuracy: 0.9997\n",
      "Epoch 32/50\n",
      "15/15 [==============================] - 0s 22ms/step - loss: 6.0234e-04 - binary_accuracy: 0.9997\n",
      "Epoch 33/50\n",
      "15/15 [==============================] - 0s 22ms/step - loss: 5.0828e-04 - binary_accuracy: 0.9997\n",
      "Epoch 34/50\n",
      "15/15 [==============================] - 0s 22ms/step - loss: 3.8567e-04 - binary_accuracy: 0.9999\n",
      "Epoch 35/50\n",
      "15/15 [==============================] - 0s 24ms/step - loss: 4.3237e-04 - binary_accuracy: 0.9999\n",
      "Epoch 36/50\n",
      "15/15 [==============================] - 0s 23ms/step - loss: 5.4849e-04 - binary_accuracy: 0.9997\n",
      "Epoch 37/50\n",
      "15/15 [==============================] - 0s 22ms/step - loss: 5.3673e-04 - binary_accuracy: 0.9997\n",
      "Epoch 38/50\n",
      "15/15 [==============================] - 0s 23ms/step - loss: 4.5656e-04 - binary_accuracy: 0.9997\n",
      "Epoch 39/50\n",
      "15/15 [==============================] - 0s 24ms/step - loss: 4.0144e-04 - binary_accuracy: 0.9999\n",
      "Epoch 40/50\n",
      "15/15 [==============================] - 0s 23ms/step - loss: 4.6544e-04 - binary_accuracy: 0.9997\n",
      "Epoch 41/50\n",
      "15/15 [==============================] - 0s 22ms/step - loss: 5.0002e-04 - binary_accuracy: 0.9997\n",
      "Epoch 42/50\n",
      "15/15 [==============================] - 0s 22ms/step - loss: 5.3709e-04 - binary_accuracy: 0.9997\n",
      "Epoch 43/50\n",
      "15/15 [==============================] - 0s 21ms/step - loss: 4.6182e-04 - binary_accuracy: 0.9997\n",
      "Epoch 44/50\n",
      "15/15 [==============================] - 0s 23ms/step - loss: 2.4867e-04 - binary_accuracy: 0.9999\n",
      "Epoch 45/50\n",
      "15/15 [==============================] - 0s 22ms/step - loss: 6.3948e-04 - binary_accuracy: 0.9997\n",
      "Epoch 46/50\n",
      "15/15 [==============================] - 0s 23ms/step - loss: 5.4451e-04 - binary_accuracy: 0.9997\n",
      "Epoch 47/50\n",
      "15/15 [==============================] - 0s 23ms/step - loss: 2.3019e-04 - binary_accuracy: 0.9999\n",
      "Epoch 48/50\n",
      "15/15 [==============================] - 0s 22ms/step - loss: 2.7007e-04 - binary_accuracy: 0.9999\n",
      "Epoch 49/50\n",
      "15/15 [==============================] - 0s 21ms/step - loss: 5.4667e-04 - binary_accuracy: 0.9997\n",
      "Epoch 50/50\n",
      "15/15 [==============================] - 0s 20ms/step - loss: 4.2843e-04 - binary_accuracy: 0.9999\n"
     ]
    },
    {
     "data": {
      "text/plain": [
       "<tensorflow.python.keras.callbacks.History at 0x1a759887e08>"
      ]
     },
     "execution_count": 158,
     "metadata": {},
     "output_type": "execute_result"
    }
   ],
   "source": [
    "disgust_model.fit(x_disgust_train, y_disgust_train, epochs=50, batch_size=512)"
   ]
  },
  {
   "cell_type": "code",
   "execution_count": 159,
   "id": "heard-moldova",
   "metadata": {},
   "outputs": [
    {
     "name": "stdout",
     "output_type": "stream",
     "text": [
      "101/101 [==============================] - 0s 2ms/step - loss: 6.5799 - binary_accuracy: 0.5002\n"
     ]
    }
   ],
   "source": [
    "disgust_results = neutral_model.evaluate(x_disgust_test, y_disgust_test)"
   ]
  },
  {
   "cell_type": "code",
   "execution_count": 160,
   "id": "medieval-instrument",
   "metadata": {},
   "outputs": [
    {
     "data": {
      "text/plain": [
       "[6.579923152923584, 0.5001551508903503]"
      ]
     },
     "execution_count": 160,
     "metadata": {},
     "output_type": "execute_result"
    }
   ],
   "source": [
    "disgust_results"
   ]
  },
  {
   "cell_type": "code",
   "execution_count": 161,
   "id": "engaged-lightweight",
   "metadata": {},
   "outputs": [],
   "source": [
    "disgust_model.save('disgust_model.h5')"
   ]
  },
  {
   "cell_type": "code",
   "execution_count": 162,
   "id": "agricultural-mainstream",
   "metadata": {},
   "outputs": [
    {
     "data": {
      "text/plain": [
       "['너무/Adverb', '화나다/Verb']"
      ]
     },
     "execution_count": 162,
     "metadata": {},
     "output_type": "execute_result"
    }
   ],
   "source": [
    "disgust_review = \"너무 화난다\"\n",
    "disgust_token = tokenize(disgust_review)\n",
    "disgust_token"
   ]
  },
  {
   "cell_type": "code",
   "execution_count": 163,
   "id": "literary-behavior",
   "metadata": {},
   "outputs": [
    {
     "data": {
      "text/plain": [
       "0.9993451237678528"
      ]
     },
     "execution_count": 163,
     "metadata": {},
     "output_type": "execute_result"
    }
   ],
   "source": [
    "tf = disgust_term_frequency(disgust_token)\n",
    "data = np.expand_dims(np.asarray(tf).astype('float32'),axis=0)\n",
    "float(disgust_model.predict(data))"
   ]
  },
  {
   "cell_type": "code",
   "execution_count": 164,
   "id": "dedicated-strategy",
   "metadata": {},
   "outputs": [],
   "source": [
    "def disgust_predict(predict):\n",
    "    disgust_token = tokenize(predict)\n",
    "    disgust_tfq = disgust_term_frequency(disgust_token)\n",
    "    disgust_data = np.expand_dims(np.asarray(disgust_tfq).astype('float32'), axis=0)\n",
    "    disgust_score = float(disgust_model.predict(disgust_data))\n",
    "    if(disgust_score > 0.5):\n",
    "        print(f\"{predict} ==> 혐오 ({round(disgust_score*100)}%)\")"
   ]
  },
  {
   "cell_type": "code",
   "execution_count": 165,
   "id": "narrative-captain",
   "metadata": {},
   "outputs": [
    {
     "name": "stdout",
     "output_type": "stream",
     "text": [
      "원재상 ==> 혐오 (99%)\n"
     ]
    }
   ],
   "source": [
    "disgust_predict(\"원재상\")"
   ]
  },
  {
   "cell_type": "code",
   "execution_count": 170,
   "id": "detailed-great",
   "metadata": {},
   "outputs": [],
   "source": [
    "def predict(predict):\n",
    "    disgust_predict(predict)\n",
    "    sadness_predict(predict)\n",
    "    happy_predict(predict)\n",
    "    anger_predict(predict)\n",
    "    fear_predict(predict)\n",
    "    neutral_predict(predict)\n",
    "    surprise_predict(predict)"
   ]
  },
  {
   "cell_type": "code",
   "execution_count": 192,
   "id": "innocent-convergence",
   "metadata": {},
   "outputs": [
    {
     "name": "stdout",
     "output_type": "stream",
     "text": [
      "칭찬을 받으니 기분이 좋아 ==> 혐오 (100%)\n",
      "칭찬을 받으니 기분이 좋아 ==> 행복 (100%)\n",
      "칭찬을 받으니 기분이 좋아 ==> 공포 (98%)\n"
     ]
    }
   ],
   "source": [
    "predict(\"칭찬을 받으니 기분이 좋아\")"
   ]
  },
  {
   "cell_type": "code",
   "execution_count": null,
   "id": "enclosed-mirror",
   "metadata": {},
   "outputs": [],
   "source": []
  }
 ],
 "metadata": {
  "kernelspec": {
   "display_name": "Python 3",
   "language": "python",
   "name": "python3"
  },
  "language_info": {
   "codemirror_mode": {
    "name": "ipython",
    "version": 3
   },
   "file_extension": ".py",
   "mimetype": "text/x-python",
   "name": "python",
   "nbconvert_exporter": "python",
   "pygments_lexer": "ipython3",
   "version": "3.7.10"
  }
 },
 "nbformat": 4,
 "nbformat_minor": 5
}
