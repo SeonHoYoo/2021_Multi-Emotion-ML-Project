{
 "cells": [
  {
   "cell_type": "code",
   "execution_count": 29,
   "id": "dominican-vinyl",
   "metadata": {},
   "outputs": [],
   "source": [
    "import pandas as pd\n",
    "train_fear_df = pd.read_csv(\"feartrainalldata6.txt\",\"\\t\")\n",
    "test_fear_df = pd.read_csv(\"feartestalldata6.txt\",\"\\t\")"
   ]
  },
  {
   "cell_type": "code",
   "execution_count": 32,
   "id": "upset-flight",
   "metadata": {},
   "outputs": [
    {
     "name": "stderr",
     "output_type": "stream",
     "text": [
      "C:\\Users\\sunho\\anaconda3\\lib\\site-packages\\konlpy\\tag\\_okt.py:16: UserWarning: \"Twitter\" has changed to \"Okt\" since KoNLPy v0.4.5.\n",
      "  warn('\"Twitter\" has changed to \"Okt\" since KoNLPy v0.4.5.')\n"
     ]
    },
    {
     "data": {
      "text/plain": [
       "[('오늘', 'Noun'), ('하루', 'Noun'), ('도', 'Josa'), ('수고', 'Noun'), ('했어', 'Verb')]"
      ]
     },
     "execution_count": 32,
     "metadata": {},
     "output_type": "execute_result"
    }
   ],
   "source": [
    "from konlpy.tag import Tw\n",
    "Twitter_fear = Twitter()\n",
    "Twitter_fear.pos(u'오늘 하루도 수고했어')"
   ]
  },
  {
   "cell_type": "code",
   "execution_count": 34,
   "id": "joined-significance",
   "metadata": {},
   "outputs": [
    {
     "data": {
      "text/plain": [
       "[('오늘', 'N'), ('하루', 'N'), ('도', 'J'), ('수고', 'N'), ('하', 'X'), ('었어', 'E')]"
      ]
     },
     "execution_count": 34,
     "metadata": {},
     "output_type": "execute_result"
    }
   ],
   "source": [
    "from konlpy.tag import Hannanum\n",
    "Twitter_fear = Hannanum()\n",
    "Twitter_fear.pos(u'오늘 하루도 수고했어')"
   ]
  },
  {
   "cell_type": "code",
   "execution_count": 4,
   "id": "metric-defense",
   "metadata": {},
   "outputs": [],
   "source": [
    "def tokenize(doc):\n",
    "    return ['/'.join(t) for t in okt_fear.pos(doc, norm=True, stem=True)]"
   ]
  },
  {
   "cell_type": "code",
   "execution_count": 5,
   "id": "fallen-scoop",
   "metadata": {},
   "outputs": [],
   "source": [
    "train_fear_df.isnull().any()\n",
    "train_fear_df['document'] = train_fear_df['document'].fillna('');\n",
    "train_fear_df.isnull().any()\n",
    "test_fear_df['document'] = test_fear_df['document'].fillna('');"
   ]
  },
  {
   "cell_type": "code",
   "execution_count": 6,
   "id": "multiple-processor",
   "metadata": {},
   "outputs": [],
   "source": [
    "train_fear_docs = [(tokenize(row[1]), row[2]) for row in train_fear_df.values]\n",
    "test_fear_docs = [(tokenize(row[1]),row[2]) for row in test_fear_df.values]"
   ]
  },
  {
   "cell_type": "code",
   "execution_count": 7,
   "id": "stone-currency",
   "metadata": {},
   "outputs": [
    {
     "name": "stdout",
     "output_type": "stream",
     "text": [
      "토큰개수: 437889\n"
     ]
    }
   ],
   "source": [
    "tokens = [t for d in train_fear_docs for t in d[0]]\n",
    "print(\"토큰개수:\",len(tokens))"
   ]
  },
  {
   "cell_type": "code",
   "execution_count": 8,
   "id": "faced-authentication",
   "metadata": {},
   "outputs": [
    {
     "name": "stdout",
     "output_type": "stream",
     "text": [
      "437889\n",
      "20799\n",
      "[('하다/Verb', 15082), ('이/Josa', 8604), ('./Punctuation', 7099), ('?/Punctuation', 6761), ('가/Josa', 6624), ('../Punctuation', 5995), ('에/Josa', 5408), ('.../Punctuation', 4332), ('들/Suffix', 4102), ('도/Josa', 3987)]\n"
     ]
    }
   ],
   "source": [
    "import nltk\n",
    "fear_text = nltk.Text(tokens, name='NMSC')\n",
    "print(len(fear_text.tokens))\n",
    "print(len(set(fear_text.tokens)))\n",
    "print(fear_text.vocab().most_common(10))"
   ]
  },
  {
   "cell_type": "code",
   "execution_count": 10,
   "id": "continent-builder",
   "metadata": {},
   "outputs": [],
   "source": [
    "FEAR_FREQUENCY_COUNT = 3000;\n",
    "fear_selected_words = [f[0] for f in fear_text.vocab().most_common(FEAR_FREQUENCY_COUNT)]"
   ]
  },
  {
   "cell_type": "code",
   "execution_count": 11,
   "id": "optimum-victoria",
   "metadata": {},
   "outputs": [],
   "source": [
    "def fear_term_frequency(doc):\n",
    "    return [doc.count(word) for word in fear_selected_words]"
   ]
  },
  {
   "cell_type": "code",
   "execution_count": 12,
   "id": "defined-wisdom",
   "metadata": {},
   "outputs": [],
   "source": [
    "x_fear_train = [fear_term_frequency(d) for d,_ in train_fear_docs]\n",
    "x_fear_test = [fear_term_frequency(d) for d,_ in test_fear_docs]\n",
    "y_fear_train = [c for _,c in train_fear_docs]\n",
    "y_fear_test = [c for _,c in test_fear_docs]"
   ]
  },
  {
   "cell_type": "code",
   "execution_count": 13,
   "id": "timely-envelope",
   "metadata": {},
   "outputs": [],
   "source": [
    "import numpy as np\n",
    "x_fear_train = np.asarray(x_fear_train).astype('float32')\n",
    "x_fear_test = np.asarray(x_fear_test). astype('float32')\n",
    "\n",
    "y_fear_train = np.asarray(y_fear_train).astype('float32')\n",
    "y_fear_test = np.asarray(y_fear_test).astype('float32')"
   ]
  },
  {
   "cell_type": "code",
   "execution_count": 14,
   "id": "private-roberts",
   "metadata": {},
   "outputs": [],
   "source": [
    "import tensorflow as tf\n",
    "fear_model= tf.keras.models.Sequential([\n",
    "    tf.keras.layers.Dense(64, activation = 'relu',input_shape=(FEAR_FREQUENCY_COUNT,)),\n",
    "    tf.keras.layers.Dense(64, activation = 'relu'),\n",
    "    tf.keras.layers.Dense(1, activation = 'sigmoid')\n",
    "])"
   ]
  },
  {
   "cell_type": "code",
   "execution_count": 15,
   "id": "apparent-arthur",
   "metadata": {},
   "outputs": [],
   "source": [
    "fear_model.compile(optimizer=tf.keras.optimizers.RMSprop(lr=0.001),\n",
    "             loss=tf.keras.losses.binary_crossentropy,\n",
    "             metrics=[tf.keras.metrics.binary_accuracy]\n",
    "             )"
   ]
  },
  {
   "cell_type": "code",
   "execution_count": 16,
   "id": "false-executive",
   "metadata": {},
   "outputs": [
    {
     "name": "stdout",
     "output_type": "stream",
     "text": [
      "Epoch 1/50\n",
      "91/91 [==============================] - ETA: 0s - loss: 0.5075 - binary_accuracy: 0.766 - 1s 8ms/step - loss: 0.5016 - binary_accuracy: 0.7696\n",
      "Epoch 2/50\n",
      "91/91 [==============================] - 1s 8ms/step - loss: 0.3343 - binary_accuracy: 0.8601\n",
      "Epoch 3/50\n",
      "91/91 [==============================] - 1s 8ms/step - loss: 0.2543 - binary_accuracy: 0.9012\n",
      "Epoch 4/50\n",
      "91/91 [==============================] - 1s 7ms/step - loss: 0.1855 - binary_accuracy: 0.9329\n",
      "Epoch 5/50\n",
      "91/91 [==============================] - 1s 7ms/step - loss: 0.1275 - binary_accuracy: 0.9573\n",
      "Epoch 6/50\n",
      "91/91 [==============================] - 1s 7ms/step - loss: 0.0845 - binary_accuracy: 0.9736\n",
      "Epoch 7/50\n",
      "91/91 [==============================] - 1s 7ms/step - loss: 0.0549 - binary_accuracy: 0.9841\n",
      "Epoch 8/50\n",
      "91/91 [==============================] - 1s 8ms/step - loss: 0.0362 - binary_accuracy: 0.9898\n",
      "Epoch 9/50\n",
      "91/91 [==============================] - 1s 8ms/step - loss: 0.0236 - binary_accuracy: 0.9933\n",
      "Epoch 10/50\n",
      "91/91 [==============================] - 1s 7ms/step - loss: 0.0166 - binary_accuracy: 0.9952\n",
      "Epoch 11/50\n",
      "91/91 [==============================] - 1s 8ms/step - loss: 0.0119 - binary_accuracy: 0.9964\n",
      "Epoch 12/50\n",
      "91/91 [==============================] - 1s 8ms/step - loss: 0.0092 - binary_accuracy: 0.9973\n",
      "Epoch 13/50\n",
      "91/91 [==============================] - 1s 8ms/step - loss: 0.0078 - binary_accuracy: 0.9975\n",
      "Epoch 14/50\n",
      "91/91 [==============================] - 1s 7ms/step - loss: 0.0069 - binary_accuracy: 0.9979\n",
      "Epoch 15/50\n",
      "91/91 [==============================] - 1s 8ms/step - loss: 0.0063 - binary_accuracy: 0.9979\n",
      "Epoch 16/50\n",
      "91/91 [==============================] - 1s 8ms/step - loss: 0.0058 - binary_accuracy: 0.9978\n",
      "Epoch 17/50\n",
      "91/91 [==============================] - 1s 7ms/step - loss: 0.0057 - binary_accuracy: 0.9981\n",
      "Epoch 18/50\n",
      "91/91 [==============================] - 1s 8ms/step - loss: 0.0053 - binary_accuracy: 0.9982\n",
      "Epoch 19/50\n",
      "91/91 [==============================] - 1s 8ms/step - loss: 0.0052 - binary_accuracy: 0.9980\n",
      "Epoch 20/50\n",
      "91/91 [==============================] - 1s 7ms/step - loss: 0.0050 - binary_accuracy: 0.9982\n",
      "Epoch 21/50\n",
      "91/91 [==============================] - 1s 7ms/step - loss: 0.0049 - binary_accuracy: 0.9982\n",
      "Epoch 22/50\n",
      "91/91 [==============================] - 1s 8ms/step - loss: 0.0048 - binary_accuracy: 0.9982\n",
      "Epoch 23/50\n",
      "91/91 [==============================] - 1s 8ms/step - loss: 0.0047 - binary_accuracy: 0.9984\n",
      "Epoch 24/50\n",
      "91/91 [==============================] - 1s 7ms/step - loss: 0.0047 - binary_accuracy: 0.9981\n",
      "Epoch 25/50\n",
      "91/91 [==============================] - 1s 8ms/step - loss: 0.0045 - binary_accuracy: 0.9984\n",
      "Epoch 26/50\n",
      "91/91 [==============================] - 1s 8ms/step - loss: 0.0045 - binary_accuracy: 0.9984\n",
      "Epoch 27/50\n",
      "91/91 [==============================] - 1s 7ms/step - loss: 0.0043 - binary_accuracy: 0.9984\n",
      "Epoch 28/50\n",
      "91/91 [==============================] - 1s 7ms/step - loss: 0.0043 - binary_accuracy: 0.9983\n",
      "Epoch 29/50\n",
      "91/91 [==============================] - 1s 8ms/step - loss: 0.0043 - binary_accuracy: 0.9983\n",
      "Epoch 30/50\n",
      "91/91 [==============================] - 1s 7ms/step - loss: 0.0042 - binary_accuracy: 0.9985\n",
      "Epoch 31/50\n",
      "91/91 [==============================] - 1s 7ms/step - loss: 0.0043 - binary_accuracy: 0.9983\n",
      "Epoch 32/50\n",
      "91/91 [==============================] - 1s 8ms/step - loss: 0.0041 - binary_accuracy: 0.9983\n",
      "Epoch 33/50\n",
      "91/91 [==============================] - 1s 8ms/step - loss: 0.0042 - binary_accuracy: 0.9985\n",
      "Epoch 34/50\n",
      "91/91 [==============================] - 1s 7ms/step - loss: 0.0043 - binary_accuracy: 0.9984\n",
      "Epoch 35/50\n",
      "91/91 [==============================] - 1s 8ms/step - loss: 0.0042 - binary_accuracy: 0.9985\n",
      "Epoch 36/50\n",
      "91/91 [==============================] - 1s 8ms/step - loss: 0.0041 - binary_accuracy: 0.9986\n",
      "Epoch 37/50\n",
      "91/91 [==============================] - 1s 7ms/step - loss: 0.0042 - binary_accuracy: 0.9984\n",
      "Epoch 38/50\n",
      "91/91 [==============================] - 1s 8ms/step - loss: 0.0041 - binary_accuracy: 0.9984\n",
      "Epoch 39/50\n",
      "91/91 [==============================] - 1s 8ms/step - loss: 0.0041 - binary_accuracy: 0.9984\n",
      "Epoch 40/50\n",
      "91/91 [==============================] - 1s 7ms/step - loss: 0.0040 - binary_accuracy: 0.9984\n",
      "Epoch 41/50\n",
      "91/91 [==============================] - 1s 8ms/step - loss: 0.0041 - binary_accuracy: 0.9985\n",
      "Epoch 42/50\n",
      "91/91 [==============================] - 1s 7ms/step - loss: 0.0040 - binary_accuracy: 0.9985\n",
      "Epoch 43/50\n",
      "91/91 [==============================] - 1s 7ms/step - loss: 0.0040 - binary_accuracy: 0.9983\n",
      "Epoch 44/50\n",
      "91/91 [==============================] - 1s 7ms/step - loss: 0.0039 - binary_accuracy: 0.9985\n",
      "Epoch 45/50\n",
      "91/91 [==============================] - 1s 8ms/step - loss: 0.0040 - binary_accuracy: 0.9984\n",
      "Epoch 46/50\n",
      "91/91 [==============================] - 1s 8ms/step - loss: 0.0039 - binary_accuracy: 0.9984\n",
      "Epoch 47/50\n",
      "91/91 [==============================] - 1s 7ms/step - loss: 0.0040 - binary_accuracy: 0.9985\n",
      "Epoch 48/50\n",
      "91/91 [==============================] - 1s 8ms/step - loss: 0.0039 - binary_accuracy: 0.9984\n",
      "Epoch 49/50\n",
      "91/91 [==============================] - 1s 8ms/step - loss: 0.0039 - binary_accuracy: 0.9985\n",
      "Epoch 50/50\n",
      "91/91 [==============================] - 1s 8ms/step - loss: 0.0039 - binary_accuracy: 0.9985\n"
     ]
    },
    {
     "data": {
      "text/plain": [
       "<tensorflow.python.keras.callbacks.History at 0x1af9a8e6c48>"
      ]
     },
     "execution_count": 16,
     "metadata": {},
     "output_type": "execute_result"
    }
   ],
   "source": [
    "fear_model.fit(x_fear_train, y_fear_train, epochs=50, batch_size=512)"
   ]
  },
  {
   "cell_type": "code",
   "execution_count": 17,
   "id": "guided-enforcement",
   "metadata": {},
   "outputs": [
    {
     "name": "stdout",
     "output_type": "stream",
     "text": [
      "619/619 [==============================] - 1s 1ms/step - loss: 10.2607 - binary_accuracy: 0.6062\n"
     ]
    }
   ],
   "source": [
    "fear_results = fear_model.evaluate(x_fear_test, y_fear_test)"
   ]
  },
  {
   "cell_type": "code",
   "execution_count": 18,
   "id": "mechanical-oliver",
   "metadata": {},
   "outputs": [
    {
     "data": {
      "text/plain": [
       "[10.2607421875, 0.6062061190605164]"
      ]
     },
     "execution_count": 18,
     "metadata": {},
     "output_type": "execute_result"
    }
   ],
   "source": [
    "fear_results"
   ]
  },
  {
   "cell_type": "code",
   "execution_count": 19,
   "id": "necessary-audit",
   "metadata": {},
   "outputs": [],
   "source": [
    "fear_model.save('fear_model.h5')"
   ]
  },
  {
   "cell_type": "code",
   "execution_count": 20,
   "id": "solved-chaos",
   "metadata": {},
   "outputs": [
    {
     "data": {
      "text/plain": [
       "['너무/Adverb', '무섭다/Adjective']"
      ]
     },
     "execution_count": 20,
     "metadata": {},
     "output_type": "execute_result"
    }
   ],
   "source": [
    "fear_review = \"너무 무섭다\"\n",
    "fear_token = tokenize(fear_review)\n",
    "fear_token"
   ]
  },
  {
   "cell_type": "code",
   "execution_count": 21,
   "id": "educational-harassment",
   "metadata": {},
   "outputs": [
    {
     "data": {
      "text/plain": [
       "0.9960774779319763"
      ]
     },
     "execution_count": 21,
     "metadata": {},
     "output_type": "execute_result"
    }
   ],
   "source": [
    "tf = fear_term_frequency(fear_token)\n",
    "data = np.expand_dims(np.asarray(tf).astype('float32'),axis=0)\n",
    "float(fear_model.predict(data))"
   ]
  },
  {
   "cell_type": "code",
   "execution_count": 22,
   "id": "solar-carroll",
   "metadata": {},
   "outputs": [],
   "source": [
    "def fear_predict(predict):\n",
    "    fear_token = tokenize(predict)\n",
    "    fear_tfq = fear_term_frequency(fear_token)\n",
    "    fear_data = np.expand_dims(np.asarray(fear_tfq).astype('float32'), axis=0)\n",
    "    fear_score = float(fear_model.predict(fear_data))\n",
    "    if(fear_score > 0.5):\n",
    "        print(f\"{predict} ==> 공포 ({round(fear_score*100)}%)\")\n",
    "    else:\n",
    "        print(f\"{predict} ==> 공포X ({round((1-fear_score)*100)}%)\")"
   ]
  },
  {
   "cell_type": "code",
   "execution_count": 26,
   "id": "premium-medicare",
   "metadata": {},
   "outputs": [
    {
     "name": "stdout",
     "output_type": "stream",
     "text": [
      "안 무서워ㅋㅋ ==> 공포 (100%)\n"
     ]
    }
   ],
   "source": [
    "fear_predict(\"\")"
   ]
  },
  {
   "cell_type": "code",
   "execution_count": null,
   "id": "organic-overview",
   "metadata": {},
   "outputs": [],
   "source": []
  }
 ],
 "metadata": {
  "kernelspec": {
   "display_name": "Python 3",
   "language": "python",
   "name": "python3"
  },
  "language_info": {
   "codemirror_mode": {
    "name": "ipython",
    "version": 3
   },
   "file_extension": ".py",
   "mimetype": "text/x-python",
   "name": "python",
   "nbconvert_exporter": "python",
   "pygments_lexer": "ipython3",
   "version": "3.7.10"
  }
 },
 "nbformat": 4,
 "nbformat_minor": 5
}
