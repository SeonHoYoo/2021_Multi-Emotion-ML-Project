{
 "cells": [
  {
   "cell_type": "code",
   "execution_count": 1,
   "id": "vietnamese-pioneer",
   "metadata": {},
   "outputs": [],
   "source": [
    "import pandas as pd\n",
    "train_fear_df = pd.read_csv(\"feartraindata.txt\",\"\\t\")\n",
    "test_fear_df = pd.read_csv(\"feartestdata.txt\",\"\\t\")"
   ]
  },
  {
   "cell_type": "code",
   "execution_count": 2,
   "id": "mighty-volume",
   "metadata": {},
   "outputs": [
    {
     "data": {
      "text/plain": [
       "[('전람회', 'Noun'), ('나간다', 'Verb')]"
      ]
     },
     "execution_count": 2,
     "metadata": {},
     "output_type": "execute_result"
    }
   ],
   "source": [
    "from konlpy.tag import Okt\n",
    "okt_fear = Okt()\n",
    "okt_fear.pos(u'전람회 나간다')"
   ]
  },
  {
   "cell_type": "code",
   "execution_count": 3,
   "id": "proud-neutral",
   "metadata": {},
   "outputs": [],
   "source": [
    "def tokenize(doc):\n",
    "    return ['/'.join(t) for t in okt_fear.pos(doc, norm=True, stem=True)]"
   ]
  },
  {
   "cell_type": "code",
   "execution_count": 4,
   "id": "plastic-homeless",
   "metadata": {},
   "outputs": [],
   "source": [
    "train_fear_df.isnull().any()\n",
    "train_fear_df['document'] = train_fear_df['document'].fillna('');\n",
    "train_fear_df.isnull().any()\n",
    "test_fear_df['document'] = test_fear_df['document'].fillna('');"
   ]
  },
  {
   "cell_type": "code",
   "execution_count": 5,
   "id": "sunrise-ballot",
   "metadata": {},
   "outputs": [],
   "source": [
    "train_fear_docs = [(tokenize(row[1]), row[2]) for row in train_fear_df.values]\n",
    "test_fear_docs = [(tokenize(row[1]),row[2]) for row in test_fear_df.values]"
   ]
  },
  {
   "cell_type": "code",
   "execution_count": 6,
   "id": "wrapped-roller",
   "metadata": {},
   "outputs": [
    {
     "name": "stdout",
     "output_type": "stream",
     "text": [
      "(['언니/Noun', '동생/Noun', '으로/Josa', '부르다/Verb', '맞다/Verb', '일/Noun', '인가요/Josa', '..??/Punctuation'], 1)\n",
      "(['톡/Noun', '크다/Verb', '언니/Noun', '들/Suffix', '임산부/Noun', '언니/Noun', '들/Suffix', 'ㅠㅠ/KoreanParticle'], 1)\n"
     ]
    }
   ],
   "source": [
    "print(train_fear_docs[0])\n",
    "print(test_fear_docs[0])"
   ]
  },
  {
   "cell_type": "code",
   "execution_count": 7,
   "id": "genetic-smart",
   "metadata": {},
   "outputs": [
    {
     "name": "stdout",
     "output_type": "stream",
     "text": [
      "토큰개수: 71499\n"
     ]
    }
   ],
   "source": [
    "tokens = [t for d in train_fear_docs for t in d[0]]\n",
    "print(\"토큰개수:\",len(tokens))"
   ]
  },
  {
   "cell_type": "code",
   "execution_count": 8,
   "id": "beautiful-madagascar",
   "metadata": {},
   "outputs": [
    {
     "name": "stdout",
     "output_type": "stream",
     "text": [
      "71499\n",
      "10035\n",
      "[('하다/Verb', 2516), ('이/Josa', 1385), ('./Punctuation', 1185), ('?/Punctuation', 1131), ('가/Josa', 1130), ('../Punctuation', 979), ('에/Josa', 908), ('.../Punctuation', 679), ('은/Josa', 676), ('도/Josa', 647)]\n"
     ]
    }
   ],
   "source": [
    "import nltk\n",
    "fear_text = nltk.Text(tokens, name='NMSC')\n",
    "print(len(fear_text.tokens))\n",
    "print(len(set(fear_text.tokens)))\n",
    "print(fear_text.vocab().most_common(10))"
   ]
  },
  {
   "cell_type": "code",
   "execution_count": 9,
   "id": "yellow-viking",
   "metadata": {},
   "outputs": [
    {
     "name": "stderr",
     "output_type": "stream",
     "text": [
      "C:\\Users\\sunho\\anaconda3\\lib\\site-packages\\matplotlib\\backends\\backend_agg.py:238: RuntimeWarning: Glyph 54616 missing from current font.\n",
      "  font.set_text(s, 0.0, flags=flags)\n",
      "C:\\Users\\sunho\\anaconda3\\lib\\site-packages\\matplotlib\\backends\\backend_agg.py:238: RuntimeWarning: Glyph 45796 missing from current font.\n",
      "  font.set_text(s, 0.0, flags=flags)\n",
      "C:\\Users\\sunho\\anaconda3\\lib\\site-packages\\matplotlib\\backends\\backend_agg.py:238: RuntimeWarning: Glyph 51060 missing from current font.\n",
      "  font.set_text(s, 0.0, flags=flags)\n",
      "C:\\Users\\sunho\\anaconda3\\lib\\site-packages\\matplotlib\\backends\\backend_agg.py:238: RuntimeWarning: Glyph 44032 missing from current font.\n",
      "  font.set_text(s, 0.0, flags=flags)\n",
      "C:\\Users\\sunho\\anaconda3\\lib\\site-packages\\matplotlib\\backends\\backend_agg.py:238: RuntimeWarning: Glyph 50640 missing from current font.\n",
      "  font.set_text(s, 0.0, flags=flags)\n",
      "C:\\Users\\sunho\\anaconda3\\lib\\site-packages\\matplotlib\\backends\\backend_agg.py:238: RuntimeWarning: Glyph 51008 missing from current font.\n",
      "  font.set_text(s, 0.0, flags=flags)\n",
      "C:\\Users\\sunho\\anaconda3\\lib\\site-packages\\matplotlib\\backends\\backend_agg.py:238: RuntimeWarning: Glyph 46020 missing from current font.\n",
      "  font.set_text(s, 0.0, flags=flags)\n",
      "C:\\Users\\sunho\\anaconda3\\lib\\site-packages\\matplotlib\\backends\\backend_agg.py:238: RuntimeWarning: Glyph 46308 missing from current font.\n",
      "  font.set_text(s, 0.0, flags=flags)\n",
      "C:\\Users\\sunho\\anaconda3\\lib\\site-packages\\matplotlib\\backends\\backend_agg.py:238: RuntimeWarning: Glyph 51012 missing from current font.\n",
      "  font.set_text(s, 0.0, flags=flags)\n",
      "C:\\Users\\sunho\\anaconda3\\lib\\site-packages\\matplotlib\\backends\\backend_agg.py:238: RuntimeWarning: Glyph 46104 missing from current font.\n",
      "  font.set_text(s, 0.0, flags=flags)\n",
      "C:\\Users\\sunho\\anaconda3\\lib\\site-packages\\matplotlib\\backends\\backend_agg.py:238: RuntimeWarning: Glyph 51080 missing from current font.\n",
      "  font.set_text(s, 0.0, flags=flags)\n",
      "C:\\Users\\sunho\\anaconda3\\lib\\site-packages\\matplotlib\\backends\\backend_agg.py:238: RuntimeWarning: Glyph 45716 missing from current font.\n",
      "  font.set_text(s, 0.0, flags=flags)\n",
      "C:\\Users\\sunho\\anaconda3\\lib\\site-packages\\matplotlib\\backends\\backend_agg.py:238: RuntimeWarning: Glyph 47484 missing from current font.\n",
      "  font.set_text(s, 0.0, flags=flags)\n",
      "C:\\Users\\sunho\\anaconda3\\lib\\site-packages\\matplotlib\\backends\\backend_agg.py:238: RuntimeWarning: Glyph 44057 missing from current font.\n",
      "  font.set_text(s, 0.0, flags=flags)\n",
      "C:\\Users\\sunho\\anaconda3\\lib\\site-packages\\matplotlib\\backends\\backend_agg.py:238: RuntimeWarning: Glyph 48372 missing from current font.\n",
      "  font.set_text(s, 0.0, flags=flags)\n",
      "C:\\Users\\sunho\\anaconda3\\lib\\site-packages\\matplotlib\\backends\\backend_agg.py:238: RuntimeWarning: Glyph 50500 missing from current font.\n",
      "  font.set_text(s, 0.0, flags=flags)\n",
      "C:\\Users\\sunho\\anaconda3\\lib\\site-packages\\matplotlib\\backends\\backend_agg.py:238: RuntimeWarning: Glyph 45768 missing from current font.\n",
      "  font.set_text(s, 0.0, flags=flags)\n",
      "C:\\Users\\sunho\\anaconda3\\lib\\site-packages\\matplotlib\\backends\\backend_agg.py:238: RuntimeWarning: Glyph 50630 missing from current font.\n",
      "  font.set_text(s, 0.0, flags=flags)\n",
      "C:\\Users\\sunho\\anaconda3\\lib\\site-packages\\matplotlib\\backends\\backend_agg.py:238: RuntimeWarning: Glyph 51004 missing from current font.\n",
      "  font.set_text(s, 0.0, flags=flags)\n",
      "C:\\Users\\sunho\\anaconda3\\lib\\site-packages\\matplotlib\\backends\\backend_agg.py:238: RuntimeWarning: Glyph 47196 missing from current font.\n",
      "  font.set_text(s, 0.0, flags=flags)\n",
      "C:\\Users\\sunho\\anaconda3\\lib\\site-packages\\matplotlib\\backends\\backend_agg.py:238: RuntimeWarning: Glyph 50612 missing from current font.\n",
      "  font.set_text(s, 0.0, flags=flags)\n",
      "C:\\Users\\sunho\\anaconda3\\lib\\site-packages\\matplotlib\\backends\\backend_agg.py:238: RuntimeWarning: Glyph 46523 missing from current font.\n",
      "  font.set_text(s, 0.0, flags=flags)\n",
      "C:\\Users\\sunho\\anaconda3\\lib\\site-packages\\matplotlib\\backends\\backend_agg.py:238: RuntimeWarning: Glyph 45320 missing from current font.\n",
      "  font.set_text(s, 0.0, flags=flags)\n",
      "C:\\Users\\sunho\\anaconda3\\lib\\site-packages\\matplotlib\\backends\\backend_agg.py:238: RuntimeWarning: Glyph 47924 missing from current font.\n",
      "  font.set_text(s, 0.0, flags=flags)\n",
      "C:\\Users\\sunho\\anaconda3\\lib\\site-packages\\matplotlib\\backends\\backend_agg.py:238: RuntimeWarning: Glyph 51032 missing from current font.\n",
      "  font.set_text(s, 0.0, flags=flags)\n",
      "C:\\Users\\sunho\\anaconda3\\lib\\site-packages\\matplotlib\\backends\\backend_agg.py:238: RuntimeWarning: Glyph 51652 missing from current font.\n",
      "  font.set_text(s, 0.0, flags=flags)\n",
      "C:\\Users\\sunho\\anaconda3\\lib\\site-packages\\matplotlib\\backends\\backend_agg.py:238: RuntimeWarning: Glyph 51676 missing from current font.\n",
      "  font.set_text(s, 0.0, flags=flags)\n",
      "C:\\Users\\sunho\\anaconda3\\lib\\site-packages\\matplotlib\\backends\\backend_agg.py:238: RuntimeWarning: Glyph 50836 missing from current font.\n",
      "  font.set_text(s, 0.0, flags=flags)\n",
      "C:\\Users\\sunho\\anaconda3\\lib\\site-packages\\matplotlib\\backends\\backend_agg.py:238: RuntimeWarning: Glyph 49453 missing from current font.\n",
      "  font.set_text(s, 0.0, flags=flags)\n",
      "C:\\Users\\sunho\\anaconda3\\lib\\site-packages\\matplotlib\\backends\\backend_agg.py:238: RuntimeWarning: Glyph 50504 missing from current font.\n",
      "  font.set_text(s, 0.0, flags=flags)\n",
      "C:\\Users\\sunho\\anaconda3\\lib\\site-packages\\matplotlib\\backends\\backend_agg.py:238: RuntimeWarning: Glyph 49436 missing from current font.\n",
      "  font.set_text(s, 0.0, flags=flags)\n",
      "C:\\Users\\sunho\\anaconda3\\lib\\site-packages\\matplotlib\\backends\\backend_agg.py:238: RuntimeWarning: Glyph 47784 missing from current font.\n",
      "  font.set_text(s, 0.0, flags=flags)\n",
      "C:\\Users\\sunho\\anaconda3\\lib\\site-packages\\matplotlib\\backends\\backend_agg.py:238: RuntimeWarning: Glyph 47476 missing from current font.\n",
      "  font.set_text(s, 0.0, flags=flags)\n",
      "C:\\Users\\sunho\\anaconda3\\lib\\site-packages\\matplotlib\\backends\\backend_agg.py:238: RuntimeWarning: Glyph 49324 missing from current font.\n",
      "  font.set_text(s, 0.0, flags=flags)\n",
      "C:\\Users\\sunho\\anaconda3\\lib\\site-packages\\matplotlib\\backends\\backend_agg.py:238: RuntimeWarning: Glyph 46988 missing from current font.\n",
      "  font.set_text(s, 0.0, flags=flags)\n",
      "C:\\Users\\sunho\\anaconda3\\lib\\site-packages\\matplotlib\\backends\\backend_agg.py:238: RuntimeWarning: Glyph 12640 missing from current font.\n",
      "  font.set_text(s, 0.0, flags=flags)\n",
      "C:\\Users\\sunho\\anaconda3\\lib\\site-packages\\matplotlib\\backends\\backend_agg.py:238: RuntimeWarning: Glyph 51200 missing from current font.\n",
      "  font.set_text(s, 0.0, flags=flags)\n",
      "C:\\Users\\sunho\\anaconda3\\lib\\site-packages\\matplotlib\\backends\\backend_agg.py:238: RuntimeWarning: Glyph 50724 missing from current font.\n",
      "  font.set_text(s, 0.0, flags=flags)\n",
      "C:\\Users\\sunho\\anaconda3\\lib\\site-packages\\matplotlib\\backends\\backend_agg.py:238: RuntimeWarning: Glyph 51339 missing from current font.\n",
      "  font.set_text(s, 0.0, flags=flags)\n",
      "C:\\Users\\sunho\\anaconda3\\lib\\site-packages\\matplotlib\\backends\\backend_agg.py:238: RuntimeWarning: Glyph 51228 missing from current font.\n",
      "  font.set_text(s, 0.0, flags=flags)\n",
      "C:\\Users\\sunho\\anaconda3\\lib\\site-packages\\matplotlib\\backends\\backend_agg.py:238: RuntimeWarning: Glyph 44163 missing from current font.\n",
      "  font.set_text(s, 0.0, flags=flags)\n",
      "C:\\Users\\sunho\\anaconda3\\lib\\site-packages\\matplotlib\\backends\\backend_agg.py:238: RuntimeWarning: Glyph 47803 missing from current font.\n",
      "  font.set_text(s, 0.0, flags=flags)\n",
      "C:\\Users\\sunho\\anaconda3\\lib\\site-packages\\matplotlib\\backends\\backend_agg.py:238: RuntimeWarning: Glyph 44536 missing from current font.\n",
      "  font.set_text(s, 0.0, flags=flags)\n",
      "C:\\Users\\sunho\\anaconda3\\lib\\site-packages\\matplotlib\\backends\\backend_agg.py:238: RuntimeWarning: Glyph 47111 missing from current font.\n",
      "  font.set_text(s, 0.0, flags=flags)\n",
      "C:\\Users\\sunho\\anaconda3\\lib\\site-packages\\matplotlib\\backends\\backend_agg.py:238: RuntimeWarning: Glyph 47568 missing from current font.\n",
      "  font.set_text(s, 0.0, flags=flags)\n",
      "C:\\Users\\sunho\\anaconda3\\lib\\site-packages\\matplotlib\\backends\\backend_agg.py:238: RuntimeWarning: Glyph 47564 missing from current font.\n",
      "  font.set_text(s, 0.0, flags=flags)\n",
      "C:\\Users\\sunho\\anaconda3\\lib\\site-packages\\matplotlib\\backends\\backend_agg.py:238: RuntimeWarning: Glyph 50506 missing from current font.\n",
      "  font.set_text(s, 0.0, flags=flags)\n",
      "C:\\Users\\sunho\\anaconda3\\lib\\site-packages\\matplotlib\\backends\\backend_agg.py:238: RuntimeWarning: Glyph 51221 missing from current font.\n",
      "  font.set_text(s, 0.0, flags=flags)\n",
      "C:\\Users\\sunho\\anaconda3\\lib\\site-packages\\matplotlib\\backends\\backend_agg.py:238: RuntimeWarning: Glyph 50780 missing from current font.\n",
      "  font.set_text(s, 0.0, flags=flags)\n"
     ]
    },
    {
     "name": "stderr",
     "output_type": "stream",
     "text": [
      "C:\\Users\\sunho\\anaconda3\\lib\\site-packages\\matplotlib\\backends\\backend_agg.py:201: RuntimeWarning: Glyph 54616 missing from current font.\n",
      "  font.set_text(s, 0, flags=flags)\n",
      "C:\\Users\\sunho\\anaconda3\\lib\\site-packages\\matplotlib\\backends\\backend_agg.py:201: RuntimeWarning: Glyph 45796 missing from current font.\n",
      "  font.set_text(s, 0, flags=flags)\n",
      "C:\\Users\\sunho\\anaconda3\\lib\\site-packages\\matplotlib\\backends\\backend_agg.py:201: RuntimeWarning: Glyph 51060 missing from current font.\n",
      "  font.set_text(s, 0, flags=flags)\n",
      "C:\\Users\\sunho\\anaconda3\\lib\\site-packages\\matplotlib\\backends\\backend_agg.py:201: RuntimeWarning: Glyph 44032 missing from current font.\n",
      "  font.set_text(s, 0, flags=flags)\n",
      "C:\\Users\\sunho\\anaconda3\\lib\\site-packages\\matplotlib\\backends\\backend_agg.py:201: RuntimeWarning: Glyph 50640 missing from current font.\n",
      "  font.set_text(s, 0, flags=flags)\n",
      "C:\\Users\\sunho\\anaconda3\\lib\\site-packages\\matplotlib\\backends\\backend_agg.py:201: RuntimeWarning: Glyph 51008 missing from current font.\n",
      "  font.set_text(s, 0, flags=flags)\n",
      "C:\\Users\\sunho\\anaconda3\\lib\\site-packages\\matplotlib\\backends\\backend_agg.py:201: RuntimeWarning: Glyph 46020 missing from current font.\n",
      "  font.set_text(s, 0, flags=flags)\n",
      "C:\\Users\\sunho\\anaconda3\\lib\\site-packages\\matplotlib\\backends\\backend_agg.py:201: RuntimeWarning: Glyph 46308 missing from current font.\n",
      "  font.set_text(s, 0, flags=flags)\n",
      "C:\\Users\\sunho\\anaconda3\\lib\\site-packages\\matplotlib\\backends\\backend_agg.py:201: RuntimeWarning: Glyph 51012 missing from current font.\n",
      "  font.set_text(s, 0, flags=flags)\n",
      "C:\\Users\\sunho\\anaconda3\\lib\\site-packages\\matplotlib\\backends\\backend_agg.py:201: RuntimeWarning: Glyph 46104 missing from current font.\n",
      "  font.set_text(s, 0, flags=flags)\n",
      "C:\\Users\\sunho\\anaconda3\\lib\\site-packages\\matplotlib\\backends\\backend_agg.py:201: RuntimeWarning: Glyph 51080 missing from current font.\n",
      "  font.set_text(s, 0, flags=flags)\n",
      "C:\\Users\\sunho\\anaconda3\\lib\\site-packages\\matplotlib\\backends\\backend_agg.py:201: RuntimeWarning: Glyph 45716 missing from current font.\n",
      "  font.set_text(s, 0, flags=flags)\n",
      "C:\\Users\\sunho\\anaconda3\\lib\\site-packages\\matplotlib\\backends\\backend_agg.py:201: RuntimeWarning: Glyph 47484 missing from current font.\n",
      "  font.set_text(s, 0, flags=flags)\n",
      "C:\\Users\\sunho\\anaconda3\\lib\\site-packages\\matplotlib\\backends\\backend_agg.py:201: RuntimeWarning: Glyph 44057 missing from current font.\n",
      "  font.set_text(s, 0, flags=flags)\n",
      "C:\\Users\\sunho\\anaconda3\\lib\\site-packages\\matplotlib\\backends\\backend_agg.py:201: RuntimeWarning: Glyph 48372 missing from current font.\n",
      "  font.set_text(s, 0, flags=flags)\n",
      "C:\\Users\\sunho\\anaconda3\\lib\\site-packages\\matplotlib\\backends\\backend_agg.py:201: RuntimeWarning: Glyph 50500 missing from current font.\n",
      "  font.set_text(s, 0, flags=flags)\n",
      "C:\\Users\\sunho\\anaconda3\\lib\\site-packages\\matplotlib\\backends\\backend_agg.py:201: RuntimeWarning: Glyph 45768 missing from current font.\n",
      "  font.set_text(s, 0, flags=flags)\n",
      "C:\\Users\\sunho\\anaconda3\\lib\\site-packages\\matplotlib\\backends\\backend_agg.py:201: RuntimeWarning: Glyph 50630 missing from current font.\n",
      "  font.set_text(s, 0, flags=flags)\n",
      "C:\\Users\\sunho\\anaconda3\\lib\\site-packages\\matplotlib\\backends\\backend_agg.py:201: RuntimeWarning: Glyph 51004 missing from current font.\n",
      "  font.set_text(s, 0, flags=flags)\n",
      "C:\\Users\\sunho\\anaconda3\\lib\\site-packages\\matplotlib\\backends\\backend_agg.py:201: RuntimeWarning: Glyph 47196 missing from current font.\n",
      "  font.set_text(s, 0, flags=flags)\n",
      "C:\\Users\\sunho\\anaconda3\\lib\\site-packages\\matplotlib\\backends\\backend_agg.py:201: RuntimeWarning: Glyph 50612 missing from current font.\n",
      "  font.set_text(s, 0, flags=flags)\n",
      "C:\\Users\\sunho\\anaconda3\\lib\\site-packages\\matplotlib\\backends\\backend_agg.py:201: RuntimeWarning: Glyph 46523 missing from current font.\n",
      "  font.set_text(s, 0, flags=flags)\n",
      "C:\\Users\\sunho\\anaconda3\\lib\\site-packages\\matplotlib\\backends\\backend_agg.py:201: RuntimeWarning: Glyph 45320 missing from current font.\n",
      "  font.set_text(s, 0, flags=flags)\n",
      "C:\\Users\\sunho\\anaconda3\\lib\\site-packages\\matplotlib\\backends\\backend_agg.py:201: RuntimeWarning: Glyph 47924 missing from current font.\n",
      "  font.set_text(s, 0, flags=flags)\n",
      "C:\\Users\\sunho\\anaconda3\\lib\\site-packages\\matplotlib\\backends\\backend_agg.py:201: RuntimeWarning: Glyph 51032 missing from current font.\n",
      "  font.set_text(s, 0, flags=flags)\n",
      "C:\\Users\\sunho\\anaconda3\\lib\\site-packages\\matplotlib\\backends\\backend_agg.py:201: RuntimeWarning: Glyph 51652 missing from current font.\n",
      "  font.set_text(s, 0, flags=flags)\n",
      "C:\\Users\\sunho\\anaconda3\\lib\\site-packages\\matplotlib\\backends\\backend_agg.py:201: RuntimeWarning: Glyph 51676 missing from current font.\n",
      "  font.set_text(s, 0, flags=flags)\n",
      "C:\\Users\\sunho\\anaconda3\\lib\\site-packages\\matplotlib\\backends\\backend_agg.py:201: RuntimeWarning: Glyph 50836 missing from current font.\n",
      "  font.set_text(s, 0, flags=flags)\n",
      "C:\\Users\\sunho\\anaconda3\\lib\\site-packages\\matplotlib\\backends\\backend_agg.py:201: RuntimeWarning: Glyph 49453 missing from current font.\n",
      "  font.set_text(s, 0, flags=flags)\n",
      "C:\\Users\\sunho\\anaconda3\\lib\\site-packages\\matplotlib\\backends\\backend_agg.py:201: RuntimeWarning: Glyph 50504 missing from current font.\n",
      "  font.set_text(s, 0, flags=flags)\n",
      "C:\\Users\\sunho\\anaconda3\\lib\\site-packages\\matplotlib\\backends\\backend_agg.py:201: RuntimeWarning: Glyph 49436 missing from current font.\n",
      "  font.set_text(s, 0, flags=flags)\n",
      "C:\\Users\\sunho\\anaconda3\\lib\\site-packages\\matplotlib\\backends\\backend_agg.py:201: RuntimeWarning: Glyph 47784 missing from current font.\n",
      "  font.set_text(s, 0, flags=flags)\n",
      "C:\\Users\\sunho\\anaconda3\\lib\\site-packages\\matplotlib\\backends\\backend_agg.py:201: RuntimeWarning: Glyph 47476 missing from current font.\n",
      "  font.set_text(s, 0, flags=flags)\n",
      "C:\\Users\\sunho\\anaconda3\\lib\\site-packages\\matplotlib\\backends\\backend_agg.py:201: RuntimeWarning: Glyph 49324 missing from current font.\n",
      "  font.set_text(s, 0, flags=flags)\n",
      "C:\\Users\\sunho\\anaconda3\\lib\\site-packages\\matplotlib\\backends\\backend_agg.py:201: RuntimeWarning: Glyph 46988 missing from current font.\n",
      "  font.set_text(s, 0, flags=flags)\n",
      "C:\\Users\\sunho\\anaconda3\\lib\\site-packages\\matplotlib\\backends\\backend_agg.py:201: RuntimeWarning: Glyph 12640 missing from current font.\n",
      "  font.set_text(s, 0, flags=flags)\n",
      "C:\\Users\\sunho\\anaconda3\\lib\\site-packages\\matplotlib\\backends\\backend_agg.py:201: RuntimeWarning: Glyph 51200 missing from current font.\n",
      "  font.set_text(s, 0, flags=flags)\n",
      "C:\\Users\\sunho\\anaconda3\\lib\\site-packages\\matplotlib\\backends\\backend_agg.py:201: RuntimeWarning: Glyph 50724 missing from current font.\n",
      "  font.set_text(s, 0, flags=flags)\n",
      "C:\\Users\\sunho\\anaconda3\\lib\\site-packages\\matplotlib\\backends\\backend_agg.py:201: RuntimeWarning: Glyph 51339 missing from current font.\n",
      "  font.set_text(s, 0, flags=flags)\n",
      "C:\\Users\\sunho\\anaconda3\\lib\\site-packages\\matplotlib\\backends\\backend_agg.py:201: RuntimeWarning: Glyph 51228 missing from current font.\n",
      "  font.set_text(s, 0, flags=flags)\n",
      "C:\\Users\\sunho\\anaconda3\\lib\\site-packages\\matplotlib\\backends\\backend_agg.py:201: RuntimeWarning: Glyph 44163 missing from current font.\n",
      "  font.set_text(s, 0, flags=flags)\n",
      "C:\\Users\\sunho\\anaconda3\\lib\\site-packages\\matplotlib\\backends\\backend_agg.py:201: RuntimeWarning: Glyph 47803 missing from current font.\n",
      "  font.set_text(s, 0, flags=flags)\n",
      "C:\\Users\\sunho\\anaconda3\\lib\\site-packages\\matplotlib\\backends\\backend_agg.py:201: RuntimeWarning: Glyph 44536 missing from current font.\n",
      "  font.set_text(s, 0, flags=flags)\n",
      "C:\\Users\\sunho\\anaconda3\\lib\\site-packages\\matplotlib\\backends\\backend_agg.py:201: RuntimeWarning: Glyph 47111 missing from current font.\n",
      "  font.set_text(s, 0, flags=flags)\n",
      "C:\\Users\\sunho\\anaconda3\\lib\\site-packages\\matplotlib\\backends\\backend_agg.py:201: RuntimeWarning: Glyph 47568 missing from current font.\n",
      "  font.set_text(s, 0, flags=flags)\n",
      "C:\\Users\\sunho\\anaconda3\\lib\\site-packages\\matplotlib\\backends\\backend_agg.py:201: RuntimeWarning: Glyph 47564 missing from current font.\n",
      "  font.set_text(s, 0, flags=flags)\n",
      "C:\\Users\\sunho\\anaconda3\\lib\\site-packages\\matplotlib\\backends\\backend_agg.py:201: RuntimeWarning: Glyph 50506 missing from current font.\n",
      "  font.set_text(s, 0, flags=flags)\n",
      "C:\\Users\\sunho\\anaconda3\\lib\\site-packages\\matplotlib\\backends\\backend_agg.py:201: RuntimeWarning: Glyph 51221 missing from current font.\n",
      "  font.set_text(s, 0, flags=flags)\n",
      "C:\\Users\\sunho\\anaconda3\\lib\\site-packages\\matplotlib\\backends\\backend_agg.py:201: RuntimeWarning: Glyph 50780 missing from current font.\n",
      "  font.set_text(s, 0, flags=flags)\n"
     ]
    },
    {
     "data": {
      "image/png": "[encoded data removed]",
      "text/plain": [
       "<Figure size 1440x720 with 1 Axes>"
      ]
     },
     "metadata": {
      "needs_background": "light"
     },
     "output_type": "display_data"
    }
   ],
   "source": [
    "import matplotlib.pyplot as plt\n",
    "from matplotlib import font_manager, rc\n",
    "plt.figure(figsize=(20,10))\n",
    "fear_text.plot(50)"
   ]
  },
  {
   "cell_type": "code",
   "execution_count": 10,
   "id": "incoming-agent",
   "metadata": {},
   "outputs": [],
   "source": [
    "FEAR_FREQUENCY_COUNT = 10000;\n",
    "fear_selected_words = [f[0] for f in fear_text.vocab().most_common(FEAR_FREQUENCY_COUNT)]"
   ]
  },
  {
   "cell_type": "code",
   "execution_count": 11,
   "id": "committed-legend",
   "metadata": {},
   "outputs": [],
   "source": [
    "def fear_term_frequency(doc):\n",
    "    return [doc.count(word) for word in fear_selected_words]"
   ]
  },
  {
   "cell_type": "code",
   "execution_count": 12,
   "id": "boring-directive",
   "metadata": {},
   "outputs": [],
   "source": [
    "x_fear_train = [fear_term_frequency(d) for d,_ in train_fear_docs]\n",
    "x_fear_test = [fear_term_frequency(d) for d,_ in test_fear_docs]\n",
    "y_fear_train = [c for _,c in train_fear_docs]\n",
    "y_fear_test = [c for _,c in test_fear_docs]"
   ]
  },
  {
   "cell_type": "code",
   "execution_count": 13,
   "id": "loved-radiation",
   "metadata": {},
   "outputs": [],
   "source": [
    "import numpy as np\n",
    "x_fear_train = np.asarray(x_fear_train).astype('float32')\n",
    "x_fear_test = np.asarray(x_fear_test). astype('float32')\n",
    "\n",
    "y_fear_train = np.asarray(y_fear_train).astype('float32')\n",
    "y_fear_test = np.asarray(y_fear_test).astype('float32')"
   ]
  },
  {
   "cell_type": "code",
   "execution_count": 14,
   "id": "virgin-burst",
   "metadata": {},
   "outputs": [],
   "source": [
    "import tensorflow as tf\n",
    "fear_model= tf.keras.models.Sequential([\n",
    "    tf.keras.layers.Dense(64, activation = 'relu',input_shape=(FEAR_FREQUENCY_COUNT,)),\n",
    "    tf.keras.layers.Dense(64, activation = 'relu'),\n",
    "    tf.keras.layers.Dense(1, activation = 'sigmoid')\n",
    "])"
   ]
  },
  {
   "cell_type": "code",
   "execution_count": 15,
   "id": "statutory-screw",
   "metadata": {},
   "outputs": [],
   "source": [
    "fear_model.compile(optimizer=tf.keras.optimizers.RMSprop(lr=0.001),\n",
    "             loss=tf.keras.losses.binary_crossentropy,\n",
    "             metrics=[tf.keras.metrics.binary_accuracy]\n",
    "             )"
   ]
  },
  {
   "cell_type": "code",
   "execution_count": 16,
   "id": "infinite-chase",
   "metadata": {},
   "outputs": [
    {
     "name": "stdout",
     "output_type": "stream",
     "text": [
      "Epoch 1/50\n",
      "15/15 [==============================] - 0s 31ms/step - loss: 0.6658 - binary_accuracy: 0.6561\n",
      "Epoch 2/50\n",
      "15/15 [==============================] - 0s 30ms/step - loss: 0.5338 - binary_accuracy: 0.7823\n",
      "Epoch 3/50\n",
      "15/15 [==============================] - 0s 28ms/step - loss: 0.4151 - binary_accuracy: 0.8398\n",
      "Epoch 4/50\n",
      "15/15 [==============================] - 0s 29ms/step - loss: 0.3269 - binary_accuracy: 0.8768\n",
      "Epoch 5/50\n",
      "15/15 [==============================] - 0s 31ms/step - loss: 0.2595 - binary_accuracy: 0.9069\n",
      "Epoch 6/50\n",
      "15/15 [==============================] - 0s 30ms/step - loss: 0.2056 - binary_accuracy: 0.9332\n",
      "Epoch 7/50\n",
      "15/15 [==============================] - 0s 30ms/step - loss: 0.1624 - binary_accuracy: 0.9482\n",
      "Epoch 8/50\n",
      "15/15 [==============================] - 0s 30ms/step - loss: 0.1281 - binary_accuracy: 0.9609\n",
      "Epoch 9/50\n",
      "15/15 [==============================] - 0s 30ms/step - loss: 0.1006 - binary_accuracy: 0.9721\n",
      "Epoch 10/50\n",
      "15/15 [==============================] - 0s 27ms/step - loss: 0.0801 - binary_accuracy: 0.9780\n",
      "Epoch 11/50\n",
      "15/15 [==============================] - 0s 29ms/step - loss: 0.0632 - binary_accuracy: 0.9830\n",
      "Epoch 12/50\n",
      "15/15 [==============================] - 0s 29ms/step - loss: 0.0512 - binary_accuracy: 0.9863\n",
      "Epoch 13/50\n",
      "15/15 [==============================] - 0s 29ms/step - loss: 0.0403 - binary_accuracy: 0.9898\n",
      "Epoch 14/50\n",
      "15/15 [==============================] - 0s 29ms/step - loss: 0.0329 - binary_accuracy: 0.9912\n",
      "Epoch 15/50\n",
      "15/15 [==============================] - 0s 30ms/step - loss: 0.0258 - binary_accuracy: 0.9945\n",
      "Epoch 16/50\n",
      "15/15 [==============================] - 0s 29ms/step - loss: 0.0208 - binary_accuracy: 0.9949\n",
      "Epoch 17/50\n",
      "15/15 [==============================] - 0s 25ms/step - loss: 0.0165 - binary_accuracy: 0.9953\n",
      "Epoch 18/50\n",
      "15/15 [==============================] - 0s 28ms/step - loss: 0.0130 - binary_accuracy: 0.9967\n",
      "Epoch 19/50\n",
      "15/15 [==============================] - 0s 28ms/step - loss: 0.0103 - binary_accuracy: 0.9976\n",
      "Epoch 20/50\n",
      "15/15 [==============================] - 0s 29ms/step - loss: 0.0079 - binary_accuracy: 0.9983\n",
      "Epoch 21/50\n",
      "15/15 [==============================] - 0s 31ms/step - loss: 0.0066 - binary_accuracy: 0.9984\n",
      "Epoch 22/50\n",
      "15/15 [==============================] - 0s 30ms/step - loss: 0.0052 - binary_accuracy: 0.9990\n",
      "Epoch 23/50\n",
      "15/15 [==============================] - 0s 31ms/step - loss: 0.0041 - binary_accuracy: 0.9990\n",
      "Epoch 24/50\n",
      "15/15 [==============================] - 0s 31ms/step - loss: 0.0034 - binary_accuracy: 0.9995\n",
      "Epoch 25/50\n",
      "15/15 [==============================] - 0s 27ms/step - loss: 0.0029 - binary_accuracy: 0.9996\n",
      "Epoch 26/50\n",
      "15/15 [==============================] - 0s 26ms/step - loss: 0.0021 - binary_accuracy: 0.9996\n",
      "Epoch 27/50\n",
      "15/15 [==============================] - 0s 26ms/step - loss: 0.0020 - binary_accuracy: 0.9997\n",
      "Epoch 28/50\n",
      "15/15 [==============================] - 0s 25ms/step - loss: 0.0017 - binary_accuracy: 0.9996\n",
      "Epoch 29/50\n",
      "15/15 [==============================] - 0s 26ms/step - loss: 0.0014 - binary_accuracy: 0.9999\n",
      "Epoch 30/50\n",
      "15/15 [==============================] - 0s 26ms/step - loss: 0.0013 - binary_accuracy: 0.9997\n",
      "Epoch 31/50\n",
      "15/15 [==============================] - 0s 26ms/step - loss: 0.0011 - binary_accuracy: 0.9997\n",
      "Epoch 32/50\n",
      "15/15 [==============================] - 0s 27ms/step - loss: 9.0837e-04 - binary_accuracy: 0.9999\n",
      "Epoch 33/50\n",
      "15/15 [==============================] - 0s 26ms/step - loss: 8.5389e-04 - binary_accuracy: 0.9997\n",
      "Epoch 34/50\n",
      "15/15 [==============================] - 0s 27ms/step - loss: 8.5738e-04 - binary_accuracy: 0.9999\n",
      "Epoch 35/50\n",
      "15/15 [==============================] - 0s 26ms/step - loss: 8.5429e-04 - binary_accuracy: 0.9996\n",
      "Epoch 36/50\n",
      "15/15 [==============================] - 0s 28ms/step - loss: 6.3278e-04 - binary_accuracy: 0.9999\n",
      "Epoch 37/50\n",
      "15/15 [==============================] - 0s 27ms/step - loss: 7.1221e-04 - binary_accuracy: 0.9997\n",
      "Epoch 38/50\n",
      "15/15 [==============================] - 0s 28ms/step - loss: 8.4836e-04 - binary_accuracy: 0.9997\n",
      "Epoch 39/50\n",
      "15/15 [==============================] - 0s 27ms/step - loss: 5.3637e-04 - binary_accuracy: 0.9999\n",
      "Epoch 40/50\n",
      "15/15 [==============================] - 0s 27ms/step - loss: 4.9754e-04 - binary_accuracy: 0.9999\n",
      "Epoch 41/50\n",
      "15/15 [==============================] - 0s 26ms/step - loss: 3.9837e-04 - binary_accuracy: 0.9999\n",
      "Epoch 42/50\n",
      "15/15 [==============================] - 0s 27ms/step - loss: 6.6365e-04 - binary_accuracy: 0.9997\n",
      "Epoch 43/50\n",
      "15/15 [==============================] - 0s 27ms/step - loss: 6.0109e-04 - binary_accuracy: 0.9997\n",
      "Epoch 44/50\n",
      "15/15 [==============================] - 0s 28ms/step - loss: 4.4196e-04 - binary_accuracy: 0.9997\n",
      "Epoch 45/50\n",
      "15/15 [==============================] - 0s 29ms/step - loss: 5.6229e-04 - binary_accuracy: 0.9997\n",
      "Epoch 46/50\n",
      "15/15 [==============================] - 0s 25ms/step - loss: 5.8889e-04 - binary_accuracy: 0.9997\n",
      "Epoch 47/50\n",
      "15/15 [==============================] - 0s 27ms/step - loss: 4.8584e-04 - binary_accuracy: 0.9999\n",
      "Epoch 48/50\n",
      "15/15 [==============================] - 0s 29ms/step - loss: 5.4912e-04 - binary_accuracy: 0.9997\n",
      "Epoch 49/50\n",
      "15/15 [==============================] - 0s 28ms/step - loss: 3.3709e-04 - binary_accuracy: 0.9999\n",
      "Epoch 50/50\n",
      "15/15 [==============================] - 0s 25ms/step - loss: 5.7354e-04 - binary_accuracy: 0.9997\n"
     ]
    },
    {
     "data": {
      "text/plain": [
       "<tensorflow.python.keras.callbacks.History at 0x14031b4fa88>"
      ]
     },
     "execution_count": 16,
     "metadata": {},
     "output_type": "execute_result"
    }
   ],
   "source": [
    "fear_model.fit(x_fear_train, y_fear_train, epochs=50, batch_size=512)"
   ]
  },
  {
   "cell_type": "code",
   "execution_count": 17,
   "id": "prompt-reception",
   "metadata": {},
   "outputs": [
    {
     "name": "stdout",
     "output_type": "stream",
     "text": [
      "103/103 [==============================] - 0s 3ms/step - loss: 3.7547 - binary_accuracy: 0.6771\n"
     ]
    }
   ],
   "source": [
    "fear_results = fear_model.evaluate(x_fear_test, y_fear_test)"
   ]
  },
  {
   "cell_type": "code",
   "execution_count": 18,
   "id": "lyric-grove",
   "metadata": {},
   "outputs": [
    {
     "data": {
      "text/plain": [
       "[3.7547030448913574, 0.6771341562271118]"
      ]
     },
     "execution_count": 18,
     "metadata": {},
     "output_type": "execute_result"
    }
   ],
   "source": [
    "fear_results"
   ]
  },
  {
   "cell_type": "code",
   "execution_count": 19,
   "id": "frank-nowhere",
   "metadata": {},
   "outputs": [],
   "source": [
    "fear_model.save('fear_model.h5')"
   ]
  },
  {
   "cell_type": "code",
   "execution_count": 20,
   "id": "adjacent-builder",
   "metadata": {},
   "outputs": [
    {
     "data": {
      "text/plain": [
       "['너무/Adverb', '무섭다/Adjective']"
      ]
     },
     "execution_count": 20,
     "metadata": {},
     "output_type": "execute_result"
    }
   ],
   "source": [
    "fear_review = \"너무 무섭다\"\n",
    "fear_token = tokenize(fear_review)\n",
    "fear_token"
   ]
  },
  {
   "cell_type": "code",
   "execution_count": 21,
   "id": "celtic-vampire",
   "metadata": {},
   "outputs": [
    {
     "data": {
      "text/plain": [
       "0.9999995231628418"
      ]
     },
     "execution_count": 21,
     "metadata": {},
     "output_type": "execute_result"
    }
   ],
   "source": [
    "tf = fear_term_frequency(fear_token)\n",
    "data = np.expand_dims(np.asarray(tf).astype('float32'),axis=0)\n",
    "float(fear_model.predict(data))"
   ]
  },
  {
   "cell_type": "code",
   "execution_count": 22,
   "id": "ongoing-cologne",
   "metadata": {},
   "outputs": [],
   "source": [
    "def fear_predict(predict):\n",
    "    fear_token = tokenize(predict)\n",
    "    fear_tfq = fear_term_frequency(fear_token)\n",
    "    fear_data = np.expand_dims(np.asarray(fear_tfq).astype('float32'), axis=0)\n",
    "    fear_score = float(fear_model.predict(fear_data))\n",
    "    if(fear_score > 0.5):\n",
    "        print(f\"{predict} ==> 공포 ({round(fear_score*100)}%)\")\n",
    "    else:\n",
    "        print(f\"{predict} ==> 공포X ({round((1-fear_score)*100)}%)\")"
   ]
  },
  {
   "cell_type": "code",
   "execution_count": 23,
   "id": "harmful-drive",
   "metadata": {
    "scrolled": true
   },
   "outputs": [
    {
     "name": "stdout",
     "output_type": "stream",
     "text": [
      "김은지 얼굴 ==> 공포 (88%)\n"
     ]
    }
   ],
   "source": [
    "fear_predict(\"김은지 얼굴\")"
   ]
  },
  {
   "cell_type": "code",
   "execution_count": 24,
   "id": "determined-allen",
   "metadata": {},
   "outputs": [],
   "source": [
    "#놀람 감정 분석"
   ]
  },
  {
   "cell_type": "code",
   "execution_count": 25,
   "id": "vocational-service",
   "metadata": {},
   "outputs": [],
   "source": [
    "import pandas as pd\n",
    "train_surprise_df = pd.read_csv(\"surprisetraindata.txt\",\"\\t\")\n",
    "test_surprise_df = pd.read_csv(\"surprisetestdata.txt\",\"\\t\")"
   ]
  },
  {
   "cell_type": "code",
   "execution_count": 26,
   "id": "finished-exclusive",
   "metadata": {},
   "outputs": [],
   "source": [
    "from konlpy.tag import Okt\n",
    "okt_surprise = Okt()"
   ]
  },
  {
   "cell_type": "code",
   "execution_count": 27,
   "id": "legislative-supplier",
   "metadata": {},
   "outputs": [],
   "source": [
    "def tokenize(doc):\n",
    "    return ['/'.join(t) for t in okt_surprise.pos(doc, norm=True, stem=True)]"
   ]
  },
  {
   "cell_type": "code",
   "execution_count": 28,
   "id": "increased-decimal",
   "metadata": {},
   "outputs": [],
   "source": [
    "train_surprise_df.isnull().any()\n",
    "train_surprise_df['document'] = train_surprise_df['document'].fillna('');\n",
    "train_surprise_df.isnull().any()\n",
    "test_surprise_df['document'] = test_surprise_df['document'].fillna('');"
   ]
  },
  {
   "cell_type": "code",
   "execution_count": 29,
   "id": "infinite-nursing",
   "metadata": {},
   "outputs": [],
   "source": [
    "train_surprise_docs = [(tokenize(row[1]), row[2]) for row in train_surprise_df.values]\n",
    "test_surprise_docs = [(tokenize(row[1]),row[2]) for row in test_surprise_df.values]"
   ]
  },
  {
   "cell_type": "code",
   "execution_count": 30,
   "id": "still-globe",
   "metadata": {},
   "outputs": [
    {
     "name": "stdout",
     "output_type": "stream",
     "text": [
      "(['언니/Noun', '동생/Noun', '으로/Josa', '부르다/Verb', '맞다/Verb', '일/Noun', '인가요/Josa', '..??/Punctuation'], 0)\n",
      "(['톡/Noun', '크다/Verb', '언니/Noun', '들/Suffix', '임산부/Noun', '언니/Noun', '들/Suffix', 'ㅠㅠ/KoreanParticle'], 0)\n"
     ]
    }
   ],
   "source": [
    "print(train_surprise_docs[0])\n",
    "print(test_surprise_docs[0])"
   ]
  },
  {
   "cell_type": "code",
   "execution_count": 31,
   "id": "limiting-command",
   "metadata": {},
   "outputs": [
    {
     "name": "stdout",
     "output_type": "stream",
     "text": [
      "토큰개수: 75323\n"
     ]
    }
   ],
   "source": [
    "tokens = [t for d in train_surprise_docs for t in d[0]]\n",
    "print(\"토큰개수:\",len(tokens))"
   ]
  },
  {
   "cell_type": "code",
   "execution_count": 32,
   "id": "industrial-smell",
   "metadata": {},
   "outputs": [
    {
     "name": "stdout",
     "output_type": "stream",
     "text": [
      "75323\n",
      "11199\n",
      "[('하다/Verb', 2100), ('이/Josa', 1546), ('?/Punctuation', 1496), ('./Punctuation', 1182), ('가/Josa', 1176), ('에/Josa', 920), ('../Punctuation', 760), ('들/Suffix', 754), ('은/Josa', 744), ('.../Punctuation', 713)]\n"
     ]
    }
   ],
   "source": [
    "import nltk\n",
    "surprise_text = nltk.Text(tokens, name='NMSC')\n",
    "print(len(surprise_text.tokens))\n",
    "print(len(set(surprise_text.tokens)))\n",
    "print(surprise_text.vocab().most_common(10))"
   ]
  },
  {
   "cell_type": "code",
   "execution_count": 33,
   "id": "fundamental-investing",
   "metadata": {},
   "outputs": [
    {
     "name": "stderr",
     "output_type": "stream",
     "text": [
      "C:\\Users\\sunho\\anaconda3\\lib\\site-packages\\matplotlib\\backends\\backend_agg.py:238: RuntimeWarning: Glyph 12619 missing from current font.\n",
      "  font.set_text(s, 0.0, flags=flags)\n",
      "C:\\Users\\sunho\\anaconda3\\lib\\site-packages\\matplotlib\\backends\\backend_agg.py:238: RuntimeWarning: Glyph 44144 missing from current font.\n",
      "  font.set_text(s, 0.0, flags=flags)\n",
      "C:\\Users\\sunho\\anaconda3\\lib\\site-packages\\matplotlib\\backends\\backend_agg.py:238: RuntimeWarning: Glyph 45208 missing from current font.\n",
      "  font.set_text(s, 0.0, flags=flags)\n",
      "C:\\Users\\sunho\\anaconda3\\lib\\site-packages\\matplotlib\\backends\\backend_agg.py:238: RuntimeWarning: Glyph 44256 missing from current font.\n",
      "  font.set_text(s, 0.0, flags=flags)\n",
      "C:\\Users\\sunho\\anaconda3\\lib\\site-packages\\matplotlib\\backends\\backend_agg.py:201: RuntimeWarning: Glyph 12619 missing from current font.\n",
      "  font.set_text(s, 0, flags=flags)\n",
      "C:\\Users\\sunho\\anaconda3\\lib\\site-packages\\matplotlib\\backends\\backend_agg.py:201: RuntimeWarning: Glyph 44144 missing from current font.\n",
      "  font.set_text(s, 0, flags=flags)\n",
      "C:\\Users\\sunho\\anaconda3\\lib\\site-packages\\matplotlib\\backends\\backend_agg.py:201: RuntimeWarning: Glyph 45208 missing from current font.\n",
      "  font.set_text(s, 0, flags=flags)\n",
      "C:\\Users\\sunho\\anaconda3\\lib\\site-packages\\matplotlib\\backends\\backend_agg.py:201: RuntimeWarning: Glyph 44256 missing from current font.\n",
      "  font.set_text(s, 0, flags=flags)\n"
     ]
    },
    {
     "data": {
      "image/png": "[encoded data removed]",
      "text/plain": [
       "<Figure size 1440x720 with 1 Axes>"
      ]
     },
     "metadata": {
      "needs_background": "light"
     },
     "output_type": "display_data"
    }
   ],
   "source": [
    "import matplotlib.pyplot as plt\n",
    "from matplotlib import font_manager, rc\n",
    "plt.figure(figsize=(20,10))\n",
    "surprise_text.plot(50)"
   ]
  },
  {
   "cell_type": "code",
   "execution_count": 34,
   "id": "affiliated-soundtrack",
   "metadata": {},
   "outputs": [],
   "source": [
    "SURPRISE_FREQUENCY_COUNT = 10000;\n",
    "surprise_selected_words = [f[0] for f in surprise_text.vocab().most_common(SURPRISE_FREQUENCY_COUNT)]"
   ]
  },
  {
   "cell_type": "code",
   "execution_count": 35,
   "id": "frozen-electric",
   "metadata": {},
   "outputs": [],
   "source": [
    "def surprise_term_frequency(doc):\n",
    "    return [doc.count(word) for word in surprise_selected_words]"
   ]
  },
  {
   "cell_type": "code",
   "execution_count": 36,
   "id": "hired-formula",
   "metadata": {},
   "outputs": [],
   "source": [
    "x_surprise_train = [surprise_term_frequency(d) for d,_ in train_surprise_docs]\n",
    "x_surprise_test = [surprise_term_frequency(d) for d,_ in test_surprise_docs]\n",
    "y_surprise_train = [c for _,c in train_surprise_docs]\n",
    "y_surprise_test = [c for _,c in test_surprise_docs]"
   ]
  },
  {
   "cell_type": "code",
   "execution_count": 37,
   "id": "twenty-filename",
   "metadata": {},
   "outputs": [],
   "source": [
    "import numpy as np\n",
    "x_surprise_train = np.asarray(x_surprise_train).astype('float32')\n",
    "x_surprise_test = np.asarray(x_surprise_test). astype('float32')\n",
    "\n",
    "y_surprise_train = np.asarray(y_surprise_train).astype('float32')\n",
    "y_surprise_test = np.asarray(y_surprise_test).astype('float32')"
   ]
  },
  {
   "cell_type": "code",
   "execution_count": 38,
   "id": "stopped-window",
   "metadata": {},
   "outputs": [],
   "source": [
    "import tensorflow as tf\n",
    "surprise_model= tf.keras.models.Sequential([\n",
    "    tf.keras.layers.Dense(64, activation = 'relu',input_shape=(SURPRISE_FREQUENCY_COUNT,)),\n",
    "    tf.keras.layers.Dense(64, activation = 'relu'),\n",
    "    tf.keras.layers.Dense(1, activation = 'sigmoid')\n",
    "])"
   ]
  },
  {
   "cell_type": "code",
   "execution_count": 39,
   "id": "atmospheric-blast",
   "metadata": {},
   "outputs": [],
   "source": [
    "surprise_model.compile(optimizer=tf.keras.optimizers.RMSprop(lr=0.001),\n",
    "             loss=tf.keras.losses.binary_crossentropy,\n",
    "             metrics=[tf.keras.metrics.binary_accuracy]\n",
    "             )"
   ]
  },
  {
   "cell_type": "code",
   "execution_count": 40,
   "id": "sustainable-ticket",
   "metadata": {},
   "outputs": [
    {
     "name": "stdout",
     "output_type": "stream",
     "text": [
      "Epoch 1/50\n",
      "17/17 [==============================] - 0s 29ms/step - loss: 0.6640 - binary_accuracy: 0.6548\n",
      "Epoch 2/50\n",
      "17/17 [==============================] - 0s 29ms/step - loss: 0.5304 - binary_accuracy: 0.7779\n",
      "Epoch 3/50\n",
      "17/17 [==============================] - 0s 26ms/step - loss: 0.4128 - binary_accuracy: 0.8360\n",
      "Epoch 4/50\n",
      "17/17 [==============================] - 0s 29ms/step - loss: 0.3224 - binary_accuracy: 0.8765\n",
      "Epoch 5/50\n",
      "17/17 [==============================] - 0s 29ms/step - loss: 0.2510 - binary_accuracy: 0.9087\n",
      "Epoch 6/50\n",
      "17/17 [==============================] - 1s 29ms/step - loss: 0.1956 - binary_accuracy: 0.9306\n",
      "Epoch 7/50\n",
      "17/17 [==============================] - 0s 28ms/step - loss: 0.1528 - binary_accuracy: 0.9494\n",
      "Epoch 8/50\n",
      "17/17 [==============================] - 0s 29ms/step - loss: 0.1180 - binary_accuracy: 0.9662\n",
      "Epoch 9/50\n",
      "17/17 [==============================] - 0s 27ms/step - loss: 0.0924 - binary_accuracy: 0.9752\n",
      "Epoch 10/50\n",
      "17/17 [==============================] - 0s 29ms/step - loss: 0.0705 - binary_accuracy: 0.9818\n",
      "Epoch 11/50\n",
      "17/17 [==============================] - 0s 29ms/step - loss: 0.0546 - binary_accuracy: 0.9862\n",
      "Epoch 12/50\n",
      "17/17 [==============================] - 0s 27ms/step - loss: 0.0422 - binary_accuracy: 0.9904\n",
      "Epoch 13/50\n",
      "17/17 [==============================] - 0s 28ms/step - loss: 0.0330 - binary_accuracy: 0.9913\n",
      "Epoch 14/50\n",
      "17/17 [==============================] - 1s 30ms/step - loss: 0.0249 - binary_accuracy: 0.9943\n",
      "Epoch 15/50\n",
      "17/17 [==============================] - 0s 28ms/step - loss: 0.0195 - binary_accuracy: 0.9954\n",
      "Epoch 16/50\n",
      "17/17 [==============================] - 0s 29ms/step - loss: 0.0148 - binary_accuracy: 0.9964\n",
      "Epoch 17/50\n",
      "17/17 [==============================] - 1s 30ms/step - loss: 0.0110 - binary_accuracy: 0.9977\n",
      "Epoch 18/50\n",
      "17/17 [==============================] - 0s 29ms/step - loss: 0.0088 - binary_accuracy: 0.9983\n",
      "Epoch 19/50\n",
      "17/17 [==============================] - 0s 29ms/step - loss: 0.0063 - binary_accuracy: 0.9990\n",
      "Epoch 20/50\n",
      "17/17 [==============================] - 1s 30ms/step - loss: 0.0046 - binary_accuracy: 0.9993\n",
      "Epoch 21/50\n",
      "17/17 [==============================] - 0s 29ms/step - loss: 0.0039 - binary_accuracy: 0.9998\n",
      "Epoch 22/50\n",
      "17/17 [==============================] - 0s 29ms/step - loss: 0.0028 - binary_accuracy: 0.9995\n",
      "Epoch 23/50\n",
      "17/17 [==============================] - 1s 30ms/step - loss: 0.0023 - binary_accuracy: 0.9994\n",
      "Epoch 24/50\n",
      "17/17 [==============================] - 1s 30ms/step - loss: 0.0020 - binary_accuracy: 0.9998\n",
      "Epoch 25/50\n",
      "17/17 [==============================] - 0s 29ms/step - loss: 0.0017 - binary_accuracy: 0.9996\n",
      "Epoch 26/50\n",
      "17/17 [==============================] - 1s 29ms/step - loss: 0.0015 - binary_accuracy: 0.9996\n",
      "Epoch 27/50\n",
      "17/17 [==============================] - 0s 29ms/step - loss: 0.0013 - binary_accuracy: 0.9996\n",
      "Epoch 28/50\n",
      "17/17 [==============================] - 0s 27ms/step - loss: 0.0012 - binary_accuracy: 0.9998\n",
      "Epoch 29/50\n",
      "17/17 [==============================] - 0s 29ms/step - loss: 0.0010 - binary_accuracy: 0.9998\n",
      "Epoch 30/50\n",
      "17/17 [==============================] - 0s 28ms/step - loss: 0.0012 - binary_accuracy: 0.9994\n",
      "Epoch 31/50\n",
      "17/17 [==============================] - 1s 30ms/step - loss: 7.8713e-04 - binary_accuracy: 0.9996\n",
      "Epoch 32/50\n",
      "17/17 [==============================] - 0s 29ms/step - loss: 9.4710e-04 - binary_accuracy: 0.9996\n",
      "Epoch 33/50\n",
      "17/17 [==============================] - 0s 29ms/step - loss: 6.7216e-04 - binary_accuracy: 0.9996\n",
      "Epoch 34/50\n",
      "17/17 [==============================] - 0s 27ms/step - loss: 9.8313e-04 - binary_accuracy: 0.9996\n",
      "Epoch 35/50\n",
      "17/17 [==============================] - 1s 30ms/step - loss: 7.8872e-04 - binary_accuracy: 0.9996\n",
      "Epoch 36/50\n",
      "17/17 [==============================] - 0s 29ms/step - loss: 7.9019e-04 - binary_accuracy: 0.9998\n",
      "Epoch 37/50\n",
      "17/17 [==============================] - 0s 29ms/step - loss: 7.6730e-04 - binary_accuracy: 0.9998\n",
      "Epoch 38/50\n",
      "17/17 [==============================] - 0s 29ms/step - loss: 7.9681e-04 - binary_accuracy: 0.9995\n",
      "Epoch 39/50\n",
      "17/17 [==============================] - 0s 29ms/step - loss: 6.3991e-04 - binary_accuracy: 0.9998\n",
      "Epoch 40/50\n",
      "17/17 [==============================] - 0s 27ms/step - loss: 6.9769e-04 - binary_accuracy: 0.9996\n",
      "Epoch 41/50\n",
      "17/17 [==============================] - 1s 30ms/step - loss: 7.4092e-04 - binary_accuracy: 0.9996\n",
      "Epoch 42/50\n",
      "17/17 [==============================] - 0s 29ms/step - loss: 5.8327e-04 - binary_accuracy: 0.9998\n",
      "Epoch 43/50\n",
      "17/17 [==============================] - 1s 29ms/step - loss: 5.9361e-04 - binary_accuracy: 0.9998\n",
      "Epoch 44/50\n",
      "17/17 [==============================] - 0s 28ms/step - loss: 8.7452e-04 - binary_accuracy: 0.9996\n",
      "Epoch 45/50\n",
      "17/17 [==============================] - 0s 29ms/step - loss: 7.2638e-04 - binary_accuracy: 0.9996\n",
      "Epoch 46/50\n",
      "17/17 [==============================] - 0s 27ms/step - loss: 8.3018e-04 - binary_accuracy: 0.9995\n",
      "Epoch 47/50\n",
      "17/17 [==============================] - 1s 30ms/step - loss: 6.9436e-04 - binary_accuracy: 0.9996\n",
      "Epoch 48/50\n",
      "17/17 [==============================] - 1s 30ms/step - loss: 7.9746e-04 - binary_accuracy: 0.9996\n",
      "Epoch 49/50\n",
      "17/17 [==============================] - 0s 29ms/step - loss: 7.0541e-04 - binary_accuracy: 0.9995\n",
      "Epoch 50/50\n",
      "17/17 [==============================] - 0s 27ms/step - loss: 5.3983e-04 - binary_accuracy: 0.9996\n"
     ]
    },
    {
     "data": {
      "text/plain": [
       "<tensorflow.python.keras.callbacks.History at 0x1403372ee08>"
      ]
     },
     "execution_count": 40,
     "metadata": {},
     "output_type": "execute_result"
    }
   ],
   "source": [
    "surprise_model.fit(x_surprise_train, y_surprise_train, epochs=50, batch_size=512)"
   ]
  },
  {
   "cell_type": "code",
   "execution_count": 41,
   "id": "statistical-surrey",
   "metadata": {},
   "outputs": [
    {
     "name": "stdout",
     "output_type": "stream",
     "text": [
      "111/111 [==============================] - 0s 3ms/step - loss: 4.0428 - binary_accuracy: 0.6529\n"
     ]
    }
   ],
   "source": [
    "surprise_results = surprise_model.evaluate(x_surprise_test, y_surprise_test)"
   ]
  },
  {
   "cell_type": "code",
   "execution_count": 42,
   "id": "parallel-scotland",
   "metadata": {},
   "outputs": [
    {
     "data": {
      "text/plain": [
       "[4.0427632331848145, 0.6528878808021545]"
      ]
     },
     "execution_count": 42,
     "metadata": {},
     "output_type": "execute_result"
    }
   ],
   "source": [
    "surprise_results"
   ]
  },
  {
   "cell_type": "code",
   "execution_count": 43,
   "id": "affected-christianity",
   "metadata": {},
   "outputs": [],
   "source": [
    "surprise_model.save('surprise_model.h5')"
   ]
  },
  {
   "cell_type": "code",
   "execution_count": 44,
   "id": "uniform-refund",
   "metadata": {},
   "outputs": [
    {
     "data": {
      "text/plain": [
       "['너무/Adverb', '놀라다/Verb']"
      ]
     },
     "execution_count": 44,
     "metadata": {},
     "output_type": "execute_result"
    }
   ],
   "source": [
    "surprise_review = \"너무 놀랍다\"\n",
    "surprise_token = tokenize(surprise_review)\n",
    "surprise_token"
   ]
  },
  {
   "cell_type": "code",
   "execution_count": 45,
   "id": "hungry-message",
   "metadata": {},
   "outputs": [
    {
     "data": {
      "text/plain": [
       "0.9999723434448242"
      ]
     },
     "execution_count": 45,
     "metadata": {},
     "output_type": "execute_result"
    }
   ],
   "source": [
    "tf = surprise_term_frequency(surprise_token)\n",
    "data = np.expand_dims(np.asarray(tf).astype('float32'),axis=0)\n",
    "float(surprise_model.predict(data))"
   ]
  },
  {
   "cell_type": "code",
   "execution_count": 46,
   "id": "threatened-aviation",
   "metadata": {},
   "outputs": [],
   "source": [
    "def surprise_predict(predict):\n",
    "    surprise_token = tokenize(predict)\n",
    "    surprise_tfq = surprise_term_frequency(surprise_token)\n",
    "    surprise_data = np.expand_dims(np.asarray(surprise_tfq).astype('float32'), axis=0)\n",
    "    surprise_score = float(surprise_model.predict(surprise_data))\n",
    "    if(surprise_score > 0.5):\n",
    "        print(f\"{predict} ==> 놀람 ({round(surprise_score*100)}%)\")\n",
    "    else:\n",
    "        print(f\"{predict} ==> 놀람X ({round((1-surprise_score)*100)}%)\")"
   ]
  },
  {
   "cell_type": "code",
   "execution_count": 47,
   "id": "cultural-begin",
   "metadata": {},
   "outputs": [
    {
     "name": "stdout",
     "output_type": "stream",
     "text": [
      "원재상 ==> 놀람 (99%)\n"
     ]
    }
   ],
   "source": [
    "surprise_predict(\"원재상\")"
   ]
  },
  {
   "cell_type": "code",
   "execution_count": 48,
   "id": "quarterly-firewall",
   "metadata": {},
   "outputs": [],
   "source": [
    "#분노 감정 분석"
   ]
  },
  {
   "cell_type": "code",
   "execution_count": 49,
   "id": "hearing-removal",
   "metadata": {},
   "outputs": [],
   "source": [
    "import pandas as pd\n",
    "train_anger_df = pd.read_csv(\"angertraindata.txt\",\"\\t\")\n",
    "test_anger_df = pd.read_csv(\"angertestdata.txt\",\"\\t\")"
   ]
  },
  {
   "cell_type": "code",
   "execution_count": 50,
   "id": "accessible-surveillance",
   "metadata": {},
   "outputs": [],
   "source": [
    "from konlpy.tag import Okt\n",
    "okt_anger = Okt()"
   ]
  },
  {
   "cell_type": "code",
   "execution_count": 51,
   "id": "packed-tucson",
   "metadata": {},
   "outputs": [],
   "source": [
    "def tokenize(doc):\n",
    "    return ['/'.join(t) for t in okt_anger.pos(doc, norm=True, stem=True)]"
   ]
  },
  {
   "cell_type": "code",
   "execution_count": 52,
   "id": "known-scottish",
   "metadata": {},
   "outputs": [],
   "source": [
    "train_anger_df.isnull().any()\n",
    "train_anger_df['document'] = train_anger_df['document'].fillna('');\n",
    "train_anger_df.isnull().any()\n",
    "test_anger_df['document'] = test_anger_df['document'].fillna('');"
   ]
  },
  {
   "cell_type": "code",
   "execution_count": 53,
   "id": "innovative-vatican",
   "metadata": {},
   "outputs": [],
   "source": [
    "train_anger_docs = [(tokenize(row[1]), row[2]) for row in train_anger_df.values]\n",
    "test_anger_docs = [(tokenize(row[1]),row[2]) for row in test_anger_df.values]"
   ]
  },
  {
   "cell_type": "code",
   "execution_count": 54,
   "id": "undefined-press",
   "metadata": {},
   "outputs": [
    {
     "name": "stdout",
     "output_type": "stream",
     "text": [
      "(['언니/Noun', '동생/Noun', '으로/Josa', '부르다/Verb', '맞다/Verb', '일/Noun', '인가요/Josa', '..??/Punctuation'], 0)\n",
      "(['톡/Noun', '크다/Verb', '언니/Noun', '들/Suffix', '임산부/Noun', '언니/Noun', '들/Suffix', 'ㅠㅠ/KoreanParticle'], 0)\n"
     ]
    }
   ],
   "source": [
    "print(train_anger_docs[0])\n",
    "print(test_anger_docs[0])"
   ]
  },
  {
   "cell_type": "code",
   "execution_count": 55,
   "id": "destroyed-scanner",
   "metadata": {},
   "outputs": [
    {
     "name": "stdout",
     "output_type": "stream",
     "text": [
      "토큰개수: 77355\n"
     ]
    }
   ],
   "source": [
    "tokens = [t for d in train_anger_docs for t in d[0]]\n",
    "print(\"토큰개수:\",len(tokens))"
   ]
  },
  {
   "cell_type": "code",
   "execution_count": 56,
   "id": "bizarre-application",
   "metadata": {},
   "outputs": [
    {
     "name": "stdout",
     "output_type": "stream",
     "text": [
      "77355\n",
      "10887\n",
      "[('하다/Verb', 2380), ('./Punctuation', 1428), ('이/Josa', 1382), ('들/Suffix', 1197), ('가/Josa', 1008), ('?/Punctuation', 989), ('에/Josa', 967), ('을/Josa', 820), ('은/Josa', 807), ('../Punctuation', 676)]\n"
     ]
    }
   ],
   "source": [
    "import nltk\n",
    "anger_text = nltk.Text(tokens, name='NMSC')\n",
    "print(len(anger_text.tokens))\n",
    "print(len(set(anger_text.tokens)))\n",
    "print(anger_text.vocab().most_common(10))"
   ]
  },
  {
   "cell_type": "code",
   "execution_count": 57,
   "id": "mobile-trout",
   "metadata": {},
   "outputs": [
    {
     "name": "stderr",
     "output_type": "stream",
     "text": [
      "C:\\Users\\sunho\\anaconda3\\lib\\site-packages\\matplotlib\\backends\\backend_agg.py:238: RuntimeWarning: Glyph 48155 missing from current font.\n",
      "  font.set_text(s, 0.0, flags=flags)\n",
      "C:\\Users\\sunho\\anaconda3\\lib\\site-packages\\matplotlib\\backends\\backend_agg.py:238: RuntimeWarning: Glyph 46972 missing from current font.\n",
      "  font.set_text(s, 0.0, flags=flags)\n",
      "C:\\Users\\sunho\\anaconda3\\lib\\site-packages\\matplotlib\\backends\\backend_agg.py:238: RuntimeWarning: Glyph 44397 missing from current font.\n",
      "  font.set_text(s, 0.0, flags=flags)\n",
      "C:\\Users\\sunho\\anaconda3\\lib\\site-packages\\matplotlib\\backends\\backend_agg.py:238: RuntimeWarning: Glyph 48124 missing from current font.\n",
      "  font.set_text(s, 0.0, flags=flags)\n",
      "C:\\Users\\sunho\\anaconda3\\lib\\site-packages\\matplotlib\\backends\\backend_agg.py:238: RuntimeWarning: Glyph 50416 missing from current font.\n",
      "  font.set_text(s, 0.0, flags=flags)\n",
      "C:\\Users\\sunho\\anaconda3\\lib\\site-packages\\matplotlib\\backends\\backend_agg.py:238: RuntimeWarning: Glyph 47112 missing from current font.\n",
      "  font.set_text(s, 0.0, flags=flags)\n",
      "C:\\Users\\sunho\\anaconda3\\lib\\site-packages\\matplotlib\\backends\\backend_agg.py:238: RuntimeWarning: Glyph 44592 missing from current font.\n",
      "  font.set_text(s, 0.0, flags=flags)\n",
      "C:\\Users\\sunho\\anaconda3\\lib\\site-packages\\matplotlib\\backends\\backend_agg.py:238: RuntimeWarning: Glyph 47673 missing from current font.\n",
      "  font.set_text(s, 0.0, flags=flags)\n",
      "C:\\Users\\sunho\\anaconda3\\lib\\site-packages\\matplotlib\\backends\\backend_agg.py:201: RuntimeWarning: Glyph 48155 missing from current font.\n",
      "  font.set_text(s, 0, flags=flags)\n",
      "C:\\Users\\sunho\\anaconda3\\lib\\site-packages\\matplotlib\\backends\\backend_agg.py:201: RuntimeWarning: Glyph 46972 missing from current font.\n",
      "  font.set_text(s, 0, flags=flags)\n",
      "C:\\Users\\sunho\\anaconda3\\lib\\site-packages\\matplotlib\\backends\\backend_agg.py:201: RuntimeWarning: Glyph 44397 missing from current font.\n",
      "  font.set_text(s, 0, flags=flags)\n",
      "C:\\Users\\sunho\\anaconda3\\lib\\site-packages\\matplotlib\\backends\\backend_agg.py:201: RuntimeWarning: Glyph 48124 missing from current font.\n",
      "  font.set_text(s, 0, flags=flags)\n",
      "C:\\Users\\sunho\\anaconda3\\lib\\site-packages\\matplotlib\\backends\\backend_agg.py:201: RuntimeWarning: Glyph 50416 missing from current font.\n",
      "  font.set_text(s, 0, flags=flags)\n",
      "C:\\Users\\sunho\\anaconda3\\lib\\site-packages\\matplotlib\\backends\\backend_agg.py:201: RuntimeWarning: Glyph 47112 missing from current font.\n",
      "  font.set_text(s, 0, flags=flags)\n",
      "C:\\Users\\sunho\\anaconda3\\lib\\site-packages\\matplotlib\\backends\\backend_agg.py:201: RuntimeWarning: Glyph 44592 missing from current font.\n",
      "  font.set_text(s, 0, flags=flags)\n",
      "C:\\Users\\sunho\\anaconda3\\lib\\site-packages\\matplotlib\\backends\\backend_agg.py:201: RuntimeWarning: Glyph 47673 missing from current font.\n",
      "  font.set_text(s, 0, flags=flags)\n"
     ]
    },
    {
     "data": {
      "image/png": "[encoded data removed]",
      "text/plain": [
       "<Figure size 1440x720 with 1 Axes>"
      ]
     },
     "metadata": {
      "needs_background": "light"
     },
     "output_type": "display_data"
    }
   ],
   "source": [
    "import matplotlib.pyplot as plt\n",
    "from matplotlib import font_manager, rc\n",
    "plt.figure(figsize=(20,10))\n",
    "anger_text.plot(50)"
   ]
  },
  {
   "cell_type": "code",
   "execution_count": 58,
   "id": "opposed-corruption",
   "metadata": {},
   "outputs": [],
   "source": [
    "ANGER_FREQUENCY_COUNT = 10000;\n",
    "anger_selected_words = [f[0] for f in anger_text.vocab().most_common(ANGER_FREQUENCY_COUNT)]"
   ]
  },
  {
   "cell_type": "code",
   "execution_count": 59,
   "id": "swedish-turtle",
   "metadata": {},
   "outputs": [],
   "source": [
    "def anger_term_frequency(doc):\n",
    "    return [doc.count(word) for word in anger_selected_words]"
   ]
  },
  {
   "cell_type": "code",
   "execution_count": 60,
   "id": "verified-choice",
   "metadata": {},
   "outputs": [],
   "source": [
    "x_anger_train = [anger_term_frequency(d) for d,_ in train_anger_docs]\n",
    "x_anger_test = [anger_term_frequency(d) for d,_ in test_anger_docs]\n",
    "y_anger_train = [c for _,c in train_anger_docs]\n",
    "y_anger_test = [c for _,c in test_anger_docs]"
   ]
  },
  {
   "cell_type": "code",
   "execution_count": 61,
   "id": "supported-internship",
   "metadata": {},
   "outputs": [],
   "source": [
    "import numpy as np\n",
    "x_anger_train = np.asarray(x_anger_train).astype('float32')\n",
    "x_anger_test = np.asarray(x_anger_test). astype('float32')\n",
    "\n",
    "y_anger_train = np.asarray(y_anger_train).astype('float32')\n",
    "y_anger_test = np.asarray(y_anger_test).astype('float32')"
   ]
  },
  {
   "cell_type": "code",
   "execution_count": 62,
   "id": "meaningful-collaboration",
   "metadata": {},
   "outputs": [],
   "source": [
    "import tensorflow as tf\n",
    "anger_model= tf.keras.models.Sequential([\n",
    "    tf.keras.layers.Dense(64, activation = 'relu',input_shape=(ANGER_FREQUENCY_COUNT,)),\n",
    "    tf.keras.layers.Dense(64, activation = 'relu'),\n",
    "    tf.keras.layers.Dense(1, activation = 'sigmoid')\n",
    "])"
   ]
  },
  {
   "cell_type": "code",
   "execution_count": 63,
   "id": "fundamental-argument",
   "metadata": {},
   "outputs": [],
   "source": [
    "anger_model.compile(optimizer=tf.keras.optimizers.RMSprop(lr=0.001),\n",
    "             loss=tf.keras.losses.binary_crossentropy,\n",
    "             metrics=[tf.keras.metrics.binary_accuracy]\n",
    "             )"
   ]
  },
  {
   "cell_type": "code",
   "execution_count": 64,
   "id": "removable-grill",
   "metadata": {},
   "outputs": [
    {
     "name": "stdout",
     "output_type": "stream",
     "text": [
      "Epoch 1/50\n",
      "16/16 [==============================] - 0s 29ms/step - loss: 0.6520 - binary_accuracy: 0.6669\n",
      "Epoch 2/50\n",
      "16/16 [==============================] - 0s 29ms/step - loss: 0.4992 - binary_accuracy: 0.8144\n",
      "Epoch 3/50\n",
      "16/16 [==============================] - 0s 28ms/step - loss: 0.3876 - binary_accuracy: 0.8560\n",
      "Epoch 4/50\n",
      "16/16 [==============================] - 0s 27ms/step - loss: 0.3081 - binary_accuracy: 0.8877\n",
      "Epoch 5/50\n",
      "16/16 [==============================] - 0s 28ms/step - loss: 0.2457 - binary_accuracy: 0.9143\n",
      "Epoch 6/50\n",
      "16/16 [==============================] - 0s 29ms/step - loss: 0.1963 - binary_accuracy: 0.9338\n",
      "Epoch 7/50\n",
      "16/16 [==============================] - 1s 45ms/step - loss: 0.1562 - binary_accuracy: 0.9480\n",
      "Epoch 8/50\n",
      "16/16 [==============================] - 0s 28ms/step - loss: 0.1227 - binary_accuracy: 0.9608\n",
      "Epoch 9/50\n",
      "16/16 [==============================] - 0s 26ms/step - loss: 0.0963 - binary_accuracy: 0.9707\n",
      "Epoch 10/50\n",
      "16/16 [==============================] - 0s 27ms/step - loss: 0.0751 - binary_accuracy: 0.9779\n",
      "Epoch 11/50\n",
      "16/16 [==============================] - 0s 27ms/step - loss: 0.0588 - binary_accuracy: 0.9822\n",
      "Epoch 12/50\n",
      "16/16 [==============================] - 0s 27ms/step - loss: 0.0452 - binary_accuracy: 0.9881\n",
      "Epoch 13/50\n",
      "16/16 [==============================] - 0s 27ms/step - loss: 0.0348 - binary_accuracy: 0.9919\n",
      "Epoch 14/50\n",
      "16/16 [==============================] - 0s 27ms/step - loss: 0.0262 - binary_accuracy: 0.9943\n",
      "Epoch 15/50\n",
      "16/16 [==============================] - 0s 26ms/step - loss: 0.0198 - binary_accuracy: 0.9962\n",
      "Epoch 16/50\n",
      "16/16 [==============================] - 0s 27ms/step - loss: 0.0150 - binary_accuracy: 0.9972\n",
      "Epoch 17/50\n",
      "16/16 [==============================] - 0s 27ms/step - loss: 0.0104 - binary_accuracy: 0.9985\n",
      "Epoch 18/50\n",
      "16/16 [==============================] - 0s 28ms/step - loss: 0.0078 - binary_accuracy: 0.9987\n",
      "Epoch 19/50\n",
      "16/16 [==============================] - 0s 28ms/step - loss: 0.0052 - binary_accuracy: 0.9994\n",
      "Epoch 20/50\n",
      "16/16 [==============================] - 0s 28ms/step - loss: 0.0037 - binary_accuracy: 0.9996\n",
      "Epoch 21/50\n",
      "16/16 [==============================] - 0s 28ms/step - loss: 0.0025 - binary_accuracy: 0.9999\n",
      "Epoch 22/50\n",
      "16/16 [==============================] - 0s 29ms/step - loss: 0.0019 - binary_accuracy: 0.9999\n",
      "Epoch 23/50\n",
      "16/16 [==============================] - 0s 31ms/step - loss: 0.0012 - binary_accuracy: 1.0000\n",
      "Epoch 24/50\n",
      "16/16 [==============================] - 1s 34ms/step - loss: 8.0934e-04 - binary_accuracy: 1.0000\n",
      "Epoch 25/50\n",
      "16/16 [==============================] - 0s 30ms/step - loss: 5.4925e-04 - binary_accuracy: 1.0000\n",
      "Epoch 26/50\n",
      "16/16 [==============================] - 1s 32ms/step - loss: 4.2239e-04 - binary_accuracy: 1.0000\n",
      "Epoch 27/50\n",
      "16/16 [==============================] - 1s 33ms/step - loss: 2.5863e-04 - binary_accuracy: 1.0000\n",
      "Epoch 28/50\n",
      "16/16 [==============================] - 1s 31ms/step - loss: 1.8315e-04 - binary_accuracy: 1.0000\n",
      "Epoch 29/50\n",
      "16/16 [==============================] - 0s 29ms/step - loss: 1.2156e-04 - binary_accuracy: 1.0000\n",
      "Epoch 30/50\n",
      "16/16 [==============================] - 0s 28ms/step - loss: 8.7083e-05 - binary_accuracy: 1.0000\n",
      "Epoch 31/50\n",
      "16/16 [==============================] - 0s 27ms/step - loss: 6.2236e-05 - binary_accuracy: 1.0000\n",
      "Epoch 32/50\n",
      "16/16 [==============================] - 0s 28ms/step - loss: 4.1952e-05 - binary_accuracy: 1.0000\n",
      "Epoch 33/50\n",
      "16/16 [==============================] - 0s 28ms/step - loss: 3.0510e-05 - binary_accuracy: 1.0000\n",
      "Epoch 34/50\n",
      "16/16 [==============================] - 0s 28ms/step - loss: 1.8473e-05 - binary_accuracy: 1.0000\n",
      "Epoch 35/50\n",
      "16/16 [==============================] - 0s 28ms/step - loss: 1.6120e-05 - binary_accuracy: 1.0000\n",
      "Epoch 36/50\n",
      "16/16 [==============================] - 0s 28ms/step - loss: 8.2001e-06 - binary_accuracy: 1.0000\n",
      "Epoch 37/50\n",
      "16/16 [==============================] - 0s 27ms/step - loss: 6.4886e-06 - binary_accuracy: 1.0000\n",
      "Epoch 38/50\n",
      "16/16 [==============================] - 0s 28ms/step - loss: 4.5510e-06 - binary_accuracy: 1.0000\n",
      "Epoch 39/50\n",
      "16/16 [==============================] - 0s 29ms/step - loss: 4.4035e-06 - binary_accuracy: 1.0000\n",
      "Epoch 40/50\n",
      "16/16 [==============================] - 0s 27ms/step - loss: 2.6046e-06 - binary_accuracy: 1.0000\n",
      "Epoch 41/50\n",
      "16/16 [==============================] - 0s 26ms/step - loss: 1.8097e-06 - binary_accuracy: 1.0000\n",
      "Epoch 42/50\n",
      "16/16 [==============================] - 0s 28ms/step - loss: 1.1272e-06 - binary_accuracy: 1.0000\n",
      "Epoch 43/50\n",
      "16/16 [==============================] - 0s 27ms/step - loss: 8.1646e-07 - binary_accuracy: 1.0000\n",
      "Epoch 44/50\n",
      "16/16 [==============================] - 0s 29ms/step - loss: 7.5487e-07 - binary_accuracy: 1.0000\n",
      "Epoch 45/50\n",
      "16/16 [==============================] - 0s 31ms/step - loss: 6.8488e-07 - binary_accuracy: 1.0000\n",
      "Epoch 46/50\n",
      "16/16 [==============================] - 0s 29ms/step - loss: 4.7832e-07 - binary_accuracy: 1.0000\n",
      "Epoch 47/50\n",
      "16/16 [==============================] - 0s 31ms/step - loss: 2.9111e-07 - binary_accuracy: 1.0000\n",
      "Epoch 48/50\n",
      "16/16 [==============================] - 1s 33ms/step - loss: 2.4339e-07 - binary_accuracy: 1.0000\n",
      "Epoch 49/50\n",
      "16/16 [==============================] - 1s 31ms/step - loss: 2.7637e-07 - binary_accuracy: 1.0000\n",
      "Epoch 50/50\n",
      "16/16 [==============================] - 0s 30ms/step - loss: 1.7154e-07 - binary_accuracy: 1.0000\n"
     ]
    },
    {
     "data": {
      "text/plain": [
       "<tensorflow.python.keras.callbacks.History at 0x140447d9c08>"
      ]
     },
     "execution_count": 64,
     "metadata": {},
     "output_type": "execute_result"
    }
   ],
   "source": [
    "anger_model.fit(x_anger_train, y_anger_train, epochs=50, batch_size=512)"
   ]
  },
  {
   "cell_type": "code",
   "execution_count": 65,
   "id": "stuck-significance",
   "metadata": {},
   "outputs": [
    {
     "name": "stdout",
     "output_type": "stream",
     "text": [
      "108/108 [==============================] - 0s 3ms/step - loss: 5.3435 - binary_accuracy: 0.6777\n"
     ]
    }
   ],
   "source": [
    "anger_results = anger_model.evaluate(x_anger_test, y_anger_test)"
   ]
  },
  {
   "cell_type": "code",
   "execution_count": 66,
   "id": "fresh-procedure",
   "metadata": {},
   "outputs": [
    {
     "data": {
      "text/plain": [
       "[5.34346866607666, 0.6776546239852905]"
      ]
     },
     "execution_count": 66,
     "metadata": {},
     "output_type": "execute_result"
    }
   ],
   "source": [
    "anger_results"
   ]
  },
  {
   "cell_type": "code",
   "execution_count": 67,
   "id": "final-telling",
   "metadata": {},
   "outputs": [],
   "source": [
    "anger_model.save('anger_model.h5')"
   ]
  },
  {
   "cell_type": "code",
   "execution_count": 68,
   "id": "personalized-throw",
   "metadata": {},
   "outputs": [
    {
     "data": {
      "text/plain": [
       "['너무/Adverb', '화나다/Verb']"
      ]
     },
     "execution_count": 68,
     "metadata": {},
     "output_type": "execute_result"
    }
   ],
   "source": [
    "anger_review = \"너무 화난다\"\n",
    "anger_token = tokenize(anger_review)\n",
    "anger_token"
   ]
  },
  {
   "cell_type": "code",
   "execution_count": 69,
   "id": "superior-hundred",
   "metadata": {},
   "outputs": [
    {
     "data": {
      "text/plain": [
       "1.0"
      ]
     },
     "execution_count": 69,
     "metadata": {},
     "output_type": "execute_result"
    }
   ],
   "source": [
    "tf = anger_term_frequency(anger_token)\n",
    "data = np.expand_dims(np.asarray(tf).astype('float32'),axis=0)\n",
    "float(anger_model.predict(data))"
   ]
  },
  {
   "cell_type": "code",
   "execution_count": 70,
   "id": "prime-bracelet",
   "metadata": {},
   "outputs": [],
   "source": [
    "def anger_predict(predict):\n",
    "    anger_token = tokenize(predict)\n",
    "    anger_tfq = anger_term_frequency(anger_token)\n",
    "    anger_data = np.expand_dims(np.asarray(anger_tfq).astype('float32'), axis=0)\n",
    "    anger_score = float(anger_model.predict(anger_data))\n",
    "    if(anger_score > 0.5):\n",
    "        print(f\"{predict} ==> 분노 ({round(anger_score*100)}%)\")\n",
    "    else:\n",
    "        print(f\"{predict} ==> 분노X ({round((1-anger_score)*100)}%)\")"
   ]
  },
  {
   "cell_type": "code",
   "execution_count": 71,
   "id": "significant-experiment",
   "metadata": {},
   "outputs": [
    {
     "name": "stdout",
     "output_type": "stream",
     "text": [
      "짜증나 ==> 분노X (100%)\n"
     ]
    }
   ],
   "source": [
    "anger_predict(\"짜증나\")"
   ]
  },
  {
   "cell_type": "code",
   "execution_count": 72,
   "id": "brown-benjamin",
   "metadata": {},
   "outputs": [],
   "source": [
    "#슬픔 감정 분석"
   ]
  },
  {
   "cell_type": "code",
   "execution_count": 73,
   "id": "resistant-offset",
   "metadata": {},
   "outputs": [],
   "source": [
    "import pandas as pd\n",
    "train_sadness_df = pd.read_csv(\"sadnesstraindata.txt\",\"\\t\")\n",
    "test_sadness_df = pd.read_csv(\"sadnesstestdata.txt\",\"\\t\")"
   ]
  },
  {
   "cell_type": "code",
   "execution_count": 74,
   "id": "heavy-stock",
   "metadata": {},
   "outputs": [],
   "source": [
    "from konlpy.tag import Okt\n",
    "okt_sadness = Okt()"
   ]
  },
  {
   "cell_type": "code",
   "execution_count": 75,
   "id": "lasting-moore",
   "metadata": {},
   "outputs": [],
   "source": [
    "def tokenize(doc):\n",
    "    return ['/'.join(t) for t in okt_sadness.pos(doc, norm=True, stem=True)]"
   ]
  },
  {
   "cell_type": "code",
   "execution_count": 76,
   "id": "satisfactory-indianapolis",
   "metadata": {},
   "outputs": [
    {
     "ename": "NameError",
     "evalue": "name 'train_sadness_docs' is not defined",
     "output_type": "error",
     "traceback": [
      "\u001b[1;31m---------------------------------------------------------------------------\u001b[0m",
      "\u001b[1;31mNameError\u001b[0m                                 Traceback (most recent call last)",
      "\u001b[1;32m<ipython-input-76-79c144431d40>\u001b[0m in \u001b[0;36m<module>\u001b[1;34m\u001b[0m\n\u001b[1;32m----> 1\u001b[1;33m \u001b[0mx_sadness_train\u001b[0m \u001b[1;33m=\u001b[0m \u001b[1;33m[\u001b[0m\u001b[0msadness_term_frequency\u001b[0m\u001b[1;33m(\u001b[0m\u001b[0md\u001b[0m\u001b[1;33m)\u001b[0m \u001b[1;32mfor\u001b[0m \u001b[0md\u001b[0m\u001b[1;33m,\u001b[0m\u001b[0m_\u001b[0m \u001b[1;32min\u001b[0m \u001b[0mtrain_sadness_docs\u001b[0m\u001b[1;33m]\u001b[0m\u001b[1;33m\u001b[0m\u001b[1;33m\u001b[0m\u001b[0m\n\u001b[0m\u001b[0;32m      2\u001b[0m \u001b[0mx_sadness_test\u001b[0m \u001b[1;33m=\u001b[0m \u001b[1;33m[\u001b[0m\u001b[0msadness_term_frequency\u001b[0m\u001b[1;33m(\u001b[0m\u001b[0md\u001b[0m\u001b[1;33m)\u001b[0m \u001b[1;32mfor\u001b[0m \u001b[0md\u001b[0m\u001b[1;33m,\u001b[0m\u001b[0m_\u001b[0m \u001b[1;32min\u001b[0m \u001b[0mtest_sadness_docs\u001b[0m\u001b[1;33m]\u001b[0m\u001b[1;33m\u001b[0m\u001b[1;33m\u001b[0m\u001b[0m\n\u001b[0;32m      3\u001b[0m \u001b[0my_sadness_train\u001b[0m \u001b[1;33m=\u001b[0m \u001b[1;33m[\u001b[0m\u001b[0mc\u001b[0m \u001b[1;32mfor\u001b[0m \u001b[0m_\u001b[0m\u001b[1;33m,\u001b[0m\u001b[0mc\u001b[0m \u001b[1;32min\u001b[0m \u001b[0mtrain_sadness_docs\u001b[0m\u001b[1;33m]\u001b[0m\u001b[1;33m\u001b[0m\u001b[1;33m\u001b[0m\u001b[0m\n\u001b[0;32m      4\u001b[0m \u001b[0my_sadness_test\u001b[0m \u001b[1;33m=\u001b[0m \u001b[1;33m[\u001b[0m\u001b[0mc\u001b[0m \u001b[1;32mfor\u001b[0m \u001b[0m_\u001b[0m\u001b[1;33m,\u001b[0m\u001b[0mc\u001b[0m \u001b[1;32min\u001b[0m \u001b[0mtest_sadness_docs\u001b[0m\u001b[1;33m]\u001b[0m\u001b[1;33m\u001b[0m\u001b[1;33m\u001b[0m\u001b[0m\n",
      "\u001b[1;31mNameError\u001b[0m: name 'train_sadness_docs' is not defined"
     ]
    }
   ],
   "source": [
    "x_sadness_train = [sadness_term_frequency(d) for d,_ in train_sadness_docs]\n",
    "x_sadness_test = [sadness_term_frequency(d) for d,_ in test_sadness_docs]\n",
    "y_sadness_train = [c for _,c in train_sadness_docs]\n",
    "y_sadness_test = [c for _,c in test_sadness_docs]"
   ]
  },
  {
   "cell_type": "code",
   "execution_count": null,
   "id": "mysterious-career",
   "metadata": {},
   "outputs": [],
   "source": [
    "import numpy as np\n",
    "x_sadness_train = np.asarray(x_sadness_train).astype('float32')\n",
    "x_sadness_test = np.asarray(x_sadness_test). astype('float32')\n",
    "\n",
    "y_sadness_train = np.asarray(y_sadness_train).astype('float32')\n",
    "y_sadness_test = np.asarray(y_sadness_test).astype('float32')"
   ]
  },
  {
   "cell_type": "code",
   "execution_count": null,
   "id": "biological-perry",
   "metadata": {},
   "outputs": [],
   "source": [
    "train_sadness_docs = [(tokenize(row[1]), row[2]) for row in train_sadness_df.values]\n",
    "test_sadness_docs = [(tokenize(row[1]),row[2]) for row in test_sadness_df.values]"
   ]
  },
  {
   "cell_type": "code",
   "execution_count": null,
   "id": "finnish-intermediate",
   "metadata": {},
   "outputs": [],
   "source": [
    "print(train_sadness_docs[0])\n",
    "print(test_sadness_docs[0])"
   ]
  },
  {
   "cell_type": "code",
   "execution_count": null,
   "id": "demographic-identity",
   "metadata": {},
   "outputs": [],
   "source": [
    "tokens = [t for d in train_sadness_docs for t in d[0]]\n",
    "print(\"토큰개수:\",len(tokens))"
   ]
  },
  {
   "cell_type": "code",
   "execution_count": null,
   "id": "permanent-deviation",
   "metadata": {},
   "outputs": [],
   "source": [
    "import nltk\n",
    "sadness_text = nltk.Text(tokens, name='NMSC')\n",
    "print(len(sadness_text.tokens))\n",
    "print(len(set(sadness_text.tokens)))\n",
    "print(sadness_text.vocab().most_common(10))"
   ]
  },
  {
   "cell_type": "code",
   "execution_count": null,
   "id": "individual-application",
   "metadata": {},
   "outputs": [],
   "source": [
    "import matplotlib.pyplot as plt\n",
    "from matplotlib import font_manager, rc\n",
    "plt.figure(figsize=(20,10))\n",
    "sadness_text.plot(50)"
   ]
  },
  {
   "cell_type": "code",
   "execution_count": null,
   "id": "bearing-degree",
   "metadata": {},
   "outputs": [],
   "source": [
    "SADNESS_FREQUENCY_COUNT = 10000;\n",
    "sadness_selected_words = [f[0] for f in sadness_text.vocab().most_common(SADNESS_FREQUENCY_COUNT)]"
   ]
  },
  {
   "cell_type": "code",
   "execution_count": null,
   "id": "cloudy-compression",
   "metadata": {},
   "outputs": [],
   "source": [
    "def sadness_term_frequency(doc):\n",
    "    return [doc.count(word) for word in sadness_selected_words]"
   ]
  },
  {
   "cell_type": "code",
   "execution_count": null,
   "id": "suitable-fusion",
   "metadata": {},
   "outputs": [],
   "source": [
    "x_sadness_train = [sadness_term_frequency(d) for d,_ in train_sadness_docs]\n",
    "x_sadness_test = [sadness_term_frequency(d) for d,_ in test_sadness_docs]\n",
    "y_sadness_train = [c for _,c in train_sadness_docs]\n",
    "y_sadness_test = [c for _,c in test_sadness_docs]"
   ]
  },
  {
   "cell_type": "code",
   "execution_count": null,
   "id": "qualified-collectible",
   "metadata": {},
   "outputs": [],
   "source": [
    "import numpy as np\n",
    "x_sadness_train = np.asarray(x_sadness_train).astype('float32')\n",
    "x_sadness_test = np.asarray(x_sadness_test). astype('float32')\n",
    "\n",
    "y_sadness_train = np.asarray(y_sadness_train).astype('float32')\n",
    "y_sadness_test = np.asarray(y_sadness_test).astype('float32')"
   ]
  },
  {
   "cell_type": "code",
   "execution_count": null,
   "id": "manufactured-blocking",
   "metadata": {},
   "outputs": [],
   "source": [
    "import tensorflow as tf\n",
    "sadness_model= tf.keras.models.Sequential([\n",
    "    tf.keras.layers.Dense(64, activation = 'relu',input_shape=(SADNESS_FREQUENCY_COUNT,)),\n",
    "    tf.keras.layers.Dense(64, activation = 'relu'),\n",
    "    tf.keras.layers.Dense(1, activation = 'sigmoid')\n",
    "])"
   ]
  },
  {
   "cell_type": "code",
   "execution_count": null,
   "id": "committed-discharge",
   "metadata": {},
   "outputs": [],
   "source": [
    "sadness_model.compile(optimizer=tf.keras.optimizers.RMSprop(lr=0.001),\n",
    "             loss=tf.keras.losses.binary_crossentropy,\n",
    "             metrics=[tf.keras.metrics.binary_accuracy]\n",
    "             )"
   ]
  },
  {
   "cell_type": "code",
   "execution_count": null,
   "id": "physical-airplane",
   "metadata": {},
   "outputs": [],
   "source": [
    "sadness_model.fit(x_sadness_train, y_sadness_train, epochs=50, batch_size=512)"
   ]
  },
  {
   "cell_type": "code",
   "execution_count": null,
   "id": "african-briefing",
   "metadata": {},
   "outputs": [],
   "source": [
    "sadness_results = sadness_model.evaluate(x_sadness_test, y_sadness_test)"
   ]
  },
  {
   "cell_type": "code",
   "execution_count": null,
   "id": "vocational-million",
   "metadata": {},
   "outputs": [],
   "source": [
    "sadness_results"
   ]
  },
  {
   "cell_type": "code",
   "execution_count": null,
   "id": "joint-frontier",
   "metadata": {},
   "outputs": [],
   "source": [
    "sadness_model.save('sadness_model.h5')"
   ]
  },
  {
   "cell_type": "code",
   "execution_count": null,
   "id": "polish-canyon",
   "metadata": {},
   "outputs": [],
   "source": [
    "sadness_review = \"너무 화난다\"\n",
    "sadness_token = tokenize(sadness_review)\n",
    "sadness_token"
   ]
  },
  {
   "cell_type": "code",
   "execution_count": null,
   "id": "interpreted-organ",
   "metadata": {},
   "outputs": [],
   "source": [
    "tf = sadness_term_frequency(sadness_token)\n",
    "data = np.expand_dims(np.asarray(tf).astype('float32'),axis=0)\n",
    "float(sadness_model.predict(data))"
   ]
  },
  {
   "cell_type": "code",
   "execution_count": null,
   "id": "monetary-handle",
   "metadata": {},
   "outputs": [],
   "source": [
    "def sadness_predict(predict):\n",
    "    sadness_token = tokenize(predict)\n",
    "    sadness_tfq = sadness_term_frequency(sadness_token)\n",
    "    sadness_data = np.expand_dims(np.asarray(sadness_tfq).astype('float32'), axis=0)\n",
    "    sadness_score = float(sadness_model.predict(sadness_data))\n",
    "    if(sadness_score > 0.5):\n",
    "        print(f\"{predict} ==> 분노 ({round(sadness_score*100)}%)\")\n",
    "    else:\n",
    "        print(f\"{predict} ==> 분노X ({round((1-sadness_score)*100)}%)\")"
   ]
  },
  {
   "cell_type": "code",
   "execution_count": null,
   "id": "imperial-acrobat",
   "metadata": {},
   "outputs": [],
   "source": [
    "sadness_predict(\"원재상\")"
   ]
  },
  {
   "cell_type": "code",
   "execution_count": null,
   "id": "czech-gallery",
   "metadata": {},
   "outputs": [],
   "source": [
    "#중립 감정 분석"
   ]
  },
  {
   "cell_type": "code",
   "execution_count": null,
   "id": "reported-directory",
   "metadata": {},
   "outputs": [],
   "source": [
    "import pandas as pd\n",
    "train_neutral_df = pd.read_csv(\"neutraltraindata.txt\",\"\\t\")\n",
    "test_neutral_df = pd.read_csv(\"neutraltestdata.txt\",\"\\t\")"
   ]
  },
  {
   "cell_type": "code",
   "execution_count": null,
   "id": "painted-decade",
   "metadata": {},
   "outputs": [],
   "source": [
    "from konlpy.tag import Okt\n",
    "okt_neutral = Okt()"
   ]
  },
  {
   "cell_type": "code",
   "execution_count": null,
   "id": "excellent-confidence",
   "metadata": {},
   "outputs": [],
   "source": [
    "def tokenize(doc):\n",
    "    return ['/'.join(t) for t in okt_neutral.pos(doc, norm=True, stem=True)]"
   ]
  },
  {
   "cell_type": "code",
   "execution_count": null,
   "id": "floral-algorithm",
   "metadata": {},
   "outputs": [],
   "source": [
    "x_neutral_train = [neutral_term_frequency(d) for d,_ in train_neutral_docs]\n",
    "x_neutral_test = [neutral_term_frequency(d) for d,_ in test_neutral_docs]\n",
    "y_neutral_train = [c for _,c in train_neutral_docs]\n",
    "y_neutral_test = [c for _,c in test_neutral_docs]"
   ]
  },
  {
   "cell_type": "code",
   "execution_count": null,
   "id": "religious-multimedia",
   "metadata": {},
   "outputs": [],
   "source": [
    "import numpy as np\n",
    "x_neutral_train = np.asarray(x_neutral_train).astype('float32')\n",
    "x_neutral_test = np.asarray(x_neutral_test). astype('float32')\n",
    "\n",
    "y_neutral_train = np.asarray(y_neutral_train).astype('float32')\n",
    "y_neutral_test = np.asarray(y_neutral_test).astype('float32')"
   ]
  },
  {
   "cell_type": "code",
   "execution_count": null,
   "id": "attached-minneapolis",
   "metadata": {},
   "outputs": [],
   "source": [
    "train_neutral_docs = [(tokenize(row[1]), row[2]) for row in train_neutral_df.values]\n",
    "test_neutral_docs = [(tokenize(row[1]),row[2]) for row in test_neutral_df.values]"
   ]
  },
  {
   "cell_type": "code",
   "execution_count": null,
   "id": "opening-decade",
   "metadata": {},
   "outputs": [],
   "source": [
    "print(train_neutral_docs[0])\n",
    "print(test_neutral_docs[0])"
   ]
  },
  {
   "cell_type": "code",
   "execution_count": null,
   "id": "stock-vertical",
   "metadata": {},
   "outputs": [],
   "source": [
    "tokens = [t for d in train_neutral_docs for t in d[0]]\n",
    "print(\"토큰개수:\",len(tokens))"
   ]
  },
  {
   "cell_type": "code",
   "execution_count": null,
   "id": "premium-packet",
   "metadata": {},
   "outputs": [],
   "source": [
    "import nltk\n",
    "neutral_text = nltk.Text(tokens, name='NMSC')\n",
    "print(len(neutral_text.tokens))\n",
    "print(len(set(neutral_text.tokens)))\n",
    "print(neutral_text.vocab().most_common(10))"
   ]
  },
  {
   "cell_type": "code",
   "execution_count": null,
   "id": "suffering-underground",
   "metadata": {},
   "outputs": [],
   "source": [
    "import matplotlib.pyplot as plt\n",
    "from matplotlib import font_manager, rc\n",
    "plt.figure(figsize=(20,10))\n",
    "neutral_text.plot(50)"
   ]
  },
  {
   "cell_type": "code",
   "execution_count": null,
   "id": "welcome-tragedy",
   "metadata": {},
   "outputs": [],
   "source": [
    "NEUTRAL_FREQUENCY_COUNT = 10000;\n",
    "neutral_selected_words = [f[0] for f in neutral_text.vocab().most_common(NEUTRAL_FREQUENCY_COUNT)]"
   ]
  },
  {
   "cell_type": "code",
   "execution_count": null,
   "id": "becoming-equation",
   "metadata": {},
   "outputs": [],
   "source": [
    "def neutral_term_frequency(doc):\n",
    "    return [doc.count(word) for word in neutral_selected_words]"
   ]
  },
  {
   "cell_type": "code",
   "execution_count": null,
   "id": "handled-aging",
   "metadata": {},
   "outputs": [],
   "source": [
    "x_neutral_train = [neutral_term_frequency(d) for d,_ in train_neutral_docs]\n",
    "x_neutral_test = [neutral_term_frequency(d) for d,_ in test_neutral_docs]\n",
    "y_neutral_train = [c for _,c in train_neutral_docs]\n",
    "y_neutral_test = [c for _,c in test_neutral_docs]"
   ]
  },
  {
   "cell_type": "code",
   "execution_count": null,
   "id": "complicated-interim",
   "metadata": {},
   "outputs": [],
   "source": [
    "import numpy as np\n",
    "x_neutral_train = np.asarray(x_neutral_train).astype('float32')\n",
    "x_neutral_test = np.asarray(x_neutral_test). astype('float32')\n",
    "\n",
    "y_neutral_train = np.asarray(y_neutral_train).astype('float32')\n",
    "y_neutral_test = np.asarray(y_neutral_test).astype('float32')"
   ]
  },
  {
   "cell_type": "code",
   "execution_count": null,
   "id": "pretty-eleven",
   "metadata": {},
   "outputs": [],
   "source": [
    "import tensorflow as tf\n",
    "neutral_model= tf.keras.models.Sequential([\n",
    "    tf.keras.layers.Dense(64, activation = 'relu',input_shape=(NEUTRAL_FREQUENCY_COUNT,)),\n",
    "    tf.keras.layers.Dense(64, activation = 'relu'),\n",
    "    tf.keras.layers.Dense(1, activation = 'sigmoid')\n",
    "])"
   ]
  },
  {
   "cell_type": "code",
   "execution_count": null,
   "id": "upset-forward",
   "metadata": {},
   "outputs": [],
   "source": [
    "neutral_model.compile(optimizer=tf.keras.optimizers.RMSprop(lr=0.001),\n",
    "             loss=tf.keras.losses.binary_crossentropy,\n",
    "             metrics=[tf.keras.metrics.binary_accuracy]\n",
    "             )"
   ]
  },
  {
   "cell_type": "code",
   "execution_count": null,
   "id": "respective-stewart",
   "metadata": {},
   "outputs": [],
   "source": [
    "neutral_model.fit(x_neutral_train, y_neutral_train, epochs=50, batch_size=512)"
   ]
  },
  {
   "cell_type": "code",
   "execution_count": null,
   "id": "cleared-performer",
   "metadata": {},
   "outputs": [],
   "source": [
    "neutral_results = neutral_model.evaluate(x_neutral_test, y_neutral_test)"
   ]
  },
  {
   "cell_type": "code",
   "execution_count": null,
   "id": "homeless-rates",
   "metadata": {},
   "outputs": [],
   "source": [
    "neutral_results"
   ]
  },
  {
   "cell_type": "code",
   "execution_count": null,
   "id": "powerful-harmony",
   "metadata": {},
   "outputs": [],
   "source": [
    "neutral_model.save('neutral_model.h5')"
   ]
  },
  {
   "cell_type": "code",
   "execution_count": null,
   "id": "signal-sustainability",
   "metadata": {},
   "outputs": [],
   "source": [
    "neutral_review = \"너무 화난다\"\n",
    "neutral_token = tokenize(neutral_review)\n",
    "neutral_token"
   ]
  },
  {
   "cell_type": "code",
   "execution_count": null,
   "id": "supreme-loading",
   "metadata": {},
   "outputs": [],
   "source": [
    "tf = neutral_term_frequency(neutral_token)\n",
    "data = np.expand_dims(np.asarray(tf).astype('float32'),axis=0)\n",
    "float(neutral_model.predict(data))"
   ]
  },
  {
   "cell_type": "code",
   "execution_count": null,
   "id": "proud-owner",
   "metadata": {},
   "outputs": [],
   "source": [
    "def neutral_predict(predict):\n",
    "    neutral_token = tokenize(predict)\n",
    "    neutral_tfq = neutral_term_frequency(neutral_token)\n",
    "    neutral_data = np.expand_dims(np.asarray(neutral_tfq).astype('float32'), axis=0)\n",
    "    neutral_score = float(neutral_model.predict(neutral_data))\n",
    "    if(neutral_score > 0.5):\n",
    "        print(f\"{predict} ==> 분노 ({round(neutral_score*100)}%)\")\n",
    "    else:\n",
    "        print(f\"{predict} ==> 분노X ({round((1-neutral_score)*100)}%)\")"
   ]
  },
  {
   "cell_type": "code",
   "execution_count": null,
   "id": "sporting-julian",
   "metadata": {},
   "outputs": [],
   "source": [
    "neutral_predict(\"원재상\")"
   ]
  },
  {
   "cell_type": "code",
   "execution_count": null,
   "id": "ceramic-allergy",
   "metadata": {},
   "outputs": [],
   "source": [
    "#행복 감정 분석"
   ]
  },
  {
   "cell_type": "code",
   "execution_count": null,
   "id": "voluntary-hypothesis",
   "metadata": {},
   "outputs": [],
   "source": [
    "import pandas as pd\n",
    "train_happy_df = pd.read_csv(\"happytraindata.txt\",\"\\t\")\n",
    "test_happy_df = pd.read_csv(\"happytestdata.txt\",\"\\t\")"
   ]
  },
  {
   "cell_type": "code",
   "execution_count": null,
   "id": "hindu-district",
   "metadata": {},
   "outputs": [],
   "source": [
    "from konlpy.tag import Okt\n",
    "okt_happy = Okt()"
   ]
  },
  {
   "cell_type": "code",
   "execution_count": null,
   "id": "upset-inspector",
   "metadata": {},
   "outputs": [],
   "source": [
    "def tokenize(doc):\n",
    "    return ['/'.join(t) for t in okt_happy.pos(doc, norm=True, stem=True)]"
   ]
  },
  {
   "cell_type": "code",
   "execution_count": null,
   "id": "colored-source",
   "metadata": {},
   "outputs": [],
   "source": [
    "x_happy_train = [happy_term_frequency(d) for d,_ in train_happy_docs]\n",
    "x_happy_test = [happy_term_frequency(d) for d,_ in test_happy_docs]\n",
    "y_happy_train = [c for _,c in train_happy_docs]\n",
    "y_happy_test = [c for _,c in test_happy_docs]"
   ]
  },
  {
   "cell_type": "code",
   "execution_count": null,
   "id": "respected-monte",
   "metadata": {},
   "outputs": [],
   "source": [
    "import numpy as np\n",
    "x_happy_train = np.asarray(x_happy_train).astype('float32')\n",
    "x_happy_test = np.asarray(x_happy_test). astype('float32')\n",
    "\n",
    "y_happy_train = np.asarray(y_happy_train).astype('float32')\n",
    "y_happy_test = np.asarray(y_happy_test).astype('float32')"
   ]
  },
  {
   "cell_type": "code",
   "execution_count": null,
   "id": "narrative-librarian",
   "metadata": {},
   "outputs": [],
   "source": [
    "train_happy_docs = [(tokenize(row[1]), row[2]) for row in train_happy_df.values]\n",
    "test_happy_docs = [(tokenize(row[1]),row[2]) for row in test_happy_df.values]"
   ]
  },
  {
   "cell_type": "code",
   "execution_count": null,
   "id": "consistent-notebook",
   "metadata": {},
   "outputs": [],
   "source": [
    "print(train_happy_docs[0])\n",
    "print(test_happy_docs[0])"
   ]
  },
  {
   "cell_type": "code",
   "execution_count": null,
   "id": "loving-azerbaijan",
   "metadata": {},
   "outputs": [],
   "source": [
    "tokens = [t for d in train_happy_docs for t in d[0]]\n",
    "print(\"토큰개수:\",len(tokens))"
   ]
  },
  {
   "cell_type": "code",
   "execution_count": null,
   "id": "mediterranean-checkout",
   "metadata": {},
   "outputs": [],
   "source": [
    "import nltk\n",
    "happy_text = nltk.Text(tokens, name='NMSC')\n",
    "print(len(happy_text.tokens))\n",
    "print(len(set(happy_text.tokens)))\n",
    "print(happy_text.vocab().most_common(10))"
   ]
  },
  {
   "cell_type": "code",
   "execution_count": null,
   "id": "coordinated-possible",
   "metadata": {},
   "outputs": [],
   "source": [
    "import matplotlib.pyplot as plt\n",
    "from matplotlib import font_manager, rc\n",
    "plt.figure(figsize=(20,10))\n",
    "happy_text.plot(50)"
   ]
  },
  {
   "cell_type": "code",
   "execution_count": null,
   "id": "effective-missouri",
   "metadata": {},
   "outputs": [],
   "source": [
    "HAPPY_FREQUENCY_COUNT = 10000;\n",
    "happy_selected_words = [f[0] for f in happy_text.vocab().most_common(HAPPY_FREQUENCY_COUNT)]"
   ]
  },
  {
   "cell_type": "code",
   "execution_count": null,
   "id": "published-trinity",
   "metadata": {},
   "outputs": [],
   "source": [
    "def happy_term_frequency(doc):\n",
    "    return [doc.count(word) for word in happy_selected_words]"
   ]
  },
  {
   "cell_type": "code",
   "execution_count": null,
   "id": "single-interstate",
   "metadata": {},
   "outputs": [],
   "source": [
    "x_happy_train = [happy_term_frequency(d) for d,_ in train_happy_docs]\n",
    "x_happy_test = [happy_term_frequency(d) for d,_ in test_happy_docs]\n",
    "y_happy_train = [c for _,c in train_happy_docs]\n",
    "y_happy_test = [c for _,c in test_happy_docs]"
   ]
  },
  {
   "cell_type": "code",
   "execution_count": null,
   "id": "gentle-tracy",
   "metadata": {},
   "outputs": [],
   "source": [
    "import numpy as np\n",
    "x_happy_train = np.asarray(x_happy_train).astype('float32')\n",
    "x_happy_test = np.asarray(x_happy_test). astype('float32')\n",
    "\n",
    "y_happy_train = np.asarray(y_happy_train).astype('float32')\n",
    "y_happy_test = np.asarray(y_happy_test).astype('float32')"
   ]
  },
  {
   "cell_type": "code",
   "execution_count": null,
   "id": "spatial-biotechnology",
   "metadata": {},
   "outputs": [],
   "source": [
    "import tensorflow as tf\n",
    "happy_model= tf.keras.models.Sequential([\n",
    "    tf.keras.layers.Dense(64, activation = 'relu',input_shape=(HAPPY_FREQUENCY_COUNT,)),\n",
    "    tf.keras.layers.Dense(64, activation = 'relu'),\n",
    "    tf.keras.layers.Dense(1, activation = 'sigmoid')\n",
    "])"
   ]
  },
  {
   "cell_type": "code",
   "execution_count": null,
   "id": "sound-envelope",
   "metadata": {},
   "outputs": [],
   "source": [
    "happy_model.compile(optimizer=tf.keras.optimizers.RMSprop(lr=0.001),\n",
    "             loss=tf.keras.losses.binary_crossentropy,\n",
    "             metrics=[tf.keras.metrics.binary_accuracy]\n",
    "             )"
   ]
  },
  {
   "cell_type": "code",
   "execution_count": null,
   "id": "solar-louisiana",
   "metadata": {},
   "outputs": [],
   "source": [
    "happy_model.fit(x_happy_train, y_happy_train, epochs=50, batch_size=512)"
   ]
  },
  {
   "cell_type": "code",
   "execution_count": null,
   "id": "answering-stable",
   "metadata": {},
   "outputs": [],
   "source": [
    "happy_results = happy_model.evaluate(x_happy_test, y_happy_test)"
   ]
  },
  {
   "cell_type": "code",
   "execution_count": null,
   "id": "arranged-technical",
   "metadata": {},
   "outputs": [],
   "source": [
    "happy_results"
   ]
  },
  {
   "cell_type": "code",
   "execution_count": null,
   "id": "blocked-regression",
   "metadata": {},
   "outputs": [],
   "source": [
    "happy_model.save('happy_model.h5')"
   ]
  },
  {
   "cell_type": "code",
   "execution_count": null,
   "id": "actual-particle",
   "metadata": {},
   "outputs": [],
   "source": [
    "happy_review = \"너무 화난다\"\n",
    "happy_token = tokenize(happy_review)\n",
    "happy_token"
   ]
  },
  {
   "cell_type": "code",
   "execution_count": null,
   "id": "owned-harvey",
   "metadata": {},
   "outputs": [],
   "source": [
    "tf = happy_term_frequency(happy_token)\n",
    "data = np.expand_dims(np.asarray(tf).astype('float32'),axis=0)\n",
    "float(happy_model.predict(data))"
   ]
  },
  {
   "cell_type": "code",
   "execution_count": null,
   "id": "computational-moore",
   "metadata": {},
   "outputs": [],
   "source": [
    "def happy_predict(predict):\n",
    "    happy_token = tokenize(predict)\n",
    "    happy_tfq = happy_term_frequency(happy_token)\n",
    "    happy_data = np.expand_dims(np.asarray(happy_tfq).astype('float32'), axis=0)\n",
    "    happy_score = float(happy_model.predict(happy_data))\n",
    "    if(happy_score > 0.5):\n",
    "        print(f\"{predict} ==> 행복 ({round(happy_score*100)}%)\")\n",
    "    else:\n",
    "        print(f\"{predict} ==> 행복X ({round((1-happy_score)*100)}%)\")"
   ]
  },
  {
   "cell_type": "code",
   "execution_count": null,
   "id": "miniature-america",
   "metadata": {},
   "outputs": [],
   "source": [
    "happy_predict(\"원재상\")"
   ]
  },
  {
   "cell_type": "code",
   "execution_count": null,
   "id": "organized-smith",
   "metadata": {},
   "outputs": [],
   "source": [
    "#혐오 감정 분석"
   ]
  },
  {
   "cell_type": "code",
   "execution_count": null,
   "id": "logical-circus",
   "metadata": {},
   "outputs": [],
   "source": [
    "import pandas as pd\n",
    "train_disgust_df = pd.read_csv(\"disgusttraindata.txt\",\"\\t\")\n",
    "test_disgust_df = pd.read_csv(\"disgusttestdata.txt\",\"\\t\")"
   ]
  },
  {
   "cell_type": "code",
   "execution_count": null,
   "id": "operational-immune",
   "metadata": {},
   "outputs": [],
   "source": [
    "from konlpy.tag import Okt\n",
    "okt_disgust = Okt()"
   ]
  },
  {
   "cell_type": "code",
   "execution_count": null,
   "id": "statewide-management",
   "metadata": {},
   "outputs": [],
   "source": [
    "def tokenize(doc):\n",
    "    return ['/'.join(t) for t in okt_disgust.pos(doc, norm=True, stem=True)]"
   ]
  },
  {
   "cell_type": "code",
   "execution_count": null,
   "id": "sealed-granny",
   "metadata": {},
   "outputs": [],
   "source": [
    "x_disgust_train = [disgust_term_frequency(d) for d,_ in train_disgust_docs]\n",
    "x_disgust_test = [disgust_term_frequency(d) for d,_ in test_disgust_docs]\n",
    "y_disgust_train = [c for _,c in train_disgust_docs]\n",
    "y_disgust_test = [c for _,c in test_disgust_docs]"
   ]
  },
  {
   "cell_type": "code",
   "execution_count": null,
   "id": "treated-palestine",
   "metadata": {},
   "outputs": [],
   "source": [
    "import numpy as np\n",
    "x_disgust_train = np.asarray(x_disgust_train).astype('float32')\n",
    "x_disgust_test = np.asarray(x_disgust_test). astype('float32')\n",
    "\n",
    "y_disgust_train = np.asarray(y_disgust_train).astype('float32')\n",
    "y_disgust_test = np.asarray(y_disgust_test).astype('float32')"
   ]
  },
  {
   "cell_type": "code",
   "execution_count": null,
   "id": "simple-aviation",
   "metadata": {},
   "outputs": [],
   "source": [
    "train_disgust_docs = [(tokenize(row[1]), row[2]) for row in train_disgust_df.values]\n",
    "test_disgust_docs = [(tokenize(row[1]),row[2]) for row in test_disgust_df.values]"
   ]
  },
  {
   "cell_type": "code",
   "execution_count": null,
   "id": "further-basin",
   "metadata": {},
   "outputs": [],
   "source": [
    "print(train_disgust_docs[0])\n",
    "print(test_disgust_docs[0])"
   ]
  },
  {
   "cell_type": "code",
   "execution_count": null,
   "id": "concerned-replacement",
   "metadata": {},
   "outputs": [],
   "source": [
    "tokens = [t for d in train_disgust_docs for t in d[0]]\n",
    "print(\"토큰개수:\",len(tokens))"
   ]
  },
  {
   "cell_type": "code",
   "execution_count": null,
   "id": "sustainable-reverse",
   "metadata": {},
   "outputs": [],
   "source": [
    "import nltk\n",
    "disgust_text = nltk.Text(tokens, name='NMSC')\n",
    "print(len(disgust_text.tokens))\n",
    "print(len(set(disgust_text.tokens)))\n",
    "print(disgust_text.vocab().most_common(10))"
   ]
  },
  {
   "cell_type": "code",
   "execution_count": null,
   "id": "partial-catholic",
   "metadata": {},
   "outputs": [],
   "source": [
    "import matplotlib.pyplot as plt\n",
    "from matplotlib import font_manager, rc\n",
    "plt.figure(figsize=(20,10))\n",
    "disgust_text.plot(50)"
   ]
  },
  {
   "cell_type": "code",
   "execution_count": null,
   "id": "younger-france",
   "metadata": {},
   "outputs": [],
   "source": [
    "DISGUST_FREQUENCY_COUNT = 10000;\n",
    "disgust_selected_words = [f[0] for f in disgust_text.vocab().most_common(DISGUST_FREQUENCY_COUNT)]"
   ]
  },
  {
   "cell_type": "code",
   "execution_count": null,
   "id": "floral-reynolds",
   "metadata": {},
   "outputs": [],
   "source": [
    "def disgust_term_frequency(doc):\n",
    "    return [doc.count(word) for word in disgust_selected_words]"
   ]
  },
  {
   "cell_type": "code",
   "execution_count": null,
   "id": "fatal-leader",
   "metadata": {},
   "outputs": [],
   "source": [
    "x_disgust_train = [disgust_term_frequency(d) for d,_ in train_disgust_docs]\n",
    "x_disgust_test = [disgust_term_frequency(d) for d,_ in test_disgust_docs]\n",
    "y_disgust_train = [c for _,c in train_disgust_docs]\n",
    "y_disgust_test = [c for _,c in test_disgust_docs]"
   ]
  },
  {
   "cell_type": "code",
   "execution_count": null,
   "id": "overall-valuation",
   "metadata": {},
   "outputs": [],
   "source": [
    "import numpy as np\n",
    "x_disgust_train = np.asarray(x_disgust_train).astype('float32')\n",
    "x_disgust_test = np.asarray(x_disgust_test). astype('float32')\n",
    "\n",
    "y_disgust_train = np.asarray(y_disgust_train).astype('float32')\n",
    "y_disgust_test = np.asarray(y_disgust_test).astype('float32')"
   ]
  },
  {
   "cell_type": "code",
   "execution_count": null,
   "id": "chronic-sunglasses",
   "metadata": {},
   "outputs": [],
   "source": [
    "import tensorflow as tf\n",
    "disgust_model= tf.keras.models.Sequential([\n",
    "    tf.keras.layers.Dense(64, activation = 'relu',input_shape=(DISGUST_FREQUENCY_COUNT,)),\n",
    "    tf.keras.layers.Dense(64, activation = 'relu'),\n",
    "    tf.keras.layers.Dense(1, activation = 'sigmoid')\n",
    "])"
   ]
  },
  {
   "cell_type": "code",
   "execution_count": null,
   "id": "complete-arthritis",
   "metadata": {},
   "outputs": [],
   "source": [
    "disgust_model.compile(optimizer=tf.keras.optimizers.RMSprop(lr=0.001),\n",
    "             loss=tf.keras.losses.binary_crossentropy,\n",
    "             metrics=[tf.keras.metrics.binary_accuracy]\n",
    "             )"
   ]
  },
  {
   "cell_type": "code",
   "execution_count": null,
   "id": "suburban-waters",
   "metadata": {},
   "outputs": [],
   "source": [
    "disgust_model.fit(x_disgust_train, y_disgust_train, epochs=50, batch_size=512)"
   ]
  },
  {
   "cell_type": "code",
   "execution_count": null,
   "id": "heard-moldova",
   "metadata": {},
   "outputs": [],
   "source": [
    "disgust_results = neutral_model.evaluate(x_disgust_test, y_disgust_test)"
   ]
  },
  {
   "cell_type": "code",
   "execution_count": null,
   "id": "medieval-instrument",
   "metadata": {},
   "outputs": [],
   "source": [
    "disgust_results"
   ]
  },
  {
   "cell_type": "code",
   "execution_count": null,
   "id": "engaged-lightweight",
   "metadata": {},
   "outputs": [],
   "source": [
    "disgust_model.save('disgust_model.h5')"
   ]
  },
  {
   "cell_type": "code",
   "execution_count": null,
   "id": "agricultural-mainstream",
   "metadata": {},
   "outputs": [],
   "source": [
    "disgust_review = \"너무 화난다\"\n",
    "disgust_token = tokenize(disgust_review)\n",
    "disgust_token"
   ]
  },
  {
   "cell_type": "code",
   "execution_count": null,
   "id": "literary-behavior",
   "metadata": {},
   "outputs": [],
   "source": [
    "tf = disgust_term_frequency(disgust_token)\n",
    "data = np.expand_dims(np.asarray(tf).astype('float32'),axis=0)\n",
    "float(disgust_model.predict(data))"
   ]
  },
  {
   "cell_type": "code",
   "execution_count": null,
   "id": "dedicated-strategy",
   "metadata": {},
   "outputs": [],
   "source": [
    "def disgust_predict(predict):\n",
    "    disgust_token = tokenize(predict)\n",
    "    disgust_tfq = disgust_term_frequency(disgust_token)\n",
    "    disgust_data = np.expand_dims(np.asarray(disgust_tfq).astype('float32'), axis=0)\n",
    "    disgust_score = float(disgust_model.predict(disgust_data))\n",
    "    if(disgust_score > 0.5):\n",
    "        print(f\"{predict} ==> 분노 ({round(disgust_score*100)}%)\")\n",
    "    else:\n",
    "        print(f\"{predict} ==> 분노X ({round((1-disgust_score)*100)}%)\")"
   ]
  },
  {
   "cell_type": "code",
   "execution_count": null,
   "id": "narrative-captain",
   "metadata": {},
   "outputs": [],
   "source": [
    "disgust_predict(\"원재상\")"
   ]
  },
  {
   "cell_type": "code",
   "execution_count": null,
   "id": "atlantic-newfoundland",
   "metadata": {},
   "outputs": [],
   "source": [
    "fear_predict(\"김은지 얼굴\")\n",
    "surprise_predict(\"김은지 얼굴\")\n",
    "anger_predict(\"김은지 얼굴\")\n",
    "neutral_predict(\"김은지 얼굴\")\n",
    "sadness_predict(\"김은지 얼굴\")\n",
    "happy_predict(\"김은지 얼굴\")\n",
    "disgust_predict(\"김은지 얼굴\")"
   ]
  }
 ],
 "metadata": {
  "kernelspec": {
   "display_name": "Python 3",
   "language": "python",
   "name": "python3"
  },
  "language_info": {
   "codemirror_mode": {
    "name": "ipython",
    "version": 3
   },
   "file_extension": ".py",
   "mimetype": "text/x-python",
   "name": "python",
   "nbconvert_exporter": "python",
   "pygments_lexer": "ipython3",
   "version": "3.7.10"
  }
 },
 "nbformat": 4,
 "nbformat_minor": 5
}
