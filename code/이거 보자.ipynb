{
 "cells": [
  {
   "cell_type": "code",
   "execution_count": 2,
   "id": "vietnamese-pioneer",
   "metadata": {},
   "outputs": [],
   "source": [
    "import pandas as pd\n",
    "train_fear_df = pd.read_csv(\"feartrainalldata.txt\",\"\\t\")\n",
    "test_fear_df = pd.read_csv(\"feartestalldata.txt\",\"\\t\")"
   ]
  },
  {
   "cell_type": "code",
   "execution_count": 3,
   "id": "mighty-volume",
   "metadata": {},
   "outputs": [
    {
     "data": {
      "text/plain": [
       "[('오늘', 'Noun'), ('하루', 'Noun'), ('도', 'Josa'), ('수고', 'Noun'), ('했어', 'Verb')]"
      ]
     },
     "execution_count": 3,
     "metadata": {},
     "output_type": "execute_result"
    }
   ],
   "source": [
    "from konlpy.tag import Okt\n",
    "okt_fear = Okt()\n",
    "okt_fear.pos(u'오늘 하루도 수고했어')"
   ]
  },
  {
   "cell_type": "code",
   "execution_count": 4,
   "id": "proud-neutral",
   "metadata": {},
   "outputs": [],
   "source": [
    "def tokenize(doc):\n",
    "    return ['/'.join(t) for t in okt_fear.pos(doc, norm=True, stem=True)]"
   ]
  },
  {
   "cell_type": "code",
   "execution_count": 5,
   "id": "plastic-homeless",
   "metadata": {},
   "outputs": [],
   "source": [
    "train_fear_df.isnull().any()\n",
    "train_fear_df['document'] = train_fear_df['document'].fillna('');\n",
    "train_fear_df.isnull().any()\n",
    "test_fear_df['document'] = test_fear_df['document'].fillna('');"
   ]
  },
  {
   "cell_type": "code",
   "execution_count": 6,
   "id": "sunrise-ballot",
   "metadata": {},
   "outputs": [],
   "source": [
    "train_fear_docs = [(tokenize(row[1]), row[2]) for row in train_fear_df.values]\n",
    "test_fear_docs = [(tokenize(row[1]),row[2]) for row in test_fear_df.values]"
   ]
  },
  {
   "cell_type": "code",
   "execution_count": 7,
   "id": "wrapped-roller",
   "metadata": {},
   "outputs": [
    {
     "name": "stdout",
     "output_type": "stream",
     "text": [
      "(['언니/Noun', '동생/Noun', '으로/Josa', '부르다/Verb', '맞다/Verb', '일/Noun', '인가요/Josa', '..??/Punctuation'], 1)\n",
      "(['톡/Noun', '크다/Verb', '언니/Noun', '들/Suffix', '임산부/Noun', '언니/Noun', '들/Suffix', 'ㅠㅠ/KoreanParticle'], 1)\n"
     ]
    }
   ],
   "source": [
    "print(train_fear_docs[0])\n",
    "print(test_fear_docs[0])"
   ]
  },
  {
   "cell_type": "code",
   "execution_count": 8,
   "id": "genetic-smart",
   "metadata": {},
   "outputs": [
    {
     "name": "stdout",
     "output_type": "stream",
     "text": [
      "토큰개수: 259374\n"
     ]
    }
   ],
   "source": [
    "tokens = [t for d in train_fear_docs for t in d[0]]\n",
    "print(\"토큰개수:\",len(tokens))"
   ]
  },
  {
   "cell_type": "code",
   "execution_count": 9,
   "id": "beautiful-madagascar",
   "metadata": {},
   "outputs": [
    {
     "name": "stdout",
     "output_type": "stream",
     "text": [
      "259374\n",
      "20799\n",
      "[('하다/Verb', 8087), ('이/Josa', 4939), ('./Punctuation', 4679), ('가/Josa', 3509), ('?/Punctuation', 3201), ('에/Josa', 3168), ('들/Suffix', 3097), ('../Punctuation', 2820), ('을/Josa', 2523), ('은/Josa', 2512)]\n"
     ]
    }
   ],
   "source": [
    "import nltk\n",
    "fear_text = nltk.Text(tokens, name='NMSC')\n",
    "print(len(fear_text.tokens))\n",
    "print(len(set(fear_text.tokens)))\n",
    "print(fear_text.vocab().most_common(10))"
   ]
  },
  {
   "cell_type": "code",
   "execution_count": 10,
   "id": "yellow-viking",
   "metadata": {},
   "outputs": [
    {
     "name": "stderr",
     "output_type": "stream",
     "text": [
      "C:\\Users\\sunho\\anaconda3\\lib\\site-packages\\matplotlib\\backends\\backend_agg.py:238: RuntimeWarning: Glyph 54616 missing from current font.\n",
      "  font.set_text(s, 0.0, flags=flags)\n",
      "C:\\Users\\sunho\\anaconda3\\lib\\site-packages\\matplotlib\\backends\\backend_agg.py:238: RuntimeWarning: Glyph 45796 missing from current font.\n",
      "  font.set_text(s, 0.0, flags=flags)\n",
      "C:\\Users\\sunho\\anaconda3\\lib\\site-packages\\matplotlib\\backends\\backend_agg.py:238: RuntimeWarning: Glyph 51060 missing from current font.\n",
      "  font.set_text(s, 0.0, flags=flags)\n",
      "C:\\Users\\sunho\\anaconda3\\lib\\site-packages\\matplotlib\\backends\\backend_agg.py:238: RuntimeWarning: Glyph 44032 missing from current font.\n",
      "  font.set_text(s, 0.0, flags=flags)\n",
      "C:\\Users\\sunho\\anaconda3\\lib\\site-packages\\matplotlib\\backends\\backend_agg.py:238: RuntimeWarning: Glyph 50640 missing from current font.\n",
      "  font.set_text(s, 0.0, flags=flags)\n",
      "C:\\Users\\sunho\\anaconda3\\lib\\site-packages\\matplotlib\\backends\\backend_agg.py:238: RuntimeWarning: Glyph 46308 missing from current font.\n",
      "  font.set_text(s, 0.0, flags=flags)\n",
      "C:\\Users\\sunho\\anaconda3\\lib\\site-packages\\matplotlib\\backends\\backend_agg.py:238: RuntimeWarning: Glyph 51012 missing from current font.\n",
      "  font.set_text(s, 0.0, flags=flags)\n",
      "C:\\Users\\sunho\\anaconda3\\lib\\site-packages\\matplotlib\\backends\\backend_agg.py:238: RuntimeWarning: Glyph 51008 missing from current font.\n",
      "  font.set_text(s, 0.0, flags=flags)\n",
      "C:\\Users\\sunho\\anaconda3\\lib\\site-packages\\matplotlib\\backends\\backend_agg.py:238: RuntimeWarning: Glyph 46020 missing from current font.\n",
      "  font.set_text(s, 0.0, flags=flags)\n",
      "C:\\Users\\sunho\\anaconda3\\lib\\site-packages\\matplotlib\\backends\\backend_agg.py:238: RuntimeWarning: Glyph 45716 missing from current font.\n",
      "  font.set_text(s, 0.0, flags=flags)\n",
      "C:\\Users\\sunho\\anaconda3\\lib\\site-packages\\matplotlib\\backends\\backend_agg.py:238: RuntimeWarning: Glyph 51080 missing from current font.\n",
      "  font.set_text(s, 0.0, flags=flags)\n",
      "C:\\Users\\sunho\\anaconda3\\lib\\site-packages\\matplotlib\\backends\\backend_agg.py:238: RuntimeWarning: Glyph 46104 missing from current font.\n",
      "  font.set_text(s, 0.0, flags=flags)\n",
      "C:\\Users\\sunho\\anaconda3\\lib\\site-packages\\matplotlib\\backends\\backend_agg.py:238: RuntimeWarning: Glyph 47484 missing from current font.\n",
      "  font.set_text(s, 0.0, flags=flags)\n",
      "C:\\Users\\sunho\\anaconda3\\lib\\site-packages\\matplotlib\\backends\\backend_agg.py:238: RuntimeWarning: Glyph 48372 missing from current font.\n",
      "  font.set_text(s, 0.0, flags=flags)\n",
      "C:\\Users\\sunho\\anaconda3\\lib\\site-packages\\matplotlib\\backends\\backend_agg.py:238: RuntimeWarning: Glyph 51032 missing from current font.\n",
      "  font.set_text(s, 0.0, flags=flags)\n",
      "C:\\Users\\sunho\\anaconda3\\lib\\site-packages\\matplotlib\\backends\\backend_agg.py:238: RuntimeWarning: Glyph 50500 missing from current font.\n",
      "  font.set_text(s, 0.0, flags=flags)\n",
      "C:\\Users\\sunho\\anaconda3\\lib\\site-packages\\matplotlib\\backends\\backend_agg.py:238: RuntimeWarning: Glyph 45768 missing from current font.\n",
      "  font.set_text(s, 0.0, flags=flags)\n",
      "C:\\Users\\sunho\\anaconda3\\lib\\site-packages\\matplotlib\\backends\\backend_agg.py:238: RuntimeWarning: Glyph 50630 missing from current font.\n",
      "  font.set_text(s, 0.0, flags=flags)\n",
      "C:\\Users\\sunho\\anaconda3\\lib\\site-packages\\matplotlib\\backends\\backend_agg.py:238: RuntimeWarning: Glyph 44057 missing from current font.\n",
      "  font.set_text(s, 0.0, flags=flags)\n",
      "C:\\Users\\sunho\\anaconda3\\lib\\site-packages\\matplotlib\\backends\\backend_agg.py:238: RuntimeWarning: Glyph 51004 missing from current font.\n",
      "  font.set_text(s, 0.0, flags=flags)\n",
      "C:\\Users\\sunho\\anaconda3\\lib\\site-packages\\matplotlib\\backends\\backend_agg.py:238: RuntimeWarning: Glyph 47196 missing from current font.\n",
      "  font.set_text(s, 0.0, flags=flags)\n",
      "C:\\Users\\sunho\\anaconda3\\lib\\site-packages\\matplotlib\\backends\\backend_agg.py:238: RuntimeWarning: Glyph 51652 missing from current font.\n",
      "  font.set_text(s, 0.0, flags=flags)\n",
      "C:\\Users\\sunho\\anaconda3\\lib\\site-packages\\matplotlib\\backends\\backend_agg.py:238: RuntimeWarning: Glyph 51676 missing from current font.\n",
      "  font.set_text(s, 0.0, flags=flags)\n",
      "C:\\Users\\sunho\\anaconda3\\lib\\site-packages\\matplotlib\\backends\\backend_agg.py:238: RuntimeWarning: Glyph 45320 missing from current font.\n",
      "  font.set_text(s, 0.0, flags=flags)\n",
      "C:\\Users\\sunho\\anaconda3\\lib\\site-packages\\matplotlib\\backends\\backend_agg.py:238: RuntimeWarning: Glyph 47924 missing from current font.\n",
      "  font.set_text(s, 0.0, flags=flags)\n",
      "C:\\Users\\sunho\\anaconda3\\lib\\site-packages\\matplotlib\\backends\\backend_agg.py:238: RuntimeWarning: Glyph 49436 missing from current font.\n",
      "  font.set_text(s, 0.0, flags=flags)\n",
      "C:\\Users\\sunho\\anaconda3\\lib\\site-packages\\matplotlib\\backends\\backend_agg.py:238: RuntimeWarning: Glyph 49324 missing from current font.\n",
      "  font.set_text(s, 0.0, flags=flags)\n",
      "C:\\Users\\sunho\\anaconda3\\lib\\site-packages\\matplotlib\\backends\\backend_agg.py:238: RuntimeWarning: Glyph 46988 missing from current font.\n",
      "  font.set_text(s, 0.0, flags=flags)\n",
      "C:\\Users\\sunho\\anaconda3\\lib\\site-packages\\matplotlib\\backends\\backend_agg.py:238: RuntimeWarning: Glyph 12619 missing from current font.\n",
      "  font.set_text(s, 0.0, flags=flags)\n",
      "C:\\Users\\sunho\\anaconda3\\lib\\site-packages\\matplotlib\\backends\\backend_agg.py:238: RuntimeWarning: Glyph 51339 missing from current font.\n",
      "  font.set_text(s, 0.0, flags=flags)\n",
      "C:\\Users\\sunho\\anaconda3\\lib\\site-packages\\matplotlib\\backends\\backend_agg.py:238: RuntimeWarning: Glyph 50504 missing from current font.\n",
      "  font.set_text(s, 0.0, flags=flags)\n",
      "C:\\Users\\sunho\\anaconda3\\lib\\site-packages\\matplotlib\\backends\\backend_agg.py:238: RuntimeWarning: Glyph 50724 missing from current font.\n",
      "  font.set_text(s, 0.0, flags=flags)\n",
      "C:\\Users\\sunho\\anaconda3\\lib\\site-packages\\matplotlib\\backends\\backend_agg.py:238: RuntimeWarning: Glyph 44163 missing from current font.\n",
      "  font.set_text(s, 0.0, flags=flags)\n",
      "C:\\Users\\sunho\\anaconda3\\lib\\site-packages\\matplotlib\\backends\\backend_agg.py:238: RuntimeWarning: Glyph 47803 missing from current font.\n",
      "  font.set_text(s, 0.0, flags=flags)\n",
      "C:\\Users\\sunho\\anaconda3\\lib\\site-packages\\matplotlib\\backends\\backend_agg.py:238: RuntimeWarning: Glyph 47564 missing from current font.\n",
      "  font.set_text(s, 0.0, flags=flags)\n",
      "C:\\Users\\sunho\\anaconda3\\lib\\site-packages\\matplotlib\\backends\\backend_agg.py:238: RuntimeWarning: Glyph 12640 missing from current font.\n",
      "  font.set_text(s, 0.0, flags=flags)\n",
      "C:\\Users\\sunho\\anaconda3\\lib\\site-packages\\matplotlib\\backends\\backend_agg.py:238: RuntimeWarning: Glyph 51221 missing from current font.\n",
      "  font.set_text(s, 0.0, flags=flags)\n",
      "C:\\Users\\sunho\\anaconda3\\lib\\site-packages\\matplotlib\\backends\\backend_agg.py:238: RuntimeWarning: Glyph 47568 missing from current font.\n",
      "  font.set_text(s, 0.0, flags=flags)\n",
      "C:\\Users\\sunho\\anaconda3\\lib\\site-packages\\matplotlib\\backends\\backend_agg.py:238: RuntimeWarning: Glyph 48155 missing from current font.\n",
      "  font.set_text(s, 0.0, flags=flags)\n",
      "C:\\Users\\sunho\\anaconda3\\lib\\site-packages\\matplotlib\\backends\\backend_agg.py:238: RuntimeWarning: Glyph 50780 missing from current font.\n",
      "  font.set_text(s, 0.0, flags=flags)\n",
      "C:\\Users\\sunho\\anaconda3\\lib\\site-packages\\matplotlib\\backends\\backend_agg.py:238: RuntimeWarning: Glyph 44536 missing from current font.\n",
      "  font.set_text(s, 0.0, flags=flags)\n",
      "C:\\Users\\sunho\\anaconda3\\lib\\site-packages\\matplotlib\\backends\\backend_agg.py:238: RuntimeWarning: Glyph 47111 missing from current font.\n",
      "  font.set_text(s, 0.0, flags=flags)\n",
      "C:\\Users\\sunho\\anaconda3\\lib\\site-packages\\matplotlib\\backends\\backend_agg.py:238: RuntimeWarning: Glyph 50506 missing from current font.\n",
      "  font.set_text(s, 0.0, flags=flags)\n",
      "C:\\Users\\sunho\\anaconda3\\lib\\site-packages\\matplotlib\\backends\\backend_agg.py:238: RuntimeWarning: Glyph 44256 missing from current font.\n",
      "  font.set_text(s, 0.0, flags=flags)\n",
      "C:\\Users\\sunho\\anaconda3\\lib\\site-packages\\matplotlib\\backends\\backend_agg.py:201: RuntimeWarning: Glyph 54616 missing from current font.\n",
      "  font.set_text(s, 0, flags=flags)\n",
      "C:\\Users\\sunho\\anaconda3\\lib\\site-packages\\matplotlib\\backends\\backend_agg.py:201: RuntimeWarning: Glyph 45796 missing from current font.\n",
      "  font.set_text(s, 0, flags=flags)\n",
      "C:\\Users\\sunho\\anaconda3\\lib\\site-packages\\matplotlib\\backends\\backend_agg.py:201: RuntimeWarning: Glyph 51060 missing from current font.\n",
      "  font.set_text(s, 0, flags=flags)\n",
      "C:\\Users\\sunho\\anaconda3\\lib\\site-packages\\matplotlib\\backends\\backend_agg.py:201: RuntimeWarning: Glyph 44032 missing from current font.\n",
      "  font.set_text(s, 0, flags=flags)\n",
      "C:\\Users\\sunho\\anaconda3\\lib\\site-packages\\matplotlib\\backends\\backend_agg.py:201: RuntimeWarning: Glyph 50640 missing from current font.\n",
      "  font.set_text(s, 0, flags=flags)\n",
      "C:\\Users\\sunho\\anaconda3\\lib\\site-packages\\matplotlib\\backends\\backend_agg.py:201: RuntimeWarning: Glyph 46308 missing from current font.\n",
      "  font.set_text(s, 0, flags=flags)\n",
      "C:\\Users\\sunho\\anaconda3\\lib\\site-packages\\matplotlib\\backends\\backend_agg.py:201: RuntimeWarning: Glyph 51012 missing from current font.\n",
      "  font.set_text(s, 0, flags=flags)\n",
      "C:\\Users\\sunho\\anaconda3\\lib\\site-packages\\matplotlib\\backends\\backend_agg.py:201: RuntimeWarning: Glyph 51008 missing from current font.\n",
      "  font.set_text(s, 0, flags=flags)\n",
      "C:\\Users\\sunho\\anaconda3\\lib\\site-packages\\matplotlib\\backends\\backend_agg.py:201: RuntimeWarning: Glyph 46020 missing from current font.\n",
      "  font.set_text(s, 0, flags=flags)\n",
      "C:\\Users\\sunho\\anaconda3\\lib\\site-packages\\matplotlib\\backends\\backend_agg.py:201: RuntimeWarning: Glyph 45716 missing from current font.\n",
      "  font.set_text(s, 0, flags=flags)\n",
      "C:\\Users\\sunho\\anaconda3\\lib\\site-packages\\matplotlib\\backends\\backend_agg.py:201: RuntimeWarning: Glyph 51080 missing from current font.\n",
      "  font.set_text(s, 0, flags=flags)\n",
      "C:\\Users\\sunho\\anaconda3\\lib\\site-packages\\matplotlib\\backends\\backend_agg.py:201: RuntimeWarning: Glyph 46104 missing from current font.\n",
      "  font.set_text(s, 0, flags=flags)\n",
      "C:\\Users\\sunho\\anaconda3\\lib\\site-packages\\matplotlib\\backends\\backend_agg.py:201: RuntimeWarning: Glyph 47484 missing from current font.\n",
      "  font.set_text(s, 0, flags=flags)\n",
      "C:\\Users\\sunho\\anaconda3\\lib\\site-packages\\matplotlib\\backends\\backend_agg.py:201: RuntimeWarning: Glyph 48372 missing from current font.\n",
      "  font.set_text(s, 0, flags=flags)\n",
      "C:\\Users\\sunho\\anaconda3\\lib\\site-packages\\matplotlib\\backends\\backend_agg.py:201: RuntimeWarning: Glyph 51032 missing from current font.\n",
      "  font.set_text(s, 0, flags=flags)\n",
      "C:\\Users\\sunho\\anaconda3\\lib\\site-packages\\matplotlib\\backends\\backend_agg.py:201: RuntimeWarning: Glyph 50500 missing from current font.\n",
      "  font.set_text(s, 0, flags=flags)\n",
      "C:\\Users\\sunho\\anaconda3\\lib\\site-packages\\matplotlib\\backends\\backend_agg.py:201: RuntimeWarning: Glyph 45768 missing from current font.\n",
      "  font.set_text(s, 0, flags=flags)\n",
      "C:\\Users\\sunho\\anaconda3\\lib\\site-packages\\matplotlib\\backends\\backend_agg.py:201: RuntimeWarning: Glyph 50630 missing from current font.\n",
      "  font.set_text(s, 0, flags=flags)\n",
      "C:\\Users\\sunho\\anaconda3\\lib\\site-packages\\matplotlib\\backends\\backend_agg.py:201: RuntimeWarning: Glyph 44057 missing from current font.\n",
      "  font.set_text(s, 0, flags=flags)\n",
      "C:\\Users\\sunho\\anaconda3\\lib\\site-packages\\matplotlib\\backends\\backend_agg.py:201: RuntimeWarning: Glyph 51004 missing from current font.\n",
      "  font.set_text(s, 0, flags=flags)\n",
      "C:\\Users\\sunho\\anaconda3\\lib\\site-packages\\matplotlib\\backends\\backend_agg.py:201: RuntimeWarning: Glyph 47196 missing from current font.\n",
      "  font.set_text(s, 0, flags=flags)\n",
      "C:\\Users\\sunho\\anaconda3\\lib\\site-packages\\matplotlib\\backends\\backend_agg.py:201: RuntimeWarning: Glyph 51652 missing from current font.\n",
      "  font.set_text(s, 0, flags=flags)\n",
      "C:\\Users\\sunho\\anaconda3\\lib\\site-packages\\matplotlib\\backends\\backend_agg.py:201: RuntimeWarning: Glyph 51676 missing from current font.\n",
      "  font.set_text(s, 0, flags=flags)\n",
      "C:\\Users\\sunho\\anaconda3\\lib\\site-packages\\matplotlib\\backends\\backend_agg.py:201: RuntimeWarning: Glyph 45320 missing from current font.\n",
      "  font.set_text(s, 0, flags=flags)\n",
      "C:\\Users\\sunho\\anaconda3\\lib\\site-packages\\matplotlib\\backends\\backend_agg.py:201: RuntimeWarning: Glyph 47924 missing from current font.\n",
      "  font.set_text(s, 0, flags=flags)\n",
      "C:\\Users\\sunho\\anaconda3\\lib\\site-packages\\matplotlib\\backends\\backend_agg.py:201: RuntimeWarning: Glyph 49436 missing from current font.\n",
      "  font.set_text(s, 0, flags=flags)\n",
      "C:\\Users\\sunho\\anaconda3\\lib\\site-packages\\matplotlib\\backends\\backend_agg.py:201: RuntimeWarning: Glyph 49324 missing from current font.\n",
      "  font.set_text(s, 0, flags=flags)\n",
      "C:\\Users\\sunho\\anaconda3\\lib\\site-packages\\matplotlib\\backends\\backend_agg.py:201: RuntimeWarning: Glyph 46988 missing from current font.\n",
      "  font.set_text(s, 0, flags=flags)\n",
      "C:\\Users\\sunho\\anaconda3\\lib\\site-packages\\matplotlib\\backends\\backend_agg.py:201: RuntimeWarning: Glyph 12619 missing from current font.\n",
      "  font.set_text(s, 0, flags=flags)\n",
      "C:\\Users\\sunho\\anaconda3\\lib\\site-packages\\matplotlib\\backends\\backend_agg.py:201: RuntimeWarning: Glyph 51339 missing from current font.\n",
      "  font.set_text(s, 0, flags=flags)\n",
      "C:\\Users\\sunho\\anaconda3\\lib\\site-packages\\matplotlib\\backends\\backend_agg.py:201: RuntimeWarning: Glyph 50504 missing from current font.\n",
      "  font.set_text(s, 0, flags=flags)\n",
      "C:\\Users\\sunho\\anaconda3\\lib\\site-packages\\matplotlib\\backends\\backend_agg.py:201: RuntimeWarning: Glyph 50724 missing from current font.\n",
      "  font.set_text(s, 0, flags=flags)\n",
      "C:\\Users\\sunho\\anaconda3\\lib\\site-packages\\matplotlib\\backends\\backend_agg.py:201: RuntimeWarning: Glyph 44163 missing from current font.\n",
      "  font.set_text(s, 0, flags=flags)\n",
      "C:\\Users\\sunho\\anaconda3\\lib\\site-packages\\matplotlib\\backends\\backend_agg.py:201: RuntimeWarning: Glyph 47803 missing from current font.\n",
      "  font.set_text(s, 0, flags=flags)\n",
      "C:\\Users\\sunho\\anaconda3\\lib\\site-packages\\matplotlib\\backends\\backend_agg.py:201: RuntimeWarning: Glyph 47564 missing from current font.\n",
      "  font.set_text(s, 0, flags=flags)\n",
      "C:\\Users\\sunho\\anaconda3\\lib\\site-packages\\matplotlib\\backends\\backend_agg.py:201: RuntimeWarning: Glyph 12640 missing from current font.\n",
      "  font.set_text(s, 0, flags=flags)\n",
      "C:\\Users\\sunho\\anaconda3\\lib\\site-packages\\matplotlib\\backends\\backend_agg.py:201: RuntimeWarning: Glyph 51221 missing from current font.\n",
      "  font.set_text(s, 0, flags=flags)\n",
      "C:\\Users\\sunho\\anaconda3\\lib\\site-packages\\matplotlib\\backends\\backend_agg.py:201: RuntimeWarning: Glyph 47568 missing from current font.\n",
      "  font.set_text(s, 0, flags=flags)\n",
      "C:\\Users\\sunho\\anaconda3\\lib\\site-packages\\matplotlib\\backends\\backend_agg.py:201: RuntimeWarning: Glyph 48155 missing from current font.\n",
      "  font.set_text(s, 0, flags=flags)\n",
      "C:\\Users\\sunho\\anaconda3\\lib\\site-packages\\matplotlib\\backends\\backend_agg.py:201: RuntimeWarning: Glyph 50780 missing from current font.\n",
      "  font.set_text(s, 0, flags=flags)\n",
      "C:\\Users\\sunho\\anaconda3\\lib\\site-packages\\matplotlib\\backends\\backend_agg.py:201: RuntimeWarning: Glyph 44536 missing from current font.\n",
      "  font.set_text(s, 0, flags=flags)\n",
      "C:\\Users\\sunho\\anaconda3\\lib\\site-packages\\matplotlib\\backends\\backend_agg.py:201: RuntimeWarning: Glyph 47111 missing from current font.\n",
      "  font.set_text(s, 0, flags=flags)\n",
      "C:\\Users\\sunho\\anaconda3\\lib\\site-packages\\matplotlib\\backends\\backend_agg.py:201: RuntimeWarning: Glyph 50506 missing from current font.\n",
      "  font.set_text(s, 0, flags=flags)\n",
      "C:\\Users\\sunho\\anaconda3\\lib\\site-packages\\matplotlib\\backends\\backend_agg.py:201: RuntimeWarning: Glyph 44256 missing from current font.\n",
      "  font.set_text(s, 0, flags=flags)\n"
     ]
    },
    {
     "data": {
      "image/png": "[encoded data removed]",
      "text/plain": [
       "<Figure size 1440x720 with 1 Axes>"
      ]
     },
     "metadata": {
      "needs_background": "light"
     },
     "output_type": "display_data"
    }
   ],
   "source": [
    "import matplotlib.pyplot as plt\n",
    "from matplotlib import font_manager, rc\n",
    "plt.figure(figsize=(20,10))\n",
    "fear_text.plot(50)"
   ]
  },
  {
   "cell_type": "code",
   "execution_count": 11,
   "id": "incoming-agent",
   "metadata": {},
   "outputs": [],
   "source": [
    "FEAR_FREQUENCY_COUNT = 2000;\n",
    "fear_selected_words = [f[0] for f in fear_text.vocab().most_common(FEAR_FREQUENCY_COUNT)]"
   ]
  },
  {
   "cell_type": "code",
   "execution_count": 12,
   "id": "committed-legend",
   "metadata": {},
   "outputs": [],
   "source": [
    "def fear_term_frequency(doc):\n",
    "    return [doc.count(word) for word in fear_selected_words]"
   ]
  },
  {
   "cell_type": "code",
   "execution_count": 13,
   "id": "boring-directive",
   "metadata": {},
   "outputs": [],
   "source": [
    "x_fear_train = [fear_term_frequency(d) for d,_ in train_fear_docs]\n",
    "x_fear_test = [fear_term_frequency(d) for d,_ in test_fear_docs]\n",
    "y_fear_train = [c for _,c in train_fear_docs]\n",
    "y_fear_test = [c for _,c in test_fear_docs]"
   ]
  },
  {
   "cell_type": "code",
   "execution_count": 14,
   "id": "loved-radiation",
   "metadata": {},
   "outputs": [],
   "source": [
    "import numpy as np\n",
    "x_fear_train = np.asarray(x_fear_train).astype('float32')\n",
    "x_fear_test = np.asarray(x_fear_test). astype('float32')\n",
    "\n",
    "y_fear_train = np.asarray(y_fear_train).astype('float32')\n",
    "y_fear_test = np.asarray(y_fear_test).astype('float32')"
   ]
  },
  {
   "cell_type": "code",
   "execution_count": 15,
   "id": "virgin-burst",
   "metadata": {},
   "outputs": [],
   "source": [
    "import tensorflow as tf\n",
    "fear_model= tf.keras.models.Sequential([\n",
    "    tf.keras.layers.Dense(64, activation = 'relu',input_shape=(FEAR_FREQUENCY_COUNT,)),\n",
    "    tf.keras.layers.Dense(64, activation = 'relu'),\n",
    "    tf.keras.layers.Dense(1, activation = 'sigmoid')\n",
    "])"
   ]
  },
  {
   "cell_type": "code",
   "execution_count": 16,
   "id": "statutory-screw",
   "metadata": {},
   "outputs": [],
   "source": [
    "fear_model.compile(optimizer=tf.keras.optimizers.RMSprop(lr=0.001),\n",
    "             loss=tf.keras.losses.binary_crossentropy,\n",
    "             metrics=[tf.keras.metrics.binary_accuracy]\n",
    "             )"
   ]
  },
  {
   "cell_type": "code",
   "execution_count": 284,
   "id": "infinite-chase",
   "metadata": {},
   "outputs": [
    {
     "name": "stdout",
     "output_type": "stream",
     "text": [
      "Epoch 1/50\n",
      "53/53 [==============================] - 0s 7ms/step - loss: 0.0042 - binary_accuracy: 0.9979\n",
      "Epoch 2/50\n",
      "53/53 [==============================] - 1s 13ms/step - loss: 0.0041 - binary_accuracy: 0.9978\n",
      "Epoch 3/50\n",
      "53/53 [==============================] - 0s 7ms/step - loss: 0.0042 - binary_accuracy: 0.9979\n",
      "Epoch 4/50\n",
      "53/53 [==============================] - 0s 7ms/step - loss: 0.0041 - binary_accuracy: 0.9979\n",
      "Epoch 5/50\n",
      "53/53 [==============================] - 0s 7ms/step - loss: 0.0041 - binary_accuracy: 0.9979\n",
      "Epoch 6/50\n",
      "53/53 [==============================] - 0s 7ms/step - loss: 0.0043 - binary_accuracy: 0.9979\n",
      "Epoch 7/50\n",
      "53/53 [==============================] - 0s 7ms/step - loss: 0.0041 - binary_accuracy: 0.9979\n",
      "Epoch 8/50\n",
      "53/53 [==============================] - 0s 7ms/step - loss: 0.0042 - binary_accuracy: 0.9978\n",
      "Epoch 9/50\n",
      "53/53 [==============================] - 0s 7ms/step - loss: 0.0042 - binary_accuracy: 0.9980\n",
      "Epoch 10/50\n",
      "53/53 [==============================] - 0s 7ms/step - loss: 0.0041 - binary_accuracy: 0.9978\n",
      "Epoch 11/50\n",
      "53/53 [==============================] - 0s 7ms/step - loss: 0.0041 - binary_accuracy: 0.9980\n",
      "Epoch 12/50\n",
      "53/53 [==============================] - 0s 7ms/step - loss: 0.0041 - binary_accuracy: 0.9979\n",
      "Epoch 13/50\n",
      "53/53 [==============================] - 0s 7ms/step - loss: 0.0041 - binary_accuracy: 0.9978\n",
      "Epoch 14/50\n",
      "53/53 [==============================] - 0s 7ms/step - loss: 0.0042 - binary_accuracy: 0.9980\n",
      "Epoch 15/50\n",
      "53/53 [==============================] - 0s 8ms/step - loss: 0.0041 - binary_accuracy: 0.9979\n",
      "Epoch 16/50\n",
      "53/53 [==============================] - 0s 7ms/step - loss: 0.0041 - binary_accuracy: 0.9978\n",
      "Epoch 17/50\n",
      "53/53 [==============================] - 0s 7ms/step - loss: 0.0041 - binary_accuracy: 0.9980\n",
      "Epoch 18/50\n",
      "53/53 [==============================] - 0s 7ms/step - loss: 0.0041 - binary_accuracy: 0.9980\n",
      "Epoch 19/50\n",
      "53/53 [==============================] - 0s 7ms/step - loss: 0.0042 - binary_accuracy: 0.9979\n",
      "Epoch 20/50\n",
      "53/53 [==============================] - 0s 7ms/step - loss: 0.0041 - binary_accuracy: 0.9979\n",
      "Epoch 21/50\n",
      "53/53 [==============================] - 0s 7ms/step - loss: 0.0041 - binary_accuracy: 0.9978\n",
      "Epoch 22/50\n",
      "53/53 [==============================] - 0s 7ms/step - loss: 0.0041 - binary_accuracy: 0.9980\n",
      "Epoch 23/50\n",
      "53/53 [==============================] - 0s 7ms/step - loss: 0.0041 - binary_accuracy: 0.9979\n",
      "Epoch 24/50\n",
      "53/53 [==============================] - 0s 8ms/step - loss: 0.0040 - binary_accuracy: 0.9980\n",
      "Epoch 25/50\n",
      "53/53 [==============================] - 0s 7ms/step - loss: 0.0041 - binary_accuracy: 0.9980\n",
      "Epoch 26/50\n",
      "53/53 [==============================] - 0s 7ms/step - loss: 0.0040 - binary_accuracy: 0.9979\n",
      "Epoch 27/50\n",
      "53/53 [==============================] - 0s 7ms/step - loss: 0.0042 - binary_accuracy: 0.9980\n",
      "Epoch 28/50\n",
      "53/53 [==============================] - 0s 7ms/step - loss: 0.0041 - binary_accuracy: 0.9979\n",
      "Epoch 29/50\n",
      "53/53 [==============================] - 0s 7ms/step - loss: 0.0040 - binary_accuracy: 0.9979\n",
      "Epoch 30/50\n",
      "53/53 [==============================] - 0s 8ms/step - loss: 0.0041 - binary_accuracy: 0.9979\n",
      "Epoch 31/50\n",
      "53/53 [==============================] - 0s 7ms/step - loss: 0.0041 - binary_accuracy: 0.9979\n",
      "Epoch 32/50\n",
      "53/53 [==============================] - 0s 7ms/step - loss: 0.0040 - binary_accuracy: 0.9980\n",
      "Epoch 33/50\n",
      "53/53 [==============================] - 0s 7ms/step - loss: 0.0041 - binary_accuracy: 0.9978\n",
      "Epoch 34/50\n",
      "53/53 [==============================] - 0s 7ms/step - loss: 0.0041 - binary_accuracy: 0.9978\n",
      "Epoch 35/50\n",
      "53/53 [==============================] - 0s 7ms/step - loss: 0.0042 - binary_accuracy: 0.9980\n",
      "Epoch 36/50\n",
      "53/53 [==============================] - 0s 7ms/step - loss: 0.0041 - binary_accuracy: 0.9978\n",
      "Epoch 37/50\n",
      "53/53 [==============================] - 0s 7ms/step - loss: 0.0040 - binary_accuracy: 0.9979\n",
      "Epoch 38/50\n",
      "53/53 [==============================] - 0s 7ms/step - loss: 0.0042 - binary_accuracy: 0.9979\n",
      "Epoch 39/50\n",
      "53/53 [==============================] - 0s 8ms/step - loss: 0.0041 - binary_accuracy: 0.9979\n",
      "Epoch 40/50\n",
      "53/53 [==============================] - 0s 7ms/step - loss: 0.0041 - binary_accuracy: 0.9980\n",
      "Epoch 41/50\n",
      "53/53 [==============================] - 0s 8ms/step - loss: 0.0041 - binary_accuracy: 0.9980\n",
      "Epoch 42/50\n",
      "53/53 [==============================] - 0s 8ms/step - loss: 0.0040 - binary_accuracy: 0.9979\n",
      "Epoch 43/50\n",
      "53/53 [==============================] - 0s 8ms/step - loss: 0.0040 - binary_accuracy: 0.9979\n",
      "Epoch 44/50\n",
      "53/53 [==============================] - 0s 7ms/step - loss: 0.0042 - binary_accuracy: 0.9980\n",
      "Epoch 45/50\n",
      "53/53 [==============================] - 0s 8ms/step - loss: 0.0041 - binary_accuracy: 0.9980\n",
      "Epoch 46/50\n",
      "53/53 [==============================] - 0s 7ms/step - loss: 0.0040 - binary_accuracy: 0.9980\n",
      "Epoch 47/50\n",
      "53/53 [==============================] - 0s 7ms/step - loss: 0.0040 - binary_accuracy: 0.9980\n",
      "Epoch 48/50\n",
      "53/53 [==============================] - 0s 8ms/step - loss: 0.0041 - binary_accuracy: 0.9979\n",
      "Epoch 49/50\n",
      "53/53 [==============================] - 0s 7ms/step - loss: 0.0042 - binary_accuracy: 0.9980\n",
      "Epoch 50/50\n",
      "53/53 [==============================] - 0s 8ms/step - loss: 0.0040 - binary_accuracy: 0.9981\n"
     ]
    },
    {
     "data": {
      "text/plain": [
       "<tensorflow.python.keras.callbacks.History at 0x2a74bd75048>"
      ]
     },
     "execution_count": 284,
     "metadata": {},
     "output_type": "execute_result"
    }
   ],
   "source": [
    "fear_model.fit(x_fear_train, y_fear_train, epochs=50, batch_size=512)"
   ]
  },
  {
   "cell_type": "code",
   "execution_count": 285,
   "id": "prompt-reception",
   "metadata": {},
   "outputs": [
    {
     "name": "stdout",
     "output_type": "stream",
     "text": [
      "362/362 [==============================] - 0s 1ms/step - loss: 5.1617 - binary_accuracy: 0.8232\n"
     ]
    }
   ],
   "source": [
    "fear_results = fear_model.evaluate(x_fear_test, y_fear_test)"
   ]
  },
  {
   "cell_type": "code",
   "execution_count": 286,
   "id": "lyric-grove",
   "metadata": {},
   "outputs": [
    {
     "data": {
      "text/plain": [
       "[5.16172981262207, 0.8231838941574097]"
      ]
     },
     "execution_count": 286,
     "metadata": {},
     "output_type": "execute_result"
    }
   ],
   "source": [
    "fear_results"
   ]
  },
  {
   "cell_type": "code",
   "execution_count": 287,
   "id": "frank-nowhere",
   "metadata": {},
   "outputs": [],
   "source": [
    "fear_model.save('fear_model.h5')"
   ]
  },
  {
   "cell_type": "code",
   "execution_count": 288,
   "id": "adjacent-builder",
   "metadata": {},
   "outputs": [
    {
     "data": {
      "text/plain": [
       "['너무/Adverb', '무섭다/Adjective']"
      ]
     },
     "execution_count": 288,
     "metadata": {},
     "output_type": "execute_result"
    }
   ],
   "source": [
    "fear_review = \"너무 무섭다\"\n",
    "fear_token = tokenize(fear_review)\n",
    "fear_token"
   ]
  },
  {
   "cell_type": "code",
   "execution_count": 289,
   "id": "celtic-vampire",
   "metadata": {},
   "outputs": [
    {
     "data": {
      "text/plain": [
       "1.0"
      ]
     },
     "execution_count": 289,
     "metadata": {},
     "output_type": "execute_result"
    }
   ],
   "source": [
    "tf = fear_term_frequency(fear_token)\n",
    "data = np.expand_dims(np.asarray(tf).astype('float32'),axis=0)\n",
    "float(fear_model.predict(data))"
   ]
  },
  {
   "cell_type": "code",
   "execution_count": 354,
   "id": "ongoing-cologne",
   "metadata": {},
   "outputs": [],
   "source": [
    "import matplotlib.pyplot as plt\n",
    "from matplotlib import font_manager, rc\n",
    "import numpy as np\n",
    "\n",
    "def fear_predict(predict):\n",
    "    fear_token = tokenize(predict)\n",
    "    fear_tfq = fear_term_frequency(fear_token)\n",
    "    fear_data = np.expand_dims(np.asarray(fear_tfq).astype('float32'), axis=0)\n",
    "    fear_score = float(fear_model.predict(fear_data))\n",
    "    print(f\"공포({round(fear_score*100)}%)\")\n",
    "    fear = round(fear_score*100)\n",
    "    '''\n",
    "    x = np.arange(1)\n",
    "    감정 = ['fear']\n",
    "    정확도 = [fear]\n",
    "    plt.bar(x, 정확도)\n",
    "    plt.xticks(x,감정)\n",
    "    plt.ylim([0,100])\n",
    "    plt.show()'''"
   ]
  },
  {
   "cell_type": "code",
   "execution_count": 355,
   "id": "harmful-drive",
   "metadata": {
    "scrolled": true
   },
   "outputs": [
    {
     "name": "stdout",
     "output_type": "stream",
     "text": [
      "공포(31%)\n"
     ]
    }
   ],
   "source": [
    "fear_predict(\"\")"
   ]
  },
  {
   "cell_type": "code",
   "execution_count": 25,
   "id": "determined-allen",
   "metadata": {},
   "outputs": [],
   "source": [
    "#놀람 감정 분석"
   ]
  },
  {
   "cell_type": "code",
   "execution_count": 26,
   "id": "vocational-service",
   "metadata": {},
   "outputs": [],
   "source": [
    "import pandas as pd\n",
    "train_surprise_df = pd.read_csv(\"surprisetrainalldata.txt\",\"\\t\")\n",
    "test_surprise_df = pd.read_csv(\"surprisetestalldata.txt\",\"\\t\")"
   ]
  },
  {
   "cell_type": "code",
   "execution_count": 27,
   "id": "finished-exclusive",
   "metadata": {},
   "outputs": [],
   "source": [
    "from konlpy.tag import Okt\n",
    "okt_surprise = Okt()"
   ]
  },
  {
   "cell_type": "code",
   "execution_count": 28,
   "id": "legislative-supplier",
   "metadata": {},
   "outputs": [],
   "source": [
    "def tokenize(doc):\n",
    "    return ['/'.join(t) for t in okt_surprise.pos(doc, norm=True, stem=True)]"
   ]
  },
  {
   "cell_type": "code",
   "execution_count": 29,
   "id": "increased-decimal",
   "metadata": {},
   "outputs": [],
   "source": [
    "train_surprise_df.isnull().any()\n",
    "train_surprise_df['document'] = train_surprise_df['document'].fillna('');\n",
    "train_surprise_df.isnull().any()\n",
    "test_surprise_df['document'] = test_surprise_df['document'].fillna('');"
   ]
  },
  {
   "cell_type": "code",
   "execution_count": 30,
   "id": "infinite-nursing",
   "metadata": {},
   "outputs": [],
   "source": [
    "train_surprise_docs = [(tokenize(row[1]), row[2]) for row in train_surprise_df.values]\n",
    "test_surprise_docs = [(tokenize(row[1]),row[2]) for row in test_surprise_df.values]"
   ]
  },
  {
   "cell_type": "code",
   "execution_count": 31,
   "id": "still-globe",
   "metadata": {},
   "outputs": [
    {
     "name": "stdout",
     "output_type": "stream",
     "text": [
      "(['언니/Noun', '동생/Noun', '으로/Josa', '부르다/Verb', '맞다/Verb', '일/Noun', '인가요/Josa', '..??/Punctuation'], 0)\n",
      "(['톡/Noun', '크다/Verb', '언니/Noun', '들/Suffix', '임산부/Noun', '언니/Noun', '들/Suffix', 'ㅠㅠ/KoreanParticle'], 0)\n"
     ]
    }
   ],
   "source": [
    "print(train_surprise_docs[0])\n",
    "print(test_surprise_docs[0])"
   ]
  },
  {
   "cell_type": "code",
   "execution_count": 32,
   "id": "limiting-command",
   "metadata": {},
   "outputs": [
    {
     "name": "stdout",
     "output_type": "stream",
     "text": [
      "토큰개수: 259374\n"
     ]
    }
   ],
   "source": [
    "tokens = [t for d in train_surprise_docs for t in d[0]]\n",
    "print(\"토큰개수:\",len(tokens))"
   ]
  },
  {
   "cell_type": "code",
   "execution_count": 33,
   "id": "industrial-smell",
   "metadata": {},
   "outputs": [
    {
     "name": "stdout",
     "output_type": "stream",
     "text": [
      "259374\n",
      "20799\n",
      "[('하다/Verb', 8087), ('이/Josa', 4939), ('./Punctuation', 4679), ('가/Josa', 3509), ('?/Punctuation', 3201), ('에/Josa', 3168), ('들/Suffix', 3097), ('../Punctuation', 2820), ('을/Josa', 2523), ('은/Josa', 2512)]\n"
     ]
    }
   ],
   "source": [
    "import nltk\n",
    "surprise_text = nltk.Text(tokens, name='NMSC')\n",
    "print(len(surprise_text.tokens))\n",
    "print(len(set(surprise_text.tokens)))\n",
    "print(surprise_text.vocab().most_common(10))"
   ]
  },
  {
   "cell_type": "code",
   "execution_count": 34,
   "id": "fundamental-investing",
   "metadata": {},
   "outputs": [
    {
     "data": {
      "image/png": "[encoded data removed]",
      "text/plain": [
       "<Figure size 1440x720 with 1 Axes>"
      ]
     },
     "metadata": {
      "needs_background": "light"
     },
     "output_type": "display_data"
    }
   ],
   "source": [
    "import matplotlib.pyplot as plt\n",
    "from matplotlib import font_manager, rc\n",
    "plt.figure(figsize=(20,10))\n",
    "surprise_text.plot(50)"
   ]
  },
  {
   "cell_type": "code",
   "execution_count": 35,
   "id": "affiliated-soundtrack",
   "metadata": {},
   "outputs": [],
   "source": [
    "SURPRISE_FREQUENCY_COUNT = 2000;\n",
    "surprise_selected_words = [f[0] for f in surprise_text.vocab().most_common(SURPRISE_FREQUENCY_COUNT)]"
   ]
  },
  {
   "cell_type": "code",
   "execution_count": 36,
   "id": "frozen-electric",
   "metadata": {},
   "outputs": [],
   "source": [
    "def surprise_term_frequency(doc):\n",
    "    return [doc.count(word) for word in surprise_selected_words]"
   ]
  },
  {
   "cell_type": "code",
   "execution_count": 37,
   "id": "hired-formula",
   "metadata": {},
   "outputs": [],
   "source": [
    "x_surprise_train = [surprise_term_frequency(d) for d,_ in train_surprise_docs]\n",
    "x_surprise_test = [surprise_term_frequency(d) for d,_ in test_surprise_docs]\n",
    "y_surprise_train = [c for _,c in train_surprise_docs]\n",
    "y_surprise_test = [c for _,c in test_surprise_docs]"
   ]
  },
  {
   "cell_type": "code",
   "execution_count": 38,
   "id": "twenty-filename",
   "metadata": {},
   "outputs": [],
   "source": [
    "import numpy as np\n",
    "x_surprise_train = np.asarray(x_surprise_train).astype('float32')\n",
    "x_surprise_test = np.asarray(x_surprise_test). astype('float32')\n",
    "\n",
    "y_surprise_train = np.asarray(y_surprise_train).astype('float32')\n",
    "y_surprise_test = np.asarray(y_surprise_test).astype('float32')"
   ]
  },
  {
   "cell_type": "code",
   "execution_count": 39,
   "id": "stopped-window",
   "metadata": {},
   "outputs": [],
   "source": [
    "import tensorflow as tf\n",
    "surprise_model= tf.keras.models.Sequential([\n",
    "    tf.keras.layers.Dense(64, activation = 'relu',input_shape=(SURPRISE_FREQUENCY_COUNT,)),\n",
    "    tf.keras.layers.Dense(64, activation = 'relu'),\n",
    "    tf.keras.layers.Dense(1, activation = 'sigmoid')\n",
    "])"
   ]
  },
  {
   "cell_type": "code",
   "execution_count": 40,
   "id": "atmospheric-blast",
   "metadata": {},
   "outputs": [],
   "source": [
    "surprise_model.compile(optimizer=tf.keras.optimizers.RMSprop(lr=0.001),\n",
    "             loss=tf.keras.losses.binary_crossentropy,\n",
    "             metrics=[tf.keras.metrics.binary_accuracy]\n",
    "             )"
   ]
  },
  {
   "cell_type": "code",
   "execution_count": 41,
   "id": "sustainable-ticket",
   "metadata": {},
   "outputs": [
    {
     "name": "stdout",
     "output_type": "stream",
     "text": [
      "Epoch 1/50\n",
      "53/53 [==============================] - 6s 106ms/step - loss: 0.4491 - binary_accuracy: 0.8385\n",
      "Epoch 2/50\n",
      "53/53 [==============================] - 1s 27ms/step - loss: 0.3506 - binary_accuracy: 0.8503\n",
      "Epoch 3/50\n",
      "53/53 [==============================] - 1s 10ms/step - loss: 0.3182 - binary_accuracy: 0.8658\n",
      "Epoch 4/50\n",
      "53/53 [==============================] - 1s 10ms/step - loss: 0.2995 - binary_accuracy: 0.8742\n",
      "Epoch 5/50\n",
      "53/53 [==============================] - 0s 9ms/step - loss: 0.2841 - binary_accuracy: 0.8809\n",
      "Epoch 6/50\n",
      "53/53 [==============================] - 1s 10ms/step - loss: 0.2689 - binary_accuracy: 0.8896\n",
      "Epoch 7/50\n",
      "53/53 [==============================] - 1s 10ms/step - loss: 0.2530 - binary_accuracy: 0.8967\n",
      "Epoch 8/50\n",
      "53/53 [==============================] - 1s 10ms/step - loss: 0.2360 - binary_accuracy: 0.9043\n",
      "Epoch 9/50\n",
      "53/53 [==============================] - 1s 10ms/step - loss: 0.2189 - binary_accuracy: 0.9124\n",
      "Epoch 10/50\n",
      "53/53 [==============================] - 0s 9ms/step - loss: 0.2002 - binary_accuracy: 0.9217\n",
      "Epoch 11/50\n",
      "53/53 [==============================] - 0s 7ms/step - loss: 0.1824 - binary_accuracy: 0.9306\n",
      "Epoch 12/50\n",
      "53/53 [==============================] - 1s 10ms/step - loss: 0.1634 - binary_accuracy: 0.9388\n",
      "Epoch 13/50\n",
      "53/53 [==============================] - 1s 10ms/step - loss: 0.1449 - binary_accuracy: 0.9468\n",
      "Epoch 14/50\n",
      "53/53 [==============================] - 1s 10ms/step - loss: 0.1259 - binary_accuracy: 0.9543\n",
      "Epoch 15/50\n",
      "53/53 [==============================] - 1s 10ms/step - loss: 0.1085 - binary_accuracy: 0.9626\n",
      "Epoch 16/50\n",
      "53/53 [==============================] - 1s 10ms/step - loss: 0.0926 - binary_accuracy: 0.9686\n",
      "Epoch 17/50\n",
      "53/53 [==============================] - 0s 9ms/step - loss: 0.0787 - binary_accuracy: 0.9736\n",
      "Epoch 18/50\n",
      "53/53 [==============================] - 1s 10ms/step - loss: 0.0659 - binary_accuracy: 0.9787\n",
      "Epoch 19/50\n",
      "53/53 [==============================] - 1s 10ms/step - loss: 0.0558 - binary_accuracy: 0.9821\n",
      "Epoch 20/50\n",
      "53/53 [==============================] - 1s 10ms/step - loss: 0.0474 - binary_accuracy: 0.9851\n",
      "Epoch 21/50\n",
      "53/53 [==============================] - 1s 10ms/step - loss: 0.0402 - binary_accuracy: 0.9873\n",
      "Epoch 22/50\n",
      "53/53 [==============================] - 1s 10ms/step - loss: 0.0340 - binary_accuracy: 0.9890\n",
      "Epoch 23/50\n",
      "53/53 [==============================] - 0s 9ms/step - loss: 0.0287 - binary_accuracy: 0.9903\n",
      "Epoch 24/50\n",
      "53/53 [==============================] - 1s 11ms/step - loss: 0.0248 - binary_accuracy: 0.9919\n",
      "Epoch 25/50\n",
      "53/53 [==============================] - 1s 10ms/step - loss: 0.0216 - binary_accuracy: 0.9926\n",
      "Epoch 26/50\n",
      "53/53 [==============================] - 1s 10ms/step - loss: 0.0192 - binary_accuracy: 0.9937\n",
      "Epoch 27/50\n",
      "53/53 [==============================] - 1s 10ms/step - loss: 0.0172 - binary_accuracy: 0.9944\n",
      "Epoch 28/50\n",
      "53/53 [==============================] - 1s 10ms/step - loss: 0.0153 - binary_accuracy: 0.9946\n",
      "Epoch 29/50\n",
      "53/53 [==============================] - 0s 9ms/step - loss: 0.0139 - binary_accuracy: 0.9953\n",
      "Epoch 30/50\n",
      "53/53 [==============================] - 1s 10ms/step - loss: 0.0129 - binary_accuracy: 0.9952\n",
      "Epoch 31/50\n",
      "53/53 [==============================] - 1s 10ms/step - loss: 0.0119 - binary_accuracy: 0.9954\n",
      "Epoch 32/50\n",
      "53/53 [==============================] - 1s 11ms/step - loss: 0.0113 - binary_accuracy: 0.9958\n",
      "Epoch 33/50\n",
      "53/53 [==============================] - 1s 10ms/step - loss: 0.0108 - binary_accuracy: 0.9958\n",
      "Epoch 34/50\n",
      "53/53 [==============================] - 1s 10ms/step - loss: 0.0102 - binary_accuracy: 0.9961\n",
      "Epoch 35/50\n",
      "53/53 [==============================] - 0s 9ms/step - loss: 0.0096 - binary_accuracy: 0.9960\n",
      "Epoch 36/50\n",
      "53/53 [==============================] - 1s 10ms/step - loss: 0.0096 - binary_accuracy: 0.9961\n",
      "Epoch 37/50\n",
      "53/53 [==============================] - 0s 9ms/step - loss: 0.0087 - binary_accuracy: 0.9961\n",
      "Epoch 38/50\n",
      "53/53 [==============================] - 0s 9ms/step - loss: 0.0087 - binary_accuracy: 0.9964\n",
      "Epoch 39/50\n",
      "53/53 [==============================] - 0s 9ms/step - loss: 0.0083 - binary_accuracy: 0.9964\n",
      "Epoch 40/50\n",
      "53/53 [==============================] - 1s 9ms/step - loss: 0.0085 - binary_accuracy: 0.9966\n",
      "Epoch 41/50\n",
      "53/53 [==============================] - 1s 10ms/step - loss: 0.0079 - binary_accuracy: 0.9964\n",
      "Epoch 42/50\n",
      "53/53 [==============================] - 0s 9ms/step - loss: 0.0082 - binary_accuracy: 0.9967\n",
      "Epoch 43/50\n",
      "53/53 [==============================] - 1s 10ms/step - loss: 0.0079 - binary_accuracy: 0.9966\n",
      "Epoch 44/50\n",
      "53/53 [==============================] - 1s 10ms/step - loss: 0.0076 - binary_accuracy: 0.9968\n",
      "Epoch 45/50\n",
      "53/53 [==============================] - 1s 10ms/step - loss: 0.0078 - binary_accuracy: 0.9969\n",
      "Epoch 46/50\n",
      "53/53 [==============================] - 1s 10ms/step - loss: 0.0075 - binary_accuracy: 0.9967\n",
      "Epoch 47/50\n",
      "53/53 [==============================] - 1s 10ms/step - loss: 0.0074 - binary_accuracy: 0.9967\n",
      "Epoch 48/50\n",
      "53/53 [==============================] - 0s 9ms/step - loss: 0.0076 - binary_accuracy: 0.9965\n",
      "Epoch 49/50\n",
      "53/53 [==============================] - 1s 10ms/step - loss: 0.0074 - binary_accuracy: 0.9967\n",
      "Epoch 50/50\n",
      "53/53 [==============================] - 1s 10ms/step - loss: 0.0072 - binary_accuracy: 0.9968\n"
     ]
    },
    {
     "data": {
      "text/plain": [
       "<tensorflow.python.keras.callbacks.History at 0x2a6aec24ac8>"
      ]
     },
     "execution_count": 41,
     "metadata": {},
     "output_type": "execute_result"
    }
   ],
   "source": [
    "surprise_model.fit(x_surprise_train, y_surprise_train, epochs=50, batch_size=512) "
   ]
  },
  {
   "cell_type": "code",
   "execution_count": 42,
   "id": "statistical-surrey",
   "metadata": {},
   "outputs": [
    {
     "name": "stdout",
     "output_type": "stream",
     "text": [
      "362/362 [==============================] - 2s 5ms/step - loss: 1.9150 - binary_accuracy: 0.8159\n"
     ]
    }
   ],
   "source": [
    "surprise_results = surprise_model.evaluate(x_surprise_test, y_surprise_test)"
   ]
  },
  {
   "cell_type": "code",
   "execution_count": 43,
   "id": "parallel-scotland",
   "metadata": {},
   "outputs": [
    {
     "data": {
      "text/plain": [
       "[1.9149672985076904, 0.8159281611442566]"
      ]
     },
     "execution_count": 43,
     "metadata": {},
     "output_type": "execute_result"
    }
   ],
   "source": [
    "surprise_results"
   ]
  },
  {
   "cell_type": "code",
   "execution_count": 44,
   "id": "affected-christianity",
   "metadata": {},
   "outputs": [],
   "source": [
    "surprise_model.save('surprise_model.h5')"
   ]
  },
  {
   "cell_type": "code",
   "execution_count": 45,
   "id": "uniform-refund",
   "metadata": {},
   "outputs": [
    {
     "data": {
      "text/plain": [
       "['너무/Adverb', '놀라다/Verb']"
      ]
     },
     "execution_count": 45,
     "metadata": {},
     "output_type": "execute_result"
    }
   ],
   "source": [
    "surprise_review = \"너무 놀랍다\"\n",
    "surprise_token = tokenize(surprise_review)\n",
    "surprise_token"
   ]
  },
  {
   "cell_type": "code",
   "execution_count": 46,
   "id": "hungry-message",
   "metadata": {},
   "outputs": [
    {
     "data": {
      "text/plain": [
       "0.9994896650314331"
      ]
     },
     "execution_count": 46,
     "metadata": {},
     "output_type": "execute_result"
    }
   ],
   "source": [
    "tf = surprise_term_frequency(surprise_token)\n",
    "data = np.expand_dims(np.asarray(tf).astype('float32'),axis=0)\n",
    "float(surprise_model.predict(data))"
   ]
  },
  {
   "cell_type": "code",
   "execution_count": 245,
   "id": "threatened-aviation",
   "metadata": {},
   "outputs": [],
   "source": [
    "def surprise_predict(predict):\n",
    "    surprise_token = tokenize(predict)\n",
    "    surprise_tfq = surprise_term_frequency(surprise_token)\n",
    "    surprise_data = np.expand_dims(np.asarray(surprise_tfq).astype('float32'), axis=0)\n",
    "    surprise_score = float(surprise_model.predict(surprise_data))\n",
    "    #if(surprise_score > 0.5):\n",
    "    print(f\"놀람({round(surprise_score*100)}%)\")\n",
    "    surprise = round(surprise_score*100)\n",
    "    '''\n",
    "    else:\n",
    "        print(f\"{predict} ==> 놀람X ({round((1-surprise_score)*100)}%)\") '''"
   ]
  },
  {
   "cell_type": "code",
   "execution_count": 246,
   "id": "cultural-begin",
   "metadata": {},
   "outputs": [
    {
     "name": "stdout",
     "output_type": "stream",
     "text": [
      "놀람(2%)\n"
     ]
    }
   ],
   "source": [
    "surprise_predict(\"원재상\")"
   ]
  },
  {
   "cell_type": "code",
   "execution_count": 49,
   "id": "quarterly-firewall",
   "metadata": {},
   "outputs": [],
   "source": [
    "#분노 감정 분석"
   ]
  },
  {
   "cell_type": "code",
   "execution_count": 50,
   "id": "hearing-removal",
   "metadata": {},
   "outputs": [],
   "source": [
    "import pandas as pd\n",
    "train_anger_df = pd.read_csv(\"angertrainalldata.txt\",\"\\t\")\n",
    "test_anger_df = pd.read_csv(\"angertestalldata.txt\",\"\\t\")"
   ]
  },
  {
   "cell_type": "code",
   "execution_count": 51,
   "id": "accessible-surveillance",
   "metadata": {},
   "outputs": [],
   "source": [
    "from konlpy.tag import Okt\n",
    "okt_anger = Okt()"
   ]
  },
  {
   "cell_type": "code",
   "execution_count": 52,
   "id": "packed-tucson",
   "metadata": {},
   "outputs": [],
   "source": [
    "def tokenize(doc):\n",
    "    return ['/'.join(t) for t in okt_anger.pos(doc, norm=True, stem=True)]"
   ]
  },
  {
   "cell_type": "code",
   "execution_count": 53,
   "id": "known-scottish",
   "metadata": {},
   "outputs": [],
   "source": [
    "train_anger_df.isnull().any()\n",
    "train_anger_df['document'] = train_anger_df['document'].fillna('');\n",
    "train_anger_df.isnull().any()\n",
    "test_anger_df['document'] = test_anger_df['document'].fillna('');"
   ]
  },
  {
   "cell_type": "code",
   "execution_count": 54,
   "id": "innovative-vatican",
   "metadata": {},
   "outputs": [],
   "source": [
    "train_anger_docs = [(tokenize(row[1]), row[2]) for row in train_anger_df.values]\n",
    "test_anger_docs = [(tokenize(row[1]),row[2]) for row in test_anger_df.values]"
   ]
  },
  {
   "cell_type": "code",
   "execution_count": 55,
   "id": "undefined-press",
   "metadata": {},
   "outputs": [
    {
     "name": "stdout",
     "output_type": "stream",
     "text": [
      "(['언니/Noun', '동생/Noun', '으로/Josa', '부르다/Verb', '맞다/Verb', '일/Noun', '인가요/Josa', '..??/Punctuation'], 0)\n",
      "(['톡/Noun', '크다/Verb', '언니/Noun', '들/Suffix', '임산부/Noun', '언니/Noun', '들/Suffix', 'ㅠㅠ/KoreanParticle'], 0)\n"
     ]
    }
   ],
   "source": [
    "print(train_anger_docs[0])\n",
    "print(test_anger_docs[0])"
   ]
  },
  {
   "cell_type": "code",
   "execution_count": 56,
   "id": "destroyed-scanner",
   "metadata": {},
   "outputs": [
    {
     "name": "stdout",
     "output_type": "stream",
     "text": [
      "토큰개수: 259374\n"
     ]
    }
   ],
   "source": [
    "tokens = [t for d in train_anger_docs for t in d[0]]\n",
    "print(\"토큰개수:\",len(tokens))"
   ]
  },
  {
   "cell_type": "code",
   "execution_count": 57,
   "id": "bizarre-application",
   "metadata": {},
   "outputs": [
    {
     "name": "stdout",
     "output_type": "stream",
     "text": [
      "259374\n",
      "20799\n",
      "[('하다/Verb', 8087), ('이/Josa', 4939), ('./Punctuation', 4679), ('가/Josa', 3509), ('?/Punctuation', 3201), ('에/Josa', 3168), ('들/Suffix', 3097), ('../Punctuation', 2820), ('을/Josa', 2523), ('은/Josa', 2512)]\n"
     ]
    }
   ],
   "source": [
    "import nltk\n",
    "anger_text = nltk.Text(tokens, name='NMSC')\n",
    "print(len(anger_text.tokens))\n",
    "print(len(set(anger_text.tokens)))\n",
    "print(anger_text.vocab().most_common(10))"
   ]
  },
  {
   "cell_type": "code",
   "execution_count": 58,
   "id": "mobile-trout",
   "metadata": {},
   "outputs": [
    {
     "data": {
      "image/png": "[encoded data removed]",
      "text/plain": [
       "<Figure size 1440x720 with 1 Axes>"
      ]
     },
     "metadata": {
      "needs_background": "light"
     },
     "output_type": "display_data"
    }
   ],
   "source": [
    "import matplotlib.pyplot as plt\n",
    "from matplotlib import font_manager, rc\n",
    "plt.figure(figsize=(20,10))\n",
    "anger_text.plot(50)"
   ]
  },
  {
   "cell_type": "code",
   "execution_count": 59,
   "id": "opposed-corruption",
   "metadata": {},
   "outputs": [],
   "source": [
    "ANGER_FREQUENCY_COUNT = 2000;\n",
    "anger_selected_words = [f[0] for f in anger_text.vocab().most_common(ANGER_FREQUENCY_COUNT)]"
   ]
  },
  {
   "cell_type": "code",
   "execution_count": 60,
   "id": "swedish-turtle",
   "metadata": {},
   "outputs": [],
   "source": [
    "def anger_term_frequency(doc):\n",
    "    return [doc.count(word) for word in anger_selected_words]"
   ]
  },
  {
   "cell_type": "code",
   "execution_count": 61,
   "id": "verified-choice",
   "metadata": {},
   "outputs": [],
   "source": [
    "x_anger_train = [anger_term_frequency(d) for d,_ in train_anger_docs]\n",
    "x_anger_test = [anger_term_frequency(d) for d,_ in test_anger_docs]\n",
    "y_anger_train = [c for _,c in train_anger_docs]\n",
    "y_anger_test = [c for _,c in test_anger_docs]"
   ]
  },
  {
   "cell_type": "code",
   "execution_count": 62,
   "id": "supported-internship",
   "metadata": {},
   "outputs": [],
   "source": [
    "import numpy as np\n",
    "x_anger_train = np.asarray(x_anger_train).astype('float32')\n",
    "x_anger_test = np.asarray(x_anger_test). astype('float32')\n",
    "\n",
    "y_anger_train = np.asarray(y_anger_train).astype('float32')\n",
    "y_anger_test = np.asarray(y_anger_test).astype('float32')"
   ]
  },
  {
   "cell_type": "code",
   "execution_count": 63,
   "id": "meaningful-collaboration",
   "metadata": {},
   "outputs": [],
   "source": [
    "import tensorflow as tf\n",
    "anger_model= tf.keras.models.Sequential([\n",
    "    tf.keras.layers.Dense(64, activation = 'relu',input_shape=(ANGER_FREQUENCY_COUNT,)),\n",
    "    tf.keras.layers.Dense(64, activation = 'relu'),\n",
    "    tf.keras.layers.Dense(1, activation = 'sigmoid')\n",
    "])"
   ]
  },
  {
   "cell_type": "code",
   "execution_count": 64,
   "id": "fundamental-argument",
   "metadata": {},
   "outputs": [],
   "source": [
    "anger_model.compile(optimizer=tf.keras.optimizers.RMSprop(lr=0.001),\n",
    "             loss=tf.keras.losses.binary_crossentropy,\n",
    "             metrics=[tf.keras.metrics.binary_accuracy]\n",
    "             )"
   ]
  },
  {
   "cell_type": "code",
   "execution_count": 65,
   "id": "removable-grill",
   "metadata": {},
   "outputs": [
    {
     "name": "stdout",
     "output_type": "stream",
     "text": [
      "Epoch 1/50\n",
      "53/53 [==============================] - 5s 103ms/step - loss: 0.4428 - binary_accuracy: 0.8473\n",
      "Epoch 2/50\n",
      "53/53 [==============================] - 2s 35ms/step - loss: 0.3301 - binary_accuracy: 0.8580\n",
      "Epoch 3/50\n",
      "53/53 [==============================] - 1s 12ms/step - loss: 0.3010 - binary_accuracy: 0.8700\n",
      "Epoch 4/50\n",
      "53/53 [==============================] - 1s 12ms/step - loss: 0.2850 - binary_accuracy: 0.8789\n",
      "Epoch 5/50\n",
      "53/53 [==============================] - 1s 12ms/step - loss: 0.2710 - binary_accuracy: 0.8851\n",
      "Epoch 6/50\n",
      "53/53 [==============================] - 1s 12ms/step - loss: 0.2577 - binary_accuracy: 0.8917\n",
      "Epoch 7/50\n",
      "53/53 [==============================] - 1s 11ms/step - loss: 0.2431 - binary_accuracy: 0.9005\n",
      "Epoch 8/50\n",
      "53/53 [==============================] - 1s 12ms/step - loss: 0.2277 - binary_accuracy: 0.9093\n",
      "Epoch 9/50\n",
      "53/53 [==============================] - 1s 12ms/step - loss: 0.2118 - binary_accuracy: 0.9164\n",
      "Epoch 10/50\n",
      "53/53 [==============================] - 1s 12ms/step - loss: 0.1938 - binary_accuracy: 0.9267\n",
      "Epoch 11/50\n",
      "53/53 [==============================] - 1s 12ms/step - loss: 0.1757 - binary_accuracy: 0.9358\n",
      "Epoch 12/50\n",
      "53/53 [==============================] - 1s 10ms/step - loss: 0.1576 - binary_accuracy: 0.9452\n",
      "Epoch 13/50\n",
      "53/53 [==============================] - 1s 12ms/step - loss: 0.1389 - binary_accuracy: 0.9544\n",
      "Epoch 14/50\n",
      "53/53 [==============================] - 1s 12ms/step - loss: 0.1209 - binary_accuracy: 0.9612\n",
      "Epoch 15/50\n",
      "53/53 [==============================] - 1s 12ms/step - loss: 0.1032 - binary_accuracy: 0.9678\n",
      "Epoch 16/50\n",
      "53/53 [==============================] - 1s 12ms/step - loss: 0.0876 - binary_accuracy: 0.9736\n",
      "Epoch 17/50\n",
      "53/53 [==============================] - 1s 10ms/step - loss: 0.0727 - binary_accuracy: 0.9788\n",
      "Epoch 18/50\n",
      "53/53 [==============================] - 1s 12ms/step - loss: 0.0600 - binary_accuracy: 0.9829\n",
      "Epoch 19/50\n",
      "53/53 [==============================] - 1s 12ms/step - loss: 0.0496 - binary_accuracy: 0.9863\n",
      "Epoch 20/50\n",
      "53/53 [==============================] - 1s 12ms/step - loss: 0.0405 - binary_accuracy: 0.9890\n",
      "Epoch 21/50\n",
      "53/53 [==============================] - 1s 12ms/step - loss: 0.0324 - binary_accuracy: 0.9911\n",
      "Epoch 22/50\n",
      "53/53 [==============================] - 1s 10ms/step - loss: 0.0264 - binary_accuracy: 0.9926\n",
      "Epoch 23/50\n",
      "53/53 [==============================] - 1s 12ms/step - loss: 0.0217 - binary_accuracy: 0.9944\n",
      "Epoch 24/50\n",
      "53/53 [==============================] - 1s 12ms/step - loss: 0.0177 - binary_accuracy: 0.9951\n",
      "Epoch 25/50\n",
      "53/53 [==============================] - 1s 12ms/step - loss: 0.0146 - binary_accuracy: 0.9959\n",
      "Epoch 26/50\n",
      "53/53 [==============================] - 1s 12ms/step - loss: 0.0123 - binary_accuracy: 0.9964\n",
      "Epoch 27/50\n",
      "53/53 [==============================] - 1s 10ms/step - loss: 0.0104 - binary_accuracy: 0.9969\n",
      "Epoch 28/50\n",
      "53/53 [==============================] - 1s 12ms/step - loss: 0.0094 - binary_accuracy: 0.9972\n",
      "Epoch 29/50\n",
      "53/53 [==============================] - 1s 12ms/step - loss: 0.0081 - binary_accuracy: 0.9976\n",
      "Epoch 30/50\n",
      "53/53 [==============================] - 1s 12ms/step - loss: 0.0074 - binary_accuracy: 0.9977\n",
      "Epoch 31/50\n",
      "53/53 [==============================] - 1s 12ms/step - loss: 0.0069 - binary_accuracy: 0.9980\n",
      "Epoch 32/50\n",
      "53/53 [==============================] - 1s 10ms/step - loss: 0.0066 - binary_accuracy: 0.9978\n",
      "Epoch 33/50\n",
      "53/53 [==============================] - 1s 12ms/step - loss: 0.0058 - binary_accuracy: 0.9981\n",
      "Epoch 34/50\n",
      "53/53 [==============================] - 1s 11ms/step - loss: 0.0054 - binary_accuracy: 0.9980\n",
      "Epoch 35/50\n",
      "53/53 [==============================] - 1s 12ms/step - loss: 0.0055 - binary_accuracy: 0.9979\n",
      "Epoch 36/50\n",
      "53/53 [==============================] - 1s 12ms/step - loss: 0.0051 - binary_accuracy: 0.9981\n",
      "Epoch 37/50\n",
      "53/53 [==============================] - 1s 10ms/step - loss: 0.0052 - binary_accuracy: 0.9980\n",
      "Epoch 38/50\n",
      "53/53 [==============================] - 1s 11ms/step - loss: 0.0048 - binary_accuracy: 0.9983\n",
      "Epoch 39/50\n",
      "53/53 [==============================] - 1s 12ms/step - loss: 0.0046 - binary_accuracy: 0.9979\n",
      "Epoch 40/50\n",
      "53/53 [==============================] - 1s 11ms/step - loss: 0.0047 - binary_accuracy: 0.9980\n",
      "Epoch 41/50\n",
      "53/53 [==============================] - 1s 12ms/step - loss: 0.0044 - binary_accuracy: 0.9983\n",
      "Epoch 42/50\n",
      "53/53 [==============================] - 1s 11ms/step - loss: 0.0045 - binary_accuracy: 0.9981\n",
      "Epoch 43/50\n",
      "53/53 [==============================] - 1s 10ms/step - loss: 0.0041 - binary_accuracy: 0.9984\n",
      "Epoch 44/50\n",
      "53/53 [==============================] - 1s 12ms/step - loss: 0.0044 - binary_accuracy: 0.9981\n",
      "Epoch 45/50\n",
      "53/53 [==============================] - 1s 12ms/step - loss: 0.0045 - binary_accuracy: 0.9983\n",
      "Epoch 46/50\n",
      "53/53 [==============================] - 1s 12ms/step - loss: 0.0043 - binary_accuracy: 0.9983\n",
      "Epoch 47/50\n",
      "53/53 [==============================] - 1s 12ms/step - loss: 0.0043 - binary_accuracy: 0.9985\n",
      "Epoch 48/50\n",
      "53/53 [==============================] - 1s 10ms/step - loss: 0.0042 - binary_accuracy: 0.9983\n",
      "Epoch 49/50\n",
      "53/53 [==============================] - 1s 12ms/step - loss: 0.0041 - binary_accuracy: 0.9980\n",
      "Epoch 50/50\n",
      "53/53 [==============================] - 1s 12ms/step - loss: 0.0041 - binary_accuracy: 0.9983\n"
     ]
    },
    {
     "data": {
      "text/plain": [
       "<tensorflow.python.keras.callbacks.History at 0x2a6b880c308>"
      ]
     },
     "execution_count": 65,
     "metadata": {},
     "output_type": "execute_result"
    }
   ],
   "source": [
    "anger_model.fit(x_anger_train, y_anger_train, epochs=50, batch_size=512)"
   ]
  },
  {
   "cell_type": "code",
   "execution_count": 66,
   "id": "stuck-significance",
   "metadata": {},
   "outputs": [
    {
     "name": "stdout",
     "output_type": "stream",
     "text": [
      "362/362 [==============================] - 2s 5ms/step - loss: 2.0287 - binary_accuracy: 0.8225\n"
     ]
    }
   ],
   "source": [
    "anger_results = anger_model.evaluate(x_anger_test, y_anger_test)"
   ]
  },
  {
   "cell_type": "code",
   "execution_count": 67,
   "id": "fresh-procedure",
   "metadata": {},
   "outputs": [
    {
     "data": {
      "text/plain": [
       "[2.0286848545074463, 0.8224928975105286]"
      ]
     },
     "execution_count": 67,
     "metadata": {},
     "output_type": "execute_result"
    }
   ],
   "source": [
    "anger_results"
   ]
  },
  {
   "cell_type": "code",
   "execution_count": 68,
   "id": "final-telling",
   "metadata": {},
   "outputs": [],
   "source": [
    "anger_model.save('anger_model.h5')"
   ]
  },
  {
   "cell_type": "code",
   "execution_count": 69,
   "id": "personalized-throw",
   "metadata": {},
   "outputs": [
    {
     "data": {
      "text/plain": [
       "['너무/Adverb', '화나다/Verb']"
      ]
     },
     "execution_count": 69,
     "metadata": {},
     "output_type": "execute_result"
    }
   ],
   "source": [
    "anger_review = \"너무 화난다\"\n",
    "anger_token = tokenize(anger_review)\n",
    "anger_token"
   ]
  },
  {
   "cell_type": "code",
   "execution_count": 70,
   "id": "superior-hundred",
   "metadata": {},
   "outputs": [
    {
     "data": {
      "text/plain": [
       "1.0"
      ]
     },
     "execution_count": 70,
     "metadata": {},
     "output_type": "execute_result"
    }
   ],
   "source": [
    "tf = anger_term_frequency(anger_token)\n",
    "data = np.expand_dims(np.asarray(tf).astype('float32'),axis=0)\n",
    "float(anger_model.predict(data))"
   ]
  },
  {
   "cell_type": "code",
   "execution_count": 252,
   "id": "prime-bracelet",
   "metadata": {},
   "outputs": [],
   "source": [
    "def anger_predict(predict):\n",
    "    anger_token = tokenize(predict)\n",
    "    anger_tfq = anger_term_frequency(anger_token)\n",
    "    anger_data = np.expand_dims(np.asarray(anger_tfq).astype('float32'), axis=0)\n",
    "    anger_score = float(anger_model.predict(anger_data))\n",
    "    #if(anger_score > 0.5):\n",
    "    print(f\"분노({round(anger_score*100)}%)\")\n",
    "    anger = round(anger_score*100)   \n",
    "    '''\n",
    "    else:\n",
    "        print(f\"{predict} ==> 분노X ({round((1-anger_score)*100)}%)\") '''"
   ]
  },
  {
   "cell_type": "code",
   "execution_count": 253,
   "id": "significant-experiment",
   "metadata": {},
   "outputs": [
    {
     "name": "stdout",
     "output_type": "stream",
     "text": [
      "분노(16%)\n"
     ]
    }
   ],
   "source": [
    "anger_predict(\"분노\")"
   ]
  },
  {
   "cell_type": "code",
   "execution_count": 73,
   "id": "brown-benjamin",
   "metadata": {},
   "outputs": [],
   "source": [
    "#슬픔 감정 분석"
   ]
  },
  {
   "cell_type": "code",
   "execution_count": 74,
   "id": "resistant-offset",
   "metadata": {},
   "outputs": [],
   "source": [
    "import pandas as pd\n",
    "train_sadness_df = pd.read_csv(\"sadnesstrainalldata.txt\",\"\\t\")\n",
    "test_sadness_df = pd.read_csv(\"sadnesstestalldata.txt\",\"\\t\")"
   ]
  },
  {
   "cell_type": "code",
   "execution_count": 75,
   "id": "heavy-stock",
   "metadata": {},
   "outputs": [],
   "source": [
    "from konlpy.tag import Okt\n",
    "okt_sadness = Okt()"
   ]
  },
  {
   "cell_type": "code",
   "execution_count": 76,
   "id": "lasting-moore",
   "metadata": {},
   "outputs": [],
   "source": [
    "def tokenize(doc):\n",
    "    return ['/'.join(t) for t in okt_sadness.pos(doc, norm=True, stem=True)]"
   ]
  },
  {
   "cell_type": "code",
   "execution_count": 77,
   "id": "expressed-monroe",
   "metadata": {},
   "outputs": [],
   "source": [
    "train_sadness_df.isnull().any()\n",
    "train_sadness_df['document'] = train_sadness_df['document'].fillna('');\n",
    "train_sadness_df.isnull().any()\n",
    "test_sadness_df['document'] = test_sadness_df['document'].fillna('');"
   ]
  },
  {
   "cell_type": "code",
   "execution_count": 78,
   "id": "suffering-scott",
   "metadata": {},
   "outputs": [],
   "source": [
    "train_sadness_docs = [(tokenize(row[1]), row[2]) for row in train_sadness_df.values]\n",
    "test_sadness_docs = [(tokenize(row[1]),row[2]) for row in test_sadness_df.values]"
   ]
  },
  {
   "cell_type": "code",
   "execution_count": 79,
   "id": "south-search",
   "metadata": {},
   "outputs": [
    {
     "name": "stdout",
     "output_type": "stream",
     "text": [
      "(['언니/Noun', '동생/Noun', '으로/Josa', '부르다/Verb', '맞다/Verb', '일/Noun', '인가요/Josa', '..??/Punctuation'], 0)\n",
      "(['톡/Noun', '크다/Verb', '언니/Noun', '들/Suffix', '임산부/Noun', '언니/Noun', '들/Suffix', 'ㅠㅠ/KoreanParticle'], 0)\n"
     ]
    }
   ],
   "source": [
    "print(train_sadness_docs[0])\n",
    "print(test_sadness_docs[0])"
   ]
  },
  {
   "cell_type": "code",
   "execution_count": 80,
   "id": "patent-preview",
   "metadata": {},
   "outputs": [
    {
     "name": "stdout",
     "output_type": "stream",
     "text": [
      "토큰개수: 259374\n"
     ]
    }
   ],
   "source": [
    "tokens = [t for d in train_sadness_docs for t in d[0]]\n",
    "print(\"토큰개수:\",len(tokens))"
   ]
  },
  {
   "cell_type": "code",
   "execution_count": 81,
   "id": "handled-heaven",
   "metadata": {},
   "outputs": [
    {
     "name": "stdout",
     "output_type": "stream",
     "text": [
      "259374\n",
      "20799\n",
      "[('하다/Verb', 8087), ('이/Josa', 4939), ('./Punctuation', 4679), ('가/Josa', 3509), ('?/Punctuation', 3201), ('에/Josa', 3168), ('들/Suffix', 3097), ('../Punctuation', 2820), ('을/Josa', 2523), ('은/Josa', 2512)]\n"
     ]
    }
   ],
   "source": [
    "import nltk\n",
    "sadness_text = nltk.Text(tokens, name='NMSC')\n",
    "print(len(sadness_text.tokens))\n",
    "print(len(set(sadness_text.tokens)))\n",
    "print(sadness_text.vocab().most_common(10))"
   ]
  },
  {
   "cell_type": "code",
   "execution_count": 82,
   "id": "unsigned-beginning",
   "metadata": {},
   "outputs": [
    {
     "data": {
      "image/png": "[encoded data removed]",
      "text/plain": [
       "<Figure size 1440x720 with 1 Axes>"
      ]
     },
     "metadata": {
      "needs_background": "light"
     },
     "output_type": "display_data"
    }
   ],
   "source": [
    "import matplotlib.pyplot as plt\n",
    "from matplotlib import font_manager, rc\n",
    "plt.figure(figsize=(20,10))\n",
    "sadness_text.plot(50)"
   ]
  },
  {
   "cell_type": "code",
   "execution_count": 83,
   "id": "bearing-conversation",
   "metadata": {},
   "outputs": [],
   "source": [
    "SADNESS_FREQUENCY_COUNT = 2000;\n",
    "sadness_selected_words = [f[0] for f in fear_text.vocab().most_common(SADNESS_FREQUENCY_COUNT)]"
   ]
  },
  {
   "cell_type": "code",
   "execution_count": 84,
   "id": "selected-prime",
   "metadata": {},
   "outputs": [],
   "source": [
    "def sadness_term_frequency(doc):\n",
    "    return [doc.count(word) for word in sadness_selected_words]"
   ]
  },
  {
   "cell_type": "code",
   "execution_count": 85,
   "id": "satisfactory-indianapolis",
   "metadata": {},
   "outputs": [],
   "source": [
    "x_sadness_train = [sadness_term_frequency(d) for d,_ in train_sadness_docs]\n",
    "x_sadness_test = [sadness_term_frequency(d) for d,_ in test_sadness_docs]\n",
    "y_sadness_train = [c for _,c in train_sadness_docs]\n",
    "y_sadness_test = [c for _,c in test_sadness_docs]"
   ]
  },
  {
   "cell_type": "code",
   "execution_count": 86,
   "id": "qualified-collectible",
   "metadata": {},
   "outputs": [],
   "source": [
    "import numpy as np\n",
    "x_sadness_train = np.asarray(x_sadness_train).astype('float32')\n",
    "x_sadness_test = np.asarray(x_sadness_test). astype('float32')\n",
    "\n",
    "y_sadness_train = np.asarray(y_sadness_train).astype('float32')\n",
    "y_sadness_test = np.asarray(y_sadness_test).astype('float32')"
   ]
  },
  {
   "cell_type": "code",
   "execution_count": 87,
   "id": "manufactured-blocking",
   "metadata": {},
   "outputs": [],
   "source": [
    "import tensorflow as tf\n",
    "sadness_model= tf.keras.models.Sequential([\n",
    "    tf.keras.layers.Dense(64, activation = 'relu',input_shape=(SADNESS_FREQUENCY_COUNT,)),\n",
    "    tf.keras.layers.Dense(64, activation = 'relu'),\n",
    "    tf.keras.layers.Dense(1, activation = 'sigmoid')\n",
    "])"
   ]
  },
  {
   "cell_type": "code",
   "execution_count": 88,
   "id": "committed-discharge",
   "metadata": {},
   "outputs": [],
   "source": [
    "sadness_model.compile(optimizer=tf.keras.optimizers.RMSprop(lr=0.001),\n",
    "             loss=tf.keras.losses.binary_crossentropy,\n",
    "             metrics=[tf.keras.metrics.binary_accuracy]\n",
    "             )"
   ]
  },
  {
   "cell_type": "code",
   "execution_count": 89,
   "id": "physical-airplane",
   "metadata": {},
   "outputs": [
    {
     "name": "stdout",
     "output_type": "stream",
     "text": [
      "Epoch 1/50\n",
      "53/53 [==============================] - 7s 123ms/step - loss: 0.4072 - binary_accuracy: 0.8627\n",
      "Epoch 2/50\n",
      "53/53 [==============================] - 2s 32ms/step - loss: 0.2841 - binary_accuracy: 0.8846\n",
      "Epoch 3/50\n",
      "53/53 [==============================] - 1s 11ms/step - loss: 0.2474 - binary_accuracy: 0.9046\n",
      "Epoch 4/50\n",
      "53/53 [==============================] - 1s 11ms/step - loss: 0.2286 - binary_accuracy: 0.9113\n",
      "Epoch 5/50\n",
      "53/53 [==============================] - 1s 12ms/step - loss: 0.2138 - binary_accuracy: 0.9183\n",
      "Epoch 6/50\n",
      "53/53 [==============================] - 1s 12ms/step - loss: 0.2005 - binary_accuracy: 0.9235\n",
      "Epoch 7/50\n",
      "53/53 [==============================] - 1s 12ms/step - loss: 0.1877 - binary_accuracy: 0.9291\n",
      "Epoch 8/50\n",
      "53/53 [==============================] - 1s 11ms/step - loss: 0.1749 - binary_accuracy: 0.9345\n",
      "Epoch 9/50\n",
      "53/53 [==============================] - 1s 10ms/step - loss: 0.1613 - binary_accuracy: 0.9399\n",
      "Epoch 10/50\n",
      "53/53 [==============================] - 1s 12ms/step - loss: 0.1476 - binary_accuracy: 0.9472\n",
      "Epoch 11/50\n",
      "53/53 [==============================] - 1s 12ms/step - loss: 0.1336 - binary_accuracy: 0.9534\n",
      "Epoch 12/50\n",
      "53/53 [==============================] - 1s 12ms/step - loss: 0.1204 - binary_accuracy: 0.9586\n",
      "Epoch 13/50\n",
      "53/53 [==============================] - 1s 12ms/step - loss: 0.1072 - binary_accuracy: 0.9643\n",
      "Epoch 14/50\n",
      "53/53 [==============================] - 1s 10ms/step - loss: 0.0946 - binary_accuracy: 0.9696\n",
      "Epoch 15/50\n",
      "53/53 [==============================] - 1s 12ms/step - loss: 0.0821 - binary_accuracy: 0.9740\n",
      "Epoch 16/50\n",
      "53/53 [==============================] - 1s 12ms/step - loss: 0.0708 - binary_accuracy: 0.9777\n",
      "Epoch 17/50\n",
      "53/53 [==============================] - 1s 12ms/step - loss: 0.0605 - binary_accuracy: 0.9811\n",
      "Epoch 18/50\n",
      "53/53 [==============================] - 1s 12ms/step - loss: 0.0508 - binary_accuracy: 0.9847\n",
      "Epoch 19/50\n",
      "53/53 [==============================] - 1s 10ms/step - loss: 0.0418 - binary_accuracy: 0.9878\n",
      "Epoch 20/50\n",
      "53/53 [==============================] - 1s 12ms/step - loss: 0.0349 - binary_accuracy: 0.9902\n",
      "Epoch 21/50\n",
      "53/53 [==============================] - 1s 12ms/step - loss: 0.0286 - binary_accuracy: 0.9920\n",
      "Epoch 22/50\n",
      "53/53 [==============================] - 1s 12ms/step - loss: 0.0242 - binary_accuracy: 0.9933\n",
      "Epoch 23/50\n",
      "53/53 [==============================] - 1s 12ms/step - loss: 0.0196 - binary_accuracy: 0.9946\n",
      "Epoch 24/50\n",
      "53/53 [==============================] - 1s 10ms/step - loss: 0.0163 - binary_accuracy: 0.9954\n",
      "Epoch 25/50\n",
      "53/53 [==============================] - 1s 11ms/step - loss: 0.0144 - binary_accuracy: 0.9957\n",
      "Epoch 26/50\n",
      "53/53 [==============================] - 1s 11ms/step - loss: 0.0121 - binary_accuracy: 0.9964\n",
      "Epoch 27/50\n",
      "53/53 [==============================] - 1s 12ms/step - loss: 0.0105 - binary_accuracy: 0.9969\n",
      "Epoch 28/50\n",
      "53/53 [==============================] - 1s 12ms/step - loss: 0.0094 - binary_accuracy: 0.9973\n",
      "Epoch 29/50\n",
      "53/53 [==============================] - 1s 11ms/step - loss: 0.0083 - binary_accuracy: 0.9976\n",
      "Epoch 30/50\n",
      "53/53 [==============================] - 1s 10ms/step - loss: 0.0075 - binary_accuracy: 0.9978\n",
      "Epoch 31/50\n",
      "53/53 [==============================] - 1s 12ms/step - loss: 0.0069 - binary_accuracy: 0.9980\n",
      "Epoch 32/50\n",
      "53/53 [==============================] - 1s 12ms/step - loss: 0.0066 - binary_accuracy: 0.9980\n",
      "Epoch 33/50\n",
      "53/53 [==============================] - 1s 11ms/step - loss: 0.0062 - binary_accuracy: 0.9981\n",
      "Epoch 34/50\n",
      "53/53 [==============================] - 1s 12ms/step - loss: 0.0060 - binary_accuracy: 0.9980\n",
      "Epoch 35/50\n",
      "53/53 [==============================] - 1s 10ms/step - loss: 0.0057 - binary_accuracy: 0.9983\n",
      "Epoch 36/50\n",
      "53/53 [==============================] - 1s 12ms/step - loss: 0.0053 - binary_accuracy: 0.9981\n",
      "Epoch 37/50\n",
      "53/53 [==============================] - 1s 12ms/step - loss: 0.0053 - binary_accuracy: 0.9984\n",
      "Epoch 38/50\n",
      "53/53 [==============================] - 1s 12ms/step - loss: 0.0053 - binary_accuracy: 0.9981\n",
      "Epoch 39/50\n",
      "53/53 [==============================] - 1s 12ms/step - loss: 0.0052 - binary_accuracy: 0.9981\n",
      "Epoch 40/50\n",
      "53/53 [==============================] - 1s 9ms/step - loss: 0.0052 - binary_accuracy: 0.9981\n",
      "Epoch 41/50\n",
      "53/53 [==============================] - 1s 12ms/step - loss: 0.0048 - binary_accuracy: 0.9983\n",
      "Epoch 42/50\n",
      "53/53 [==============================] - 1s 12ms/step - loss: 0.0049 - binary_accuracy: 0.9981\n",
      "Epoch 43/50\n",
      "53/53 [==============================] - 1s 12ms/step - loss: 0.0049 - binary_accuracy: 0.9983\n",
      "Epoch 44/50\n",
      "53/53 [==============================] - 1s 12ms/step - loss: 0.0048 - binary_accuracy: 0.9983\n",
      "Epoch 45/50\n",
      "53/53 [==============================] - 1s 11ms/step - loss: 0.0046 - binary_accuracy: 0.9982\n",
      "Epoch 46/50\n",
      "53/53 [==============================] - 1s 11ms/step - loss: 0.0045 - binary_accuracy: 0.9983\n",
      "Epoch 47/50\n",
      "53/53 [==============================] - 1s 12ms/step - loss: 0.0049 - binary_accuracy: 0.9981\n",
      "Epoch 48/50\n",
      "53/53 [==============================] - 1s 12ms/step - loss: 0.0047 - binary_accuracy: 0.9982\n",
      "Epoch 49/50\n",
      "53/53 [==============================] - 1s 12ms/step - loss: 0.0046 - binary_accuracy: 0.9983\n",
      "Epoch 50/50\n",
      "53/53 [==============================] - 1s 11ms/step - loss: 0.0045 - binary_accuracy: 0.9983\n"
     ]
    },
    {
     "data": {
      "text/plain": [
       "<tensorflow.python.keras.callbacks.History at 0x2a6cc35a308>"
      ]
     },
     "execution_count": 89,
     "metadata": {},
     "output_type": "execute_result"
    }
   ],
   "source": [
    "sadness_model.fit(x_sadness_train, y_sadness_train, epochs=50, batch_size=512)"
   ]
  },
  {
   "cell_type": "code",
   "execution_count": 90,
   "id": "african-briefing",
   "metadata": {},
   "outputs": [
    {
     "name": "stdout",
     "output_type": "stream",
     "text": [
      "362/362 [==============================] - 1s 4ms/step - loss: 1.6772 - binary_accuracy: 0.8634\n"
     ]
    }
   ],
   "source": [
    "sadness_results = sadness_model.evaluate(x_sadness_test, y_sadness_test)"
   ]
  },
  {
   "cell_type": "code",
   "execution_count": 91,
   "id": "vocational-million",
   "metadata": {},
   "outputs": [
    {
     "data": {
      "text/plain": [
       "[1.6771641969680786, 0.8634361028671265]"
      ]
     },
     "execution_count": 91,
     "metadata": {},
     "output_type": "execute_result"
    }
   ],
   "source": [
    "sadness_results"
   ]
  },
  {
   "cell_type": "code",
   "execution_count": 92,
   "id": "joint-frontier",
   "metadata": {},
   "outputs": [],
   "source": [
    "sadness_model.save('sadness_model.h5')"
   ]
  },
  {
   "cell_type": "code",
   "execution_count": 93,
   "id": "polish-canyon",
   "metadata": {},
   "outputs": [
    {
     "data": {
      "text/plain": [
       "['너무/Adverb', '화나다/Verb']"
      ]
     },
     "execution_count": 93,
     "metadata": {},
     "output_type": "execute_result"
    }
   ],
   "source": [
    "sadness_review = \"너무 화난다\"\n",
    "sadness_token = tokenize(sadness_review)\n",
    "sadness_token"
   ]
  },
  {
   "cell_type": "code",
   "execution_count": 94,
   "id": "interpreted-organ",
   "metadata": {},
   "outputs": [
    {
     "data": {
      "text/plain": [
       "2.3519322045473245e-09"
      ]
     },
     "execution_count": 94,
     "metadata": {},
     "output_type": "execute_result"
    }
   ],
   "source": [
    "tf = sadness_term_frequency(sadness_token)\n",
    "data = np.expand_dims(np.asarray(tf).astype('float32'),axis=0)\n",
    "float(sadness_model.predict(data))"
   ]
  },
  {
   "cell_type": "code",
   "execution_count": 255,
   "id": "monetary-handle",
   "metadata": {},
   "outputs": [],
   "source": [
    "def sadness_predict(predict):\n",
    "    sadness_token = tokenize(predict)\n",
    "    sadness_tfq = sadness_term_frequency(sadness_token)\n",
    "    sadness_data = np.expand_dims(np.asarray(sadness_tfq).astype('float32'), axis=0)\n",
    "    sadness_score = float(sadness_model.predict(sadness_data))\n",
    "    #if(sadness_score > 0.5):\n",
    "    print(f\"슬픔({round(sadness_score*100)}%)\")\n",
    "    sad = round(sadness_score*100)\n",
    "    '''\n",
    "    else:\n",
    "        print(f\"{predict} ==> 슬픔X ({round((1-sadness_score)*100)}%)\") '''"
   ]
  },
  {
   "cell_type": "code",
   "execution_count": 256,
   "id": "imperial-acrobat",
   "metadata": {},
   "outputs": [
    {
     "name": "stdout",
     "output_type": "stream",
     "text": [
      "슬픔(1%)\n"
     ]
    }
   ],
   "source": [
    "sadness_predict(\".\")"
   ]
  },
  {
   "cell_type": "code",
   "execution_count": 97,
   "id": "czech-gallery",
   "metadata": {},
   "outputs": [],
   "source": [
    "#중립 감정 분석"
   ]
  },
  {
   "cell_type": "code",
   "execution_count": 98,
   "id": "reported-directory",
   "metadata": {},
   "outputs": [],
   "source": [
    "import pandas as pd\n",
    "train_neutral_df = pd.read_csv(\"neutraltrainalldata.txt\",\"\\t\")\n",
    "test_neutral_df = pd.read_csv(\"neutraltestalldata.txt\",\"\\t\")"
   ]
  },
  {
   "cell_type": "code",
   "execution_count": 99,
   "id": "painted-decade",
   "metadata": {},
   "outputs": [],
   "source": [
    "from konlpy.tag import Okt\n",
    "okt_neutral = Okt()"
   ]
  },
  {
   "cell_type": "code",
   "execution_count": 100,
   "id": "excellent-confidence",
   "metadata": {},
   "outputs": [],
   "source": [
    "def tokenize(doc):\n",
    "    return ['/'.join(t) for t in okt_neutral.pos(doc, norm=True, stem=True)]"
   ]
  },
  {
   "cell_type": "code",
   "execution_count": 101,
   "id": "attached-minneapolis",
   "metadata": {},
   "outputs": [],
   "source": [
    "train_neutral_docs = [(tokenize(row[1]), row[2]) for row in train_neutral_df.values]\n",
    "test_neutral_docs = [(tokenize(row[1]),row[2]) for row in test_neutral_df.values]"
   ]
  },
  {
   "cell_type": "code",
   "execution_count": 102,
   "id": "opening-decade",
   "metadata": {},
   "outputs": [
    {
     "name": "stdout",
     "output_type": "stream",
     "text": [
      "(['언니/Noun', '동생/Noun', '으로/Josa', '부르다/Verb', '맞다/Verb', '일/Noun', '인가요/Josa', '..??/Punctuation'], 0)\n",
      "(['톡/Noun', '크다/Verb', '언니/Noun', '들/Suffix', '임산부/Noun', '언니/Noun', '들/Suffix', 'ㅠㅠ/KoreanParticle'], 0)\n"
     ]
    }
   ],
   "source": [
    "print(train_neutral_docs[0])\n",
    "print(test_neutral_docs[0])"
   ]
  },
  {
   "cell_type": "code",
   "execution_count": 103,
   "id": "stock-vertical",
   "metadata": {},
   "outputs": [
    {
     "name": "stdout",
     "output_type": "stream",
     "text": [
      "토큰개수: 259374\n"
     ]
    }
   ],
   "source": [
    "tokens = [t for d in train_neutral_docs for t in d[0]]\n",
    "print(\"토큰개수:\",len(tokens))"
   ]
  },
  {
   "cell_type": "code",
   "execution_count": 104,
   "id": "premium-packet",
   "metadata": {},
   "outputs": [
    {
     "name": "stdout",
     "output_type": "stream",
     "text": [
      "259374\n",
      "20799\n",
      "[('하다/Verb', 8087), ('이/Josa', 4939), ('./Punctuation', 4679), ('가/Josa', 3509), ('?/Punctuation', 3201), ('에/Josa', 3168), ('들/Suffix', 3097), ('../Punctuation', 2820), ('을/Josa', 2523), ('은/Josa', 2512)]\n"
     ]
    }
   ],
   "source": [
    "import nltk\n",
    "neutral_text = nltk.Text(tokens, name='NMSC')\n",
    "print(len(neutral_text.tokens))\n",
    "print(len(set(neutral_text.tokens)))\n",
    "print(neutral_text.vocab().most_common(10))"
   ]
  },
  {
   "cell_type": "code",
   "execution_count": 105,
   "id": "suffering-underground",
   "metadata": {},
   "outputs": [
    {
     "data": {
      "image/png": "[encoded data removed]",
      "text/plain": [
       "<Figure size 1440x720 with 1 Axes>"
      ]
     },
     "metadata": {
      "needs_background": "light"
     },
     "output_type": "display_data"
    }
   ],
   "source": [
    "import matplotlib.pyplot as plt\n",
    "from matplotlib import font_manager, rc\n",
    "plt.figure(figsize=(20,10))\n",
    "neutral_text.plot(50)"
   ]
  },
  {
   "cell_type": "code",
   "execution_count": 106,
   "id": "welcome-tragedy",
   "metadata": {},
   "outputs": [],
   "source": [
    "NEUTRAL_FREQUENCY_COUNT = 2000;\n",
    "neutral_selected_words = [f[0] for f in neutral_text.vocab().most_common(NEUTRAL_FREQUENCY_COUNT)]"
   ]
  },
  {
   "cell_type": "code",
   "execution_count": 107,
   "id": "becoming-equation",
   "metadata": {},
   "outputs": [],
   "source": [
    "def neutral_term_frequency(doc):\n",
    "    return [doc.count(word) for word in neutral_selected_words]"
   ]
  },
  {
   "cell_type": "code",
   "execution_count": 108,
   "id": "handled-aging",
   "metadata": {},
   "outputs": [],
   "source": [
    "x_neutral_train = [neutral_term_frequency(d) for d,_ in train_neutral_docs]\n",
    "x_neutral_test = [neutral_term_frequency(d) for d,_ in test_neutral_docs]\n",
    "y_neutral_train = [c for _,c in train_neutral_docs]\n",
    "y_neutral_test = [c for _,c in test_neutral_docs]"
   ]
  },
  {
   "cell_type": "code",
   "execution_count": 109,
   "id": "complicated-interim",
   "metadata": {},
   "outputs": [],
   "source": [
    "import numpy as np\n",
    "x_neutral_train = np.asarray(x_neutral_train).astype('float32')\n",
    "x_neutral_test = np.asarray(x_neutral_test). astype('float32')\n",
    "\n",
    "y_neutral_train = np.asarray(y_neutral_train).astype('float32')\n",
    "y_neutral_test = np.asarray(y_neutral_test).astype('float32')"
   ]
  },
  {
   "cell_type": "code",
   "execution_count": 110,
   "id": "pretty-eleven",
   "metadata": {},
   "outputs": [],
   "source": [
    "import tensorflow as tf\n",
    "neutral_model= tf.keras.models.Sequential([\n",
    "    tf.keras.layers.Dense(64, activation = 'relu',input_shape=(NEUTRAL_FREQUENCY_COUNT,)),\n",
    "    tf.keras.layers.Dense(64, activation = 'relu'),\n",
    "    tf.keras.layers.Dense(1, activation = 'sigmoid')\n",
    "])"
   ]
  },
  {
   "cell_type": "code",
   "execution_count": 111,
   "id": "upset-forward",
   "metadata": {},
   "outputs": [],
   "source": [
    "neutral_model.compile(optimizer=tf.keras.optimizers.RMSprop(lr=0.001),\n",
    "             loss=tf.keras.losses.binary_crossentropy,\n",
    "             metrics=[tf.keras.metrics.binary_accuracy]\n",
    "             )"
   ]
  },
  {
   "cell_type": "code",
   "execution_count": 112,
   "id": "respective-stewart",
   "metadata": {},
   "outputs": [
    {
     "name": "stdout",
     "output_type": "stream",
     "text": [
      "Epoch 1/50\n",
      "53/53 [==============================] - 6s 107ms/step - loss: 0.4261 - binary_accuracy: 0.8629\n",
      "Epoch 2/50\n",
      "53/53 [==============================] - 1s 26ms/step - loss: 0.3368 - binary_accuracy: 0.8748\n",
      "Epoch 3/50\n",
      "53/53 [==============================] - 1s 14ms/step - loss: 0.3108 - binary_accuracy: 0.8757\n",
      "Epoch 4/50\n",
      "53/53 [==============================] - 1s 13ms/step - loss: 0.2916 - binary_accuracy: 0.8823\n",
      "Epoch 5/50\n",
      "53/53 [==============================] - 1s 13ms/step - loss: 0.2739 - binary_accuracy: 0.8920\n",
      "Epoch 6/50\n",
      "53/53 [==============================] - 1s 11ms/step - loss: 0.2546 - binary_accuracy: 0.9002\n",
      "Epoch 7/50\n",
      "53/53 [==============================] - 1s 13ms/step - loss: 0.2338 - binary_accuracy: 0.9091\n",
      "Epoch 8/50\n",
      "53/53 [==============================] - 1s 13ms/step - loss: 0.2120 - binary_accuracy: 0.9191\n",
      "Epoch 9/50\n",
      "53/53 [==============================] - 1s 13ms/step - loss: 0.1906 - binary_accuracy: 0.9291\n",
      "Epoch 10/50\n",
      "53/53 [==============================] - 1s 12ms/step - loss: 0.1691 - binary_accuracy: 0.9369\n",
      "Epoch 11/50\n",
      "53/53 [==============================] - 1s 12ms/step - loss: 0.1476 - binary_accuracy: 0.9454\n",
      "Epoch 12/50\n",
      "53/53 [==============================] - 1s 13ms/step - loss: 0.1277 - binary_accuracy: 0.9546\n",
      "Epoch 13/50\n",
      "53/53 [==============================] - 1s 13ms/step - loss: 0.1083 - binary_accuracy: 0.9628\n",
      "Epoch 14/50\n",
      "53/53 [==============================] - 1s 13ms/step - loss: 0.0902 - binary_accuracy: 0.9696\n",
      "Epoch 15/50\n",
      "53/53 [==============================] - 1s 11ms/step - loss: 0.0740 - binary_accuracy: 0.9763\n",
      "Epoch 16/50\n",
      "53/53 [==============================] - 1s 13ms/step - loss: 0.0601 - binary_accuracy: 0.9817\n",
      "Epoch 17/50\n",
      "53/53 [==============================] - 1s 13ms/step - loss: 0.0494 - binary_accuracy: 0.9853\n",
      "Epoch 18/50\n",
      "53/53 [==============================] - 1s 13ms/step - loss: 0.0405 - binary_accuracy: 0.9881\n",
      "Epoch 19/50\n",
      "53/53 [==============================] - 1s 13ms/step - loss: 0.0340 - binary_accuracy: 0.9909\n",
      "Epoch 20/50\n",
      "53/53 [==============================] - 1s 11ms/step - loss: 0.0272 - binary_accuracy: 0.9922\n",
      "Epoch 21/50\n",
      "53/53 [==============================] - 1s 13ms/step - loss: 0.0225 - binary_accuracy: 0.9942\n",
      "Epoch 22/50\n",
      "53/53 [==============================] - 1s 13ms/step - loss: 0.0190 - binary_accuracy: 0.9948\n",
      "Epoch 23/50\n",
      "53/53 [==============================] - 1s 13ms/step - loss: 0.0166 - binary_accuracy: 0.9957\n",
      "Epoch 24/50\n",
      "53/53 [==============================] - 1s 12ms/step - loss: 0.0139 - binary_accuracy: 0.9962\n",
      "Epoch 25/50\n",
      "53/53 [==============================] - 1s 12ms/step - loss: 0.0126 - binary_accuracy: 0.9961\n",
      "Epoch 26/50\n",
      "53/53 [==============================] - 1s 13ms/step - loss: 0.0110 - binary_accuracy: 0.9967\n",
      "Epoch 27/50\n",
      "53/53 [==============================] - 1s 13ms/step - loss: 0.0101 - binary_accuracy: 0.9970\n",
      "Epoch 28/50\n",
      "53/53 [==============================] - 1s 13ms/step - loss: 0.0092 - binary_accuracy: 0.9974\n",
      "Epoch 29/50\n",
      "53/53 [==============================] - 1s 11ms/step - loss: 0.0083 - binary_accuracy: 0.9974\n",
      "Epoch 30/50\n",
      "53/53 [==============================] - 1s 13ms/step - loss: 0.0079 - binary_accuracy: 0.9974\n",
      "Epoch 31/50\n",
      "53/53 [==============================] - 1s 12ms/step - loss: 0.0072 - binary_accuracy: 0.9976\n",
      "Epoch 32/50\n",
      "53/53 [==============================] - 1s 13ms/step - loss: 0.0070 - binary_accuracy: 0.9975\n",
      "Epoch 33/50\n",
      "53/53 [==============================] - 1s 13ms/step - loss: 0.0068 - binary_accuracy: 0.9978\n",
      "Epoch 34/50\n",
      "53/53 [==============================] - 1s 10ms/step - loss: 0.0066 - binary_accuracy: 0.9979\n",
      "Epoch 35/50\n",
      "53/53 [==============================] - 1s 13ms/step - loss: 0.0063 - binary_accuracy: 0.9978\n",
      "Epoch 36/50\n",
      "53/53 [==============================] - 1s 13ms/step - loss: 0.0060 - binary_accuracy: 0.9978\n",
      "Epoch 37/50\n",
      "53/53 [==============================] - 1s 13ms/step - loss: 0.0061 - binary_accuracy: 0.9979\n",
      "Epoch 38/50\n",
      "53/53 [==============================] - 1s 12ms/step - loss: 0.0060 - binary_accuracy: 0.9978\n",
      "Epoch 39/50\n",
      "53/53 [==============================] - 1s 12ms/step - loss: 0.0058 - binary_accuracy: 0.9979\n",
      "Epoch 40/50\n",
      "53/53 [==============================] - 1s 13ms/step - loss: 0.0058 - binary_accuracy: 0.9977\n",
      "Epoch 41/50\n",
      "53/53 [==============================] - 1s 13ms/step - loss: 0.0056 - binary_accuracy: 0.9979\n",
      "Epoch 42/50\n",
      "53/53 [==============================] - 1s 13ms/step - loss: 0.0053 - binary_accuracy: 0.9979\n",
      "Epoch 43/50\n",
      "53/53 [==============================] - 1s 11ms/step - loss: 0.0058 - binary_accuracy: 0.9979\n",
      "Epoch 44/50\n",
      "53/53 [==============================] - 1s 13ms/step - loss: 0.0054 - binary_accuracy: 0.9979\n",
      "Epoch 45/50\n",
      "53/53 [==============================] - 1s 13ms/step - loss: 0.0053 - binary_accuracy: 0.9979\n",
      "Epoch 46/50\n",
      "53/53 [==============================] - 1s 13ms/step - loss: 0.0056 - binary_accuracy: 0.9978\n",
      "Epoch 47/50\n",
      "53/53 [==============================] - 1s 13ms/step - loss: 0.0053 - binary_accuracy: 0.9978\n",
      "Epoch 48/50\n",
      "53/53 [==============================] - 1s 10ms/step - loss: 0.0052 - binary_accuracy: 0.9980\n",
      "Epoch 49/50\n",
      "53/53 [==============================] - 1s 13ms/step - loss: 0.0052 - binary_accuracy: 0.9980\n",
      "Epoch 50/50\n",
      "53/53 [==============================] - 1s 13ms/step - loss: 0.0053 - binary_accuracy: 0.9980\n"
     ]
    },
    {
     "data": {
      "text/plain": [
       "<tensorflow.python.keras.callbacks.History at 0x2a700ba5908>"
      ]
     },
     "execution_count": 112,
     "metadata": {},
     "output_type": "execute_result"
    }
   ],
   "source": [
    "neutral_model.fit(x_neutral_train, y_neutral_train, epochs=50, batch_size=512)"
   ]
  },
  {
   "cell_type": "code",
   "execution_count": 113,
   "id": "cleared-performer",
   "metadata": {},
   "outputs": [
    {
     "name": "stdout",
     "output_type": "stream",
     "text": [
      "362/362 [==============================] - 2s 6ms/step - loss: 1.8044 - binary_accuracy: 0.8215\n"
     ]
    }
   ],
   "source": [
    "neutral_results = neutral_model.evaluate(x_neutral_test, y_neutral_test)"
   ]
  },
  {
   "cell_type": "code",
   "execution_count": 114,
   "id": "homeless-rates",
   "metadata": {},
   "outputs": [
    {
     "data": {
      "text/plain": [
       "[1.8043780326843262, 0.8214563131332397]"
      ]
     },
     "execution_count": 114,
     "metadata": {},
     "output_type": "execute_result"
    }
   ],
   "source": [
    "neutral_results"
   ]
  },
  {
   "cell_type": "code",
   "execution_count": 115,
   "id": "powerful-harmony",
   "metadata": {},
   "outputs": [],
   "source": [
    "neutral_model.save('neutral_model.h5')"
   ]
  },
  {
   "cell_type": "code",
   "execution_count": 116,
   "id": "signal-sustainability",
   "metadata": {},
   "outputs": [
    {
     "data": {
      "text/plain": [
       "['너무/Adverb', '화나다/Verb']"
      ]
     },
     "execution_count": 116,
     "metadata": {},
     "output_type": "execute_result"
    }
   ],
   "source": [
    "neutral_review = \"너무 화난다\"\n",
    "neutral_token = tokenize(neutral_review)\n",
    "neutral_token"
   ]
  },
  {
   "cell_type": "code",
   "execution_count": 117,
   "id": "supreme-loading",
   "metadata": {},
   "outputs": [
    {
     "data": {
      "text/plain": [
       "4.8511406447460104e-08"
      ]
     },
     "execution_count": 117,
     "metadata": {},
     "output_type": "execute_result"
    }
   ],
   "source": [
    "tf = neutral_term_frequency(neutral_token)\n",
    "data = np.expand_dims(np.asarray(tf).astype('float32'),axis=0)\n",
    "float(neutral_model.predict(data))"
   ]
  },
  {
   "cell_type": "code",
   "execution_count": 266,
   "id": "proud-owner",
   "metadata": {},
   "outputs": [],
   "source": [
    "def neutral_predict(predict):\n",
    "    neutral_token = tokenize(predict)\n",
    "    neutral_tfq = neutral_term_frequency(neutral_token)\n",
    "    neutral_data = np.expand_dims(np.asarray(neutral_tfq).astype('float32'), axis=0)\n",
    "    neutral_score = float(neutral_model.predict(neutral_data))\n",
    "    #if(neutral_score > 0.5):\n",
    "    print(f\"중립({round(neutral_score*100)}%)\")\n",
    "    neutral = round(neutral_score*100)\n",
    "    '''\n",
    "    else:\n",
    "        print(f\"{predict} ==> 중립X ({round((1-neutral_score)*100)}%)\") '''"
   ]
  },
  {
   "cell_type": "code",
   "execution_count": 267,
   "id": "sporting-julian",
   "metadata": {},
   "outputs": [
    {
     "name": "stdout",
     "output_type": "stream",
     "text": [
      "중립(2%)\n"
     ]
    }
   ],
   "source": [
    "neutral_predict(\"아무 생각이 없다\")"
   ]
  },
  {
   "cell_type": "code",
   "execution_count": 120,
   "id": "ceramic-allergy",
   "metadata": {},
   "outputs": [],
   "source": [
    "#행복 감정 분석"
   ]
  },
  {
   "cell_type": "code",
   "execution_count": 121,
   "id": "voluntary-hypothesis",
   "metadata": {},
   "outputs": [],
   "source": [
    "import pandas as pd\n",
    "train_happy_df = pd.read_csv(\"happytrainalldata.txt\",\"\\t\")\n",
    "test_happy_df = pd.read_csv(\"happytestalldata.txt\",\"\\t\")"
   ]
  },
  {
   "cell_type": "code",
   "execution_count": 122,
   "id": "hindu-district",
   "metadata": {},
   "outputs": [],
   "source": [
    "from konlpy.tag import Okt\n",
    "okt_happy = Okt()"
   ]
  },
  {
   "cell_type": "code",
   "execution_count": 123,
   "id": "upset-inspector",
   "metadata": {},
   "outputs": [],
   "source": [
    "def tokenize(doc):\n",
    "    return ['/'.join(t) for t in okt_happy.pos(doc, norm=True, stem=True)]"
   ]
  },
  {
   "cell_type": "code",
   "execution_count": 124,
   "id": "narrative-librarian",
   "metadata": {},
   "outputs": [],
   "source": [
    "train_happy_docs = [(tokenize(row[1]), row[2]) for row in train_happy_df.values]\n",
    "test_happy_docs = [(tokenize(row[1]),row[2]) for row in test_happy_df.values]"
   ]
  },
  {
   "cell_type": "code",
   "execution_count": 125,
   "id": "consistent-notebook",
   "metadata": {},
   "outputs": [
    {
     "name": "stdout",
     "output_type": "stream",
     "text": [
      "(['언니/Noun', '동생/Noun', '으로/Josa', '부르다/Verb', '맞다/Verb', '일/Noun', '인가요/Josa', '..??/Punctuation'], 0)\n",
      "(['톡/Noun', '크다/Verb', '언니/Noun', '들/Suffix', '임산부/Noun', '언니/Noun', '들/Suffix', 'ㅠㅠ/KoreanParticle'], 0)\n"
     ]
    }
   ],
   "source": [
    "print(train_happy_docs[0])\n",
    "print(test_happy_docs[0])"
   ]
  },
  {
   "cell_type": "code",
   "execution_count": 126,
   "id": "loving-azerbaijan",
   "metadata": {},
   "outputs": [
    {
     "name": "stdout",
     "output_type": "stream",
     "text": [
      "토큰개수: 259374\n"
     ]
    }
   ],
   "source": [
    "tokens = [t for d in train_happy_docs for t in d[0]]\n",
    "print(\"토큰개수:\",len(tokens))"
   ]
  },
  {
   "cell_type": "code",
   "execution_count": 127,
   "id": "mediterranean-checkout",
   "metadata": {},
   "outputs": [
    {
     "name": "stdout",
     "output_type": "stream",
     "text": [
      "259374\n",
      "20799\n",
      "[('하다/Verb', 8087), ('이/Josa', 4939), ('./Punctuation', 4679), ('가/Josa', 3509), ('?/Punctuation', 3201), ('에/Josa', 3168), ('들/Suffix', 3097), ('../Punctuation', 2820), ('을/Josa', 2523), ('은/Josa', 2512)]\n"
     ]
    }
   ],
   "source": [
    "import nltk\n",
    "happy_text = nltk.Text(tokens, name='NMSC')\n",
    "print(len(happy_text.tokens))\n",
    "print(len(set(happy_text.tokens)))\n",
    "print(happy_text.vocab().most_common(10))"
   ]
  },
  {
   "cell_type": "code",
   "execution_count": 128,
   "id": "coordinated-possible",
   "metadata": {},
   "outputs": [
    {
     "data": {
      "image/png": "[encoded data removed]",
      "text/plain": [
       "<Figure size 1440x720 with 1 Axes>"
      ]
     },
     "metadata": {
      "needs_background": "light"
     },
     "output_type": "display_data"
    }
   ],
   "source": [
    "import matplotlib.pyplot as plt\n",
    "from matplotlib import font_manager, rc\n",
    "plt.figure(figsize=(20,10))\n",
    "happy_text.plot(50)"
   ]
  },
  {
   "cell_type": "code",
   "execution_count": 129,
   "id": "effective-missouri",
   "metadata": {},
   "outputs": [],
   "source": [
    "HAPPY_FREQUENCY_COUNT = 2000;\n",
    "happy_selected_words = [f[0] for f in happy_text.vocab().most_common(HAPPY_FREQUENCY_COUNT)]"
   ]
  },
  {
   "cell_type": "code",
   "execution_count": 130,
   "id": "published-trinity",
   "metadata": {},
   "outputs": [],
   "source": [
    "def happy_term_frequency(doc):\n",
    "    return [doc.count(word) for word in happy_selected_words]"
   ]
  },
  {
   "cell_type": "code",
   "execution_count": 131,
   "id": "single-interstate",
   "metadata": {},
   "outputs": [],
   "source": [
    "x_happy_train = [happy_term_frequency(d) for d,_ in train_happy_docs]\n",
    "x_happy_test = [happy_term_frequency(d) for d,_ in test_happy_docs]\n",
    "y_happy_train = [c for _,c in train_happy_docs]\n",
    "y_happy_test = [c for _,c in test_happy_docs]"
   ]
  },
  {
   "cell_type": "code",
   "execution_count": 132,
   "id": "gentle-tracy",
   "metadata": {},
   "outputs": [],
   "source": [
    "import numpy as np\n",
    "x_happy_train = np.asarray(x_happy_train).astype('float32')\n",
    "x_happy_test = np.asarray(x_happy_test). astype('float32')\n",
    "\n",
    "y_happy_train = np.asarray(y_happy_train).astype('float32')\n",
    "y_happy_test = np.asarray(y_happy_test).astype('float32')"
   ]
  },
  {
   "cell_type": "code",
   "execution_count": 133,
   "id": "spatial-biotechnology",
   "metadata": {},
   "outputs": [],
   "source": [
    "import tensorflow as tf\n",
    "happy_model= tf.keras.models.Sequential([\n",
    "    tf.keras.layers.Dense(64, activation = 'relu',input_shape=(HAPPY_FREQUENCY_COUNT,)),\n",
    "    tf.keras.layers.Dense(64, activation = 'relu'),\n",
    "    tf.keras.layers.Dense(1, activation = 'sigmoid')\n",
    "])"
   ]
  },
  {
   "cell_type": "code",
   "execution_count": 134,
   "id": "sound-envelope",
   "metadata": {},
   "outputs": [],
   "source": [
    "happy_model.compile(optimizer=tf.keras.optimizers.RMSprop(lr=0.001),\n",
    "             loss=tf.keras.losses.binary_crossentropy,\n",
    "             metrics=[tf.keras.metrics.binary_accuracy]\n",
    "             )"
   ]
  },
  {
   "cell_type": "code",
   "execution_count": 135,
   "id": "solar-louisiana",
   "metadata": {},
   "outputs": [
    {
     "name": "stdout",
     "output_type": "stream",
     "text": [
      "Epoch 1/50\n",
      "53/53 [==============================] - 6s 113ms/step - loss: 0.3814 - binary_accuracy: 0.8543\n",
      "Epoch 2/50\n",
      "53/53 [==============================] - 2s 40ms/step - loss: 0.2249 - binary_accuracy: 0.9191\n",
      "Epoch 3/50\n",
      "53/53 [==============================] - 1s 14ms/step - loss: 0.1861 - binary_accuracy: 0.9318\n",
      "Epoch 4/50\n",
      "53/53 [==============================] - 1s 16ms/step - loss: 0.1694 - binary_accuracy: 0.9375\n",
      "Epoch 5/50\n",
      "53/53 [==============================] - 1s 16ms/step - loss: 0.1579 - binary_accuracy: 0.9417\n",
      "Epoch 6/50\n",
      "53/53 [==============================] - 1s 13ms/step - loss: 0.1485 - binary_accuracy: 0.9453\n",
      "Epoch 7/50\n",
      "53/53 [==============================] - 1s 15ms/step - loss: 0.1399 - binary_accuracy: 0.9481\n",
      "Epoch 8/50\n",
      "53/53 [==============================] - 1s 16ms/step - loss: 0.1317 - binary_accuracy: 0.9512\n",
      "Epoch 9/50\n",
      "53/53 [==============================] - 1s 15ms/step - loss: 0.1232 - binary_accuracy: 0.9552\n",
      "Epoch 10/50\n",
      "53/53 [==============================] - 1s 13ms/step - loss: 0.1150 - binary_accuracy: 0.9585\n",
      "Epoch 11/50\n",
      "53/53 [==============================] - 1s 15ms/step - loss: 0.1065 - binary_accuracy: 0.9628\n",
      "Epoch 12/50\n",
      "53/53 [==============================] - 1s 16ms/step - loss: 0.0977 - binary_accuracy: 0.9658\n",
      "Epoch 13/50\n",
      "53/53 [==============================] - 1s 15ms/step - loss: 0.0894 - binary_accuracy: 0.9700\n",
      "Epoch 14/50\n",
      "53/53 [==============================] - 1s 13ms/step - loss: 0.0809 - binary_accuracy: 0.9735\n",
      "Epoch 15/50\n",
      "53/53 [==============================] - 1s 15ms/step - loss: 0.0725 - binary_accuracy: 0.9759\n",
      "Epoch 16/50\n",
      "53/53 [==============================] - 1s 15ms/step - loss: 0.0642 - binary_accuracy: 0.9794\n",
      "Epoch 17/50\n",
      "53/53 [==============================] - 1s 15ms/step - loss: 0.0564 - binary_accuracy: 0.9820\n",
      "Epoch 18/50\n",
      "53/53 [==============================] - 1s 14ms/step - loss: 0.0483 - binary_accuracy: 0.9850\n",
      "Epoch 19/50\n",
      "53/53 [==============================] - 1s 15ms/step - loss: 0.0409 - binary_accuracy: 0.9879\n",
      "Epoch 20/50\n",
      "53/53 [==============================] - 1s 15ms/step - loss: 0.0346 - binary_accuracy: 0.9894\n",
      "Epoch 21/50\n",
      "53/53 [==============================] - 1s 15ms/step - loss: 0.0290 - binary_accuracy: 0.9912\n",
      "Epoch 22/50\n",
      "53/53 [==============================] - 1s 13ms/step - loss: 0.0243 - binary_accuracy: 0.9927\n",
      "Epoch 23/50\n",
      "53/53 [==============================] - 1s 15ms/step - loss: 0.0208 - binary_accuracy: 0.9935\n",
      "Epoch 24/50\n",
      "53/53 [==============================] - 1s 15ms/step - loss: 0.0175 - binary_accuracy: 0.9949\n",
      "Epoch 25/50\n",
      "53/53 [==============================] - 1s 15ms/step - loss: 0.0154 - binary_accuracy: 0.9952\n",
      "Epoch 26/50\n",
      "53/53 [==============================] - 1s 14ms/step - loss: 0.0135 - binary_accuracy: 0.9957\n",
      "Epoch 27/50\n",
      "53/53 [==============================] - 1s 14ms/step - loss: 0.0118 - binary_accuracy: 0.9960\n",
      "Epoch 28/50\n",
      "53/53 [==============================] - 1s 15ms/step - loss: 0.0106 - binary_accuracy: 0.9966\n",
      "Epoch 29/50\n",
      "53/53 [==============================] - 1s 15ms/step - loss: 0.0094 - binary_accuracy: 0.9966\n",
      "Epoch 30/50\n",
      "53/53 [==============================] - 1s 14ms/step - loss: 0.0090 - binary_accuracy: 0.9968\n",
      "Epoch 31/50\n",
      "53/53 [==============================] - 1s 14ms/step - loss: 0.0082 - binary_accuracy: 0.9971\n",
      "Epoch 32/50\n",
      "53/53 [==============================] - 1s 15ms/step - loss: 0.0077 - binary_accuracy: 0.9973\n",
      "Epoch 33/50\n",
      "53/53 [==============================] - 1s 15ms/step - loss: 0.0072 - binary_accuracy: 0.9973\n",
      "Epoch 34/50\n",
      "53/53 [==============================] - 1s 14ms/step - loss: 0.0068 - binary_accuracy: 0.9977: 0s - loss: 0.0064 - binary_accura\n",
      "Epoch 35/50\n",
      "53/53 [==============================] - 1s 13ms/step - loss: 0.0064 - binary_accuracy: 0.9976\n",
      "Epoch 36/50\n",
      "53/53 [==============================] - 1s 15ms/step - loss: 0.0062 - binary_accuracy: 0.9977\n",
      "Epoch 37/50\n",
      "53/53 [==============================] - 1s 15ms/step - loss: 0.0058 - binary_accuracy: 0.9978\n",
      "Epoch 38/50\n",
      "53/53 [==============================] - 1s 15ms/step - loss: 0.0059 - binary_accuracy: 0.9979\n",
      "Epoch 39/50\n",
      "53/53 [==============================] - 1s 14ms/step - loss: 0.0056 - binary_accuracy: 0.9980\n",
      "Epoch 40/50\n",
      "53/53 [==============================] - 1s 15ms/step - loss: 0.0053 - binary_accuracy: 0.9978\n",
      "Epoch 41/50\n",
      "53/53 [==============================] - 1s 15ms/step - loss: 0.0054 - binary_accuracy: 0.9977\n",
      "Epoch 42/50\n",
      "53/53 [==============================] - 1s 15ms/step - loss: 0.0054 - binary_accuracy: 0.9977\n",
      "Epoch 43/50\n",
      "53/53 [==============================] - 1s 13ms/step - loss: 0.0052 - binary_accuracy: 0.9978\n",
      "Epoch 44/50\n",
      "53/53 [==============================] - 1s 15ms/step - loss: 0.0052 - binary_accuracy: 0.9979\n",
      "Epoch 45/50\n",
      "53/53 [==============================] - 1s 15ms/step - loss: 0.0050 - binary_accuracy: 0.9977\n",
      "Epoch 46/50\n",
      "53/53 [==============================] - 1s 15ms/step - loss: 0.0050 - binary_accuracy: 0.9980\n",
      "Epoch 47/50\n",
      "53/53 [==============================] - 1s 13ms/step - loss: 0.0051 - binary_accuracy: 0.9976\n",
      "Epoch 48/50\n",
      "53/53 [==============================] - 1s 15ms/step - loss: 0.0048 - binary_accuracy: 0.9979\n",
      "Epoch 49/50\n",
      "53/53 [==============================] - 1s 15ms/step - loss: 0.0049 - binary_accuracy: 0.9980\n",
      "Epoch 50/50\n",
      "53/53 [==============================] - 1s 15ms/step - loss: 0.0048 - binary_accuracy: 0.9979\n"
     ]
    },
    {
     "data": {
      "text/plain": [
       "<tensorflow.python.keras.callbacks.History at 0x2a731fbcc88>"
      ]
     },
     "execution_count": 135,
     "metadata": {},
     "output_type": "execute_result"
    }
   ],
   "source": [
    "happy_model.fit(x_happy_train, y_happy_train, epochs=50, batch_size=512)"
   ]
  },
  {
   "cell_type": "code",
   "execution_count": 136,
   "id": "answering-stable",
   "metadata": {},
   "outputs": [
    {
     "name": "stdout",
     "output_type": "stream",
     "text": [
      "362/362 [==============================] - 2s 6ms/step - loss: 1.6692 - binary_accuracy: 0.8853\n"
     ]
    }
   ],
   "source": [
    "happy_results = happy_model.evaluate(x_happy_test, y_happy_test)"
   ]
  },
  {
   "cell_type": "code",
   "execution_count": 137,
   "id": "arranged-technical",
   "metadata": {},
   "outputs": [
    {
     "data": {
      "text/plain": [
       "[1.6692109107971191, 0.8852897882461548]"
      ]
     },
     "execution_count": 137,
     "metadata": {},
     "output_type": "execute_result"
    }
   ],
   "source": [
    "happy_results"
   ]
  },
  {
   "cell_type": "code",
   "execution_count": 138,
   "id": "blocked-regression",
   "metadata": {},
   "outputs": [],
   "source": [
    "happy_model.save('happy_model.h5')"
   ]
  },
  {
   "cell_type": "code",
   "execution_count": 139,
   "id": "actual-particle",
   "metadata": {},
   "outputs": [
    {
     "data": {
      "text/plain": [
       "['너무/Adverb', '화나다/Verb']"
      ]
     },
     "execution_count": 139,
     "metadata": {},
     "output_type": "execute_result"
    }
   ],
   "source": [
    "happy_review = \"너무 화난다\"\n",
    "happy_token = tokenize(happy_review)\n",
    "happy_token"
   ]
  },
  {
   "cell_type": "code",
   "execution_count": 140,
   "id": "owned-harvey",
   "metadata": {},
   "outputs": [
    {
     "data": {
      "text/plain": [
       "8.880969107849523e-05"
      ]
     },
     "execution_count": 140,
     "metadata": {},
     "output_type": "execute_result"
    }
   ],
   "source": [
    "tf = happy_term_frequency(happy_token)\n",
    "data = np.expand_dims(np.asarray(tf).astype('float32'),axis=0)\n",
    "float(happy_model.predict(data))"
   ]
  },
  {
   "cell_type": "code",
   "execution_count": 268,
   "id": "computational-moore",
   "metadata": {},
   "outputs": [],
   "source": [
    "def happy_predict(predict):\n",
    "    happy_token = tokenize(predict)\n",
    "    happy_tfq = happy_term_frequency(happy_token)\n",
    "    happy_data = np.expand_dims(np.asarray(happy_tfq).astype('float32'), axis=0)\n",
    "    happy_score = float(happy_model.predict(happy_data))\n",
    "    #if(happy_score > 0.5):\n",
    "    print(f\"행복({round(happy_score*100)}%)\")\n",
    "    happy = round(happy_score*100)\n",
    "    '''\n",
    "    else:\n",
    "        print(f\"{predict} ==> 행복X ({round((1-happy_score)*100)}%)\") '''"
   ]
  },
  {
   "cell_type": "code",
   "execution_count": 269,
   "id": "miniature-america",
   "metadata": {},
   "outputs": [
    {
     "name": "stdout",
     "output_type": "stream",
     "text": [
      "행복(0%)\n"
     ]
    }
   ],
   "source": [
    "happy_predict(\"너무해\")"
   ]
  },
  {
   "cell_type": "code",
   "execution_count": 143,
   "id": "organized-smith",
   "metadata": {},
   "outputs": [],
   "source": [
    "#혐오 감정 분석"
   ]
  },
  {
   "cell_type": "code",
   "execution_count": 144,
   "id": "logical-circus",
   "metadata": {},
   "outputs": [],
   "source": [
    "import pandas as pd\n",
    "train_disgust_df = pd.read_csv(\"disgusttrainalldata.txt\",\"\\t\")\n",
    "test_disgust_df = pd.read_csv(\"disgusttestalldata.txt\",\"\\t\")"
   ]
  },
  {
   "cell_type": "code",
   "execution_count": 145,
   "id": "operational-immune",
   "metadata": {},
   "outputs": [],
   "source": [
    "from konlpy.tag import Okt\n",
    "okt_disgust = Okt()"
   ]
  },
  {
   "cell_type": "code",
   "execution_count": 146,
   "id": "statewide-management",
   "metadata": {},
   "outputs": [],
   "source": [
    "def tokenize(doc):\n",
    "    return ['/'.join(t) for t in okt_disgust.pos(doc, norm=True, stem=True)]"
   ]
  },
  {
   "cell_type": "code",
   "execution_count": 147,
   "id": "simple-aviation",
   "metadata": {},
   "outputs": [],
   "source": [
    "train_disgust_docs = [(tokenize(row[1]), row[2]) for row in train_disgust_df.values]\n",
    "test_disgust_docs = [(tokenize(row[1]),row[2]) for row in test_disgust_df.values]"
   ]
  },
  {
   "cell_type": "code",
   "execution_count": 148,
   "id": "further-basin",
   "metadata": {},
   "outputs": [
    {
     "name": "stdout",
     "output_type": "stream",
     "text": [
      "(['언니/Noun', '동생/Noun', '으로/Josa', '부르다/Verb', '맞다/Verb', '일/Noun', '인가요/Josa', '..??/Punctuation'], 0)\n",
      "(['톡/Noun', '크다/Verb', '언니/Noun', '들/Suffix', '임산부/Noun', '언니/Noun', '들/Suffix', 'ㅠㅠ/KoreanParticle'], 0)\n"
     ]
    }
   ],
   "source": [
    "print(train_disgust_docs[0])\n",
    "print(test_disgust_docs[0])"
   ]
  },
  {
   "cell_type": "code",
   "execution_count": 149,
   "id": "concerned-replacement",
   "metadata": {},
   "outputs": [
    {
     "name": "stdout",
     "output_type": "stream",
     "text": [
      "토큰개수: 259374\n"
     ]
    }
   ],
   "source": [
    "tokens = [t for d in train_disgust_docs for t in d[0]]\n",
    "print(\"토큰개수:\",len(tokens))"
   ]
  },
  {
   "cell_type": "code",
   "execution_count": 150,
   "id": "sustainable-reverse",
   "metadata": {},
   "outputs": [
    {
     "name": "stdout",
     "output_type": "stream",
     "text": [
      "259374\n",
      "20799\n",
      "[('하다/Verb', 8087), ('이/Josa', 4939), ('./Punctuation', 4679), ('가/Josa', 3509), ('?/Punctuation', 3201), ('에/Josa', 3168), ('들/Suffix', 3097), ('../Punctuation', 2820), ('을/Josa', 2523), ('은/Josa', 2512)]\n"
     ]
    }
   ],
   "source": [
    "import nltk\n",
    "disgust_text = nltk.Text(tokens, name='NMSC')\n",
    "print(len(disgust_text.tokens))\n",
    "print(len(set(disgust_text.tokens)))\n",
    "print(disgust_text.vocab().most_common(10))"
   ]
  },
  {
   "cell_type": "code",
   "execution_count": 151,
   "id": "partial-catholic",
   "metadata": {},
   "outputs": [
    {
     "data": {
      "image/png": "[encoded data removed]",
      "text/plain": [
       "<Figure size 1440x720 with 1 Axes>"
      ]
     },
     "metadata": {
      "needs_background": "light"
     },
     "output_type": "display_data"
    }
   ],
   "source": [
    "import matplotlib.pyplot as plt\n",
    "from matplotlib import font_manager, rc\n",
    "plt.figure(figsize=(20,10))\n",
    "disgust_text.plot(50)"
   ]
  },
  {
   "cell_type": "code",
   "execution_count": 152,
   "id": "younger-france",
   "metadata": {},
   "outputs": [],
   "source": [
    "DISGUST_FREQUENCY_COUNT = 2000;\n",
    "disgust_selected_words = [f[0] for f in disgust_text.vocab().most_common(DISGUST_FREQUENCY_COUNT)]"
   ]
  },
  {
   "cell_type": "code",
   "execution_count": 153,
   "id": "floral-reynolds",
   "metadata": {},
   "outputs": [],
   "source": [
    "def disgust_term_frequency(doc):\n",
    "    return [doc.count(word) for word in disgust_selected_words]"
   ]
  },
  {
   "cell_type": "code",
   "execution_count": 154,
   "id": "fatal-leader",
   "metadata": {},
   "outputs": [],
   "source": [
    "x_disgust_train = [disgust_term_frequency(d) for d,_ in train_disgust_docs]\n",
    "x_disgust_test = [disgust_term_frequency(d) for d,_ in test_disgust_docs]\n",
    "y_disgust_train = [c for _,c in train_disgust_docs]\n",
    "y_disgust_test = [c for _,c in test_disgust_docs]"
   ]
  },
  {
   "cell_type": "code",
   "execution_count": 155,
   "id": "overall-valuation",
   "metadata": {},
   "outputs": [],
   "source": [
    "import numpy as np\n",
    "x_disgust_train = np.asarray(x_disgust_train).astype('float32')\n",
    "x_disgust_test = np.asarray(x_disgust_test). astype('float32')\n",
    "\n",
    "y_disgust_train = np.asarray(y_disgust_train).astype('float32')\n",
    "y_disgust_test = np.asarray(y_disgust_test).astype('float32')"
   ]
  },
  {
   "cell_type": "code",
   "execution_count": 156,
   "id": "chronic-sunglasses",
   "metadata": {},
   "outputs": [],
   "source": [
    "import tensorflow as tf\n",
    "disgust_model= tf.keras.models.Sequential([\n",
    "    tf.keras.layers.Dense(64, activation = 'relu',input_shape=(DISGUST_FREQUENCY_COUNT,)),\n",
    "    tf.keras.layers.Dense(64, activation = 'relu'),\n",
    "    tf.keras.layers.Dense(1, activation = 'sigmoid')\n",
    "])"
   ]
  },
  {
   "cell_type": "code",
   "execution_count": 157,
   "id": "complete-arthritis",
   "metadata": {},
   "outputs": [],
   "source": [
    "disgust_model.compile(optimizer=tf.keras.optimizers.RMSprop(lr=0.001),\n",
    "             loss=tf.keras.losses.binary_crossentropy,\n",
    "             metrics=[tf.keras.metrics.binary_accuracy]\n",
    "             )"
   ]
  },
  {
   "cell_type": "code",
   "execution_count": 158,
   "id": "suburban-waters",
   "metadata": {},
   "outputs": [
    {
     "name": "stdout",
     "output_type": "stream",
     "text": [
      "Epoch 1/50\n",
      "53/53 [==============================] - 5s 102ms/step - loss: 0.4500 - binary_accuracy: 0.8509\n",
      "Epoch 2/50\n",
      "53/53 [==============================] - 2s 35ms/step - loss: 0.3553 - binary_accuracy: 0.8594\n",
      "Epoch 3/50\n",
      "53/53 [==============================] - 1s 16ms/step - loss: 0.3264 - binary_accuracy: 0.8633\n",
      "Epoch 4/50\n",
      "53/53 [==============================] - 1s 16ms/step - loss: 0.3072 - binary_accuracy: 0.8706\n",
      "Epoch 5/50\n",
      "53/53 [==============================] - 1s 16ms/step - loss: 0.2895 - binary_accuracy: 0.8799\n",
      "Epoch 6/50\n",
      "53/53 [==============================] - 1s 13ms/step - loss: 0.2713 - binary_accuracy: 0.8896\n",
      "Epoch 7/50\n",
      "53/53 [==============================] - 1s 16ms/step - loss: 0.2526 - binary_accuracy: 0.9007\n",
      "Epoch 8/50\n",
      "53/53 [==============================] - 1s 16ms/step - loss: 0.2321 - binary_accuracy: 0.9106\n",
      "Epoch 9/50\n",
      "53/53 [==============================] - 1s 16ms/step - loss: 0.2108 - binary_accuracy: 0.9204\n",
      "Epoch 10/50\n",
      "53/53 [==============================] - 1s 13ms/step - loss: 0.1874 - binary_accuracy: 0.9321\n",
      "Epoch 11/50\n",
      "53/53 [==============================] - 1s 16ms/step - loss: 0.1633 - binary_accuracy: 0.9431\n",
      "Epoch 12/50\n",
      "53/53 [==============================] - 1s 16ms/step - loss: 0.1403 - binary_accuracy: 0.9525\n",
      "Epoch 13/50\n",
      "53/53 [==============================] - 1s 16ms/step - loss: 0.1197 - binary_accuracy: 0.9626\n",
      "Epoch 14/50\n",
      "53/53 [==============================] - 1s 13ms/step - loss: 0.0993 - binary_accuracy: 0.9697\n",
      "Epoch 15/50\n",
      "53/53 [==============================] - 1s 16ms/step - loss: 0.0810 - binary_accuracy: 0.9759\n",
      "Epoch 16/50\n",
      "53/53 [==============================] - 1s 15ms/step - loss: 0.0671 - binary_accuracy: 0.9813\n",
      "Epoch 17/50\n",
      "53/53 [==============================] - 1s 16ms/step - loss: 0.0526 - binary_accuracy: 0.9855\n",
      "Epoch 18/50\n",
      "53/53 [==============================] - 1s 12ms/step - loss: 0.0413 - binary_accuracy: 0.9887\n",
      "Epoch 19/50\n",
      "53/53 [==============================] - 1s 16ms/step - loss: 0.0335 - binary_accuracy: 0.9917\n",
      "Epoch 20/50\n",
      "53/53 [==============================] - 1s 16ms/step - loss: 0.0254 - binary_accuracy: 0.9939\n",
      "Epoch 21/50\n",
      "53/53 [==============================] - 1s 16ms/step - loss: 0.0201 - binary_accuracy: 0.9950\n",
      "Epoch 22/50\n",
      "53/53 [==============================] - 1s 13ms/step - loss: 0.0161 - binary_accuracy: 0.9958\n",
      "Epoch 23/50\n",
      "53/53 [==============================] - 1s 15ms/step - loss: 0.0134 - binary_accuracy: 0.9967\n",
      "Epoch 24/50\n",
      "53/53 [==============================] - 1s 13ms/step - loss: 0.0106 - binary_accuracy: 0.9971\n",
      "Epoch 25/50\n",
      "53/53 [==============================] - 1s 13ms/step - loss: 0.0092 - binary_accuracy: 0.9976\n",
      "Epoch 26/50\n",
      "53/53 [==============================] - 1s 11ms/step - loss: 0.0076 - binary_accuracy: 0.9979\n",
      "Epoch 27/50\n",
      "53/53 [==============================] - 1s 16ms/step - loss: 0.0067 - binary_accuracy: 0.9981\n",
      "Epoch 28/50\n",
      "53/53 [==============================] - 1s 16ms/step - loss: 0.0062 - binary_accuracy: 0.9982\n",
      "Epoch 29/50\n",
      "53/53 [==============================] - 1s 16ms/step - loss: 0.0053 - binary_accuracy: 0.9986\n",
      "Epoch 30/50\n",
      "53/53 [==============================] - 1s 13ms/step - loss: 0.0049 - binary_accuracy: 0.9985\n",
      "Epoch 31/50\n",
      "53/53 [==============================] - 1s 16ms/step - loss: 0.0047 - binary_accuracy: 0.9985\n",
      "Epoch 32/50\n",
      "53/53 [==============================] - 1s 16ms/step - loss: 0.0046 - binary_accuracy: 0.9984\n",
      "Epoch 33/50\n",
      "53/53 [==============================] - 1s 16ms/step - loss: 0.0043 - binary_accuracy: 0.9986\n",
      "Epoch 34/50\n",
      "53/53 [==============================] - 1s 13ms/step - loss: 0.0042 - binary_accuracy: 0.9985\n",
      "Epoch 35/50\n",
      "53/53 [==============================] - 1s 16ms/step - loss: 0.0042 - binary_accuracy: 0.9986\n",
      "Epoch 36/50\n",
      "53/53 [==============================] - 1s 15ms/step - loss: 0.0039 - binary_accuracy: 0.9987\n",
      "Epoch 37/50\n",
      "53/53 [==============================] - 1s 16ms/step - loss: 0.0040 - binary_accuracy: 0.9987\n",
      "Epoch 38/50\n",
      "53/53 [==============================] - 1s 12ms/step - loss: 0.0037 - binary_accuracy: 0.9985\n",
      "Epoch 39/50\n",
      "53/53 [==============================] - 1s 16ms/step - loss: 0.0038 - binary_accuracy: 0.9985\n",
      "Epoch 40/50\n",
      "53/53 [==============================] - 1s 15ms/step - loss: 0.0037 - binary_accuracy: 0.9986\n",
      "Epoch 41/50\n",
      "53/53 [==============================] - 1s 16ms/step - loss: 0.0037 - binary_accuracy: 0.9986\n",
      "Epoch 42/50\n",
      "53/53 [==============================] - 1s 12ms/step - loss: 0.0036 - binary_accuracy: 0.9985\n",
      "Epoch 43/50\n",
      "53/53 [==============================] - 1s 16ms/step - loss: 0.0036 - binary_accuracy: 0.9986\n",
      "Epoch 44/50\n",
      "53/53 [==============================] - 1s 15ms/step - loss: 0.0035 - binary_accuracy: 0.9985\n",
      "Epoch 45/50\n",
      "53/53 [==============================] - 1s 15ms/step - loss: 0.0035 - binary_accuracy: 0.9987\n",
      "Epoch 46/50\n",
      "53/53 [==============================] - 1s 12ms/step - loss: 0.0034 - binary_accuracy: 0.9986\n",
      "Epoch 47/50\n",
      "53/53 [==============================] - 1s 16ms/step - loss: 0.0036 - binary_accuracy: 0.9986\n",
      "Epoch 48/50\n",
      "53/53 [==============================] - 1s 16ms/step - loss: 0.0035 - binary_accuracy: 0.9986\n",
      "Epoch 49/50\n",
      "53/53 [==============================] - 1s 16ms/step - loss: 0.0034 - binary_accuracy: 0.9989\n",
      "Epoch 50/50\n",
      "53/53 [==============================] - 1s 13ms/step - loss: 0.0036 - binary_accuracy: 0.9986\n"
     ]
    },
    {
     "data": {
      "text/plain": [
       "<tensorflow.python.keras.callbacks.History at 0x2a742577788>"
      ]
     },
     "execution_count": 158,
     "metadata": {},
     "output_type": "execute_result"
    }
   ],
   "source": [
    "disgust_model.fit(x_disgust_train, y_disgust_train, epochs=50, batch_size=512)"
   ]
  },
  {
   "cell_type": "code",
   "execution_count": 159,
   "id": "heard-moldova",
   "metadata": {},
   "outputs": [
    {
     "name": "stdout",
     "output_type": "stream",
     "text": [
      "362/362 [==============================] - 2s 6ms/step - loss: 2.9813 - binary_accuracy: 0.7840\n"
     ]
    }
   ],
   "source": [
    "disgust_results = neutral_model.evaluate(x_disgust_test, y_disgust_test)"
   ]
  },
  {
   "cell_type": "code",
   "execution_count": 160,
   "id": "medieval-instrument",
   "metadata": {},
   "outputs": [
    {
     "data": {
      "text/plain": [
       "[2.9813103675842285, 0.7839682102203369]"
      ]
     },
     "execution_count": 160,
     "metadata": {},
     "output_type": "execute_result"
    }
   ],
   "source": [
    "disgust_results"
   ]
  },
  {
   "cell_type": "code",
   "execution_count": 161,
   "id": "engaged-lightweight",
   "metadata": {},
   "outputs": [],
   "source": [
    "disgust_model.save('disgust_model.h5')"
   ]
  },
  {
   "cell_type": "code",
   "execution_count": 162,
   "id": "agricultural-mainstream",
   "metadata": {},
   "outputs": [
    {
     "data": {
      "text/plain": [
       "['너무/Adverb', '화나다/Verb']"
      ]
     },
     "execution_count": 162,
     "metadata": {},
     "output_type": "execute_result"
    }
   ],
   "source": [
    "disgust_review = \"너무 화난다\"\n",
    "disgust_token = tokenize(disgust_review)\n",
    "disgust_token"
   ]
  },
  {
   "cell_type": "code",
   "execution_count": 163,
   "id": "literary-behavior",
   "metadata": {},
   "outputs": [
    {
     "data": {
      "text/plain": [
       "0.0008154285605996847"
      ]
     },
     "execution_count": 163,
     "metadata": {},
     "output_type": "execute_result"
    }
   ],
   "source": [
    "tf = disgust_term_frequency(disgust_token)\n",
    "data = np.expand_dims(np.asarray(tf).astype('float32'),axis=0)\n",
    "float(disgust_model.predict(data))"
   ]
  },
  {
   "cell_type": "code",
   "execution_count": 270,
   "id": "dedicated-strategy",
   "metadata": {},
   "outputs": [],
   "source": [
    "def disgust_predict(predict):\n",
    "    disgust_token = tokenize(predict)\n",
    "    disgust_tfq = disgust_term_frequency(disgust_token)\n",
    "    disgust_data = np.expand_dims(np.asarray(disgust_tfq).astype('float32'), axis=0)\n",
    "    disgust_score = float(disgust_model.predict(disgust_data))\n",
    "    #if(disgust_score > 0.5):\n",
    "    print(f\"혐오({round(disgust_score*100)}%)\")\n",
    "    disgust = round(disgust_score*100)\n",
    "    '''\n",
    "    else:\n",
    "        print(f\"{predict} ==> 혐오X ({round((1-disgust_score)*100)}%)\") '''"
   ]
  },
  {
   "cell_type": "code",
   "execution_count": 271,
   "id": "narrative-captain",
   "metadata": {},
   "outputs": [
    {
     "name": "stdout",
     "output_type": "stream",
     "text": [
      "혐오(0%)\n"
     ]
    }
   ],
   "source": [
    "disgust_predict(\"원재상\")"
   ]
  },
  {
   "cell_type": "code",
   "execution_count": 348,
   "id": "comparable-michigan",
   "metadata": {},
   "outputs": [],
   "source": [
    "import matplotlib.pyplot as plt\n",
    "from matplotlib import font_manager, rc\n",
    "import numpy as np\n",
    "def predict(predict):\n",
    "    fear_predict(predict)\n",
    "    disgust_predict(predict)\n",
    "    sadness_predict(predict)\n",
    "    happy_predict(predict)\n",
    "    anger_predict(predict)\n",
    "    neutral_predict(predict)\n",
    "    surprise_predict(predict)\n",
    "    '''x = np.arange(7)\n",
    "    감정 = ['fear','disgust','sadness','happy','anger','neutral','surprise']\n",
    "    정확도 = [ fear, disgust, sadness, happy, anger, neutral, surprise]\n",
    "    plt.bar(x, 정확도)\n",
    "    plt.xticks(x,감정)\n",
    "    plt.show()'''"
   ]
  },
  {
   "cell_type": "code",
   "execution_count": 4,
   "id": "palestinian-level",
   "metadata": {},
   "outputs": [
    {
     "ename": "NameError",
     "evalue": "name 'predict' is not defined",
     "output_type": "error",
     "traceback": [
      "\u001b[1;31m---------------------------------------------------------------------------\u001b[0m",
      "\u001b[1;31mNameError\u001b[0m                                 Traceback (most recent call last)",
      "\u001b[1;32m<ipython-input-4-c06971ace808>\u001b[0m in \u001b[0;36m<module>\u001b[1;34m\u001b[0m\n\u001b[1;32m----> 1\u001b[1;33m \u001b[0mpredict\u001b[0m\u001b[1;33m(\u001b[0m\u001b[1;34m\".\"\u001b[0m\u001b[1;33m)\u001b[0m\u001b[1;33m\u001b[0m\u001b[1;33m\u001b[0m\u001b[0m\n\u001b[0m",
      "\u001b[1;31mNameError\u001b[0m: name 'predict' is not defined"
     ]
    }
   ],
   "source": [
    "predict(\".\")"
   ]
  },
  {
   "cell_type": "code",
   "execution_count": null,
   "id": "understanding-police",
   "metadata": {},
   "outputs": [],
   "source": []
  }
 ],
 "metadata": {
  "kernelspec": {
   "display_name": "Python 3",
   "language": "python",
   "name": "python3"
  },
  "language_info": {
   "codemirror_mode": {
    "name": "ipython",
    "version": 3
   },
   "file_extension": ".py",
   "mimetype": "text/x-python",
   "name": "python",
   "nbconvert_exporter": "python",
   "pygments_lexer": "ipython3",
   "version": "3.7.10"
  }
 },
 "nbformat": 4,
 "nbformat_minor": 5
}
